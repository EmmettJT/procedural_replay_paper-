{
 "cells": [
  {
   "cell_type": "code",
   "execution_count": 1,
   "id": "dd8be931",
   "metadata": {},
   "outputs": [
    {
     "data": {
      "text/html": [
       "\n",
       "<style>\n",
       "    div#notebook-container    { width: 95%; }\n",
       "    div#menubar-container     { width: 65%; }\n",
       "    div#maintoolbar-container { width: 99%; }\n",
       "</style>\n"
      ],
      "text/plain": [
       "<IPython.core.display.HTML object>"
      ]
     },
     "metadata": {},
     "output_type": "display_data"
    }
   ],
   "source": [
    "### Make notebook wider:\n",
    "\n",
    "from IPython.display import display, HTML\n",
    "\n",
    "display(HTML(data=\"\"\"\n",
    "<style>\n",
    "    div#notebook-container    { width: 95%; }\n",
    "    div#menubar-container     { width: 65%; }\n",
    "    div#maintoolbar-container { width: 99%; }\n",
    "</style>\n",
    "\"\"\"))"
   ]
  },
  {
   "cell_type": "code",
   "execution_count": 2,
   "id": "584e528f",
   "metadata": {},
   "outputs": [],
   "source": [
    "\n",
    "from pathlib import Path, PurePosixPath\n",
    "from os.path import abspath\n",
    "from loguru import logger\n",
    "import sys\n",
    "import os\n",
    "import numpy as np\n",
    "import pickle\n"
   ]
  },
  {
   "cell_type": "code",
   "execution_count": 7,
   "id": "86292897",
   "metadata": {},
   "outputs": [],
   "source": [
    "from rich.progress import (\n",
    "    Progress,\n",
    "    BarColumn,\n",
    "    TextColumn,\n",
    "    ProgressColumn,\n",
    ")\n",
    "from rich.text import Text\n",
    "from datetime import timedelta\n",
    "\n",
    "from myterial import (\n",
    "    orange,\n",
    "    teal_light,\n",
    "    light_blue_light,\n",
    ")\n",
    "\n",
    "\n",
    "class TimeRemainingColumn(ProgressColumn):\n",
    "    \"\"\"Renders estimated time remaining.\"\"\"\n",
    "\n",
    "    _table_column = None\n",
    "    # Only refresh twice a second to prevent jitter\n",
    "    max_refresh = 0.5\n",
    "\n",
    "    def render(self, task):\n",
    "        \"\"\"Show time remaining.\"\"\"\n",
    "        remaining = task.time_remaining\n",
    "        if remaining is None:\n",
    "            return Text(\"-:--:--\", style=teal_light)\n",
    "        remaining_delta = timedelta(seconds=int(remaining))\n",
    "        return Text(\"remaining: \" + str(remaining_delta), style=teal_light)\n",
    "\n",
    "\n",
    "class TimeElapsedColumn(ProgressColumn):\n",
    "    \"\"\"Renders estimated time elapsed.\"\"\"\n",
    "\n",
    "    _table_column = None\n",
    "    # Only refresh twice a second to prevent jitter\n",
    "    max_refresh = 0.5\n",
    "\n",
    "    def render(self, task):\n",
    "        \"\"\"Show time elapsed.\"\"\"\n",
    "        elapsed = task.elapsed\n",
    "        if elapsed is None:\n",
    "            return Text(\"-:--:--\", style=light_blue_light)\n",
    "        elapsed_delta = timedelta(seconds=int(elapsed))\n",
    "        return Text(\"elapsed: \" + str(elapsed_delta), style=light_blue_light)\n",
    "\n",
    "\n",
    "class SpeedColumn(TextColumn):\n",
    "    _renderable_cache = {}\n",
    "    _table_column = None\n",
    "\n",
    "    def __init__(self, *args):\n",
    "        pass\n",
    "\n",
    "    def render(self, task):\n",
    "        if task.speed is None:\n",
    "            return \" \"\n",
    "        else:\n",
    "            return f\"{task.speed:.1f} steps/s\"\n",
    "\n",
    "\n",
    "COLUMNS = [\n",
    "    BarColumn(bar_width=None),\n",
    "    \"Completed: \",\n",
    "    TextColumn(\"[bold magenta]Completed {task.completed}/{task.total}\"),\n",
    "    \"[progress.percentage]{task.percentage:>3.0f}%\",\n",
    "    \"•\",\n",
    "    \"Speed: \",\n",
    "    SpeedColumn(),\n",
    "    \"•\",\n",
    "    \"Remaining: \",\n",
    "    TimeRemainingColumn(),\n",
    "    \"Elpsed: \",\n",
    "    TimeElapsedColumn(),\n",
    "]\n",
    "\n",
    "progress = Progress(*COLUMNS, transient=False,)\n",
    "\n",
    "progess_with_description = Progress(\n",
    "    *([TextColumn(\"[bold salmon]Task: {task.description}\")] + COLUMNS),\n",
    "    transient=False,\n",
    ")\n",
    "\n",
    "\n",
    "def track(iterable, total=None, description=\"Working...\", transient=False):\n",
    "    \"\"\"\n",
    "        Spawns a progress bar to monitor the progress of a for loop over\n",
    "        an iterable sequence with detailed information.\n",
    "\n",
    "        Arguments:\n",
    "            iterable: list or other iterable object\n",
    "            total: int. Total length of iterable\n",
    "            description: str. Text to preprend to the progress bar.\n",
    "\n",
    "        Returs:\n",
    "            elements of iterable\n",
    "    \"\"\"\n",
    "    description = f\"[{orange}]\" + description\n",
    "    columns = [description] + COLUMNS\n",
    "\n",
    "    if total is None:\n",
    "        try:\n",
    "            total = len(iterable)\n",
    "        except Exception:\n",
    "            raise ValueError(\n",
    "                \"Could not get total from iterable, pass a total value.\"\n",
    "            )\n",
    "\n",
    "    track_progress = Progress(*columns, transient=transient)\n",
    "\n",
    "    with track_progress:\n",
    "        yield from track_progress.track(\n",
    "            iterable, total=total, description=description,\n",
    "        )\n",
    "\n",
    "def files(folderpath, pattern=\"*\"):\n",
    "    \"\"\"\n",
    "        returns all files folders in a given folder matching a pattern\n",
    "    \"\"\"\n",
    "    return [f for f in folderpath.glob(pattern) if f.is_file()]\n",
    "\n",
    "def return_nested_paths(current_path):\n",
    "    paths = []\n",
    "    for item in os.listdir(current_path):\n",
    "        paths = paths + [current_path + '\\\\' + item]\n",
    "    return paths\n",
    "\n",
    "def create_bash_files(NAME, video_files,bash_folder,winstor_folder,BASH_TEMPLATE,BASH_INSERT):\n",
    "\n",
    "    logger.info(\n",
    "        f\"Found {len(video_files)} videos left to track. Generating bash files.\"\n",
    "    )\n",
    "    for index,video in enumerate(track(video_files)):\n",
    "        #winstor_video_path = winstor_folder / \"raw\" / \"video\" / video.name\n",
    "        winstor_video_path = winstor_folder / os.path.join(video.parts[-5],video.parts[-4],video.parts[-3], video.parts[-2], video.parts[-1]).replace(\"\\\\\",\"/\") \n",
    "\n",
    "        # winstor_video_path = winstor_folder / \"dlc\" / \"videos\" / video.name\n",
    "        winstor_save_path = winstor_folder / \"dlc\" / \"tracking\" / os.path.join(video.parts[-4],video.parts[-3], video.parts[-2]).replace(\"\\\\\",\"/\") \n",
    "\n",
    "        bash_content = BASH_INSERT.replace(\n",
    "            \"VIDEO\", str(winstor_video_path)\n",
    "        ).replace(\"DEST\", str(winstor_save_path)).replace(\"NUMBER\",str(index+1))\n",
    "\n",
    "        BASH_TEMPLATE = BASH_TEMPLATE + bash_content\n",
    "\n",
    "        if not os.path.exists(os.path.join(r'Z:\\projects\\sequence_squad\\data\\video_data\\\\', 'dlc', 'tracking', video.parts[-4],video.parts[-3], video.parts[-2]).replace(\"\\\\\",\"/\") ):\n",
    "            print('yes')\n",
    "            os.makedirs(os.path.join(r'Z:\\projects\\sequence_squad\\data\\video_data\\\\', 'dlc', 'tracking', video.parts[-4],video.parts[-3], video.parts[-2]).replace(\"\\\\\",\"/\") )\n",
    "\n",
    "\n",
    "        bash_path = bash_folder / (NAME + \".sh\")\n",
    "        with open(bash_path, \"w\") as fout:\n",
    "            fout.write(BASH_TEMPLATE)\n",
    "\n",
    "        #### Fedes dos2unix way that didnt work for me: \n",
    "        #     # dos2unix\n",
    "        #     content, outsize = \"\", 0\n",
    "        #     with open(bash_path, \"rb\") as infile:\n",
    "        #         content = infile.read()    \n",
    "        #     with open(bash_path, \"wb\") as output:\n",
    "        #         for line in content.splitlines():\n",
    "        #             outsize += len(line) + 1\n",
    "\n",
    "        # replacement strings\n",
    "        WINDOWS_LINE_ENDING = b'\\r\\n'\n",
    "        UNIX_LINE_ENDING = b'\\n'\n",
    "        # relative or absolute file path, e.g.:\n",
    "        file_path = bash_path\n",
    "        with open(file_path, 'rb') as open_file:\n",
    "            content = open_file.read()\n",
    "\n",
    "        content = content.replace(WINDOWS_LINE_ENDING, UNIX_LINE_ENDING)\n",
    "        with open(file_path, 'wb') as open_file:\n",
    "            open_file.write(content)\n"
   ]
  },
  {
   "cell_type": "code",
   "execution_count": 4,
   "id": "9f117aa7",
   "metadata": {},
   "outputs": [],
   "source": [
    "# create_bash_files(above_video_files,Path(r\"Z:\\projects\\sequence_squad\\data\\video_data\\dlc\\hpc_analysis\\hpc_to_analyse\\above_video_files\"),PurePosixPath(r\"/nfs/winstor/sjones/projects/sequence_squad/data/video_data\"),BASH_TEMPLATE,BASH_INSERT)"
   ]
  },
  {
   "cell_type": "code",
   "execution_count": 11,
   "id": "bbaa11b1",
   "metadata": {},
   "outputs": [
    {
     "data": {
      "text/plain": [
       "[WindowsPath('Z:/projects/sequence_squad/data/video_data/raw_flycap/EJT238/131222/3_postsleep/camera1_2022-12-13T15_48_57.avi'),\n",
       " WindowsPath('Z:/projects/sequence_squad/data/video_data/raw_flycap/EJT238/131222/3_postsleep/camera2_2022-12-13T15_48_57.avi'),\n",
       " WindowsPath('Z:/projects/sequence_squad/data/video_data/raw_flycap/EJT238/131222/3_postsleep/camera3_2022-12-13T15_48_57.avi')]"
      ]
     },
     "execution_count": 11,
     "metadata": {},
     "output_type": "execute_result"
    }
   ],
   "source": [
    "video_files"
   ]
  },
  {
   "cell_type": "code",
   "execution_count": 23,
   "id": "c272a361",
   "metadata": {
    "scrolled": true
   },
   "outputs": [
    {
     "name": "stderr",
     "output_type": "stream",
     "text": [
      "2023-01-23 16:07:52.633 | INFO     | __main__:create_bash_files:131 - Found 12 videos left to track. Generating bash files.\n"
     ]
    },
    {
     "data": {
      "application/vnd.jupyter.widget-view+json": {
       "model_id": "aca65421510441a980a5f87731208732",
       "version_major": 2,
       "version_minor": 0
      },
      "text/plain": [
       "Output()"
      ]
     },
     "metadata": {},
     "output_type": "display_data"
    },
    {
     "name": "stderr",
     "output_type": "stream",
     "text": [
      "2023-01-23 16:07:53.533 | INFO     | __main__:create_bash_files:131 - Found 6 videos left to track. Generating bash files.\n"
     ]
    },
    {
     "data": {
      "application/vnd.jupyter.widget-view+json": {
       "model_id": "4a4463bfb79d446da20f91d20fa80073",
       "version_major": 2,
       "version_minor": 0
      },
      "text/plain": [
       "Output()"
      ]
     },
     "metadata": {},
     "output_type": "display_data"
    },
    {
     "name": "stderr",
     "output_type": "stream",
     "text": [
      "2023-01-23 16:07:53.999 | INFO     | __main__:create_bash_files:131 - Found 6 videos left to track. Generating bash files.\n"
     ]
    },
    {
     "data": {
      "application/vnd.jupyter.widget-view+json": {
       "model_id": "3f4b73163b1f42db8a7981b2423ce7cc",
       "version_major": 2,
       "version_minor": 0
      },
      "text/plain": [
       "Output()"
      ]
     },
     "metadata": {},
     "output_type": "display_data"
    },
    {
     "name": "stderr",
     "output_type": "stream",
     "text": [
      "2023-01-23 16:07:54.460 | INFO     | __main__:create_bash_files:131 - Found 6 videos left to track. Generating bash files.\n"
     ]
    },
    {
     "data": {
      "application/vnd.jupyter.widget-view+json": {
       "model_id": "bc79281027e84a6ab874a4086f972a3e",
       "version_major": 2,
       "version_minor": 0
      },
      "text/plain": [
       "Output()"
      ]
     },
     "metadata": {},
     "output_type": "display_data"
    },
    {
     "name": "stderr",
     "output_type": "stream",
     "text": [
      "2023-01-23 16:07:54.853 | INFO     | __main__:create_bash_files:131 - Found 6 videos left to track. Generating bash files.\n"
     ]
    },
    {
     "data": {
      "application/vnd.jupyter.widget-view+json": {
       "model_id": "b9ff856d8b4243d8a81bdd6a3a136f3b",
       "version_major": 2,
       "version_minor": 0
      },
      "text/plain": [
       "Output()"
      ]
     },
     "metadata": {},
     "output_type": "display_data"
    }
   ],
   "source": [
    "Animals = ['EJT238']\n",
    "\n",
    "videos_path = r\"Z:\\projects\\sequence_squad\\data\\video_data\\raw_flycap\\\\\"\n",
    "\n",
    "\n",
    "above_video_files = []\n",
    "back_video_files = []\n",
    "side_video_files = []\n",
    "bottom_video_files = []\n",
    "\n",
    "\n",
    "for animal in Animals:\n",
    "    current_path = videos_path + animal \n",
    "\n",
    "    session_paths = return_nested_paths(current_path)\n",
    "    for session_path in session_paths:\n",
    "        experiment_segments = return_nested_paths(session_path)\n",
    "        for experiment_segment in experiment_segments:\n",
    "            if any(os.scandir(experiment_segment)): # if not empty \n",
    "                video_files = files(Path(experiment_segment), \"*.avi\")\n",
    "                for item in video_files:\n",
    "                    if 'above' in item.name:\n",
    "                        above_video_files.append(item)\n",
    "                    if 'back' in item.name:\n",
    "                        back_video_files.append(item)\n",
    "                    if 'side' in item.name:\n",
    "                        side_video_files.append(item)\n",
    "                    if 'bottom' in item.name:\n",
    "                        bottom_video_files.append(item)\n",
    "                        \n",
    "# # prepare bash files\n",
    "# BASH_TEMPLATE = \"\"\"#! /bin/bash\n",
    "\n",
    "# #SBATCH -p gpu # partition (queue)\n",
    "# #SBATCH -N 1   # number of nodes\n",
    "# #SBATCH --mem 40G # memory pool for all cores\n",
    "# #SBATCH --gres=gpu:gtx1080\n",
    "# #SBATCH -n 1\n",
    "# #SBATCH -t 5-0:0 # time\n",
    "# #SBATCH\t-o out.out\n",
    "# #SBATCH -e err.err\n",
    "# #SBATCH --mail-user=emmett.thompson.14@ucl.ac.uk\n",
    "# #SBATCH --mail-type=END,FAIL\n",
    "\n",
    "# echo \"loading conda env\"\n",
    "# module load miniconda\n",
    "# module load cuda/11.5\n",
    "\n",
    "# source activate DEEPLABCUT\n",
    "# export DLClight=True\n",
    "\n",
    "# echo \"running tracking\"\n",
    "# python dlc_on_hpc.py '/nfs/winstor/sjones/projects/sequence_squad/data/video_data/dlc/trained_networks/sleep-tracking_above-view-sequence-2022-04-05/config.yaml' '/VIDEO' '/DEST'\n",
    "# \"\"\"\n",
    "\n",
    "\n",
    "\n",
    "# # prepare bash files\n",
    "# BASH_TEMPLATE = \"\"\"#! /bin/bash\n",
    "\n",
    "# #SBATCH -p gpu # partition (queue)\n",
    "# #SBATCH -N 10   # number of nodes\n",
    "# #SBATCH --mem 50G # memory pool for all cores\n",
    "# #SBATCH --gres=gpu:1\n",
    "# #SBATCH -n 1\n",
    "# #SBATCH -t 5-0:0 # time\n",
    "# #SBATCH\t-o out.out\n",
    "# #SBATCH -e err.err\n",
    "# #SBATCH --mail-user=emmett.thompson.14@ucl.ac.uk\n",
    "# #SBATCH --mail-type=END,FAIL\n",
    "\n",
    "# echo \"loading conda env\"\n",
    "# source activate DEEPLABCUT\n",
    "# module load miniconda\n",
    "# module load cuda/11.6\n",
    "# module list\n",
    "\n",
    "# echo \"running tracking\"\n",
    "# python dlc_on_hpc.py '/nfs/winstor/sjones/projects/sequence_squad/data/video_data/dlc/trained_networks/sleep-tracking_above-view-sequence-2022-04-05/config.yaml' '/VIDEO' '/DEST'\n",
    "# \"\"\"\n",
    "\n",
    "\n",
    "\n",
    "# prepare bash files\n",
    "BASH_TEMPLATE = \"\"\"#! /bin/bash\n",
    "\n",
    "\"\"\"\n",
    "\n",
    "# prepare bash files\n",
    "\n",
    "#  REMEMBER TO CHANGE THE PATH TO THE NETWORK HERE!!!!\n",
    "\n",
    "##Above\n",
    "BASH_INSERT = \"\"\"\n",
    "echo \"running tracking NUMBER\" \n",
    "python dlc_on_hpc.py '/nfs/winstor/sjones/projects/sequence_squad/data/video_data/dlc/trained_networks/sleep-tracking_above-view-sequence-2022-04-05/config.yaml' '/VIDEO' '/DEST'\n",
    "\"\"\"\n",
    "\n",
    "create_bash_files('Above',above_video_files,Path(r\"Z:\\projects\\sequence_squad\\data\\video_data\\dlc\\hpc_analysis\\hpc_to_analyse\\\\\"),PurePosixPath(r\"/nfs/winstor/sjones/projects/sequence_squad/data/video_data\"),BASH_TEMPLATE,BASH_INSERT)\n",
    "\n",
    "##back\n",
    "BASH_INSERT = \"\"\"\n",
    "echo \"running tracking NUMBER\" \n",
    "python dlc_on_hpc.py '/nfs/winstor/sjones/projects/sequence_squad/data/video_data/dlc/trained_networks/task-tracking_backview-sequence-2022-04-06/config.yaml' '/VIDEO' '/DEST'\n",
    "\"\"\"\n",
    "\n",
    "create_bash_files('Back',back_video_files,Path(r\"Z:\\projects\\sequence_squad\\data\\video_data\\dlc\\hpc_analysis\\hpc_to_analyse\\\\\"),PurePosixPath(r\"/nfs/winstor/sjones/projects/sequence_squad/data/video_data\"),BASH_TEMPLATE,BASH_INSERT)\n",
    "\n",
    "##side\n",
    "BASH_INSERT = \"\"\"\n",
    "echo \"running tracking NUMBER\" \n",
    "python dlc_on_hpc.py '/nfs/winstor/sjones/projects/sequence_squad/data/video_data/dlc/trained_networks/task-tracking_sideview-sequence-2022-04-15/config.yaml' '/VIDEO' '/DEST'\n",
    "\"\"\"\n",
    "\n",
    "create_bash_files('Side',side_video_files,Path(r\"Z:\\projects\\sequence_squad\\data\\video_data\\dlc\\hpc_analysis\\hpc_to_analyse\\\\\"),PurePosixPath(r\"/nfs/winstor/sjones/projects/sequence_squad/data/video_data\"),BASH_TEMPLATE,BASH_INSERT)\n",
    "\n",
    "\n",
    "#backports\n",
    "BASH_INSERT = \"\"\"\n",
    "echo \"running tracking NUMBER\" \n",
    "python dlc_on_hpc.py '/nfs/winstor/sjones/projects/sequence_squad/data/video_data/dlc/trained_networks/port-tracking_back_view-sequence-2022-05-02/config.yaml' '/VIDEO' '/DEST'\n",
    "\"\"\"\n",
    "\n",
    "create_bash_files('Back_Ports',back_video_files,Path(r\"Z:\\projects\\sequence_squad\\data\\video_data\\dlc\\hpc_analysis\\hpc_to_analyse\\\\\"),PurePosixPath(r\"/nfs/winstor/sjones/projects/sequence_squad/data/video_data\"),BASH_TEMPLATE,BASH_INSERT)\n",
    "\n",
    "# side ports\n",
    "BASH_INSERT = \"\"\"\n",
    "echo \"running tracking NUMBER\" \n",
    "python dlc_on_hpc.py '/nfs/winstor/sjones/projects/sequence_squad/data/video_data/dlc/trained_networks/port-tracking_side-view-sequence-2022-04-29/config.yaml' '/VIDEO' '/DEST'\n",
    "\"\"\"\n",
    "\n",
    "create_bash_files('Side_Ports',side_video_files,Path(r\"Z:\\projects\\sequence_squad\\data\\video_data\\dlc\\hpc_analysis\\hpc_to_analyse\\\\\"),PurePosixPath(r\"/nfs/winstor/sjones/projects/sequence_squad/data/video_data\"),BASH_TEMPLATE,BASH_INSERT)\n",
    "\n",
    "\n",
    "\n",
    "\n",
    "\n",
    "\n",
    "\n",
    "# create_bash_files('Side_Ports',back_video_files,Path(r\"Z:\\projects\\sequence_squad\\data\\video_data\\dlc\\hpc_analysis\\hpc_to_analyse\\\\\"),PurePosixPath(r\"/nfs/winstor/sjones/projects/sequence_squad/data/video_data\"),BASH_TEMPLATE,BASH_INSERT)\n",
    "# create_bash_files('Side_Ports',side_video_files,Path(r\"Z:\\projects\\sequence_squad\\data\\video_data\\dlc\\hpc_analysis\\hpc_to_analyse\\\\\"),PurePosixPath(r\"/nfs/winstor/sjones/projects/sequence_squad/data/video_data\"),BASH_TEMPLATE,BASH_INSERT)\n",
    "\n",
    "# task-tracking_bottomview-sequence-2022-04-25/config.yaml\n",
    "# port-tracking_side-view-sequence-2022-04-29/config.yaml\n",
    "# port-tracking_back_view-sequence-2022-05-02/config.yaml\n",
    "#port-tracking_back_view-sequence-2022-05-02/config.yaml\n",
    "\n",
    "# create_bash_files('Bottom',bottom_video_files,Path(r\"Z:\\projects\\sequence_squad\\data\\video_data\\dlc\\hpc_analysis\\hpc_to_analyse\\\\\"),PurePosixPath(r\"/nfs/winstor/sjones/projects/sequence_squad/data/video_data\"),BASH_TEMPLATE,BASH_INSERT)\n",
    "# create_bash_files('Side_Ports',side_video_files,Path(r\"Z:\\projects\\sequence_squad\\data\\video_data\\dlc\\hpc_analysis\\hpc_to_analyse\\\\\"),PurePosixPath(r\"/nfs/winstor/sjones/projects/sequence_squad/data/video_data\"),BASH_TEMPLATE,BASH_INSERT)\n",
    "# create_bash_files('Back_Ports',back_video_files,Path(r\"Z:\\projects\\sequence_squad\\data\\video_data\\dlc\\hpc_analysis\\hpc_to_analyse\\\\\"),PurePosixPath(r\"/nfs/winstor/sjones/projects/sequence_squad/data/video_data\"),BASH_TEMPLATE,BASH_INSERT)\n",
    "\n",
    "# create_bash_files(above_video_files,Path(r\"Z:\\projects\\sequence_squad\\data\\video_data\\dlc\\hpc_analysis\\hpc_to_analyse\\above_video_files\"),PurePosixPath(r\"/nfs/winstor/sjones/projects/sequence_squad/data/video_data\"),BASH_TEMPLATE,BASH_INSERT)\n",
    "# create_bash_files(back_video_files,Path(r\"Z:\\projects\\sequence_squad\\data\\video_data\\dlc\\hpc_analysis\\hpc_to_analyse\\back_video_files\"),PurePosixPath(r\"/nfs/winstor/sjones/projects/sequence_squad/data/video_data\"),BASH_TEMPLATE)\n",
    "# create_bash_files(side_video_files,Path(r\"Z:\\projects\\sequence_squad\\data\\video_data\\dlc\\hpc_analysis\\hpc_to_analyse\\side_video_files\"),PurePosixPath(r\"/nfs/winstor/sjones/projects/sequence_squad/data/video_data\"),BASH_TEMPLATE)\n",
    "# create_bash_files(bottom_video_files,Path(r\"Z:\\projects\\sequence_squad\\data\\video_data\\dlc\\hpc_analysis\\hpc_to_analyse\\bottom_video_files\"),PurePosixPath(r\"/nfs/winstor/sjones/projects/sequence_squad/data/video_data\"),BASH_TEMPLATE)\n",
    "\n"
   ]
  },
  {
   "cell_type": "code",
   "execution_count": 9,
   "id": "1112a9f0",
   "metadata": {},
   "outputs": [
    {
     "data": {
      "text/plain": [
       "[]"
      ]
     },
     "execution_count": 9,
     "metadata": {},
     "output_type": "execute_result"
    }
   ],
   "source": [
    "back_video_files"
   ]
  },
  {
   "cell_type": "code",
   "execution_count": 18,
   "id": "bab5dc4f",
   "metadata": {},
   "outputs": [
    {
     "data": {
      "text/plain": [
       "[WindowsPath('Z:/projects/sequence_squad/data/video_data/raw_flycap/EJT238/051222/1_prelseep/above_camera2_2022-12-05T13_02_26.avi'),\n",
       " WindowsPath('Z:/projects/sequence_squad/data/video_data/raw_flycap/EJT238/051222/3_postsleep/above_camera2_2022-12-05T14_53_45.avi'),\n",
       " WindowsPath('Z:/projects/sequence_squad/data/video_data/raw_flycap/EJT238/061222/1_presleep/above_camera2_2022-12-06T14_18_45.avi'),\n",
       " WindowsPath('Z:/projects/sequence_squad/data/video_data/raw_flycap/EJT238/061222/3_postsleep/above_camera2_2022-12-06T17_08_09.avi'),\n",
       " WindowsPath('Z:/projects/sequence_squad/data/video_data/raw_flycap/EJT238/071222/1_presleep/above_camera2_2022-12-07T12_05_40.avi'),\n",
       " WindowsPath('Z:/projects/sequence_squad/data/video_data/raw_flycap/EJT238/081222/1_presleep/above_camera2_2022-12-08T12_25_43.avi'),\n",
       " WindowsPath('Z:/projects/sequence_squad/data/video_data/raw_flycap/EJT238/081222/3_postsleep/above_camera2_2022-12-08T15_10_18.avi'),\n",
       " WindowsPath('Z:/projects/sequence_squad/data/video_data/raw_flycap/EJT238/091222/1_presleep/above_camera2_2022-12-09T11_51_40.avi'),\n",
       " WindowsPath('Z:/projects/sequence_squad/data/video_data/raw_flycap/EJT238/091222/3_postsleep/above_camera2_2022-12-09T15_40_32.avi'),\n",
       " WindowsPath('Z:/projects/sequence_squad/data/video_data/raw_flycap/EJT238/131222/1_presleep/above_camera2_2022-12-13T13_43_37.avi'),\n",
       " WindowsPath('Z:/projects/sequence_squad/data/video_data/raw_flycap/EJT238/131222/3_postsleep/above_camera2_2022-12-13T15_48_57.avi')]"
      ]
     },
     "execution_count": 18,
     "metadata": {},
     "output_type": "execute_result"
    }
   ],
   "source": [
    "above_video_files"
   ]
  },
  {
   "cell_type": "code",
   "execution_count": 17,
   "id": "2e470fa2",
   "metadata": {},
   "outputs": [
    {
     "data": {
      "text/plain": [
       "28"
      ]
     },
     "execution_count": 17,
     "metadata": {},
     "output_type": "execute_result"
    }
   ],
   "source": [
    "len(bottom_video_files)"
   ]
  },
  {
   "cell_type": "code",
   "execution_count": 116,
   "id": "78332530",
   "metadata": {
    "scrolled": true
   },
   "outputs": [
    {
     "name": "stderr",
     "output_type": "stream",
     "text": [
      "2022-05-06 15:53:53.443 | INFO     | __main__:<module>:1 - Found 3 videos left to track. Generating bash files.\n"
     ]
    },
    {
     "data": {
      "application/vnd.jupyter.widget-view+json": {
       "model_id": "60115b2e56e1418aa7a661e71636a47a",
       "version_major": 2,
       "version_minor": 0
      },
      "text/plain": [
       "Output()"
      ]
     },
     "metadata": {},
     "output_type": "display_data"
    }
   ],
   "source": [
    "logger.info(\n",
    "    f\"Found {len(video_files)} videos left to track. Generating bash files.\"\n",
    ")\n",
    "for video in track(video_files):\n",
    "    #winstor_video_path = winstor_folder / \"raw\" / \"video\" / video.name\n",
    "    winstor_video_path = winstor_folder / os.path.join(video.parts[-5],video.parts[-4],video.parts[-3], video.parts[-2], video.parts[-1]).replace(\"\\\\\",\"/\") \n",
    "\n",
    "    # winstor_video_path = winstor_folder / \"dlc\" / \"videos\" / video.name\n",
    "    winstor_save_path = winstor_folder / \"dlc\" / \"tracking\" / os.path.join(video.parts[-4],video.parts[-3], video.parts[-2]).replace(\"\\\\\",\"/\") \n",
    "\n",
    "    bash_content = BASH_INSERT.replace(\n",
    "        \"VIDEO\", str(winstor_video_path)\n",
    "    ).replace(\"DEST\", str(winstor_save_path))\n",
    "    \n",
    "    BASH_TEMPLATE = BASH_TEMPLATE + bash_content\n",
    "\n",
    "    if not os.path.exists(os.path.join(r'Z:\\projects\\sequence_squad\\data\\video_data\\\\', 'dlc', 'tracking', video.parts[-4],video.parts[-3], video.parts[-2]).replace(\"\\\\\",\"/\") ):\n",
    "        print('yes')\n",
    "        os.makedirs(os.path.join(r'Z:\\projects\\sequence_squad\\data\\video_data\\\\', 'dlc', 'tracking', video.parts[-4],video.parts[-3], video.parts[-2]).replace(\"\\\\\",\"/\") )\n",
    "\n",
    "        \n",
    "    bash_path = bash_folder / (NAME + \".sh\")\n",
    "    with open(bash_path, \"w\") as fout:\n",
    "        fout.write(BASH_TEMPLATE)\n",
    "\n",
    "    #### Fedes dos2unix way that didnt work for me: \n",
    "    #     # dos2unix\n",
    "    #     content, outsize = \"\", 0\n",
    "    #     with open(bash_path, \"rb\") as infile:\n",
    "    #         content = infile.read()    \n",
    "    #     with open(bash_path, \"wb\") as output:\n",
    "    #         for line in content.splitlines():\n",
    "    #             outsize += len(line) + 1\n",
    "\n",
    "    # replacement strings\n",
    "    WINDOWS_LINE_ENDING = b'\\r\\n'\n",
    "    UNIX_LINE_ENDING = b'\\n'\n",
    "    # relative or absolute file path, e.g.:\n",
    "    file_path = bash_path\n",
    "    with open(file_path, 'rb') as open_file:\n",
    "        content = open_file.read()\n",
    "\n",
    "    content = content.replace(WINDOWS_LINE_ENDING, UNIX_LINE_ENDING)\n",
    "    with open(file_path, 'wb') as open_file:\n",
    "        open_file.write(content)"
   ]
  },
  {
   "cell_type": "code",
   "execution_count": 118,
   "id": "18eb53c1",
   "metadata": {},
   "outputs": [
    {
     "data": {
      "text/plain": [
       "[WindowsPath('Z:/projects/sequence_squad/data/video_data/raw_flycap/EJT136/091121/1_presleep/above_2021-11-09T14_48_59.avi'),\n",
       " WindowsPath('Z:/projects/sequence_squad/data/video_data/raw_flycap/EJT136/101121/1_presleep/above_2021-11-10T14_10_13.avi'),\n",
       " WindowsPath('Z:/projects/sequence_squad/data/video_data/raw_flycap/EJT136/101121/3_postsleep/above_2021-11-10T16_16_46.avi'),\n",
       " WindowsPath('Z:/projects/sequence_squad/data/video_data/raw_flycap/EJT136/111121/1_presleep/above_2021-11-11T14_18_47.avi'),\n",
       " WindowsPath('Z:/projects/sequence_squad/data/video_data/raw_flycap/EJT136/111121/3_postsleep/above_2021-11-11T16_33_43.avi'),\n",
       " WindowsPath('Z:/projects/sequence_squad/data/video_data/raw_flycap/EJT136/121121/1_presleep/above_2021-11-12T15_51_16.avi'),\n",
       " WindowsPath('Z:/projects/sequence_squad/data/video_data/raw_flycap/EJT136/121121/3_postsleep/above_2021-11-12T17_38_46.avi'),\n",
       " WindowsPath('Z:/projects/sequence_squad/data/video_data/raw_flycap/EJT136_implant2/231121/1_presleep/above_2021-11-23T14_02_45.avi'),\n",
       " WindowsPath('Z:/projects/sequence_squad/data/video_data/raw_flycap/EJT136_implant2/231121/3_postsleep/above_2021-11-23T17_05_46.avi'),\n",
       " WindowsPath('Z:/projects/sequence_squad/data/video_data/raw_flycap/EJT136_implant2/241121/1_presleep/above_2021-11-24T15_20_26.avi'),\n",
       " WindowsPath('Z:/projects/sequence_squad/data/video_data/raw_flycap/EJT136_implant2/251121/1_presleep/above_2021-11-25T14_30_57.avi'),\n",
       " WindowsPath('Z:/projects/sequence_squad/data/video_data/raw_flycap/EJT149/161121/1_presleep/above_2021-11-16T12_06_40.avi'),\n",
       " WindowsPath('Z:/projects/sequence_squad/data/video_data/raw_flycap/EJT149/161121/3_postsleep/above_2021-11-16T13_41_12.avi'),\n",
       " WindowsPath('Z:/projects/sequence_squad/data/video_data/raw_flycap/EJT149/171121/1_presleep/above_2021-11-17T13_48_20.avi'),\n",
       " WindowsPath('Z:/projects/sequence_squad/data/video_data/raw_flycap/EJT149/171121/3_postsleep/above_2021-11-17T15_29_18.avi'),\n",
       " WindowsPath('Z:/projects/sequence_squad/data/video_data/raw_flycap/EJT149/181121/1_prelseep/above_2021-11-18T14_14_29.avi'),\n",
       " WindowsPath('Z:/projects/sequence_squad/data/video_data/raw_flycap/EJT149/181121/3_postsleep/above_2021-11-18T15_46_16.avi'),\n",
       " WindowsPath('Z:/projects/sequence_squad/data/video_data/raw_flycap/EJT149_implant2/301121/1_presleep/above_2021-11-30T16_11_34.avi'),\n",
       " WindowsPath('Z:/projects/sequence_squad/data/video_data/raw_flycap/EJT149_implant2/301121/3_postsleep/above_2021-11-30T17_42_28.avi'),\n",
       " WindowsPath('Z:/projects/sequence_squad/data/video_data/raw_flycap/EJT162/220322/1_presleep/above_2022-03-22T13_40_34.avi'),\n",
       " WindowsPath('Z:/projects/sequence_squad/data/video_data/raw_flycap/EJT162/220322/3_postsleep/above_2022-03-22T16_50_53.avi'),\n",
       " WindowsPath('Z:/projects/sequence_squad/data/video_data/raw_flycap/EJT162/230322/1_presleep/above_2022-03-23T13_45_45.avi'),\n",
       " WindowsPath('Z:/projects/sequence_squad/data/video_data/raw_flycap/EJT162/230322/3_postsleep/above_2022-03-23T16_09_54.avi'),\n",
       " WindowsPath('Z:/projects/sequence_squad/data/video_data/raw_flycap/EJT162/240322/1_presleep/above_2022-03-24T14_21_02.avi'),\n",
       " WindowsPath('Z:/projects/sequence_squad/data/video_data/raw_flycap/EJT162/240322/3_postsleep/above_2022-03-24T16_37_34.avi'),\n",
       " WindowsPath('Z:/projects/sequence_squad/data/video_data/raw_flycap/EJT162/250322/1_presleep/above_2022-03-25T14_01_37.avi'),\n",
       " WindowsPath('Z:/projects/sequence_squad/data/video_data/raw_flycap/EJT178/010422/1_presleep/above_2022-04-01T13_28_51.avi'),\n",
       " WindowsPath('Z:/projects/sequence_squad/data/video_data/raw_flycap/EJT178/010422/3_postsleep/above_2022-04-01T15_04_53.avi'),\n",
       " WindowsPath('Z:/projects/sequence_squad/data/video_data/raw_flycap/EJT178/150322/1_presleep/above_2022-03-15T14_21_17.avi'),\n",
       " WindowsPath('Z:/projects/sequence_squad/data/video_data/raw_flycap/EJT178/150322/3_postsleep/above_2022-03-15T16_53_07.avi'),\n",
       " WindowsPath('Z:/projects/sequence_squad/data/video_data/raw_flycap/EJT178/160322/1_presleep/above_2022-03-16T15_00_38.avi'),\n",
       " WindowsPath('Z:/projects/sequence_squad/data/video_data/raw_flycap/EJT178/160322/3_postsleep/above_2022-03-16T17_37_01.avi'),\n",
       " WindowsPath('Z:/projects/sequence_squad/data/video_data/raw_flycap/EJT178/170322/1_presleep/above_2022-03-17T15_55_25.avi'),\n",
       " WindowsPath('Z:/projects/sequence_squad/data/video_data/raw_flycap/EJT178/170322/3_postsleep/above_2022-03-17T17_44_55.avi'),\n",
       " WindowsPath('Z:/projects/sequence_squad/data/video_data/raw_flycap/EJT178/180322/1_presleep/above_2022-03-18T14_04_45.avi'),\n",
       " WindowsPath('Z:/projects/sequence_squad/data/video_data/raw_flycap/EJT178/180322/3_postsleep/above_2022-03-18T15_33_32.avi'),\n",
       " WindowsPath('Z:/projects/sequence_squad/data/video_data/raw_flycap/EJT178/210322/2_postsleep/above_2022-03-21T16_39_18.avi'),\n",
       " WindowsPath('Z:/projects/sequence_squad/data/video_data/raw_flycap/EJT178/290322/1_presleep/above_2022-03-29T12_56_27.avi'),\n",
       " WindowsPath('Z:/projects/sequence_squad/data/video_data/raw_flycap/EJT178/290322/3_postsleep/above_2022-03-29T14_40_47.avi'),\n",
       " WindowsPath('Z:/projects/sequence_squad/data/video_data/raw_flycap/EJT178/300322/1_presleep/above_2022-03-30T13_49_01.avi'),\n",
       " WindowsPath('Z:/projects/sequence_squad/data/video_data/raw_flycap/EJT178/300322/3_postsleep/above_2022-03-30T15_51_46.avi'),\n",
       " WindowsPath('Z:/projects/sequence_squad/data/video_data/raw_flycap/EJT178/310322/1_presleep/above_2022-03-31T12_53_46.avi'),\n",
       " WindowsPath('Z:/projects/sequence_squad/data/video_data/raw_flycap/EJT178/310322/3_postsleep/above_2022-03-31T15_14_38.avi'),\n",
       " WindowsPath('Z:/projects/sequence_squad/data/video_data/raw_flycap/EJT178_implant2/040422/1_presleep/above_2022-04-04T13_19_15.avi'),\n",
       " WindowsPath('Z:/projects/sequence_squad/data/video_data/raw_flycap/EJT178_implant2/040422/3_postsleep/above_2022-04-04T15_06_32.avi'),\n",
       " WindowsPath('Z:/projects/sequence_squad/data/video_data/raw_flycap/EJT178_implant2/050422/1_presleep/above_2022-04-05T12_30_18.avi'),\n",
       " WindowsPath('Z:/projects/sequence_squad/data/video_data/raw_flycap/EJT178_implant2/050422/3_postsleep/above_2022-04-05T15_15_14.avi'),\n",
       " WindowsPath('Z:/projects/sequence_squad/data/video_data/raw_flycap/EJT178_implant2/060422/1_presleep/above_2022-04-06T11_50_14.avi'),\n",
       " WindowsPath('Z:/projects/sequence_squad/data/video_data/raw_flycap/EJT178_implant2/060422/3_postsleep/above_2022-04-06T13_50_45.avi'),\n",
       " WindowsPath('Z:/projects/sequence_squad/data/video_data/raw_flycap/EJT178_implant2/070422/1_presleep/above_2022-04-07T12_39_55.avi'),\n",
       " WindowsPath('Z:/projects/sequence_squad/data/video_data/raw_flycap/EJT178_implant2/070422/3_postsleep/above_2022-04-07T14_50_37.avi')]"
      ]
     },
     "execution_count": 118,
     "metadata": {},
     "output_type": "execute_result"
    }
   ],
   "source": [
    "above_video_files"
   ]
  },
  {
   "cell_type": "code",
   "execution_count": 111,
   "id": "89bbdd07",
   "metadata": {},
   "outputs": [
    {
     "data": {
      "text/plain": [
       "'#! /bin/bash\\n\\n\\necho \"running tracking\"\\npython dlc_on_hpc.py \\'/nfs/winstor/sjones/projects/sequence_squad/data/video_data/dlc/trained_networks/sleep-tracking_above-view-sequence-2022-04-05/config.yaml\\' \\'/VIDEO\\' \\'/DEST\\'\\n'"
      ]
     },
     "execution_count": 111,
     "metadata": {},
     "output_type": "execute_result"
    }
   ],
   "source": [
    "BASH_TEMPLATE + BASH_INSERT"
   ]
  },
  {
   "cell_type": "code",
   "execution_count": 109,
   "id": "3139917b",
   "metadata": {},
   "outputs": [
    {
     "data": {
      "text/plain": [
       "'\\necho \"running tracking\"\\npython dlc_on_hpc.py \\'/nfs/winstor/sjones/projects/sequence_squad/data/video_data/dlc/trained_networks/sleep-tracking_above-view-sequence-2022-04-05/config.yaml\\' \\'/VIDEO\\' \\'/DEST\\'\\n'"
      ]
     },
     "execution_count": 109,
     "metadata": {},
     "output_type": "execute_result"
    }
   ],
   "source": [
    "BASH_INSERT"
   ]
  },
  {
   "cell_type": "code",
   "execution_count": 24,
   "id": "ee381102",
   "metadata": {},
   "outputs": [],
   "source": [
    "### save out paths to make life easier in the future (when sorting tracked videos)\n",
    "\n",
    "path1 = PurePosixPath(r\"Z:\\projects\\sequence_squad\\data\\video_data\\dlc\\hpc_analysis\\hpc_to_analyse\\above_video_files_paths.txt\")\n",
    "path2 = PurePosixPath(r\"Z:\\projects\\sequence_squad\\data\\video_data\\dlc\\hpc_analysis\\hpc_to_analyse\\side_video_files_paths.txt\")\n",
    "path3 = PurePosixPath(r\"Z:\\projects\\sequence_squad\\data\\video_data\\dlc\\hpc_analysis\\hpc_to_analyse\\back_video_files_paths.txt\")\n",
    "path4 = PurePosixPath(r\"Z:\\projects\\sequence_squad\\data\\video_data\\dlc\\hpc_analysis\\hpc_to_analyse\\bottom_video_files_paths.txt\")\n",
    "\n",
    "with open(path1, \"wb\") as fp:   #Pickling\n",
    "    pickle.dump(above_video_files,fp)\n",
    "\n",
    "with open(path2, \"wb\") as fp:   #Pickling\n",
    "    pickle.dump(above_video_files,fp)\n",
    "    \n",
    "with open(path3, \"wb\") as fp:   #Pickling\n",
    "    pickle.dump(above_video_files,fp)\n",
    "    \n",
    "with open(path4, \"wb\") as fp:   #Pickling\n",
    "    pickle.dump(above_video_files,fp)"
   ]
  },
  {
   "cell_type": "code",
   "execution_count": 250,
   "id": "acd118ef",
   "metadata": {},
   "outputs": [],
   "source": [
    "#### to open again in the future: #\n",
    "\n",
    "with open(path1, \"rb\") as fp:   # Unpickling\n",
    "    relaoded_above_video_files = pickle.load(fp)"
   ]
  },
  {
   "cell_type": "code",
   "execution_count": null,
   "id": "fad162f6",
   "metadata": {},
   "outputs": [],
   "source": []
  }
 ],
 "metadata": {
  "kernelspec": {
   "display_name": "Python 3 (ipykernel)",
   "language": "python",
   "name": "python3"
  },
  "language_info": {
   "codemirror_mode": {
    "name": "ipython",
    "version": 3
   },
   "file_extension": ".py",
   "mimetype": "text/x-python",
   "name": "python",
   "nbconvert_exporter": "python",
   "pygments_lexer": "ipython3",
   "version": "3.8.16"
  }
 },
 "nbformat": 4,
 "nbformat_minor": 5
}
