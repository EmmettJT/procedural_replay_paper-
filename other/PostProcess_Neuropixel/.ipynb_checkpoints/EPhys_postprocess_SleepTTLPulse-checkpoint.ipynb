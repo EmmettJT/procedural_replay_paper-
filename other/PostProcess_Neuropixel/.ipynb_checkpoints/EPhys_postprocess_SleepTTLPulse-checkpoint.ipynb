{
 "cells": [
  {
   "cell_type": "code",
   "execution_count": 4,
   "id": "116e1444",
   "metadata": {},
   "outputs": [
    {
     "data": {
      "text/html": [
       "\n",
       "<style>\n",
       "    div#notebook-container    { width: 95%; }\n",
       "    div#menubar-container     { width: 65%; }\n",
       "    div#maintoolbar-container { width: 99%; }\n",
       "</style>\n"
      ],
      "text/plain": [
       "<IPython.core.display.HTML object>"
      ]
     },
     "metadata": {},
     "output_type": "display_data"
    }
   ],
   "source": [
    "### Make notebook wider:\n",
    "\n",
    "from IPython.display import display, HTML\n",
    "\n",
    "display(HTML(data=\"\"\"\n",
    "<style>\n",
    "    div#notebook-container    { width: 95%; }\n",
    "    div#menubar-container     { width: 65%; }\n",
    "    div#maintoolbar-container { width: 99%; }\n",
    "</style>\n",
    "\"\"\"))"
   ]
  },
  {
   "cell_type": "code",
   "execution_count": 5,
   "id": "d2950f11",
   "metadata": {},
   "outputs": [],
   "source": [
    "from Utilities.preprocessing import *"
   ]
  },
  {
   "cell_type": "code",
   "execution_count": 6,
   "id": "6b5ffe1d",
   "metadata": {},
   "outputs": [],
   "source": [
    "import os\n",
    "from scipy.signal import lfilter\n",
    "import pandas as pd\n",
    "import numpy as np\n",
    "import os, importlib\n",
    "import matplotlib.pyplot as plt\n",
    "import pickle\n",
    "import scipy.io\n",
    "import pickle\n",
    "from tqdm.notebook import tqdm\n",
    "from tqdm import tqdm\n",
    "\n",
    "# import ffmpeg\n",
    "# import pandas as pd\n",
    "# import numpy as np\n",
    "# import matplotlib\n",
    "# import matplotlib.pyplot as plt\n",
    "# import matplotlib.patches as mpatches\n",
    "# import math\n",
    "# import statistics\n",
    "# from scipy import stats\n",
    "# from matplotlib import gridspec\n",
    "# from matplotlib import colors\n",
    "# import scipy\n",
    "# from scipy.signal import find_peaks\n",
    "\n",
    "\n",
    "%matplotlib inline  "
   ]
  },
  {
   "cell_type": "code",
   "execution_count": 7,
   "id": "53a1aa71",
   "metadata": {},
   "outputs": [],
   "source": [
    "def process_camera_data(TimeStampPath):\n",
    "\n",
    "    #Load camera timestamps:\n",
    "    Camera_ts_raw = load_camera_timestamps(TimeStampPath)\n",
    "    #Convert to seconds and uncycle:\n",
    "    Camera_ts = convert_uncycle_Timestamps(Camera_ts_raw)\n",
    "\n",
    "    #check for dropped frames:\n",
    "    check_timestamps(Camera_ts, Frame_rate = 60)\n",
    "    # Find triggers:\n",
    "    Camera_trig_states = find_trigger_states(Camera_ts_raw)\n",
    "    #check if triggers are working:\n",
    "    result = np.max(Camera_trig_states) == np.min(Camera_trig_states)\n",
    "    \n",
    "    #pull out video name\n",
    "    video_name = [TimeStampPath.split(\"\\\\\")[-1].split(\".\")[0] + '-camera-timestamp-data']\n",
    "\n",
    "    if not result:\n",
    "\n",
    "        # make camera dataframe:\n",
    "        Camera_dataframe = pd.DataFrame(\n",
    "            {'Time Stamps': Camera_ts,\n",
    "            'Trigger State': Camera_trig_states,\n",
    "            'DataPath': ([TimeStampPath] * len(Camera_ts))})\n",
    "        \n",
    "    return Camera_dataframe\n",
    "\n",
    "def find_files(filename, search_path):\n",
    "    result = []\n",
    "\n",
    "    #Walking top-down from the root\n",
    "    for root, dir, files in os.walk(search_path):\n",
    "        if filename in files:\n",
    "            result.append(os.path.join(root, filename))\n",
    "\n",
    "    return result\n",
    "\n",
    "def sequence_contains_sequence(haystack_seq, needle_seq, string):\n",
    "    start_index = []\n",
    "    for i in range(0, len(haystack_seq) - len(needle_seq) + 1):\n",
    "        if needle_seq == haystack_seq[i:i+len(needle_seq)]:\n",
    "            start_index = start_index + [i]\n",
    "            print(string + ' barcode found')\n",
    "    return start_index"
   ]
  },
  {
   "cell_type": "markdown",
   "id": "81827858",
   "metadata": {},
   "source": [
    "Set paths and load in data:"
   ]
  },
  {
   "cell_type": "code",
   "execution_count": 8,
   "id": "e1981238",
   "metadata": {},
   "outputs": [],
   "source": [
    "# video_path = r\"Z:\\projects\\sequence_squad\\data\\video_data\\raw_flycap\\EJT136\\101121\"\n",
    "# global_ts_path = r\"Z:\\projects\\sequence_squad\\data\\kilosort_output\\EJT136\\Recording2\\2021-11-10_14-09-43\\Processed_data\" \n",
    "# raw_data_directory = r\"Z:\\projects\\sequence_squad\\data\\raw_neuropixel\\OE_DATA\\EJT136\\Recording2\\2021-11-10_14-09-43\"\n",
    "\n",
    "\n",
    "# video_path = r\"Z:\\projects\\sequence_squad\\data\\video_data\\raw_flycap\\EJT136\\111121\"\n",
    "# global_ts_path = r\"Z:\\projects\\sequence_squad\\data\\kilosort_output\\EJT136\\Recording3\\Processed_data\" \n",
    "# raw_data_directory = r\"Z:\\projects\\sequence_squad\\data\\raw_neuropixel\\OE_DATA\\EJT136\\Recording3\\2021-11-11_14-18-10\"\n",
    "\n",
    "\n",
    "# video_path = r\"Z:\\projects\\sequence_squad\\data\\video_data\\raw_flycap\\EJT136\\121121\"\n",
    "# global_ts_path = r\"Z:\\projects\\sequence_squad\\data\\kilosort_output\\EJT136\\Recording4\\2021-11-12_15-50-19\\Processed_data\" \n",
    "# raw_data_directory = r\"Z:\\projects\\sequence_squad\\data\\raw_neuropixel\\OE_DATA\\EJT136\\Recording4\\2021-11-12_15-50-19\"\n",
    "\n",
    "### 149\n",
    "\n",
    "video_path = r\"Z:\\projects\\sequence_squad\\data\\video_data\\raw_flycap\\EJT149_implant2\\301121\"\n",
    "global_ts_path = r\"Z:\\projects\\sequence_squad\\data\\kilosort_output\\EJT149_implant2\\Recording1\\Processed_data\" \n",
    "raw_data_directory = r\"Z:\\projects\\sequence_squad\\data\\raw_neuropixel\\OE_DATA\\EJT149_implant2\\fixed\"\n",
    "\n",
    "# video_path = r\"Z:\\projects\\sequence_squad\\data\\video_data\\raw_flycap\\EJT149\\161121\"\n",
    "# global_ts_path = r\"Z:\\projects\\sequence_squad\\data\\kilosort_output\\EJT149\\Recording1\\2021-11-16_12-06-37\\Processed_data\" \n",
    "# raw_data_directory = r\"Z:\\projects\\sequence_squad\\data\\raw_neuropixel\\OE_DATA\\EJT149\\Recording1\\2021-11-16_12-06-37\"\n",
    "\n",
    "# video_path = r\"Z:\\projects\\sequence_squad\\data\\video_data\\raw_flycap\\EJT149\\171121\"\n",
    "# global_ts_path = r\"Z:\\projects\\sequence_squad\\data\\kilosort_output\\EJT149\\Recording2\\2021-11-17_13-32-03\\Processed_data\" \n",
    "# raw_data_directory = r\"Z:\\projects\\sequence_squad\\data\\raw_neuropixel\\OE_DATA\\EJT149\\Recording2\\2021-11-17_13-32-03\"\n",
    "\n",
    "# video_path = r\"Z:\\projects\\sequence_squad\\data\\video_data\\raw_flycap\\EJT149\\181121\"\n",
    "# global_ts_path = r\"Z:\\projects\\sequence_squad\\data\\kilosort_output\\EJT149\\Recording3\\2021-11-18_14-14-13\\Processed_data\" \n",
    "# raw_data_directory = r\"Z:\\projects\\sequence_squad\\data\\raw_neuropixel\\OE_DATA\\EJT149\\Recording3\\2021-11-18_14-14-13\"\n",
    "\n",
    "# -------------------------------------------------- above all done\n",
    "\n",
    "# 178\n",
    "# video_path = r\"Z:\\projects\\sequence_squad\\data\\video_data\\raw_flycap\\EJT178\\150322\"\n",
    "# global_ts_path = r\"Z:\\projects\\sequence_squad\\data\\kilosort_output\\EJT178\\Recording1\\2022-03-15_13-55-36\\Processed_data\" \n",
    "# raw_data_directory = r\"Z:\\projects\\sequence_squad\\data\\raw_neuropixel\\OE_DATA\\EJT178\\150321\\2022-03-15_13-55-36\"\n",
    "\n",
    "# video_path = r\"Z:\\projects\\sequence_squad\\data\\video_data\\raw_flycap\\EJT178\\160322\"\n",
    "# global_ts_path = r\"Z:\\projects\\sequence_squad\\data\\kilosort_output\\EJT178\\Recording2\\2022-03-16_14-33-57\\Processed_data\" \n",
    "# raw_data_directory = r\"Z:\\projects\\sequence_squad\\data\\raw_neuropixel\\OE_DATA\\EJT178\\160321\\2022-03-16_14-33-57\"\n",
    "\n",
    "# video_path = r\"Z:\\projects\\sequence_squad\\data\\video_data\\raw_flycap\\EJT178\\170322\"\n",
    "# global_ts_path = r\"Z:\\projects\\sequence_squad\\data\\kilosort_output\\EJT178\\Recording3\\2022-03-17_15-54-10\\Processed_data\" \n",
    "# raw_data_directory = r\"Z:\\projects\\sequence_squad\\data\\raw_neuropixel\\OE_DATA\\EJT178\\170321\\2022-03-17_15-54-10\"\n",
    "\n",
    "# video_path = r\"Z:\\projects\\sequence_squad\\data\\video_data\\raw_flycap\\EJT178\\180322\"\n",
    "# global_ts_path = r\"Z:\\projects\\sequence_squad\\data\\kilosort_output\\EJT178\\Recording4\\2022-03-18_14-03-30\\Processed_data\" \n",
    "# raw_data_directory = r\"Z:\\projects\\sequence_squad\\data\\raw_neuropixel\\OE_DATA\\EJT178\\180321\\2022-03-18_14-03-30\"\n",
    "\n",
    "# video_path = r\"Z:\\projects\\sequence_squad\\data\\video_data\\raw_flycap\\EJT178\\210322\"\n",
    "# global_ts_path = r\"Z:\\projects\\sequence_squad\\data\\kilosort_output\\EJT178\\Recording5\\2022-03-21_14-56-37\\Processed_data\" \n",
    "# raw_data_directory = r\"Z:\\projects\\sequence_squad\\data\\raw_neuropixel\\OE_DATA\\EJT178\\210322\\2022-03-21_14-56-37\"\n",
    "\n",
    "# video_path = r\"Z:\\projects\\sequence_squad\\data\\video_data\\raw_flycap\\EJT178\\290322\"\n",
    "# global_ts_path = r\"Z:\\projects\\sequence_squad\\data\\kilosort_output\\EJT178\\Recording6\\2022-03-29_13-55-06\\Processed_data\" \n",
    "# raw_data_directory = r\"Z:\\projects\\sequence_squad\\data\\raw_neuropixel\\OE_DATA\\EJT178\\290322\\2022-03-29_13-55-06\"\n",
    "\n",
    "# video_path = r\"Z:\\projects\\sequence_squad\\data\\video_data\\raw_flycap\\EJT178\\300322\"\n",
    "# global_ts_path = r\"Z:\\projects\\sequence_squad\\data\\kilosort_output\\EJT178\\Recording7\\Processed_data\" \n",
    "# raw_data_directory = r\"Z:\\projects\\sequence_squad\\data\\raw_neuropixel\\OE_DATA\\EJT178\\300322\\2022-03-30_13-48-39\"\n",
    "\n",
    "# video_path = r\"Z:\\projects\\sequence_squad\\data\\video_data\\raw_flycap\\EJT178\\310322\"\n",
    "# global_ts_path = r\"Z:\\projects\\sequence_squad\\data\\kilosort_output\\EJT178\\Recording8\\Processed_data\" \n",
    "# raw_data_directory = r\"Z:\\projects\\sequence_squad\\data\\raw_neuropixel\\OE_DATA\\EJT178\\310322\\2022-03-31_12-53-12\"\n",
    "\n",
    "# video_path = r\"Z:\\projects\\sequence_squad\\data\\video_data\\raw_flycap\\EJT178\\010422\"\n",
    "# global_ts_path = r\"Z:\\projects\\sequence_squad\\data\\kilosort_output\\EJT178\\Recording9\\Processed_data\" \n",
    "# raw_data_directory = r\"Z:\\projects\\sequence_squad\\data\\raw_neuropixel\\OE_DATA\\EJT178\\010422\\2022-04-01_13-28-38\"\n",
    "\n",
    "\n",
    "# ## 162\n",
    "# video_path = r\"Z:\\projects\\sequence_squad\\data\\video_data\\raw_flycap\\EJT162\\240322\"\n",
    "# global_ts_path = r\"Z:\\projects\\sequence_squad\\data\\kilosort_output\\EJT162\\Recording3\\2022-03-24_14-18-38\\Processed_data\" \n",
    "# raw_data_directory = r\"Z:\\projects\\sequence_squad\\data\\raw_neuropixel\\OE_DATA\\EJT162\\240322\\2022-03-24_14-18-38\"\n",
    "\n",
    "\n",
    "## 178_implant2\n",
    "# video_path = r\"Z:\\projects\\sequence_squad\\data\\video_data\\raw_flycap\\EJT178_implant2\\040422\"\n",
    "# global_ts_path = r\"Z:\\projects\\sequence_squad\\data\\kilosort_output\\EJT178_implant2\\Recording1\\2022-04-04_13-19-11\\Processed_data\" \n",
    "# raw_data_directory = r\"Z:\\projects\\sequence_squad\\data\\raw_neuropixel\\OE_DATA\\EJT178_implant2\\040422\\2022-04-04_13-19-11\"\n",
    "\n",
    "# video_path = r\"Z:\\projects\\sequence_squad\\data\\video_data\\raw_flycap\\EJT178_implant2\\050422\"\n",
    "# global_ts_path = r\"Z:\\projects\\sequence_squad\\data\\kilosort_output\\EJT178_implant2\\Recording2\\2022-04-05_12-29-57\\Processed_data\" \n",
    "# raw_data_directory = r\"Z:\\projects\\sequence_squad\\data\\raw_neuropixel\\OE_DATA\\EJT178_implant2\\050422\\2022-04-05_12-29-57\"\n",
    "\n",
    "# video_path = r\"Z:\\projects\\sequence_squad\\data\\video_data\\raw_flycap\\EJT178_implant2\\060422\"\n",
    "# global_ts_path = r\"Z:\\projects\\sequence_squad\\data\\kilosort_output\\EJT178_implant2\\Recording3\\2022-04-06_11-49-30\\Processed_data\" \n",
    "# raw_data_directory = r\"Z:\\projects\\sequence_squad\\data\\raw_neuropixel\\OE_DATA\\EJT178_implant2\\060422\\2022-04-06_11-49-30\"\n",
    "\n",
    "# video_path = r\"Z:\\projects\\sequence_squad\\data\\video_data\\raw_flycap\\EJT178_implant2\\070422\"\n",
    "# global_ts_path = r\"Z:\\projects\\sequence_squad\\data\\kilosort_output\\EJT178_implant2\\Recording4\\2022-04-07_12-39-27\\Processed_data\" \n",
    "# raw_data_directory = r\"Z:\\projects\\sequence_squad\\data\\raw_neuropixel\\OE_DATA\\EJT178_implant2\\070422\\2022-04-07_12-39-27\"\n",
    "\n",
    "\n",
    " \n",
    "    "
   ]
  },
  {
   "cell_type": "code",
   "execution_count": 9,
   "id": "c416d026",
   "metadata": {},
   "outputs": [
    {
     "name": "stdout",
     "output_type": "stream",
     "text": [
      "['above_2021-11-30T16_11_34.avi', 'above_2021-11-30T16_11_34.csv', 'camera2_2021-11-30T16_11_34.avi', 'camera2_2021-11-30T16_11_34.csv', 'camera3_2021-11-30T16_11_34.avi', 'camera3_2021-11-30T16_11_34.csv']\n",
      "------------------------------------------------------------------------------------------------------------------------------------\n",
      "['above_2021-11-30T17_42_28.avi', 'above_2021-11-30T17_42_28.csv', 'camera2_2021-11-30T17_42_28.csv', 'camera2_2021-11-30T17_42_29.avi', 'camera3_2021-11-30T17_42_28.csv', 'camera3_2021-11-30T17_42_29.avi']\n"
     ]
    }
   ],
   "source": [
    "## Extract EPhys timestamp data:\n",
    "\n",
    "\n",
    "global_ts_path_ = global_ts_path + \"\\\\global-timstamps_event-df.pkl\"\n",
    "\n",
    "with open(global_ts_path_, 'rb') as f:\n",
    "    events_df = pickle.load(f)\n",
    "    \n",
    "print(os.listdir(video_path + '//1_presleep'))\n",
    "print('------------------------------------------------------------------------------------------------------------------------------------')\n",
    "print(os.listdir(video_path + '//3_postsleep'))"
   ]
  },
  {
   "cell_type": "code",
   "execution_count": 10,
   "id": "d9b58d19",
   "metadata": {},
   "outputs": [
    {
     "data": {
      "text/html": [
       "<div>\n",
       "<style scoped>\n",
       "    .dataframe tbody tr th:only-of-type {\n",
       "        vertical-align: middle;\n",
       "    }\n",
       "\n",
       "    .dataframe tbody tr th {\n",
       "        vertical-align: top;\n",
       "    }\n",
       "\n",
       "    .dataframe thead th {\n",
       "        text-align: right;\n",
       "    }\n",
       "</style>\n",
       "<table border=\"1\" class=\"dataframe\">\n",
       "  <thead>\n",
       "    <tr style=\"text-align: right;\">\n",
       "      <th></th>\n",
       "      <th>channel</th>\n",
       "      <th>timestamp</th>\n",
       "      <th>processor_id</th>\n",
       "      <th>subprocessor_id</th>\n",
       "      <th>state</th>\n",
       "      <th>global_timestamp</th>\n",
       "    </tr>\n",
       "  </thead>\n",
       "  <tbody>\n",
       "    <tr>\n",
       "      <th>0</th>\n",
       "      <td>1</td>\n",
       "      <td>5545117</td>\n",
       "      <td>113</td>\n",
       "      <td>1</td>\n",
       "      <td>0</td>\n",
       "      <td>2218.046533</td>\n",
       "    </tr>\n",
       "    <tr>\n",
       "      <th>1</th>\n",
       "      <td>1</td>\n",
       "      <td>5546367</td>\n",
       "      <td>113</td>\n",
       "      <td>1</td>\n",
       "      <td>1</td>\n",
       "      <td>2218.546533</td>\n",
       "    </tr>\n",
       "    <tr>\n",
       "      <th>2</th>\n",
       "      <td>1</td>\n",
       "      <td>5547617</td>\n",
       "      <td>113</td>\n",
       "      <td>1</td>\n",
       "      <td>0</td>\n",
       "      <td>2219.046533</td>\n",
       "    </tr>\n",
       "    <tr>\n",
       "      <th>3</th>\n",
       "      <td>1</td>\n",
       "      <td>5548867</td>\n",
       "      <td>113</td>\n",
       "      <td>1</td>\n",
       "      <td>1</td>\n",
       "      <td>2219.546533</td>\n",
       "    </tr>\n",
       "    <tr>\n",
       "      <th>4</th>\n",
       "      <td>1</td>\n",
       "      <td>5550117</td>\n",
       "      <td>113</td>\n",
       "      <td>1</td>\n",
       "      <td>0</td>\n",
       "      <td>2220.046533</td>\n",
       "    </tr>\n",
       "    <tr>\n",
       "      <th>...</th>\n",
       "      <td>...</td>\n",
       "      <td>...</td>\n",
       "      <td>...</td>\n",
       "      <td>...</td>\n",
       "      <td>...</td>\n",
       "      <td>...</td>\n",
       "    </tr>\n",
       "    <tr>\n",
       "      <th>65029</th>\n",
       "      <td>1</td>\n",
       "      <td>384109173</td>\n",
       "      <td>113</td>\n",
       "      <td>0</td>\n",
       "      <td>1</td>\n",
       "      <td>12803.639100</td>\n",
       "    </tr>\n",
       "    <tr>\n",
       "      <th>65030</th>\n",
       "      <td>1</td>\n",
       "      <td>384113500</td>\n",
       "      <td>100</td>\n",
       "      <td>0</td>\n",
       "      <td>0</td>\n",
       "      <td>12802.139078</td>\n",
       "    </tr>\n",
       "    <tr>\n",
       "      <th>65031</th>\n",
       "      <td>1</td>\n",
       "      <td>384128502</td>\n",
       "      <td>100</td>\n",
       "      <td>0</td>\n",
       "      <td>1</td>\n",
       "      <td>12802.639097</td>\n",
       "    </tr>\n",
       "    <tr>\n",
       "      <th>65032</th>\n",
       "      <td>1</td>\n",
       "      <td>384143504</td>\n",
       "      <td>100</td>\n",
       "      <td>0</td>\n",
       "      <td>0</td>\n",
       "      <td>12803.139115</td>\n",
       "    </tr>\n",
       "    <tr>\n",
       "      <th>65033</th>\n",
       "      <td>1</td>\n",
       "      <td>384158505</td>\n",
       "      <td>100</td>\n",
       "      <td>0</td>\n",
       "      <td>1</td>\n",
       "      <td>12803.639100</td>\n",
       "    </tr>\n",
       "  </tbody>\n",
       "</table>\n",
       "<p>65034 rows × 6 columns</p>\n",
       "</div>"
      ],
      "text/plain": [
       "       channel  timestamp  processor_id  subprocessor_id  state  \\\n",
       "0            1    5545117           113                1      0   \n",
       "1            1    5546367           113                1      1   \n",
       "2            1    5547617           113                1      0   \n",
       "3            1    5548867           113                1      1   \n",
       "4            1    5550117           113                1      0   \n",
       "...        ...        ...           ...              ...    ...   \n",
       "65029        1  384109173           113                0      1   \n",
       "65030        1  384113500           100                0      0   \n",
       "65031        1  384128502           100                0      1   \n",
       "65032        1  384143504           100                0      0   \n",
       "65033        1  384158505           100                0      1   \n",
       "\n",
       "       global_timestamp  \n",
       "0           2218.046533  \n",
       "1           2218.546533  \n",
       "2           2219.046533  \n",
       "3           2219.546533  \n",
       "4           2220.046533  \n",
       "...                 ...  \n",
       "65029      12803.639100  \n",
       "65030      12802.139078  \n",
       "65031      12802.639097  \n",
       "65032      12803.139115  \n",
       "65033      12803.639100  \n",
       "\n",
       "[65034 rows x 6 columns]"
      ]
     },
     "execution_count": 10,
     "metadata": {},
     "output_type": "execute_result"
    }
   ],
   "source": [
    "events_df"
   ]
  },
  {
   "cell_type": "code",
   "execution_count": 11,
   "id": "b516c0e9",
   "metadata": {},
   "outputs": [
    {
     "name": "stdout",
     "output_type": "stream",
     "text": [
      "Processor: Neuropix-PXI Id: 113 subProcessor: 0 start time: 40030438@30000Hz\n",
      "\n"
     ]
    }
   ],
   "source": [
    "#sample rate:\n",
    "Fs = 30000.0\n",
    "\n",
    "#extract processors: \n",
    "processor_unique_indexes = np.unique(events_df['processor_id'],return_index=True)[1]\n",
    "processor = [events_df['processor_id'][index] for index in sorted(processor_unique_indexes)]\n",
    "\n",
    "# seperate by processor:\n",
    "grouped = events_df.groupby(events_df.processor_id)\n",
    "NP_clock = grouped.get_group(processor[0])\n",
    "NIDAQ_TTLS = grouped.get_group(processor[1])\n",
    "\n",
    "## seperate out each channel in NIDAQ:\n",
    "grouped = NIDAQ_TTLS.groupby(NIDAQ_TTLS.channel)\n",
    "NP_NIDAQ_TTLS = grouped.get_group(1)\n",
    "Bpod_NIDAQ_TTLS = grouped.get_group(2)\n",
    "\n",
    "## seperate out subprocessor in neural data:\n",
    "grouped = NP_clock.groupby(NP_clock.subprocessor_id)\n",
    "NP_clock_LFP = grouped.get_group(1)\n",
    "NP_clock_Spikes = grouped.get_group(0)\n",
    "\n",
    "### sort out offset:\n",
    "sync_messages_path = find_files(\"sync_messages.txt\",raw_data_directory)[0]\n",
    "sync = open(sync_messages_path, 'r')\n",
    "lines = sync.readlines()\n",
    "for line in lines:\n",
    "    if 'Neuropix-PXI' in line:\n",
    "        if 'subProcessor: 0' in line:\n",
    "            print(line)\n",
    "            start_time_offset = int(line.split('@')[0].split(':')[-1]) / Fs"
   ]
  },
  {
   "cell_type": "code",
   "execution_count": 12,
   "id": "597c8681",
   "metadata": {},
   "outputs": [
    {
     "name": "stdout",
     "output_type": "stream",
     "text": [
      "START TIME OFFSET IS ...\n",
      "1334.3479333333332\n"
     ]
    }
   ],
   "source": [
    "print('START TIME OFFSET IS ...')\n",
    "print(start_time_offset)"
   ]
  },
  {
   "cell_type": "code",
   "execution_count": 13,
   "id": "6743028e",
   "metadata": {},
   "outputs": [
    {
     "name": "stdout",
     "output_type": "stream",
     "text": [
      "START TIME OFFSET IS ...\n",
      "1334.3479333333332\n"
     ]
    }
   ],
   "source": [
    "print('START TIME OFFSET IS ...')\n",
    "print(start_time_offset)"
   ]
  },
  {
   "cell_type": "code",
   "execution_count": 14,
   "id": "6891a643",
   "metadata": {},
   "outputs": [
    {
     "data": {
      "text/plain": [
       "'Z:\\\\projects\\\\sequence_squad\\\\data\\\\raw_neuropixel\\\\OE_DATA\\\\EJT149_implant2\\\\fixed'"
      ]
     },
     "execution_count": 14,
     "metadata": {},
     "output_type": "execute_result"
    }
   ],
   "source": [
    "raw_data_directory"
   ]
  },
  {
   "cell_type": "code",
   "execution_count": 15,
   "id": "731c0dc7",
   "metadata": {},
   "outputs": [
    {
     "data": {
      "text/plain": [
       "[<matplotlib.lines.Line2D at 0x1e753142e20>]"
      ]
     },
     "execution_count": 15,
     "metadata": {},
     "output_type": "execute_result"
    },
    {
     "data": {
      "image/png": "[encoded data removed]",
      "text/plain": [
       "<Figure size 432x288 with 1 Axes>"
      ]
     },
     "metadata": {
      "needs_background": "light"
     },
     "output_type": "display_data"
    }
   ],
   "source": [
    "plt.plot(np.diff(Bpod_NIDAQ_TTLS['global_timestamp']))"
   ]
  },
  {
   "cell_type": "code",
   "execution_count": 16,
   "id": "52ab0fea",
   "metadata": {},
   "outputs": [
    {
     "name": "stdout",
     "output_type": "stream",
     "text": [
      "behaviour barcode found\n",
      "behaviour barcode found\n",
      "presleep barcode found\n"
     ]
    }
   ],
   "source": [
    "\n",
    "Behaviour_barcode = np.array([0.05, 1.  , 0.05, 0.5 , 0.05, 1.  , 0.05, 0.5 , 0.05, 0.5 , 0.05]) #LSLSSS (last gap cant be seen as no pulse after it...)\n",
    "Clock_barcode = np.array([0.05, 1.  , 0.05, 0.5 , 0.05, 1.  , 0.05, 0.5 , 0.05, 1.0 , 0.05]) # LSLSLS\n",
    "presleep_barcode = np.array([0.05, 0.5  , 0.05, 0.5 , 0.05, 1.  , 0.05, 0.5 , 0.05, 0.5 , 0.05]) # SSLSSS\n",
    "postsleep_barcode = np.array([0.05, 1.  , 0.05, 0.5 , 0.05, 0.5  , 0.05, 0.5 , 0.05, 0.5 , 0.05]) # LSSSSS\n",
    "\n",
    "## find barcode indicies: \n",
    "\n",
    "behaviour_barcode_index = sequence_contains_sequence(list(np.round(np.diff(Bpod_NIDAQ_TTLS['global_timestamp']),3)),list(Behaviour_barcode), 'behaviour')\n",
    "clock_barcode_index = sequence_contains_sequence(list(np.round(np.diff(Bpod_NIDAQ_TTLS['global_timestamp']),3)),list(Clock_barcode), 'clock')\n",
    "presleep_barcode_index = sequence_contains_sequence(list(np.round(np.diff(Bpod_NIDAQ_TTLS['global_timestamp']),3)),list(presleep_barcode), 'presleep')\n",
    "postsleep_barcode_index = sequence_contains_sequence(list(np.round(np.diff(Bpod_NIDAQ_TTLS['global_timestamp']),3)),list(postsleep_barcode), 'postsleep')"
   ]
  },
  {
   "cell_type": "code",
   "execution_count": 17,
   "id": "4ad3f396",
   "metadata": {},
   "outputs": [],
   "source": [
    "presleep_index = presleep_barcode_index[0]\n",
    "behav_index = behaviour_barcode_index[0]\n",
    "postsleep_index = behaviour_barcode_index[1]"
   ]
  },
  {
   "cell_type": "code",
   "execution_count": 18,
   "id": "6ba9c31d",
   "metadata": {},
   "outputs": [
    {
     "name": "stdout",
     "output_type": "stream",
     "text": [
      "above_2021-11-30T16_11_34.csv\n",
      "above_2021-11-30T17_42_28.csv\n"
     ]
    }
   ],
   "source": [
    "#### load in camera data\n",
    "\n",
    "for file in os.listdir(video_path + '//1_presleep'):\n",
    "    if '.csv' in file:\n",
    "        if 'above' in file:\n",
    "            print(file)\n",
    "            pre_sleep_file = file\n",
    "            break\n",
    "        else:\n",
    "            print('help')\n",
    "\n",
    "\n",
    "for file in os.listdir(video_path + '//3_postsleep'):\n",
    "    if '.csv' in file:\n",
    "        if 'above' in file:\n",
    "            print(file)\n",
    "            post_sleep_file = file\n",
    "            break\n",
    "        else:\n",
    "            print('help')\n",
    "\n",
    "\n",
    "pre_sleep_df = pd.read_csv(video_path + '\\\\1_presleep\\\\' + pre_sleep_file)\n",
    "post_sleep_df = pd.read_csv(video_path + '\\\\3_postsleep\\\\' + post_sleep_file)\n",
    "    "
   ]
  },
  {
   "cell_type": "code",
   "execution_count": 19,
   "id": "96a30d80",
   "metadata": {},
   "outputs": [
    {
     "name": "stdout",
     "output_type": "stream",
     "text": [
      "Frames dropped = 0\n",
      "Frames dropped = 1\n"
     ]
    },
    {
     "data": {
      "image/png": "[encoded data removed]",
      "text/plain": [
       "<Figure size 432x288 with 1 Axes>"
      ]
     },
     "metadata": {
      "needs_background": "light"
     },
     "output_type": "display_data"
    }
   ],
   "source": [
    "### slow, run once\n",
    "\n",
    "pre_sleep_df = process_camera_data(video_path + '\\\\1_presleep\\\\' + pre_sleep_file)\n",
    "post_sleep_df = process_camera_data(video_path + '\\\\3_postsleep\\\\' + post_sleep_file)"
   ]
  },
  {
   "cell_type": "code",
   "execution_count": 20,
   "id": "d1659c9a",
   "metadata": {},
   "outputs": [
    {
     "data": {
      "text/plain": [
       "array([0.00000000e+00, 2.77083333e-04, 5.56250000e-04, ...,\n",
       "       3.57716437e+01, 3.57719208e+01, 3.57721979e+01])"
      ]
     },
     "execution_count": 20,
     "metadata": {},
     "output_type": "execute_result"
    }
   ],
   "source": [
    "pre_sleep_df['Time Stamps'].values/60"
   ]
  },
  {
   "cell_type": "code",
   "execution_count": 21,
   "id": "980e4bda",
   "metadata": {},
   "outputs": [
    {
     "data": {
      "text/plain": [
       "46.132558333333336"
      ]
     },
     "execution_count": 21,
     "metadata": {},
     "output_type": "execute_result"
    }
   ],
   "source": [
    "2767.953500/60"
   ]
  },
  {
   "cell_type": "code",
   "execution_count": 22,
   "id": "ceb42ed4",
   "metadata": {},
   "outputs": [
    {
     "data": {
      "text/plain": [
       "(0.0, 20000.0)"
      ]
     },
     "execution_count": 22,
     "metadata": {},
     "output_type": "execute_result"
    },
    {
     "data": {
      "image/png": "[encoded data removed]",
      "text/plain": [
       "<Figure size 432x288 with 1 Axes>"
      ]
     },
     "metadata": {
      "needs_background": "light"
     },
     "output_type": "display_data"
    }
   ],
   "source": [
    "plt.plot((post_sleep_df['Trigger State'].values))\n",
    "plt.xlim([0, 20000])"
   ]
  },
  {
   "cell_type": "code",
   "execution_count": 23,
   "id": "be23532d",
   "metadata": {},
   "outputs": [
    {
     "data": {
      "text/html": [
       "<div>\n",
       "<style scoped>\n",
       "    .dataframe tbody tr th:only-of-type {\n",
       "        vertical-align: middle;\n",
       "    }\n",
       "\n",
       "    .dataframe tbody tr th {\n",
       "        vertical-align: top;\n",
       "    }\n",
       "\n",
       "    .dataframe thead th {\n",
       "        text-align: right;\n",
       "    }\n",
       "</style>\n",
       "<table border=\"1\" class=\"dataframe\">\n",
       "  <thead>\n",
       "    <tr style=\"text-align: right;\">\n",
       "      <th></th>\n",
       "      <th>Time Stamps</th>\n",
       "      <th>Trigger State</th>\n",
       "      <th>DataPath</th>\n",
       "    </tr>\n",
       "  </thead>\n",
       "  <tbody>\n",
       "    <tr>\n",
       "      <th>0</th>\n",
       "      <td>0.000000</td>\n",
       "      <td>0.0</td>\n",
       "      <td>Z:\\projects\\sequence_squad\\data\\video_data\\raw...</td>\n",
       "    </tr>\n",
       "    <tr>\n",
       "      <th>1</th>\n",
       "      <td>0.016750</td>\n",
       "      <td>0.0</td>\n",
       "      <td>Z:\\projects\\sequence_squad\\data\\video_data\\raw...</td>\n",
       "    </tr>\n",
       "    <tr>\n",
       "      <th>2</th>\n",
       "      <td>0.033375</td>\n",
       "      <td>0.0</td>\n",
       "      <td>Z:\\projects\\sequence_squad\\data\\video_data\\raw...</td>\n",
       "    </tr>\n",
       "    <tr>\n",
       "      <th>3</th>\n",
       "      <td>0.050000</td>\n",
       "      <td>0.0</td>\n",
       "      <td>Z:\\projects\\sequence_squad\\data\\video_data\\raw...</td>\n",
       "    </tr>\n",
       "    <tr>\n",
       "      <th>4</th>\n",
       "      <td>0.066625</td>\n",
       "      <td>0.0</td>\n",
       "      <td>Z:\\projects\\sequence_squad\\data\\video_data\\raw...</td>\n",
       "    </tr>\n",
       "    <tr>\n",
       "      <th>...</th>\n",
       "      <td>...</td>\n",
       "      <td>...</td>\n",
       "      <td>...</td>\n",
       "    </tr>\n",
       "    <tr>\n",
       "      <th>307101</th>\n",
       "      <td>5115.939750</td>\n",
       "      <td>0.0</td>\n",
       "      <td>Z:\\projects\\sequence_squad\\data\\video_data\\raw...</td>\n",
       "    </tr>\n",
       "    <tr>\n",
       "      <th>307102</th>\n",
       "      <td>5115.956375</td>\n",
       "      <td>0.0</td>\n",
       "      <td>Z:\\projects\\sequence_squad\\data\\video_data\\raw...</td>\n",
       "    </tr>\n",
       "    <tr>\n",
       "      <th>307103</th>\n",
       "      <td>5115.973000</td>\n",
       "      <td>0.0</td>\n",
       "      <td>Z:\\projects\\sequence_squad\\data\\video_data\\raw...</td>\n",
       "    </tr>\n",
       "    <tr>\n",
       "      <th>307104</th>\n",
       "      <td>5115.989625</td>\n",
       "      <td>0.0</td>\n",
       "      <td>Z:\\projects\\sequence_squad\\data\\video_data\\raw...</td>\n",
       "    </tr>\n",
       "    <tr>\n",
       "      <th>307105</th>\n",
       "      <td>5116.006375</td>\n",
       "      <td>0.0</td>\n",
       "      <td>Z:\\projects\\sequence_squad\\data\\video_data\\raw...</td>\n",
       "    </tr>\n",
       "  </tbody>\n",
       "</table>\n",
       "<p>307106 rows × 3 columns</p>\n",
       "</div>"
      ],
      "text/plain": [
       "        Time Stamps  Trigger State  \\\n",
       "0          0.000000            0.0   \n",
       "1          0.016750            0.0   \n",
       "2          0.033375            0.0   \n",
       "3          0.050000            0.0   \n",
       "4          0.066625            0.0   \n",
       "...             ...            ...   \n",
       "307101  5115.939750            0.0   \n",
       "307102  5115.956375            0.0   \n",
       "307103  5115.973000            0.0   \n",
       "307104  5115.989625            0.0   \n",
       "307105  5116.006375            0.0   \n",
       "\n",
       "                                                 DataPath  \n",
       "0       Z:\\projects\\sequence_squad\\data\\video_data\\raw...  \n",
       "1       Z:\\projects\\sequence_squad\\data\\video_data\\raw...  \n",
       "2       Z:\\projects\\sequence_squad\\data\\video_data\\raw...  \n",
       "3       Z:\\projects\\sequence_squad\\data\\video_data\\raw...  \n",
       "4       Z:\\projects\\sequence_squad\\data\\video_data\\raw...  \n",
       "...                                                   ...  \n",
       "307101  Z:\\projects\\sequence_squad\\data\\video_data\\raw...  \n",
       "307102  Z:\\projects\\sequence_squad\\data\\video_data\\raw...  \n",
       "307103  Z:\\projects\\sequence_squad\\data\\video_data\\raw...  \n",
       "307104  Z:\\projects\\sequence_squad\\data\\video_data\\raw...  \n",
       "307105  Z:\\projects\\sequence_squad\\data\\video_data\\raw...  \n",
       "\n",
       "[307106 rows x 3 columns]"
      ]
     },
     "execution_count": 23,
     "metadata": {},
     "output_type": "execute_result"
    }
   ],
   "source": [
    "post_sleep_df"
   ]
  },
  {
   "cell_type": "markdown",
   "id": "c205b31f",
   "metadata": {},
   "source": [
    "# Presleep"
   ]
  },
  {
   "cell_type": "code",
   "execution_count": 24,
   "id": "719aa5f7",
   "metadata": {},
   "outputs": [],
   "source": [
    "# align ephys and camera timestamps\n",
    "# create dataframe with thw two aligned \n",
    "# Camera_timestamps(at triggers), camera time at triggers, camera times, ephys times "
   ]
  },
  {
   "cell_type": "code",
   "execution_count": 25,
   "id": "afac5965",
   "metadata": {},
   "outputs": [
    {
     "name": "stdout",
     "output_type": "stream",
     "text": [
      "blue x should be at uptick\n",
      "red should be a downtick\n"
     ]
    },
    {
     "data": {
      "image/png": "[encoded data removed]",
      "text/plain": [
       "<Figure size 432x288 with 1 Axes>"
      ]
     },
     "metadata": {
      "needs_background": "light"
     },
     "output_type": "display_data"
    }
   ],
   "source": [
    "### BACK find camera triggers: \n",
    "\n",
    "Camera_trig_states = pre_sleep_df['Trigger State'].values\n",
    "\n",
    "where_ttl_changes = list(np.where(np.roll(Camera_trig_states,1)!=Camera_trig_states)[0])\n",
    "if where_ttl_changes[0] == 0:\n",
    "    where_ttl_changes = where_ttl_changes[1::]\n",
    "down_tick = np.array(where_ttl_changes[1::2])\n",
    "up_tick = np.array(where_ttl_changes[0::2])\n",
    "\n",
    "## check this is correct:\n",
    "plt.plot(down_tick,np.ones(len(down_tick)),'x', color = 'red')\n",
    "plt.plot(up_tick,np.zeros(len(up_tick)),'x',color = 'blue')\n",
    "plt.plot(Camera_trig_states, color = 'grey')\n",
    "plt.xlim([max(where_ttl_changes)-3000, max(where_ttl_changes)])\n",
    "\n",
    "print('blue x should be at uptick')\n",
    "print('red should be a downtick') \n",
    "\n",
    "\n",
    "### set ts variables:\n",
    "cam_trigger_times = pre_sleep_df['Time Stamps'][where_ttl_changes].values\n",
    "ephys_ts = Bpod_NIDAQ_TTLS['global_timestamp'][presleep_index + len(presleep_barcode):behav_index].values\n",
    "\n"
   ]
  },
  {
   "cell_type": "code",
   "execution_count": 26,
   "id": "344e9491",
   "metadata": {},
   "outputs": [
    {
     "data": {
      "text/plain": [
       "(0.0, 20.0)"
      ]
     },
     "execution_count": 26,
     "metadata": {},
     "output_type": "execute_result"
    },
    {
     "data": {
      "image/png": "[encoded data removed]",
      "text/plain": [
       "<Figure size 432x288 with 1 Axes>"
      ]
     },
     "metadata": {
      "needs_background": "light"
     },
     "output_type": "display_data"
    }
   ],
   "source": [
    "plt.plot(np.diff(cam_trigger_times), color = 'red')\n",
    "plt.plot(np.diff(ephys_ts),color = 'green')\n",
    "plt.xlim([0, 20])"
   ]
  },
  {
   "cell_type": "code",
   "execution_count": 27,
   "id": "09347cfd",
   "metadata": {},
   "outputs": [],
   "source": [
    "### shift by 1?\n",
    "### set ts variables:\n",
    "cam_trigger_times = pre_sleep_df['Time Stamps'][where_ttl_changes].values\n",
    "ephys_ts = Bpod_NIDAQ_TTLS['global_timestamp'][presleep_index + len(presleep_barcode)+1:behav_index].values"
   ]
  },
  {
   "cell_type": "code",
   "execution_count": 28,
   "id": "1924d0b5",
   "metadata": {},
   "outputs": [
    {
     "data": {
      "text/plain": [
       "(0.0, 20.0)"
      ]
     },
     "execution_count": 28,
     "metadata": {},
     "output_type": "execute_result"
    },
    {
     "data": {
      "image/png": "[encoded data removed]",
      "text/plain": [
       "<Figure size 432x288 with 1 Axes>"
      ]
     },
     "metadata": {
      "needs_background": "light"
     },
     "output_type": "display_data"
    }
   ],
   "source": [
    "plt.plot(np.diff(cam_trigger_times))\n",
    "plt.plot(np.diff(ephys_ts))\n",
    "plt.xlim([0, 20])"
   ]
  },
  {
   "cell_type": "code",
   "execution_count": 29,
   "id": "cb058d18",
   "metadata": {},
   "outputs": [],
   "source": [
    "### shift by 1?\n",
    "### set ts variables:\n",
    "cam_trigger_times = pre_sleep_df['Time Stamps'][where_ttl_changes].values\n",
    "ephys_ts = Bpod_NIDAQ_TTLS['global_timestamp'][presleep_index + len(presleep_barcode)+1:behav_index].values"
   ]
  },
  {
   "cell_type": "code",
   "execution_count": 30,
   "id": "c068512f",
   "metadata": {},
   "outputs": [
    {
     "data": {
      "text/plain": [
       "(0.0, 20.0)"
      ]
     },
     "execution_count": 30,
     "metadata": {},
     "output_type": "execute_result"
    },
    {
     "data": {
      "image/png": "[encoded data removed]",
      "text/plain": [
       "<Figure size 432x288 with 1 Axes>"
      ]
     },
     "metadata": {
      "needs_background": "light"
     },
     "output_type": "display_data"
    }
   ],
   "source": [
    "plt.plot(np.diff(cam_trigger_times))\n",
    "plt.plot(np.diff(ephys_ts))\n",
    "plt.xlim([0, 20])"
   ]
  },
  {
   "cell_type": "code",
   "execution_count": 31,
   "id": "97373bac",
   "metadata": {},
   "outputs": [
    {
     "data": {
      "text/plain": [
       "(-0.5, 0.5)"
      ]
     },
     "execution_count": 31,
     "metadata": {},
     "output_type": "execute_result"
    },
    {
     "data": {
      "image/png": "[encoded data removed]",
      "text/plain": [
       "<Figure size 432x288 with 1 Axes>"
      ]
     },
     "metadata": {
      "needs_background": "light"
     },
     "output_type": "display_data"
    }
   ],
   "source": [
    "plt.plot(np.diff(cam_trigger_times) - np.diff(ephys_ts))\n",
    "plt.ylim([-.5, 0.5])"
   ]
  },
  {
   "cell_type": "code",
   "execution_count": 32,
   "id": "854c6571",
   "metadata": {},
   "outputs": [],
   "source": [
    "camera_times_s = pre_sleep_df['Time Stamps']\n",
    "\n",
    "pre_sleep_df['Camera_time_raw'] = camera_times_s\n",
    "\n",
    "nan_array = np.array([np.nan]*len(pre_sleep_df['Time Stamps'].values))\n",
    "nan_array[np.array(where_ttl_changes)] = cam_trigger_times\n",
    "aligned_trigger_times = nan_array\n",
    "\n",
    "nan_array_2 = np.array([np.nan]*len(pre_sleep_df['Time Stamps'].values))\n",
    "nan_array_2[np.array(where_ttl_changes)] = ephys_ts\n",
    "aligned_trigger_times_ephys = nan_array_2\n",
    "\n",
    "\n",
    "\n",
    "pre_sleep_df['Camera_trigger_times'] = aligned_trigger_times\n",
    "pre_sleep_df['Ephys_trigger_times'] = (aligned_trigger_times_ephys -start_time_offset)"
   ]
  },
  {
   "cell_type": "code",
   "execution_count": 33,
   "id": "5e252e44",
   "metadata": {},
   "outputs": [
    {
     "name": "stderr",
     "output_type": "stream",
     "text": [
      "100%|████████████████████████████████████████████████████████████████████████| 128842/128842 [00:45<00:00, 2812.94it/s]\n"
     ]
    }
   ],
   "source": [
    "### align camer time to ephys \n",
    "\n",
    "offset_ephys_times = ephys_ts - start_time_offset\n",
    "\n",
    "aligned_time = []\n",
    "count = 0\n",
    "for index in tqdm(range(len(camera_times_s))):\n",
    "    if count < len(where_ttl_changes): # no TTL at the end so just count forwards instead of backwards here\n",
    "        if index < where_ttl_changes[count]:\n",
    "            diff = cam_trigger_times[count] - camera_times_s[index]\n",
    "            aligned_time = aligned_time + [offset_ephys_times[count] - diff]\n",
    "            if diff < 0:\n",
    "                print('error!')\n",
    "        else:\n",
    "            aligned_time = aligned_time + [offset_ephys_times[count]]\n",
    "            count = count + 1\n",
    "    else:\n",
    "        diff = camera_times_s[index] - cam_trigger_times[count-1] # time minus last trigger time \n",
    "        aligned_time = aligned_time + [offset_ephys_times[count-1] + diff] ## add the difference to the last ephys trigger\n",
    "        if diff < 0:\n",
    "            print('error!')\n",
    "            \n",
    "pre_sleep_df['Camera_time_Ephys_Aligned'] = aligned_time"
   ]
  },
  {
   "cell_type": "code",
   "execution_count": 34,
   "id": "b633e5e4",
   "metadata": {},
   "outputs": [
    {
     "name": "stdout",
     "output_type": "stream",
     "text": [
      "ephys starts at:                896.123850267713\n",
      "aligned end differecne is:      896.0144083668529\n",
      "difference is                   0.1094419008601335\n"
     ]
    }
   ],
   "source": [
    "end_offset = aligned_time[-1] - camera_times_s.values[-1]\n",
    "start_offset =aligned_time[0]\n",
    "print('ephys starts at:                ' +  str(start_offset))\n",
    "print('aligned end differecne is:      ' +  str(end_offset))\n",
    "print('difference is                   ' +  str(start_offset - end_offset ))"
   ]
  },
  {
   "cell_type": "code",
   "execution_count": 35,
   "id": "b797e943",
   "metadata": {},
   "outputs": [
    {
     "data": {
      "text/html": [
       "<div>\n",
       "<style scoped>\n",
       "    .dataframe tbody tr th:only-of-type {\n",
       "        vertical-align: middle;\n",
       "    }\n",
       "\n",
       "    .dataframe tbody tr th {\n",
       "        vertical-align: top;\n",
       "    }\n",
       "\n",
       "    .dataframe thead th {\n",
       "        text-align: right;\n",
       "    }\n",
       "</style>\n",
       "<table border=\"1\" class=\"dataframe\">\n",
       "  <thead>\n",
       "    <tr style=\"text-align: right;\">\n",
       "      <th></th>\n",
       "      <th>Time Stamps</th>\n",
       "      <th>Trigger State</th>\n",
       "      <th>DataPath</th>\n",
       "      <th>Camera_time_raw</th>\n",
       "      <th>Camera_trigger_times</th>\n",
       "      <th>Ephys_trigger_times</th>\n",
       "      <th>Camera_time_Ephys_Aligned</th>\n",
       "    </tr>\n",
       "  </thead>\n",
       "  <tbody>\n",
       "    <tr>\n",
       "      <th>0</th>\n",
       "      <td>0.000000</td>\n",
       "      <td>0.0</td>\n",
       "      <td>Z:\\projects\\sequence_squad\\data\\video_data\\raw...</td>\n",
       "      <td>0.000000</td>\n",
       "      <td>NaN</td>\n",
       "      <td>NaN</td>\n",
       "      <td>896.123850</td>\n",
       "    </tr>\n",
       "    <tr>\n",
       "      <th>1</th>\n",
       "      <td>0.016625</td>\n",
       "      <td>0.0</td>\n",
       "      <td>Z:\\projects\\sequence_squad\\data\\video_data\\raw...</td>\n",
       "      <td>0.016625</td>\n",
       "      <td>NaN</td>\n",
       "      <td>NaN</td>\n",
       "      <td>896.140475</td>\n",
       "    </tr>\n",
       "    <tr>\n",
       "      <th>2</th>\n",
       "      <td>0.033375</td>\n",
       "      <td>0.0</td>\n",
       "      <td>Z:\\projects\\sequence_squad\\data\\video_data\\raw...</td>\n",
       "      <td>0.033375</td>\n",
       "      <td>NaN</td>\n",
       "      <td>NaN</td>\n",
       "      <td>896.157225</td>\n",
       "    </tr>\n",
       "    <tr>\n",
       "      <th>3</th>\n",
       "      <td>0.050000</td>\n",
       "      <td>0.0</td>\n",
       "      <td>Z:\\projects\\sequence_squad\\data\\video_data\\raw...</td>\n",
       "      <td>0.050000</td>\n",
       "      <td>NaN</td>\n",
       "      <td>NaN</td>\n",
       "      <td>896.173850</td>\n",
       "    </tr>\n",
       "    <tr>\n",
       "      <th>4</th>\n",
       "      <td>0.066625</td>\n",
       "      <td>0.0</td>\n",
       "      <td>Z:\\projects\\sequence_squad\\data\\video_data\\raw...</td>\n",
       "      <td>0.066625</td>\n",
       "      <td>NaN</td>\n",
       "      <td>NaN</td>\n",
       "      <td>896.190475</td>\n",
       "    </tr>\n",
       "    <tr>\n",
       "      <th>...</th>\n",
       "      <td>...</td>\n",
       "      <td>...</td>\n",
       "      <td>...</td>\n",
       "      <td>...</td>\n",
       "      <td>...</td>\n",
       "      <td>...</td>\n",
       "      <td>...</td>\n",
       "    </tr>\n",
       "    <tr>\n",
       "      <th>128837</th>\n",
       "      <td>2146.265250</td>\n",
       "      <td>0.0</td>\n",
       "      <td>Z:\\projects\\sequence_squad\\data\\video_data\\raw...</td>\n",
       "      <td>2146.265250</td>\n",
       "      <td>NaN</td>\n",
       "      <td>NaN</td>\n",
       "      <td>3042.279658</td>\n",
       "    </tr>\n",
       "    <tr>\n",
       "      <th>128838</th>\n",
       "      <td>2146.281875</td>\n",
       "      <td>0.0</td>\n",
       "      <td>Z:\\projects\\sequence_squad\\data\\video_data\\raw...</td>\n",
       "      <td>2146.281875</td>\n",
       "      <td>NaN</td>\n",
       "      <td>NaN</td>\n",
       "      <td>3042.296283</td>\n",
       "    </tr>\n",
       "    <tr>\n",
       "      <th>128839</th>\n",
       "      <td>2146.298625</td>\n",
       "      <td>0.0</td>\n",
       "      <td>Z:\\projects\\sequence_squad\\data\\video_data\\raw...</td>\n",
       "      <td>2146.298625</td>\n",
       "      <td>NaN</td>\n",
       "      <td>NaN</td>\n",
       "      <td>3042.313033</td>\n",
       "    </tr>\n",
       "    <tr>\n",
       "      <th>128840</th>\n",
       "      <td>2146.315250</td>\n",
       "      <td>0.0</td>\n",
       "      <td>Z:\\projects\\sequence_squad\\data\\video_data\\raw...</td>\n",
       "      <td>2146.315250</td>\n",
       "      <td>NaN</td>\n",
       "      <td>NaN</td>\n",
       "      <td>3042.329658</td>\n",
       "    </tr>\n",
       "    <tr>\n",
       "      <th>128841</th>\n",
       "      <td>2146.331875</td>\n",
       "      <td>0.0</td>\n",
       "      <td>Z:\\projects\\sequence_squad\\data\\video_data\\raw...</td>\n",
       "      <td>2146.331875</td>\n",
       "      <td>NaN</td>\n",
       "      <td>NaN</td>\n",
       "      <td>3042.346283</td>\n",
       "    </tr>\n",
       "  </tbody>\n",
       "</table>\n",
       "<p>128842 rows × 7 columns</p>\n",
       "</div>"
      ],
      "text/plain": [
       "        Time Stamps  Trigger State  \\\n",
       "0          0.000000            0.0   \n",
       "1          0.016625            0.0   \n",
       "2          0.033375            0.0   \n",
       "3          0.050000            0.0   \n",
       "4          0.066625            0.0   \n",
       "...             ...            ...   \n",
       "128837  2146.265250            0.0   \n",
       "128838  2146.281875            0.0   \n",
       "128839  2146.298625            0.0   \n",
       "128840  2146.315250            0.0   \n",
       "128841  2146.331875            0.0   \n",
       "\n",
       "                                                 DataPath  Camera_time_raw  \\\n",
       "0       Z:\\projects\\sequence_squad\\data\\video_data\\raw...         0.000000   \n",
       "1       Z:\\projects\\sequence_squad\\data\\video_data\\raw...         0.016625   \n",
       "2       Z:\\projects\\sequence_squad\\data\\video_data\\raw...         0.033375   \n",
       "3       Z:\\projects\\sequence_squad\\data\\video_data\\raw...         0.050000   \n",
       "4       Z:\\projects\\sequence_squad\\data\\video_data\\raw...         0.066625   \n",
       "...                                                   ...              ...   \n",
       "128837  Z:\\projects\\sequence_squad\\data\\video_data\\raw...      2146.265250   \n",
       "128838  Z:\\projects\\sequence_squad\\data\\video_data\\raw...      2146.281875   \n",
       "128839  Z:\\projects\\sequence_squad\\data\\video_data\\raw...      2146.298625   \n",
       "128840  Z:\\projects\\sequence_squad\\data\\video_data\\raw...      2146.315250   \n",
       "128841  Z:\\projects\\sequence_squad\\data\\video_data\\raw...      2146.331875   \n",
       "\n",
       "        Camera_trigger_times  Ephys_trigger_times  Camera_time_Ephys_Aligned  \n",
       "0                        NaN                  NaN                 896.123850  \n",
       "1                        NaN                  NaN                 896.140475  \n",
       "2                        NaN                  NaN                 896.157225  \n",
       "3                        NaN                  NaN                 896.173850  \n",
       "4                        NaN                  NaN                 896.190475  \n",
       "...                      ...                  ...                        ...  \n",
       "128837                   NaN                  NaN                3042.279658  \n",
       "128838                   NaN                  NaN                3042.296283  \n",
       "128839                   NaN                  NaN                3042.313033  \n",
       "128840                   NaN                  NaN                3042.329658  \n",
       "128841                   NaN                  NaN                3042.346283  \n",
       "\n",
       "[128842 rows x 7 columns]"
      ]
     },
     "execution_count": 35,
     "metadata": {},
     "output_type": "execute_result"
    }
   ],
   "source": [
    "pre_sleep_df"
   ]
  },
  {
   "cell_type": "code",
   "execution_count": null,
   "id": "97ee703b",
   "metadata": {},
   "outputs": [],
   "source": [
    "#### Save it out:\n",
    "pre_sleep_df.to_csv(global_ts_path +'/Presleep_Ephys_Camera_sync.csv')\n",
    "\n",
    "print('data checked?')\n",
    "print('data Saved')"
   ]
  },
  {
   "cell_type": "code",
   "execution_count": null,
   "id": "cc0fbbeb",
   "metadata": {},
   "outputs": [],
   "source": []
  },
  {
   "cell_type": "markdown",
   "id": "98e59d19",
   "metadata": {},
   "source": [
    "# Postsleep"
   ]
  },
  {
   "cell_type": "code",
   "execution_count": 46,
   "id": "53149f90",
   "metadata": {},
   "outputs": [
    {
     "name": "stdout",
     "output_type": "stream",
     "text": [
      "blue x should be at uptick\n",
      "red should be a downtick\n"
     ]
    },
    {
     "data": {
      "image/png": "[encoded data removed]",
      "text/plain": [
       "<Figure size 432x288 with 1 Axes>"
      ]
     },
     "metadata": {
      "needs_background": "light"
     },
     "output_type": "display_data"
    }
   ],
   "source": [
    "### BACK find camera triggers: \n",
    "\n",
    "Camera_trig_states = post_sleep_df['Trigger State'].values\n",
    "\n",
    "where_ttl_changes = list(np.where(np.roll(Camera_trig_states,1)!=Camera_trig_states)[0])\n",
    "if where_ttl_changes[0] == 0:\n",
    "    where_ttl_changes = where_ttl_changes[1::]\n",
    "down_tick = np.array(where_ttl_changes[1::2])\n",
    "up_tick = np.array(where_ttl_changes[0::2])\n",
    "\n",
    "## check this is correct:\n",
    "plt.plot(down_tick,np.ones(len(down_tick)),'x', color = 'red')\n",
    "plt.plot(up_tick,np.zeros(len(up_tick)),'x',color = 'blue')\n",
    "plt.plot(Camera_trig_states, color = 'grey')\n",
    "plt.xlim([max(where_ttl_changes)-3000, max(where_ttl_changes)])\n",
    "\n",
    "print('blue x should be at uptick')\n",
    "print('red should be a downtick') \n",
    "\n",
    "\n",
    "### set ts variables:\n",
    "cam_trigger_times = post_sleep_df['Time Stamps'][where_ttl_changes].values\n",
    "ephys_ts = Bpod_NIDAQ_TTLS['global_timestamp'][postsleep_index + len(postsleep_barcode)::].values\n",
    "\n"
   ]
  },
  {
   "cell_type": "code",
   "execution_count": 47,
   "id": "4e30c6e9",
   "metadata": {},
   "outputs": [
    {
     "data": {
      "text/plain": [
       "(0.0, 20.0)"
      ]
     },
     "execution_count": 47,
     "metadata": {},
     "output_type": "execute_result"
    },
    {
     "data": {
      "image/png": "[encoded data removed]",
      "text/plain": [
       "<Figure size 432x288 with 1 Axes>"
      ]
     },
     "metadata": {
      "needs_background": "light"
     },
     "output_type": "display_data"
    }
   ],
   "source": [
    "plt.plot(np.diff(cam_trigger_times), color = 'red')\n",
    "plt.plot(np.diff(ephys_ts),color = 'green')\n",
    "plt.xlim([0, 20])"
   ]
  },
  {
   "cell_type": "code",
   "execution_count": 48,
   "id": "7c17efa3",
   "metadata": {},
   "outputs": [
    {
     "ename": "IndexError",
     "evalue": "list index out of range",
     "output_type": "error",
     "traceback": [
      "\u001b[1;31m---------------------------------------------------------------------------\u001b[0m",
      "\u001b[1;31mIndexError\u001b[0m                                Traceback (most recent call last)",
      "\u001b[1;32m<ipython-input-48-b253bd78a4a9>\u001b[0m in \u001b[0;36m<module>\u001b[1;34m\u001b[0m\n\u001b[0;32m      5\u001b[0m \u001b[1;33m\u001b[0m\u001b[0m\n\u001b[0;32m      6\u001b[0m \u001b[1;31m# if clock\u001b[0m\u001b[1;33m\u001b[0m\u001b[1;33m\u001b[0m\u001b[1;33m\u001b[0m\u001b[0m\n\u001b[1;32m----> 7\u001b[1;33m \u001b[0mephys_ts\u001b[0m \u001b[1;33m=\u001b[0m \u001b[0mBpod_NIDAQ_TTLS\u001b[0m\u001b[1;33m[\u001b[0m\u001b[1;34m'global_timestamp'\u001b[0m\u001b[1;33m]\u001b[0m\u001b[1;33m[\u001b[0m\u001b[0mpostsleep_index\u001b[0m \u001b[1;33m+\u001b[0m \u001b[0mlen\u001b[0m\u001b[1;33m(\u001b[0m\u001b[0mpostsleep_barcode\u001b[0m\u001b[1;33m)\u001b[0m\u001b[1;33m+\u001b[0m\u001b[1;36m1\u001b[0m\u001b[1;33m:\u001b[0m\u001b[0mclock_barcode_index\u001b[0m\u001b[1;33m[\u001b[0m\u001b[1;36m0\u001b[0m\u001b[1;33m]\u001b[0m\u001b[1;33m]\u001b[0m\u001b[1;33m.\u001b[0m\u001b[0mvalues\u001b[0m\u001b[1;33m\u001b[0m\u001b[1;33m\u001b[0m\u001b[0m\n\u001b[0m",
      "\u001b[1;31mIndexError\u001b[0m: list index out of range"
     ]
    }
   ],
   "source": [
    "### shift by 1?\n",
    "### set ts variables:\n",
    "cam_trigger_times = post_sleep_df['Time Stamps'][where_ttl_changes].values\n",
    "ephys_ts = Bpod_NIDAQ_TTLS['global_timestamp'][postsleep_index + len(postsleep_barcode)+1::].values\n",
    "\n",
    "# if clock\n",
    "ephys_ts = Bpod_NIDAQ_TTLS['global_timestamp'][postsleep_index + len(postsleep_barcode)+1:clock_barcode_index[0]].values\n"
   ]
  },
  {
   "cell_type": "code",
   "execution_count": null,
   "id": "1515caa8",
   "metadata": {},
   "outputs": [],
   "source": [
    "plt.plot(np.diff(cam_trigger_times))\n",
    "plt.plot(np.diff(ephys_ts))\n",
    "plt.xlim([0, 20])"
   ]
  },
  {
   "cell_type": "code",
   "execution_count": null,
   "id": "fbeee7ef",
   "metadata": {},
   "outputs": [],
   "source": [
    "plt.plot(np.diff(cam_trigger_times) - np.diff(ephys_ts))\n",
    "plt.ylim([-.5, 0.5])"
   ]
  },
  {
   "cell_type": "code",
   "execution_count": null,
   "id": "30011119",
   "metadata": {},
   "outputs": [],
   "source": [
    "camera_times_s = post_sleep_df['Time Stamps']\n",
    "\n",
    "post_sleep_df['Camera_time_raw'] = camera_times_s\n",
    "\n",
    "nan_array = np.array([np.nan]*len(post_sleep_df['Time Stamps'].values))\n",
    "nan_array[np.array(where_ttl_changes)] = cam_trigger_times\n",
    "aligned_trigger_times = nan_array\n",
    "\n",
    "nan_array_2 = np.array([np.nan]*len(post_sleep_df['Time Stamps'].values))\n",
    "nan_array_2[np.array(where_ttl_changes)] = ephys_ts\n",
    "aligned_trigger_times_ephys = nan_array_2\n",
    "\n",
    "\n",
    "\n",
    "post_sleep_df['Camera_trigger_times'] = aligned_trigger_times\n",
    "post_sleep_df['Ephys_trigger_times'] = (aligned_trigger_times_ephys -start_time_offset)"
   ]
  },
  {
   "cell_type": "code",
   "execution_count": null,
   "id": "55c890ca",
   "metadata": {},
   "outputs": [],
   "source": [
    "### align camer time to ephys \n",
    "\n",
    "offset_ephys_times = ephys_ts - start_time_offset\n",
    "\n",
    "aligned_time = []\n",
    "count = 0\n",
    "\n",
    "for index in tqdm(range(len(camera_times_s))):\n",
    "    if count < len(where_ttl_changes): # no TTL at the end so just count forwards instead of backwards here\n",
    "        if index < where_ttl_changes[count]:\n",
    "            diff = cam_trigger_times[count] - camera_times_s[index]\n",
    "            aligned_time = aligned_time + [offset_ephys_times[count] - diff]\n",
    "            if diff < 0:\n",
    "                print('error!')\n",
    "        else:\n",
    "            aligned_time = aligned_time + [offset_ephys_times[count]]\n",
    "            count = count + 1\n",
    "    else:\n",
    "        diff = camera_times_s[index] - cam_trigger_times[count-1] # time minus last trigger time \n",
    "        aligned_time = aligned_time + [offset_ephys_times[count-1] + diff] ## add the difference to the last ephys trigger\n",
    "        if diff < 0:\n",
    "            print('error!')\n",
    "            \n",
    "post_sleep_df['Camera_time_Ephys_Aligned'] = aligned_time"
   ]
  },
  {
   "cell_type": "code",
   "execution_count": 49,
   "id": "22c5bf88",
   "metadata": {},
   "outputs": [
    {
     "name": "stdout",
     "output_type": "stream",
     "text": [
      "ephys starts at:                896.123850267713\n",
      "aligned end differecne is:      896.0144083668529\n",
      "difference is                   0.1094419008601335\n"
     ]
    }
   ],
   "source": [
    "end_offset = aligned_time[-1] - camera_times_s.values[-1]\n",
    "start_offset =aligned_time[0]\n",
    "print('ephys starts at:                ' +  str(start_offset))\n",
    "print('aligned end differecne is:      ' +  str(end_offset))\n",
    "print('difference is                   ' +  str(start_offset - end_offset ))"
   ]
  },
  {
   "cell_type": "code",
   "execution_count": 50,
   "id": "200728da",
   "metadata": {},
   "outputs": [
    {
     "name": "stdout",
     "output_type": "stream",
     "text": [
      "data checked?\n",
      "data Saved\n"
     ]
    }
   ],
   "source": [
    "#### Save it out:\n",
    "post_sleep_df.to_csv(global_ts_path +'/Postsleep_Ephys_Camera_sync.csv')\n",
    "\n",
    "print('data checked?')\n",
    "print('data Saved')"
   ]
  },
  {
   "cell_type": "code",
   "execution_count": null,
   "id": "f5a6c52f",
   "metadata": {},
   "outputs": [],
   "source": []
  },
  {
   "cell_type": "code",
   "execution_count": null,
   "id": "9e6b579c",
   "metadata": {},
   "outputs": [],
   "source": []
  },
  {
   "cell_type": "code",
   "execution_count": null,
   "id": "3e7d001a",
   "metadata": {},
   "outputs": [],
   "source": []
  },
  {
   "cell_type": "code",
   "execution_count": null,
   "id": "49c5090d",
   "metadata": {},
   "outputs": [],
   "source": []
  },
  {
   "cell_type": "code",
   "execution_count": null,
   "id": "cafe2b3c",
   "metadata": {},
   "outputs": [],
   "source": []
  },
  {
   "cell_type": "code",
   "execution_count": null,
   "id": "27829312",
   "metadata": {},
   "outputs": [],
   "source": []
  }
 ],
 "metadata": {
  "kernelspec": {
   "display_name": "Python 3",
   "language": "python",
   "name": "python3"
  },
  "language_info": {
   "codemirror_mode": {
    "name": "ipython",
    "version": 3
   },
   "file_extension": ".py",
   "mimetype": "text/x-python",
   "name": "python",
   "nbconvert_exporter": "python",
   "pygments_lexer": "ipython3",
   "version": "3.8.8"
  }
 },
 "nbformat": 4,
 "nbformat_minor": 5
}
