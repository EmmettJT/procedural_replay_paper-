{
 "cells": [
  {
   "cell_type": "code",
   "execution_count": 1,
   "id": "116e1444",
   "metadata": {},
   "outputs": [
    {
     "data": {
      "text/html": [
       "\n",
       "<style>\n",
       "    div#notebook-container    { width: 95%; }\n",
       "    div#menubar-container     { width: 65%; }\n",
       "    div#maintoolbar-container { width: 99%; }\n",
       "</style>\n"
      ],
      "text/plain": [
       "<IPython.core.display.HTML object>"
      ]
     },
     "metadata": {},
     "output_type": "display_data"
    }
   ],
   "source": [
    "### Make notebook wider:\n",
    "\n",
    "from IPython.display import display, HTML\n",
    "\n",
    "display(HTML(data=\"\"\"\n",
    "<style>\n",
    "    div#notebook-container    { width: 95%; }\n",
    "    div#menubar-container     { width: 65%; }\n",
    "    div#maintoolbar-container { width: 99%; }\n",
    "</style>\n",
    "\"\"\"))"
   ]
  },
  {
   "cell_type": "code",
   "execution_count": 2,
   "id": "6b5ffe1d",
   "metadata": {},
   "outputs": [],
   "source": [
    "import os\n",
    "from scipy.signal import lfilter\n",
    "import pandas as pd\n",
    "import numpy as np\n",
    "import os, importlib\n",
    "import matplotlib.pyplot as plt\n",
    "import pickle\n",
    "import scipy.io\n",
    "\n",
    "# import ffmpeg\n",
    "# import pandas as pd\n",
    "# import numpy as np\n",
    "# import matplotlib\n",
    "# import matplotlib.pyplot as plt\n",
    "# import matplotlib.patches as mpatches\n",
    "# import math\n",
    "# import statistics\n",
    "# from scipy import stats\n",
    "# from matplotlib import gridspec\n",
    "# from matplotlib import colors\n",
    "# import scipy\n",
    "# from scipy.signal import find_peaks\n",
    "\n",
    "\n",
    "%matplotlib inline  "
   ]
  },
  {
   "cell_type": "code",
   "execution_count": 3,
   "id": "d6c77d6c",
   "metadata": {},
   "outputs": [],
   "source": [
    "def test_timestamps_(Trial_start_ts,Trial_start_Camera_Ts):\n",
    "    working = False\n",
    "    try:\n",
    "        trial_start_difference = (np.diff(Trial_start_ts) - np.diff(Trial_start_Camera_Ts)[0:-1])\n",
    "        working = True\n",
    "\n",
    "    except:\n",
    "        print('broken - being fixed')\n",
    "        tester = False\n",
    "        while tester == False:\n",
    "            Trial_start_Camera_Ts,tester = fix_missing_triggers(Trial_start_ts,Trial_start_Camera_Ts)\n",
    "            print('fixed')\n",
    "        print('all fixed')\n",
    "    try:\n",
    "        trial_start_difference = (np.diff(Trial_start_ts) - np.diff(Trial_start_Camera_Ts)[0:-1])\n",
    "        working = True\n",
    "        print('working')\n",
    "    except:\n",
    "        print('fail')\n",
    "\n",
    "    for item in (trial_start_difference):\n",
    "        if abs(item) > 1:\n",
    "            raise NameError('Test not passed, Timestamps dont line up!')\n",
    "\n",
    "    print('test passed!')\n",
    "    \n",
    "    Trial_start_Camera_Ts= Trial_start_Camera_Ts\n",
    "    \n",
    "    return Trial_start_Camera_Ts\n",
    "\n",
    "\n",
    "def fix_missing_triggers(Trial_start_ts,Trial_start_Camera_Ts):\n",
    "\n",
    "    fixed_trial_strart_ts= []\n",
    "    for index,item in enumerate(np.diff(Trial_start_ts)):\n",
    "        if abs(item - np.diff(Trial_start_Camera_Ts)[index]) > 1:\n",
    "#             missing_trigger = Trial_start_Camera_Ts[index]+np.diff(Trial_start_ts)[index]\n",
    "            missing_trigger = np.nan\n",
    "            fixed_trial_strart_ts = np.insert(Trial_start_Camera_Ts,index+1,[missing_trigger])\n",
    "            print(index)\n",
    "            break\n",
    "    \n",
    "    try:\n",
    "        trial_start_difference = (np.diff(Trial_start_ts) - np.diff(fixed_trial_strart_ts)[0:-1])\n",
    "        for item in (trial_start_difference):\n",
    "            if abs(item) > 1:\n",
    "                tester = False\n",
    "            else:\n",
    "                tester = True\n",
    "    except:\n",
    "        tester = False\n",
    "\n",
    "    return fixed_trial_strart_ts, tester"
   ]
  },
  {
   "cell_type": "code",
   "execution_count": 5,
   "id": "a521e2d5",
   "metadata": {},
   "outputs": [],
   "source": [
    "spikes_input_path = r\"Z:\\projects\\sequence_squad\\data\\kilosort_output\\EJT149_implant2\\Recording1\\Processed_data\" + \"\\\\\"\n",
    "camera_ts_path = r\"Z:\\projects\\sequence_squad\\data\\processed_bpod_data\\EJT149_implant2\\Preprocessed\\00_20211130_164734_Tue\" + \"\\\\\" "
   ]
  },
  {
   "cell_type": "code",
   "execution_count": 6,
   "id": "cff3935c",
   "metadata": {},
   "outputs": [
    {
     "name": "stdout",
     "output_type": "stream",
     "text": [
      "back_2021-11-30T16_49_23-camera-timestamp-data.csv\n",
      "bottom_2021-11-30T16_49_23-camera-timestamp-data.csv\n",
      "side_2021-11-30T16_49_23-camera-timestamp-data.csv\n"
     ]
    }
   ],
   "source": [
    "### import camera data \n",
    "\n",
    "filename = 'TaskPokeData_camera_ephys_aligned.csv'\n",
    "Poke_data_EPhys = pd.read_csv(spikes_input_path + filename)\n",
    "\n",
    "for file in os.listdir(camera_ts_path):\n",
    "    if 'back' in file:\n",
    "        print(file)\n",
    "        back_camera = pd.read_csv(camera_ts_path + file)\n",
    "    if 'bottom' in file:\n",
    "        print(file)\n",
    "        bottom_camera = pd.read_csv(camera_ts_path + file)        \n",
    "    if 'side' in file: \n",
    "        print(file)\n",
    "        side_camera = pd.read_csv(camera_ts_path + file)        \n",
    "    if 'above' in file:\n",
    "        print('ABOVE file!!!')\n"
   ]
  },
  {
   "cell_type": "code",
   "execution_count": 7,
   "id": "45555e45",
   "metadata": {},
   "outputs": [
    {
     "data": {
      "text/html": [
       "<div>\n",
       "<style scoped>\n",
       "    .dataframe tbody tr th:only-of-type {\n",
       "        vertical-align: middle;\n",
       "    }\n",
       "\n",
       "    .dataframe tbody tr th {\n",
       "        vertical-align: top;\n",
       "    }\n",
       "\n",
       "    .dataframe thead th {\n",
       "        text-align: right;\n",
       "    }\n",
       "</style>\n",
       "<table border=\"1\" class=\"dataframe\">\n",
       "  <thead>\n",
       "    <tr style=\"text-align: right;\">\n",
       "      <th></th>\n",
       "      <th>Unnamed: 0</th>\n",
       "      <th>Unnamed: 0.1</th>\n",
       "      <th>Trial_id</th>\n",
       "      <th>Trial_Start</th>\n",
       "      <th>Port</th>\n",
       "      <th>PokeIn_Time</th>\n",
       "      <th>PokeOut_Time</th>\n",
       "      <th>Reward_Times</th>\n",
       "      <th>Trial_End</th>\n",
       "      <th>Port 2,3,4,5 LED intensities</th>\n",
       "      <th>...</th>\n",
       "      <th>BOTTOM_Trial_Start_Camera_Time</th>\n",
       "      <th>BOTTOM_Trial_End_Camera_Time</th>\n",
       "      <th>BOTTOM_First_poke_Camera_Time</th>\n",
       "      <th>SIDE_Trial_Start_Camera_Time</th>\n",
       "      <th>SIDE_Trial_End_Camera_Time</th>\n",
       "      <th>SIDE_First_poke_Camera_Time</th>\n",
       "      <th>TrialStart_EphysTime</th>\n",
       "      <th>FirstPoke_EphysTime</th>\n",
       "      <th>PokeIN_EphysTime</th>\n",
       "      <th>PokeOUT_EphysTime</th>\n",
       "    </tr>\n",
       "  </thead>\n",
       "  <tbody>\n",
       "    <tr>\n",
       "      <th>0</th>\n",
       "      <td>0</td>\n",
       "      <td>0</td>\n",
       "      <td>1</td>\n",
       "      <td>20.3179</td>\n",
       "      <td>3</td>\n",
       "      <td>27.4729</td>\n",
       "      <td>27.9710</td>\n",
       "      <td>NaN</td>\n",
       "      <td>32.8564</td>\n",
       "      <td>[0.0, 0.0, 0.0, 0.0]</td>\n",
       "      <td>...</td>\n",
       "      <td>96.221000</td>\n",
       "      <td>108.765</td>\n",
       "      <td>NaN</td>\n",
       "      <td>96.23725</td>\n",
       "      <td>108.764625</td>\n",
       "      <td>NaN</td>\n",
       "      <td>3261.216202</td>\n",
       "      <td>NaN</td>\n",
       "      <td>3268.371202</td>\n",
       "      <td>3268.869302</td>\n",
       "    </tr>\n",
       "    <tr>\n",
       "      <th>1</th>\n",
       "      <td>1</td>\n",
       "      <td>1</td>\n",
       "      <td>1</td>\n",
       "      <td>20.3179</td>\n",
       "      <td>2</td>\n",
       "      <td>28.2454</td>\n",
       "      <td>28.3518</td>\n",
       "      <td>NaN</td>\n",
       "      <td>32.8564</td>\n",
       "      <td>[0.0, 0.0, 0.0, 0.0]</td>\n",
       "      <td>...</td>\n",
       "      <td>96.221000</td>\n",
       "      <td>108.765</td>\n",
       "      <td>104.1505</td>\n",
       "      <td>96.23725</td>\n",
       "      <td>108.764625</td>\n",
       "      <td>104.166875</td>\n",
       "      <td>3261.216202</td>\n",
       "      <td>3269.144003</td>\n",
       "      <td>3269.143702</td>\n",
       "      <td>3269.250102</td>\n",
       "    </tr>\n",
       "    <tr>\n",
       "      <th>2</th>\n",
       "      <td>2</td>\n",
       "      <td>2</td>\n",
       "      <td>1</td>\n",
       "      <td>20.3179</td>\n",
       "      <td>1</td>\n",
       "      <td>28.6818</td>\n",
       "      <td>28.7594</td>\n",
       "      <td>NaN</td>\n",
       "      <td>32.8564</td>\n",
       "      <td>[0.0, 0.0, 0.0, 0.0]</td>\n",
       "      <td>...</td>\n",
       "      <td>96.221000</td>\n",
       "      <td>108.765</td>\n",
       "      <td>NaN</td>\n",
       "      <td>96.23725</td>\n",
       "      <td>108.764625</td>\n",
       "      <td>NaN</td>\n",
       "      <td>3261.216202</td>\n",
       "      <td>NaN</td>\n",
       "      <td>3269.580102</td>\n",
       "      <td>3269.657702</td>\n",
       "    </tr>\n",
       "    <tr>\n",
       "      <th>3</th>\n",
       "      <td>3</td>\n",
       "      <td>3</td>\n",
       "      <td>1</td>\n",
       "      <td>20.3179</td>\n",
       "      <td>1</td>\n",
       "      <td>29.3050</td>\n",
       "      <td>29.4053</td>\n",
       "      <td>NaN</td>\n",
       "      <td>32.8564</td>\n",
       "      <td>[0.0, 0.0, 0.0, 0.0]</td>\n",
       "      <td>...</td>\n",
       "      <td>96.221000</td>\n",
       "      <td>108.765</td>\n",
       "      <td>NaN</td>\n",
       "      <td>96.23725</td>\n",
       "      <td>108.764625</td>\n",
       "      <td>NaN</td>\n",
       "      <td>3261.216202</td>\n",
       "      <td>NaN</td>\n",
       "      <td>3270.203302</td>\n",
       "      <td>3270.303602</td>\n",
       "    </tr>\n",
       "    <tr>\n",
       "      <th>4</th>\n",
       "      <td>4</td>\n",
       "      <td>4</td>\n",
       "      <td>1</td>\n",
       "      <td>20.3179</td>\n",
       "      <td>6</td>\n",
       "      <td>29.9297</td>\n",
       "      <td>29.9353</td>\n",
       "      <td>NaN</td>\n",
       "      <td>32.8564</td>\n",
       "      <td>[0.0, 0.0, 0.0, 0.0]</td>\n",
       "      <td>...</td>\n",
       "      <td>96.221000</td>\n",
       "      <td>108.765</td>\n",
       "      <td>NaN</td>\n",
       "      <td>96.23725</td>\n",
       "      <td>108.764625</td>\n",
       "      <td>NaN</td>\n",
       "      <td>3261.216202</td>\n",
       "      <td>NaN</td>\n",
       "      <td>3270.828002</td>\n",
       "      <td>3270.833602</td>\n",
       "    </tr>\n",
       "    <tr>\n",
       "      <th>...</th>\n",
       "      <td>...</td>\n",
       "      <td>...</td>\n",
       "      <td>...</td>\n",
       "      <td>...</td>\n",
       "      <td>...</td>\n",
       "      <td>...</td>\n",
       "      <td>...</td>\n",
       "      <td>...</td>\n",
       "      <td>...</td>\n",
       "      <td>...</td>\n",
       "      <td>...</td>\n",
       "      <td>...</td>\n",
       "      <td>...</td>\n",
       "      <td>...</td>\n",
       "      <td>...</td>\n",
       "      <td>...</td>\n",
       "      <td>...</td>\n",
       "      <td>...</td>\n",
       "      <td>...</td>\n",
       "      <td>...</td>\n",
       "      <td>...</td>\n",
       "    </tr>\n",
       "    <tr>\n",
       "      <th>3527</th>\n",
       "      <td>3527</td>\n",
       "      <td>3527</td>\n",
       "      <td>494</td>\n",
       "      <td>2914.6809</td>\n",
       "      <td>1</td>\n",
       "      <td>2916.8700</td>\n",
       "      <td>2917.0300</td>\n",
       "      <td>NaN</td>\n",
       "      <td>2921.3104</td>\n",
       "      <td>[0.0, 0.0, 0.0, 0.0]</td>\n",
       "      <td>...</td>\n",
       "      <td>2990.855125</td>\n",
       "      <td>NaN</td>\n",
       "      <td>NaN</td>\n",
       "      <td>2990.85250</td>\n",
       "      <td>NaN</td>\n",
       "      <td>NaN</td>\n",
       "      <td>6155.686702</td>\n",
       "      <td>NaN</td>\n",
       "      <td>6157.875802</td>\n",
       "      <td>6158.035802</td>\n",
       "    </tr>\n",
       "    <tr>\n",
       "      <th>3528</th>\n",
       "      <td>3528</td>\n",
       "      <td>3528</td>\n",
       "      <td>494</td>\n",
       "      <td>2914.6809</td>\n",
       "      <td>6</td>\n",
       "      <td>2917.2703</td>\n",
       "      <td>2917.3034</td>\n",
       "      <td>NaN</td>\n",
       "      <td>2921.3104</td>\n",
       "      <td>[0.0, 0.0, 0.0, 0.0]</td>\n",
       "      <td>...</td>\n",
       "      <td>2990.855125</td>\n",
       "      <td>NaN</td>\n",
       "      <td>NaN</td>\n",
       "      <td>2990.85250</td>\n",
       "      <td>NaN</td>\n",
       "      <td>NaN</td>\n",
       "      <td>6155.686702</td>\n",
       "      <td>NaN</td>\n",
       "      <td>6158.276102</td>\n",
       "      <td>6158.309202</td>\n",
       "    </tr>\n",
       "    <tr>\n",
       "      <th>3529</th>\n",
       "      <td>3529</td>\n",
       "      <td>3529</td>\n",
       "      <td>494</td>\n",
       "      <td>2914.6809</td>\n",
       "      <td>7</td>\n",
       "      <td>2918.0691</td>\n",
       "      <td>2918.0709</td>\n",
       "      <td>NaN</td>\n",
       "      <td>2921.3104</td>\n",
       "      <td>[0.0, 0.0, 0.0, 0.0]</td>\n",
       "      <td>...</td>\n",
       "      <td>2990.855125</td>\n",
       "      <td>NaN</td>\n",
       "      <td>NaN</td>\n",
       "      <td>2990.85250</td>\n",
       "      <td>NaN</td>\n",
       "      <td>NaN</td>\n",
       "      <td>6155.686702</td>\n",
       "      <td>NaN</td>\n",
       "      <td>6159.074902</td>\n",
       "      <td>6159.076702</td>\n",
       "    </tr>\n",
       "    <tr>\n",
       "      <th>3530</th>\n",
       "      <td>3530</td>\n",
       "      <td>3530</td>\n",
       "      <td>494</td>\n",
       "      <td>2914.6809</td>\n",
       "      <td>3</td>\n",
       "      <td>2920.6819</td>\n",
       "      <td>2920.7195</td>\n",
       "      <td>NaN</td>\n",
       "      <td>2921.3104</td>\n",
       "      <td>[0.0, 0.0, 0.0, 0.0]</td>\n",
       "      <td>...</td>\n",
       "      <td>2990.855125</td>\n",
       "      <td>NaN</td>\n",
       "      <td>NaN</td>\n",
       "      <td>2990.85250</td>\n",
       "      <td>NaN</td>\n",
       "      <td>NaN</td>\n",
       "      <td>6155.686702</td>\n",
       "      <td>NaN</td>\n",
       "      <td>6161.687702</td>\n",
       "      <td>6161.725302</td>\n",
       "    </tr>\n",
       "    <tr>\n",
       "      <th>3531</th>\n",
       "      <td>3531</td>\n",
       "      <td>3531</td>\n",
       "      <td>494</td>\n",
       "      <td>2914.6809</td>\n",
       "      <td>7</td>\n",
       "      <td>2920.8909</td>\n",
       "      <td>NaN</td>\n",
       "      <td>2920.8909</td>\n",
       "      <td>2921.3104</td>\n",
       "      <td>[0.0, 0.0, 0.0, 0.0]</td>\n",
       "      <td>...</td>\n",
       "      <td>2990.855125</td>\n",
       "      <td>NaN</td>\n",
       "      <td>NaN</td>\n",
       "      <td>2990.85250</td>\n",
       "      <td>NaN</td>\n",
       "      <td>NaN</td>\n",
       "      <td>6155.686702</td>\n",
       "      <td>NaN</td>\n",
       "      <td>6161.896702</td>\n",
       "      <td>NaN</td>\n",
       "    </tr>\n",
       "  </tbody>\n",
       "</table>\n",
       "<p>3532 rows × 25 columns</p>\n",
       "</div>"
      ],
      "text/plain": [
       "      Unnamed: 0  Unnamed: 0.1  Trial_id  Trial_Start  Port  PokeIn_Time  \\\n",
       "0              0             0         1      20.3179     3      27.4729   \n",
       "1              1             1         1      20.3179     2      28.2454   \n",
       "2              2             2         1      20.3179     1      28.6818   \n",
       "3              3             3         1      20.3179     1      29.3050   \n",
       "4              4             4         1      20.3179     6      29.9297   \n",
       "...          ...           ...       ...          ...   ...          ...   \n",
       "3527        3527          3527       494    2914.6809     1    2916.8700   \n",
       "3528        3528          3528       494    2914.6809     6    2917.2703   \n",
       "3529        3529          3529       494    2914.6809     7    2918.0691   \n",
       "3530        3530          3530       494    2914.6809     3    2920.6819   \n",
       "3531        3531          3531       494    2914.6809     7    2920.8909   \n",
       "\n",
       "      PokeOut_Time  Reward_Times  Trial_End Port 2,3,4,5 LED intensities  ...  \\\n",
       "0          27.9710           NaN    32.8564         [0.0, 0.0, 0.0, 0.0]  ...   \n",
       "1          28.3518           NaN    32.8564         [0.0, 0.0, 0.0, 0.0]  ...   \n",
       "2          28.7594           NaN    32.8564         [0.0, 0.0, 0.0, 0.0]  ...   \n",
       "3          29.4053           NaN    32.8564         [0.0, 0.0, 0.0, 0.0]  ...   \n",
       "4          29.9353           NaN    32.8564         [0.0, 0.0, 0.0, 0.0]  ...   \n",
       "...            ...           ...        ...                          ...  ...   \n",
       "3527     2917.0300           NaN  2921.3104         [0.0, 0.0, 0.0, 0.0]  ...   \n",
       "3528     2917.3034           NaN  2921.3104         [0.0, 0.0, 0.0, 0.0]  ...   \n",
       "3529     2918.0709           NaN  2921.3104         [0.0, 0.0, 0.0, 0.0]  ...   \n",
       "3530     2920.7195           NaN  2921.3104         [0.0, 0.0, 0.0, 0.0]  ...   \n",
       "3531           NaN     2920.8909  2921.3104         [0.0, 0.0, 0.0, 0.0]  ...   \n",
       "\n",
       "     BOTTOM_Trial_Start_Camera_Time  BOTTOM_Trial_End_Camera_Time  \\\n",
       "0                         96.221000                       108.765   \n",
       "1                         96.221000                       108.765   \n",
       "2                         96.221000                       108.765   \n",
       "3                         96.221000                       108.765   \n",
       "4                         96.221000                       108.765   \n",
       "...                             ...                           ...   \n",
       "3527                    2990.855125                           NaN   \n",
       "3528                    2990.855125                           NaN   \n",
       "3529                    2990.855125                           NaN   \n",
       "3530                    2990.855125                           NaN   \n",
       "3531                    2990.855125                           NaN   \n",
       "\n",
       "      BOTTOM_First_poke_Camera_Time  SIDE_Trial_Start_Camera_Time  \\\n",
       "0                               NaN                      96.23725   \n",
       "1                          104.1505                      96.23725   \n",
       "2                               NaN                      96.23725   \n",
       "3                               NaN                      96.23725   \n",
       "4                               NaN                      96.23725   \n",
       "...                             ...                           ...   \n",
       "3527                            NaN                    2990.85250   \n",
       "3528                            NaN                    2990.85250   \n",
       "3529                            NaN                    2990.85250   \n",
       "3530                            NaN                    2990.85250   \n",
       "3531                            NaN                    2990.85250   \n",
       "\n",
       "      SIDE_Trial_End_Camera_Time  SIDE_First_poke_Camera_Time  \\\n",
       "0                     108.764625                          NaN   \n",
       "1                     108.764625                   104.166875   \n",
       "2                     108.764625                          NaN   \n",
       "3                     108.764625                          NaN   \n",
       "4                     108.764625                          NaN   \n",
       "...                          ...                          ...   \n",
       "3527                         NaN                          NaN   \n",
       "3528                         NaN                          NaN   \n",
       "3529                         NaN                          NaN   \n",
       "3530                         NaN                          NaN   \n",
       "3531                         NaN                          NaN   \n",
       "\n",
       "      TrialStart_EphysTime  FirstPoke_EphysTime  PokeIN_EphysTime  \\\n",
       "0              3261.216202                  NaN       3268.371202   \n",
       "1              3261.216202          3269.144003       3269.143702   \n",
       "2              3261.216202                  NaN       3269.580102   \n",
       "3              3261.216202                  NaN       3270.203302   \n",
       "4              3261.216202                  NaN       3270.828002   \n",
       "...                    ...                  ...               ...   \n",
       "3527           6155.686702                  NaN       6157.875802   \n",
       "3528           6155.686702                  NaN       6158.276102   \n",
       "3529           6155.686702                  NaN       6159.074902   \n",
       "3530           6155.686702                  NaN       6161.687702   \n",
       "3531           6155.686702                  NaN       6161.896702   \n",
       "\n",
       "      PokeOUT_EphysTime  \n",
       "0           3268.869302  \n",
       "1           3269.250102  \n",
       "2           3269.657702  \n",
       "3           3270.303602  \n",
       "4           3270.833602  \n",
       "...                 ...  \n",
       "3527        6158.035802  \n",
       "3528        6158.309202  \n",
       "3529        6159.076702  \n",
       "3530        6161.725302  \n",
       "3531                NaN  \n",
       "\n",
       "[3532 rows x 25 columns]"
      ]
     },
     "execution_count": 7,
     "metadata": {},
     "output_type": "execute_result"
    }
   ],
   "source": [
    "Poke_data_EPhys"
   ]
  },
  {
   "cell_type": "markdown",
   "id": "38b533e2",
   "metadata": {},
   "source": [
    "# Back camera"
   ]
  },
  {
   "cell_type": "code",
   "execution_count": 8,
   "id": "88573e5c",
   "metadata": {},
   "outputs": [
    {
     "name": "stdout",
     "output_type": "stream",
     "text": [
      "blue x should be at uptick\n",
      "red should be a downtick\n"
     ]
    },
    {
     "data": {
      "image/png": "[encoded data removed]",
      "text/plain": [
       "<Figure size 432x288 with 1 Axes>"
      ]
     },
     "metadata": {
      "needs_background": "light"
     },
     "output_type": "display_data"
    }
   ],
   "source": [
    "### BACK find camera triggers: \n",
    "\n",
    "Camera_trig_states = back_camera['Trigger State'].values\n",
    "\n",
    "where_ttl_changes = list(np.where(np.roll(Camera_trig_states,1)!=Camera_trig_states)[0])\n",
    "if where_ttl_changes[0] == 0:\n",
    "    where_ttl_changes = where_ttl_changes[1::]\n",
    "Poke1_camera_inds = np.array(where_ttl_changes[1::2])\n",
    "Trial_start_camera_inds= np.array(where_ttl_changes[0::2])\n",
    "\n",
    "## check this is correct:\n",
    "plt.plot(Poke1_camera_inds,np.ones(len(Poke1_camera_inds)),'x', color = 'red')\n",
    "plt.plot(Trial_start_camera_inds,np.zeros(len(Trial_start_camera_inds)),'x',color = 'blue')\n",
    "plt.plot(back_camera['Trigger State'].values, color = 'grey')\n",
    "plt.xlim([max(where_ttl_changes)-6000, max(where_ttl_changes)])\n",
    "\n",
    "\n",
    "print('blue x should be at uptick')\n",
    "print('red should be a downtick') \n",
    "\n"
   ]
  },
  {
   "cell_type": "code",
   "execution_count": 9,
   "id": "c30bfa38",
   "metadata": {
    "scrolled": true
   },
   "outputs": [
    {
     "data": {
      "text/plain": [
       "[<matplotlib.lines.Line2D at 0x1746b103490>]"
      ]
     },
     "execution_count": 9,
     "metadata": {},
     "output_type": "execute_result"
    },
    {
     "data": {
      "image/png": "[encoded data removed]",
      "text/plain": [
       "<Figure size 432x288 with 1 Axes>"
      ]
     },
     "metadata": {
      "needs_background": "light"
     },
     "output_type": "display_data"
    }
   ],
   "source": [
    "plt.plot(np.diff(Trial_start_camera_inds/60))\n",
    "plt.plot(np.diff(Poke_data_EPhys.Trial_Start.unique()))\n",
    "# plt.xlim([242, 260])"
   ]
  },
  {
   "cell_type": "code",
   "execution_count": 10,
   "id": "8bc9a3b0",
   "metadata": {
    "scrolled": false
   },
   "outputs": [
    {
     "data": {
      "text/plain": [
       "(-0.5, 0.5)"
      ]
     },
     "execution_count": 10,
     "metadata": {},
     "output_type": "execute_result"
    },
    {
     "data": {
      "image/png": "[encoded data removed]",
      "text/plain": [
       "<Figure size 432x288 with 1 Axes>"
      ]
     },
     "metadata": {
      "needs_background": "light"
     },
     "output_type": "display_data"
    }
   ],
   "source": [
    "plt.plot(np.diff(Trial_start_camera_inds/60)[0:-1] - np.diff(Poke_data_EPhys.Trial_Start.unique()))\n",
    "# plt.plot(np.diff(Trial_start_camera_inds/60) - np.diff(Poke_data_EPhys.Trial_Start.unique()))\n",
    "plt.ylim([-.5, 0.5])\n",
    "\n"
   ]
  },
  {
   "cell_type": "code",
   "execution_count": 11,
   "id": "82ed90e9",
   "metadata": {},
   "outputs": [
    {
     "name": "stdout",
     "output_type": "stream",
     "text": [
      "working\n",
      "test passed!\n"
     ]
    }
   ],
   "source": [
    "# perform fix: # puts a nan value where it detects ther is a missing trigger\n",
    "trial_start_bpod_ts = Poke_data_EPhys.Trial_Start.unique()\n",
    "fixed = test_timestamps_(trial_start_bpod_ts,Trial_start_camera_inds/60)\n",
    "\n",
    "fixed_Trial_start_camera_inds = (fixed*60)[0:len(trial_start_bpod_ts)]"
   ]
  },
  {
   "cell_type": "code",
   "execution_count": 12,
   "id": "9ed5f68e",
   "metadata": {},
   "outputs": [
    {
     "data": {
      "text/plain": [
       "[<matplotlib.lines.Line2D at 0x1746b1d31f0>]"
      ]
     },
     "execution_count": 12,
     "metadata": {},
     "output_type": "execute_result"
    },
    {
     "data": {
      "image/png": "[encoded data removed]",
      "text/plain": [
       "<Figure size 432x288 with 1 Axes>"
      ]
     },
     "metadata": {
      "needs_background": "light"
     },
     "output_type": "display_data"
    }
   ],
   "source": [
    "### run tests on fixed data \n",
    "\n",
    "plt.plot(np.diff(fixed_Trial_start_camera_inds/60), color = 'red')\n",
    "plt.plot(np.diff(Poke_data_EPhys.Trial_Start.unique()), color = 'green')"
   ]
  },
  {
   "cell_type": "code",
   "execution_count": 13,
   "id": "f51f0b8b",
   "metadata": {},
   "outputs": [
    {
     "data": {
      "text/plain": [
       "(-0.5, 0.5)"
      ]
     },
     "execution_count": 13,
     "metadata": {},
     "output_type": "execute_result"
    },
    {
     "data": {
      "image/png": "[encoded data removed]",
      "text/plain": [
       "<Figure size 432x288 with 1 Axes>"
      ]
     },
     "metadata": {
      "needs_background": "light"
     },
     "output_type": "display_data"
    }
   ],
   "source": [
    "plt.plot(np.diff(fixed_Trial_start_camera_inds/60) - np.diff(Poke_data_EPhys.Trial_Start.unique()), color = 'red')\n",
    "plt.ylim([-.5, 0.5])"
   ]
  },
  {
   "cell_type": "code",
   "execution_count": 14,
   "id": "974b8a97",
   "metadata": {},
   "outputs": [
    {
     "name": "stdout",
     "output_type": "stream",
     "text": [
      "start end diffs\n",
      "for ephys ts:      2895.9166666666665\n",
      "for behav ts:      2894.363\n",
      "ofset tot is:   1.5536666666668921\n"
     ]
    }
   ],
   "source": [
    "\n",
    "print('start end diffs')\n",
    "print('for ephys ts:      '+ str((fixed_Trial_start_camera_inds/60)[-1] - (fixed_Trial_start_camera_inds/60)[0]))\n",
    "print('for behav ts:      ' + str(trial_start_bpod_ts[-1] -  trial_start_bpod_ts[0])) \n",
    "\n",
    "count = 0\n",
    "for item in (np.diff(fixed_Trial_start_camera_inds/60) - np.diff(Poke_data_EPhys.Trial_Start.unique())):\n",
    "    if not np.isnan(item):\n",
    "        count = count + item \n",
    "print('ofset tot is:   ' + str(count))\n",
    "\n",
    "Fixed_back_cam_tstart_ts = fixed_Trial_start_camera_inds"
   ]
  },
  {
   "cell_type": "code",
   "execution_count": null,
   "id": "08d79816",
   "metadata": {},
   "outputs": [],
   "source": []
  },
  {
   "cell_type": "markdown",
   "id": "94dea3d0",
   "metadata": {},
   "source": [
    "# bottom"
   ]
  },
  {
   "cell_type": "code",
   "execution_count": 15,
   "id": "0579db19",
   "metadata": {},
   "outputs": [
    {
     "name": "stdout",
     "output_type": "stream",
     "text": [
      "blue x should be at uptick\n",
      "red should be a downtick\n"
     ]
    },
    {
     "data": {
      "image/png": "[encoded data removed]",
      "text/plain": [
       "<Figure size 432x288 with 1 Axes>"
      ]
     },
     "metadata": {
      "needs_background": "light"
     },
     "output_type": "display_data"
    }
   ],
   "source": [
    "### bottom find camera triggers: \n",
    "\n",
    "Camera_trig_states = bottom_camera['Trigger State'].values\n",
    "\n",
    "where_ttl_changes = list(np.where(np.roll(Camera_trig_states,1)!=Camera_trig_states)[0])\n",
    "if where_ttl_changes[0] == 0:\n",
    "    where_ttl_changes = where_ttl_changes[1::]\n",
    "Poke1_camera_inds = np.array(where_ttl_changes[1::2])\n",
    "Trial_start_camera_inds= np.array(where_ttl_changes[0::2])\n",
    "\n",
    "## check this is correct:\n",
    "plt.plot(Poke1_camera_inds,np.ones(len(Poke1_camera_inds)),'x', color = 'red')\n",
    "plt.plot(Trial_start_camera_inds,np.zeros(len(Trial_start_camera_inds)),'x',color = 'blue')\n",
    "plt.plot(back_camera['Trigger State'].values, color = 'grey')\n",
    "plt.xlim([max(where_ttl_changes)-5000, max(where_ttl_changes)])\n",
    "print('blue x should be at uptick')\n",
    "print('red should be a downtick') \n",
    "\n"
   ]
  },
  {
   "cell_type": "code",
   "execution_count": 16,
   "id": "85791bea",
   "metadata": {},
   "outputs": [
    {
     "data": {
      "text/plain": [
       "[<matplotlib.lines.Line2D at 0x1746b2ff580>]"
      ]
     },
     "execution_count": 16,
     "metadata": {},
     "output_type": "execute_result"
    },
    {
     "data": {
      "image/png": "[encoded data removed]",
      "text/plain": [
       "<Figure size 432x288 with 1 Axes>"
      ]
     },
     "metadata": {
      "needs_background": "light"
     },
     "output_type": "display_data"
    }
   ],
   "source": [
    "plt.plot(np.diff(Trial_start_camera_inds/60))\n",
    "plt.plot(np.diff(Poke_data_EPhys.Trial_Start.unique()))\n",
    "# plt.xlim([242, 260])"
   ]
  },
  {
   "cell_type": "code",
   "execution_count": 17,
   "id": "13cf1069",
   "metadata": {},
   "outputs": [
    {
     "data": {
      "text/plain": [
       "(-0.5, 0.5)"
      ]
     },
     "execution_count": 17,
     "metadata": {},
     "output_type": "execute_result"
    },
    {
     "data": {
      "image/png": "[encoded data removed]",
      "text/plain": [
       "<Figure size 432x288 with 1 Axes>"
      ]
     },
     "metadata": {
      "needs_background": "light"
     },
     "output_type": "display_data"
    }
   ],
   "source": [
    "# plt.plot(np.diff(Trial_start_camera_inds/60) - np.diff(Poke_data_EPhys.Trial_Start.unique()))\n",
    "plt.plot(np.diff(Trial_start_camera_inds/60)[0:-1] - np.diff(Poke_data_EPhys.Trial_Start.unique()))\n",
    "plt.ylim([-.5, 0.5])\n"
   ]
  },
  {
   "cell_type": "code",
   "execution_count": 18,
   "id": "9d9d7d95",
   "metadata": {
    "scrolled": true
   },
   "outputs": [
    {
     "name": "stdout",
     "output_type": "stream",
     "text": [
      "working\n",
      "test passed!\n"
     ]
    }
   ],
   "source": [
    "# perform fix: # puts a nan value where it detects ther is a missing trigger\n",
    "trial_start_bpod_ts = Poke_data_EPhys.Trial_Start.unique()\n",
    "fixed = test_timestamps_(trial_start_bpod_ts,Trial_start_camera_inds/60)\n",
    "\n",
    "fixed_Trial_start_camera_inds = (fixed*60)[0:len(trial_start_bpod_ts)]"
   ]
  },
  {
   "cell_type": "code",
   "execution_count": 19,
   "id": "18a0a259",
   "metadata": {
    "scrolled": true
   },
   "outputs": [
    {
     "data": {
      "text/plain": [
       "[<matplotlib.lines.Line2D at 0x1746bf93d60>]"
      ]
     },
     "execution_count": 19,
     "metadata": {},
     "output_type": "execute_result"
    },
    {
     "data": {
      "image/png": "[encoded data removed]",
      "text/plain": [
       "<Figure size 432x288 with 1 Axes>"
      ]
     },
     "metadata": {
      "needs_background": "light"
     },
     "output_type": "display_data"
    }
   ],
   "source": [
    "### run tests on fixed data \n",
    "\n",
    "plt.plot(np.diff(fixed_Trial_start_camera_inds/60), color = 'red')\n",
    "plt.plot(np.diff(Poke_data_EPhys.Trial_Start.unique()), color = 'green')"
   ]
  },
  {
   "cell_type": "code",
   "execution_count": 20,
   "id": "6ded919b",
   "metadata": {
    "scrolled": true
   },
   "outputs": [
    {
     "data": {
      "text/plain": [
       "(-0.5, 0.5)"
      ]
     },
     "execution_count": 20,
     "metadata": {},
     "output_type": "execute_result"
    },
    {
     "data": {
      "image/png": "[encoded data removed]",
      "text/plain": [
       "<Figure size 432x288 with 1 Axes>"
      ]
     },
     "metadata": {
      "needs_background": "light"
     },
     "output_type": "display_data"
    }
   ],
   "source": [
    "plt.plot(np.diff(fixed_Trial_start_camera_inds/60) - np.diff(Poke_data_EPhys.Trial_Start.unique()), color = 'red')\n",
    "plt.ylim([-.5, 0.5])"
   ]
  },
  {
   "cell_type": "code",
   "execution_count": 21,
   "id": "44c787d1",
   "metadata": {},
   "outputs": [
    {
     "name": "stdout",
     "output_type": "stream",
     "text": [
      "start end diffs\n",
      "for ephys ts:      2895.916666666667\n",
      "for behav ts:      2894.363\n",
      "ofset tot is:   1.5536666666669205\n"
     ]
    }
   ],
   "source": [
    "\n",
    "print('start end diffs')\n",
    "print('for ephys ts:      '+ str((fixed_Trial_start_camera_inds/60)[-1] - (fixed_Trial_start_camera_inds/60)[0]))\n",
    "print('for behav ts:      ' + str(trial_start_bpod_ts[-1] -  trial_start_bpod_ts[0])) \n",
    "\n",
    "count = 0\n",
    "for item in (np.diff(fixed_Trial_start_camera_inds/60) - np.diff(Poke_data_EPhys.Trial_Start.unique())):\n",
    "    if not np.isnan(item):\n",
    "        count = count + item \n",
    "print('ofset tot is:   ' + str(count))\n",
    "\n",
    "Fixed_bottom_cam_tstart_ts = fixed_Trial_start_camera_inds\n"
   ]
  },
  {
   "cell_type": "code",
   "execution_count": null,
   "id": "2545185b",
   "metadata": {},
   "outputs": [],
   "source": []
  },
  {
   "cell_type": "markdown",
   "id": "4005ba93",
   "metadata": {},
   "source": [
    "# Side"
   ]
  },
  {
   "cell_type": "code",
   "execution_count": 22,
   "id": "774fd97c",
   "metadata": {},
   "outputs": [
    {
     "name": "stdout",
     "output_type": "stream",
     "text": [
      "blue x should be at uptick\n",
      "red should be a downtick\n"
     ]
    },
    {
     "data": {
      "image/png": "[encoded data removed]",
      "text/plain": [
       "<Figure size 432x288 with 1 Axes>"
      ]
     },
     "metadata": {
      "needs_background": "light"
     },
     "output_type": "display_data"
    }
   ],
   "source": [
    "## side find camera triggers: \n",
    "\n",
    "Camera_trig_states = side_camera['Trigger State'].values\n",
    "\n",
    "where_ttl_changes = list(np.where(np.roll(Camera_trig_states,1)!=Camera_trig_states)[0])\n",
    "if where_ttl_changes[0] == 0:\n",
    "    where_ttl_changes = where_ttl_changes[1::]\n",
    "Poke1_camera_inds = np.array(where_ttl_changes[1::2])\n",
    "Trial_start_camera_inds= np.array(where_ttl_changes[0::2])\n",
    "\n",
    "## check this is correct:\n",
    "plt.plot(Poke1_camera_inds,np.ones(len(Poke1_camera_inds)),'x', color = 'red')\n",
    "plt.plot(Trial_start_camera_inds,np.zeros(len(Trial_start_camera_inds)),'x',color = 'blue')\n",
    "plt.plot(back_camera['Trigger State'].values, color = 'grey')\n",
    "plt.xlim([max(where_ttl_changes)-5000, max(where_ttl_changes)])\n",
    "print('blue x should be at uptick')\n",
    "print('red should be a downtick') \n",
    "\n"
   ]
  },
  {
   "cell_type": "code",
   "execution_count": 23,
   "id": "245dc10b",
   "metadata": {},
   "outputs": [
    {
     "data": {
      "text/plain": [
       "[<matplotlib.lines.Line2D at 0x1746c061880>]"
      ]
     },
     "execution_count": 23,
     "metadata": {},
     "output_type": "execute_result"
    },
    {
     "data": {
      "image/png": "[encoded data removed]",
      "text/plain": [
       "<Figure size 432x288 with 1 Axes>"
      ]
     },
     "metadata": {
      "needs_background": "light"
     },
     "output_type": "display_data"
    }
   ],
   "source": [
    "plt.plot(np.diff(Trial_start_camera_inds/60))\n",
    "plt.plot(np.diff(Poke_data_EPhys.Trial_Start.unique()))\n",
    "# plt.xlim([242, 260])"
   ]
  },
  {
   "cell_type": "code",
   "execution_count": 24,
   "id": "1062b77a",
   "metadata": {},
   "outputs": [
    {
     "data": {
      "text/plain": [
       "(-0.5, 0.5)"
      ]
     },
     "execution_count": 24,
     "metadata": {},
     "output_type": "execute_result"
    },
    {
     "data": {
      "image/png": "[encoded data removed]",
      "text/plain": [
       "<Figure size 432x288 with 1 Axes>"
      ]
     },
     "metadata": {
      "needs_background": "light"
     },
     "output_type": "display_data"
    }
   ],
   "source": [
    "# plt.plot(np.diff(Trial_start_camera_inds/60) - np.diff(Poke_data_EPhys.Trial_Start.unique())[0:-3])\n",
    "plt.plot(np.diff(Trial_start_camera_inds/60)[0:-1] - np.diff(Poke_data_EPhys.Trial_Start.unique()))\n",
    "plt.ylim([-.5, 0.5])\n"
   ]
  },
  {
   "cell_type": "code",
   "execution_count": 25,
   "id": "01e6c354",
   "metadata": {
    "scrolled": true
   },
   "outputs": [
    {
     "name": "stdout",
     "output_type": "stream",
     "text": [
      "working\n",
      "test passed!\n"
     ]
    }
   ],
   "source": [
    "# perform fix: # puts a nan value where it detects ther is a missing trigger\n",
    "trial_start_bpod_ts = Poke_data_EPhys.Trial_Start.unique()\n",
    "fixed = test_timestamps_(trial_start_bpod_ts,Trial_start_camera_inds/60)\n",
    "\n",
    "fixed_Trial_start_camera_inds = (fixed*60)[0:len(trial_start_bpod_ts)]"
   ]
  },
  {
   "cell_type": "code",
   "execution_count": 26,
   "id": "0c9bcb0f",
   "metadata": {
    "scrolled": true
   },
   "outputs": [
    {
     "data": {
      "text/plain": [
       "[<matplotlib.lines.Line2D at 0x1746b2562e0>]"
      ]
     },
     "execution_count": 26,
     "metadata": {},
     "output_type": "execute_result"
    },
    {
     "data": {
      "image/png": "[encoded data removed]",
      "text/plain": [
       "<Figure size 432x288 with 1 Axes>"
      ]
     },
     "metadata": {
      "needs_background": "light"
     },
     "output_type": "display_data"
    }
   ],
   "source": [
    "### run tests on fixed data \n",
    "\n",
    "plt.plot(np.diff(fixed_Trial_start_camera_inds/60), color = 'red')\n",
    "plt.plot(np.diff(Poke_data_EPhys.Trial_Start.unique()), color = 'green')"
   ]
  },
  {
   "cell_type": "code",
   "execution_count": 27,
   "id": "600e1156",
   "metadata": {
    "scrolled": true
   },
   "outputs": [
    {
     "data": {
      "text/plain": [
       "(-0.5, 0.5)"
      ]
     },
     "execution_count": 27,
     "metadata": {},
     "output_type": "execute_result"
    },
    {
     "data": {
      "image/png": "[encoded data removed]",
      "text/plain": [
       "<Figure size 432x288 with 1 Axes>"
      ]
     },
     "metadata": {
      "needs_background": "light"
     },
     "output_type": "display_data"
    }
   ],
   "source": [
    "plt.plot(np.diff(fixed_Trial_start_camera_inds/60) - np.diff(Poke_data_EPhys.Trial_Start.unique()), color = 'red')\n",
    "plt.ylim([-.5, 0.5])"
   ]
  },
  {
   "cell_type": "code",
   "execution_count": 28,
   "id": "a285df2a",
   "metadata": {},
   "outputs": [
    {
     "name": "stdout",
     "output_type": "stream",
     "text": [
      "start end diffs\n",
      "for ephys ts:      2895.9666666666662\n",
      "for behav ts:      2894.363\n",
      "ofset tot is:   1.6036666666666193\n"
     ]
    }
   ],
   "source": [
    "\n",
    "print('start end diffs')\n",
    "print('for ephys ts:      '+ str((fixed_Trial_start_camera_inds/60)[-1] - (fixed_Trial_start_camera_inds/60)[0]))\n",
    "print('for behav ts:      ' + str(trial_start_bpod_ts[-1] -  trial_start_bpod_ts[0])) \n",
    "\n",
    "count = 0\n",
    "for item in (np.diff(fixed_Trial_start_camera_inds/60) - np.diff(Poke_data_EPhys.Trial_Start.unique())):\n",
    "    if not np.isnan(item):\n",
    "        count = count + item \n",
    "print('ofset tot is:   ' + str(count))\n",
    "\n",
    "Fixed_side_cam_tstart_ts = fixed_Trial_start_camera_inds\n"
   ]
  },
  {
   "cell_type": "code",
   "execution_count": null,
   "id": "ccbc71be",
   "metadata": {},
   "outputs": [],
   "source": []
  },
  {
   "cell_type": "code",
   "execution_count": null,
   "id": "05da3675",
   "metadata": {},
   "outputs": [],
   "source": []
  },
  {
   "cell_type": "code",
   "execution_count": 29,
   "id": "de64759e",
   "metadata": {},
   "outputs": [],
   "source": [
    "def align_to_start_ts(trials,fixed_cam_ts):\n",
    "    Camera_timestamps = []\n",
    "    Camera_time = []\n",
    "    for trial in trials :\n",
    "        Camera_timestamps.append(fixed_cam_ts[trial-1])\n",
    "        Camera_time.append(fixed_cam_ts[trial-1]/60)\n",
    "    return Camera_timestamps,Camera_time\n",
    "\n",
    "## alignment: \n",
    "def align_allpokes_to_cam_trialstart(Trials,trial_start_bpod_ts,PokeIn_Time,Fixed_back_cam_tstart_ts):\n",
    "\n",
    "    cam_poke_times = []\n",
    "    for index,trial in enumerate(Trials):\n",
    "        bpod_trial_start = trial_start_bpod_ts[trial-1]\n",
    "        poke_time = PokeIn_Time[index]\n",
    "        diff = poke_time - bpod_trial_start\n",
    "        cam_poke_times = cam_poke_times + [(Fixed_back_cam_tstart_ts[trial-1]/60) + diff]\n",
    "\n",
    "    return cam_poke_times"
   ]
  },
  {
   "cell_type": "code",
   "execution_count": 30,
   "id": "16d0885b",
   "metadata": {},
   "outputs": [],
   "source": [
    "### align fixed and checked timestamps:\n",
    "\n",
    "bottom_aligned_ts,bottom_aligned_time = align_to_start_ts(Poke_data_EPhys.Trial_id.values,Fixed_bottom_cam_tstart_ts)\n",
    "side_aligned_ts,side_aligned_time = align_to_start_ts(Poke_data_EPhys.Trial_id.values,Fixed_side_cam_tstart_ts)\n",
    "back_aligned_ts,back_aligned_time = align_to_start_ts(Poke_data_EPhys.Trial_id.values,Fixed_back_cam_tstart_ts)\n",
    "\n",
    "bottom_pokein_times = align_allpokes_to_cam_trialstart(Poke_data_EPhys.Trial_id.values, Poke_data_EPhys.Trial_Start.unique(), Poke_data_EPhys.PokeIn_Time.values,Fixed_bottom_cam_tstart_ts)\n",
    "side_pokein_times = align_allpokes_to_cam_trialstart(Poke_data_EPhys.Trial_id.values, Poke_data_EPhys.Trial_Start.unique(), Poke_data_EPhys.PokeIn_Time.values,Fixed_side_cam_tstart_ts)\n",
    "back_pokein_times = align_allpokes_to_cam_trialstart(Poke_data_EPhys.Trial_id.values, Poke_data_EPhys.Trial_Start.unique(), Poke_data_EPhys.PokeIn_Time.values,Fixed_back_cam_tstart_ts)\n",
    "\n",
    "bottom_pokeout_times = align_allpokes_to_cam_trialstart(Poke_data_EPhys.Trial_id.values, Poke_data_EPhys.Trial_Start.unique(), Poke_data_EPhys.PokeOut_Time.values,Fixed_bottom_cam_tstart_ts)\n",
    "side_pokeout_times = align_allpokes_to_cam_trialstart(Poke_data_EPhys.Trial_id.values, Poke_data_EPhys.Trial_Start.unique(), Poke_data_EPhys.PokeOut_Time.values,Fixed_side_cam_tstart_ts)\n",
    "back_pokeout_times = align_allpokes_to_cam_trialstart(Poke_data_EPhys.Trial_id.values, Poke_data_EPhys.Trial_Start.unique(), Poke_data_EPhys.PokeOut_Time.values,Fixed_back_cam_tstart_ts)\n"
   ]
  },
  {
   "cell_type": "code",
   "execution_count": 31,
   "id": "b94c3e23",
   "metadata": {},
   "outputs": [
    {
     "data": {
      "text/html": [
       "<div>\n",
       "<style scoped>\n",
       "    .dataframe tbody tr th:only-of-type {\n",
       "        vertical-align: middle;\n",
       "    }\n",
       "\n",
       "    .dataframe tbody tr th {\n",
       "        vertical-align: top;\n",
       "    }\n",
       "\n",
       "    .dataframe thead th {\n",
       "        text-align: right;\n",
       "    }\n",
       "</style>\n",
       "<table border=\"1\" class=\"dataframe\">\n",
       "  <thead>\n",
       "    <tr style=\"text-align: right;\">\n",
       "      <th></th>\n",
       "      <th>Unnamed: 0</th>\n",
       "      <th>Unnamed: 0.1</th>\n",
       "      <th>Trial_id</th>\n",
       "      <th>Trial_Start</th>\n",
       "      <th>Port</th>\n",
       "      <th>PokeIn_Time</th>\n",
       "      <th>PokeOut_Time</th>\n",
       "      <th>Reward_Times</th>\n",
       "      <th>Trial_End</th>\n",
       "      <th>Port 2,3,4,5 LED intensities</th>\n",
       "      <th>...</th>\n",
       "      <th>BOTTOM_Trial_Start_Camera_Time</th>\n",
       "      <th>BOTTOM_Trial_End_Camera_Time</th>\n",
       "      <th>BOTTOM_First_poke_Camera_Time</th>\n",
       "      <th>SIDE_Trial_Start_Camera_Time</th>\n",
       "      <th>SIDE_Trial_End_Camera_Time</th>\n",
       "      <th>SIDE_First_poke_Camera_Time</th>\n",
       "      <th>TrialStart_EphysTime</th>\n",
       "      <th>FirstPoke_EphysTime</th>\n",
       "      <th>PokeIN_EphysTime</th>\n",
       "      <th>PokeOUT_EphysTime</th>\n",
       "    </tr>\n",
       "  </thead>\n",
       "  <tbody>\n",
       "    <tr>\n",
       "      <th>0</th>\n",
       "      <td>0</td>\n",
       "      <td>0</td>\n",
       "      <td>1</td>\n",
       "      <td>20.3179</td>\n",
       "      <td>3</td>\n",
       "      <td>27.4729</td>\n",
       "      <td>27.9710</td>\n",
       "      <td>NaN</td>\n",
       "      <td>32.8564</td>\n",
       "      <td>[0.0, 0.0, 0.0, 0.0]</td>\n",
       "      <td>...</td>\n",
       "      <td>96.221000</td>\n",
       "      <td>108.765</td>\n",
       "      <td>NaN</td>\n",
       "      <td>96.23725</td>\n",
       "      <td>108.764625</td>\n",
       "      <td>NaN</td>\n",
       "      <td>3261.216202</td>\n",
       "      <td>NaN</td>\n",
       "      <td>3268.371202</td>\n",
       "      <td>3268.869302</td>\n",
       "    </tr>\n",
       "    <tr>\n",
       "      <th>1</th>\n",
       "      <td>1</td>\n",
       "      <td>1</td>\n",
       "      <td>1</td>\n",
       "      <td>20.3179</td>\n",
       "      <td>2</td>\n",
       "      <td>28.2454</td>\n",
       "      <td>28.3518</td>\n",
       "      <td>NaN</td>\n",
       "      <td>32.8564</td>\n",
       "      <td>[0.0, 0.0, 0.0, 0.0]</td>\n",
       "      <td>...</td>\n",
       "      <td>96.221000</td>\n",
       "      <td>108.765</td>\n",
       "      <td>104.1505</td>\n",
       "      <td>96.23725</td>\n",
       "      <td>108.764625</td>\n",
       "      <td>104.166875</td>\n",
       "      <td>3261.216202</td>\n",
       "      <td>3269.144003</td>\n",
       "      <td>3269.143702</td>\n",
       "      <td>3269.250102</td>\n",
       "    </tr>\n",
       "    <tr>\n",
       "      <th>2</th>\n",
       "      <td>2</td>\n",
       "      <td>2</td>\n",
       "      <td>1</td>\n",
       "      <td>20.3179</td>\n",
       "      <td>1</td>\n",
       "      <td>28.6818</td>\n",
       "      <td>28.7594</td>\n",
       "      <td>NaN</td>\n",
       "      <td>32.8564</td>\n",
       "      <td>[0.0, 0.0, 0.0, 0.0]</td>\n",
       "      <td>...</td>\n",
       "      <td>96.221000</td>\n",
       "      <td>108.765</td>\n",
       "      <td>NaN</td>\n",
       "      <td>96.23725</td>\n",
       "      <td>108.764625</td>\n",
       "      <td>NaN</td>\n",
       "      <td>3261.216202</td>\n",
       "      <td>NaN</td>\n",
       "      <td>3269.580102</td>\n",
       "      <td>3269.657702</td>\n",
       "    </tr>\n",
       "    <tr>\n",
       "      <th>3</th>\n",
       "      <td>3</td>\n",
       "      <td>3</td>\n",
       "      <td>1</td>\n",
       "      <td>20.3179</td>\n",
       "      <td>1</td>\n",
       "      <td>29.3050</td>\n",
       "      <td>29.4053</td>\n",
       "      <td>NaN</td>\n",
       "      <td>32.8564</td>\n",
       "      <td>[0.0, 0.0, 0.0, 0.0]</td>\n",
       "      <td>...</td>\n",
       "      <td>96.221000</td>\n",
       "      <td>108.765</td>\n",
       "      <td>NaN</td>\n",
       "      <td>96.23725</td>\n",
       "      <td>108.764625</td>\n",
       "      <td>NaN</td>\n",
       "      <td>3261.216202</td>\n",
       "      <td>NaN</td>\n",
       "      <td>3270.203302</td>\n",
       "      <td>3270.303602</td>\n",
       "    </tr>\n",
       "    <tr>\n",
       "      <th>4</th>\n",
       "      <td>4</td>\n",
       "      <td>4</td>\n",
       "      <td>1</td>\n",
       "      <td>20.3179</td>\n",
       "      <td>6</td>\n",
       "      <td>29.9297</td>\n",
       "      <td>29.9353</td>\n",
       "      <td>NaN</td>\n",
       "      <td>32.8564</td>\n",
       "      <td>[0.0, 0.0, 0.0, 0.0]</td>\n",
       "      <td>...</td>\n",
       "      <td>96.221000</td>\n",
       "      <td>108.765</td>\n",
       "      <td>NaN</td>\n",
       "      <td>96.23725</td>\n",
       "      <td>108.764625</td>\n",
       "      <td>NaN</td>\n",
       "      <td>3261.216202</td>\n",
       "      <td>NaN</td>\n",
       "      <td>3270.828002</td>\n",
       "      <td>3270.833602</td>\n",
       "    </tr>\n",
       "    <tr>\n",
       "      <th>...</th>\n",
       "      <td>...</td>\n",
       "      <td>...</td>\n",
       "      <td>...</td>\n",
       "      <td>...</td>\n",
       "      <td>...</td>\n",
       "      <td>...</td>\n",
       "      <td>...</td>\n",
       "      <td>...</td>\n",
       "      <td>...</td>\n",
       "      <td>...</td>\n",
       "      <td>...</td>\n",
       "      <td>...</td>\n",
       "      <td>...</td>\n",
       "      <td>...</td>\n",
       "      <td>...</td>\n",
       "      <td>...</td>\n",
       "      <td>...</td>\n",
       "      <td>...</td>\n",
       "      <td>...</td>\n",
       "      <td>...</td>\n",
       "      <td>...</td>\n",
       "    </tr>\n",
       "    <tr>\n",
       "      <th>3527</th>\n",
       "      <td>3527</td>\n",
       "      <td>3527</td>\n",
       "      <td>494</td>\n",
       "      <td>2914.6809</td>\n",
       "      <td>1</td>\n",
       "      <td>2916.8700</td>\n",
       "      <td>2917.0300</td>\n",
       "      <td>NaN</td>\n",
       "      <td>2921.3104</td>\n",
       "      <td>[0.0, 0.0, 0.0, 0.0]</td>\n",
       "      <td>...</td>\n",
       "      <td>2990.855125</td>\n",
       "      <td>NaN</td>\n",
       "      <td>NaN</td>\n",
       "      <td>2990.85250</td>\n",
       "      <td>NaN</td>\n",
       "      <td>NaN</td>\n",
       "      <td>6155.686702</td>\n",
       "      <td>NaN</td>\n",
       "      <td>6157.875802</td>\n",
       "      <td>6158.035802</td>\n",
       "    </tr>\n",
       "    <tr>\n",
       "      <th>3528</th>\n",
       "      <td>3528</td>\n",
       "      <td>3528</td>\n",
       "      <td>494</td>\n",
       "      <td>2914.6809</td>\n",
       "      <td>6</td>\n",
       "      <td>2917.2703</td>\n",
       "      <td>2917.3034</td>\n",
       "      <td>NaN</td>\n",
       "      <td>2921.3104</td>\n",
       "      <td>[0.0, 0.0, 0.0, 0.0]</td>\n",
       "      <td>...</td>\n",
       "      <td>2990.855125</td>\n",
       "      <td>NaN</td>\n",
       "      <td>NaN</td>\n",
       "      <td>2990.85250</td>\n",
       "      <td>NaN</td>\n",
       "      <td>NaN</td>\n",
       "      <td>6155.686702</td>\n",
       "      <td>NaN</td>\n",
       "      <td>6158.276102</td>\n",
       "      <td>6158.309202</td>\n",
       "    </tr>\n",
       "    <tr>\n",
       "      <th>3529</th>\n",
       "      <td>3529</td>\n",
       "      <td>3529</td>\n",
       "      <td>494</td>\n",
       "      <td>2914.6809</td>\n",
       "      <td>7</td>\n",
       "      <td>2918.0691</td>\n",
       "      <td>2918.0709</td>\n",
       "      <td>NaN</td>\n",
       "      <td>2921.3104</td>\n",
       "      <td>[0.0, 0.0, 0.0, 0.0]</td>\n",
       "      <td>...</td>\n",
       "      <td>2990.855125</td>\n",
       "      <td>NaN</td>\n",
       "      <td>NaN</td>\n",
       "      <td>2990.85250</td>\n",
       "      <td>NaN</td>\n",
       "      <td>NaN</td>\n",
       "      <td>6155.686702</td>\n",
       "      <td>NaN</td>\n",
       "      <td>6159.074902</td>\n",
       "      <td>6159.076702</td>\n",
       "    </tr>\n",
       "    <tr>\n",
       "      <th>3530</th>\n",
       "      <td>3530</td>\n",
       "      <td>3530</td>\n",
       "      <td>494</td>\n",
       "      <td>2914.6809</td>\n",
       "      <td>3</td>\n",
       "      <td>2920.6819</td>\n",
       "      <td>2920.7195</td>\n",
       "      <td>NaN</td>\n",
       "      <td>2921.3104</td>\n",
       "      <td>[0.0, 0.0, 0.0, 0.0]</td>\n",
       "      <td>...</td>\n",
       "      <td>2990.855125</td>\n",
       "      <td>NaN</td>\n",
       "      <td>NaN</td>\n",
       "      <td>2990.85250</td>\n",
       "      <td>NaN</td>\n",
       "      <td>NaN</td>\n",
       "      <td>6155.686702</td>\n",
       "      <td>NaN</td>\n",
       "      <td>6161.687702</td>\n",
       "      <td>6161.725302</td>\n",
       "    </tr>\n",
       "    <tr>\n",
       "      <th>3531</th>\n",
       "      <td>3531</td>\n",
       "      <td>3531</td>\n",
       "      <td>494</td>\n",
       "      <td>2914.6809</td>\n",
       "      <td>7</td>\n",
       "      <td>2920.8909</td>\n",
       "      <td>NaN</td>\n",
       "      <td>2920.8909</td>\n",
       "      <td>2921.3104</td>\n",
       "      <td>[0.0, 0.0, 0.0, 0.0]</td>\n",
       "      <td>...</td>\n",
       "      <td>2990.855125</td>\n",
       "      <td>NaN</td>\n",
       "      <td>NaN</td>\n",
       "      <td>2990.85250</td>\n",
       "      <td>NaN</td>\n",
       "      <td>NaN</td>\n",
       "      <td>6155.686702</td>\n",
       "      <td>NaN</td>\n",
       "      <td>6161.896702</td>\n",
       "      <td>NaN</td>\n",
       "    </tr>\n",
       "  </tbody>\n",
       "</table>\n",
       "<p>3532 rows × 25 columns</p>\n",
       "</div>"
      ],
      "text/plain": [
       "      Unnamed: 0  Unnamed: 0.1  Trial_id  Trial_Start  Port  PokeIn_Time  \\\n",
       "0              0             0         1      20.3179     3      27.4729   \n",
       "1              1             1         1      20.3179     2      28.2454   \n",
       "2              2             2         1      20.3179     1      28.6818   \n",
       "3              3             3         1      20.3179     1      29.3050   \n",
       "4              4             4         1      20.3179     6      29.9297   \n",
       "...          ...           ...       ...          ...   ...          ...   \n",
       "3527        3527          3527       494    2914.6809     1    2916.8700   \n",
       "3528        3528          3528       494    2914.6809     6    2917.2703   \n",
       "3529        3529          3529       494    2914.6809     7    2918.0691   \n",
       "3530        3530          3530       494    2914.6809     3    2920.6819   \n",
       "3531        3531          3531       494    2914.6809     7    2920.8909   \n",
       "\n",
       "      PokeOut_Time  Reward_Times  Trial_End Port 2,3,4,5 LED intensities  ...  \\\n",
       "0          27.9710           NaN    32.8564         [0.0, 0.0, 0.0, 0.0]  ...   \n",
       "1          28.3518           NaN    32.8564         [0.0, 0.0, 0.0, 0.0]  ...   \n",
       "2          28.7594           NaN    32.8564         [0.0, 0.0, 0.0, 0.0]  ...   \n",
       "3          29.4053           NaN    32.8564         [0.0, 0.0, 0.0, 0.0]  ...   \n",
       "4          29.9353           NaN    32.8564         [0.0, 0.0, 0.0, 0.0]  ...   \n",
       "...            ...           ...        ...                          ...  ...   \n",
       "3527     2917.0300           NaN  2921.3104         [0.0, 0.0, 0.0, 0.0]  ...   \n",
       "3528     2917.3034           NaN  2921.3104         [0.0, 0.0, 0.0, 0.0]  ...   \n",
       "3529     2918.0709           NaN  2921.3104         [0.0, 0.0, 0.0, 0.0]  ...   \n",
       "3530     2920.7195           NaN  2921.3104         [0.0, 0.0, 0.0, 0.0]  ...   \n",
       "3531           NaN     2920.8909  2921.3104         [0.0, 0.0, 0.0, 0.0]  ...   \n",
       "\n",
       "     BOTTOM_Trial_Start_Camera_Time  BOTTOM_Trial_End_Camera_Time  \\\n",
       "0                         96.221000                       108.765   \n",
       "1                         96.221000                       108.765   \n",
       "2                         96.221000                       108.765   \n",
       "3                         96.221000                       108.765   \n",
       "4                         96.221000                       108.765   \n",
       "...                             ...                           ...   \n",
       "3527                    2990.855125                           NaN   \n",
       "3528                    2990.855125                           NaN   \n",
       "3529                    2990.855125                           NaN   \n",
       "3530                    2990.855125                           NaN   \n",
       "3531                    2990.855125                           NaN   \n",
       "\n",
       "      BOTTOM_First_poke_Camera_Time  SIDE_Trial_Start_Camera_Time  \\\n",
       "0                               NaN                      96.23725   \n",
       "1                          104.1505                      96.23725   \n",
       "2                               NaN                      96.23725   \n",
       "3                               NaN                      96.23725   \n",
       "4                               NaN                      96.23725   \n",
       "...                             ...                           ...   \n",
       "3527                            NaN                    2990.85250   \n",
       "3528                            NaN                    2990.85250   \n",
       "3529                            NaN                    2990.85250   \n",
       "3530                            NaN                    2990.85250   \n",
       "3531                            NaN                    2990.85250   \n",
       "\n",
       "      SIDE_Trial_End_Camera_Time  SIDE_First_poke_Camera_Time  \\\n",
       "0                     108.764625                          NaN   \n",
       "1                     108.764625                   104.166875   \n",
       "2                     108.764625                          NaN   \n",
       "3                     108.764625                          NaN   \n",
       "4                     108.764625                          NaN   \n",
       "...                          ...                          ...   \n",
       "3527                         NaN                          NaN   \n",
       "3528                         NaN                          NaN   \n",
       "3529                         NaN                          NaN   \n",
       "3530                         NaN                          NaN   \n",
       "3531                         NaN                          NaN   \n",
       "\n",
       "      TrialStart_EphysTime  FirstPoke_EphysTime  PokeIN_EphysTime  \\\n",
       "0              3261.216202                  NaN       3268.371202   \n",
       "1              3261.216202          3269.144003       3269.143702   \n",
       "2              3261.216202                  NaN       3269.580102   \n",
       "3              3261.216202                  NaN       3270.203302   \n",
       "4              3261.216202                  NaN       3270.828002   \n",
       "...                    ...                  ...               ...   \n",
       "3527           6155.686702                  NaN       6157.875802   \n",
       "3528           6155.686702                  NaN       6158.276102   \n",
       "3529           6155.686702                  NaN       6159.074902   \n",
       "3530           6155.686702                  NaN       6161.687702   \n",
       "3531           6155.686702                  NaN       6161.896702   \n",
       "\n",
       "      PokeOUT_EphysTime  \n",
       "0           3268.869302  \n",
       "1           3269.250102  \n",
       "2           3269.657702  \n",
       "3           3270.303602  \n",
       "4           3270.833602  \n",
       "...                 ...  \n",
       "3527        6158.035802  \n",
       "3528        6158.309202  \n",
       "3529        6159.076702  \n",
       "3530        6161.725302  \n",
       "3531                NaN  \n",
       "\n",
       "[3532 rows x 25 columns]"
      ]
     },
     "execution_count": 31,
     "metadata": {},
     "output_type": "execute_result"
    }
   ],
   "source": [
    "Poke_data_EPhys"
   ]
  },
  {
   "cell_type": "code",
   "execution_count": null,
   "id": "bea7a621",
   "metadata": {},
   "outputs": [],
   "source": []
  },
  {
   "cell_type": "code",
   "execution_count": 32,
   "id": "09273f51",
   "metadata": {},
   "outputs": [],
   "source": [
    "# ### if no camera data:\n",
    "\n",
    "# back_aligned_time =  ['Cameras Corrupted  no video data'] * len(Poke_data_EPhys.Trial_id.values)\n",
    "# back_pokein_times = ['Cameras Corrupted  no video data'] * len(Poke_data_EPhys.Trial_id.values)\n",
    "# back_pokeout_times = ['Cameras Corrupted  no video data'] * len(Poke_data_EPhys.Trial_id.values)\n",
    "# back_aligned_ts = ['Cameras Corrupted  no video data'] * len(Poke_data_EPhys.Trial_id.values)\n",
    "\n",
    "# side_aligned_time = ['Cameras Corrupted  no video data'] * len(Poke_data_EPhys.Trial_id.values)\n",
    "# side_pokein_times = ['Cameras Corrupted  no video data'] * len(Poke_data_EPhys.Trial_id.values)\n",
    "# side_pokeout_times = ['Cameras Corrupted  no video data'] * len(Poke_data_EPhys.Trial_id.values)\n",
    "# side_aligned_ts = ['Cameras Corrupted  no video data'] * len(Poke_data_EPhys.Trial_id.values)\n",
    "# bottom_aligned_time = ['Cameras Corrupted  no video data'] * len(Poke_data_EPhys.Trial_id.values)\n",
    "# bottom_pokein_times = ['Cameras Corrupted  no video data'] * len(Poke_data_EPhys.Trial_id.values)\n",
    "# bottom_pokeout_times = ['Cameras Corrupted  no video data'] * len(Poke_data_EPhys.Trial_id.values)\n",
    "# bottom_aligned_ts = ['Cameras Corrupted  no video data'] * len(Poke_data_EPhys.Trial_id.values)"
   ]
  },
  {
   "cell_type": "code",
   "execution_count": 33,
   "id": "d581a038",
   "metadata": {},
   "outputs": [],
   "source": [
    "### make a new dataframe:\n",
    "\n",
    "new_PortIn_df = pd.DataFrame(\n",
    "    {'Trial_id' : Poke_data_EPhys.Trial_id.values,\n",
    "     'Trial_Start' : Poke_data_EPhys.Trial_Start.values,\n",
    "     'Port': Poke_data_EPhys.Port.values,\n",
    "     'PokeIn_Time': Poke_data_EPhys.PokeIn_Time.values,\n",
    "     'PokeOut_Time': Poke_data_EPhys.PokeOut_Time.values,\n",
    "     'Reward_Times': Poke_data_EPhys.Reward_Times.values,\n",
    "     'Trial_End' : Poke_data_EPhys.Trial_End.values,\n",
    "     'Port_2-3-4-5_LED_intensities': Poke_data_EPhys['Port 2,3,4,5 LED intensities'].values,\n",
    "     'Port_1-2-3-4_RewardAmount': Poke_data_EPhys['Port 1,2,3,4 RewardAmount'].values,\n",
    "     'TrainingLevel': Poke_data_EPhys.TrainingLevel.values,\n",
    "     \n",
    "     'TrialStart_EphysTime': Poke_data_EPhys.TrialStart_EphysTime.values,\n",
    "     'FirstPoke_EphysTime': Poke_data_EPhys.FirstPoke_EphysTime.values,\n",
    "     'PokeIN_EphysTime': Poke_data_EPhys.PokeIN_EphysTime.values,\n",
    "     'PokeOUT_EphysTime': Poke_data_EPhys.PokeOUT_EphysTime.values,\n",
    "    \n",
    "     'backcam_trialstart_seconds':back_aligned_time,\n",
    "     'backcam_aligned_pokein_times':back_pokein_times,\n",
    "     'backcam_aligned_pokeout_times':back_pokeout_times,\n",
    "     'backcam_trialstart_timestamps':back_aligned_ts,\n",
    "     \n",
    "     'sidecam_trialstart_seconds':side_aligned_time,\n",
    "     'sidecam_aligned_pokein_times':side_pokein_times,\n",
    "     'sidecam_aligned_pokeout_times':side_pokeout_times,\n",
    "     'sidecam_trialstart_timestamps':side_aligned_ts,\n",
    "     \n",
    "     'bottomcam_trialstart_seconds':bottom_aligned_time,\n",
    "     'bottomcam_aligned_pokein_times':bottom_pokein_times,\n",
    "     'bottomcam_aligned_pokeout_times':bottom_pokeout_times,\n",
    "     'bottomcam_trialstart_timestamps':bottom_aligned_ts,\n",
    " \n",
    "    })"
   ]
  },
  {
   "cell_type": "code",
   "execution_count": 34,
   "id": "ed7f2d42",
   "metadata": {},
   "outputs": [],
   "source": [
    "##### Testing:"
   ]
  },
  {
   "cell_type": "markdown",
   "id": "92f38795",
   "metadata": {},
   "source": [
    "# save out new df?"
   ]
  },
  {
   "cell_type": "code",
   "execution_count": 35,
   "id": "ce6fb77e",
   "metadata": {},
   "outputs": [
    {
     "name": "stdout",
     "output_type": "stream",
     "text": [
      "data checked?\n",
      "data Saved\n"
     ]
    }
   ],
   "source": [
    "new_PortIn_df.to_csv(spikes_input_path +'/Behav_Ephys_Camera_Sync.csv')\n",
    "\n",
    "print('data checked?')\n",
    "print('data Saved')"
   ]
  },
  {
   "cell_type": "markdown",
   "id": "966ee5e8",
   "metadata": {},
   "source": [
    "# Run video clip tests: "
   ]
  },
  {
   "cell_type": "code",
   "execution_count": 36,
   "id": "b4b55686",
   "metadata": {},
   "outputs": [],
   "source": [
    "port3_inds = [np.where(new_PortIn_df.Port.values == 3)[0][10], np.where(new_PortIn_df.Port.values == 3)[0][int(new_PortIn_df.Trial_id.values[-1]/2)], np.where(new_PortIn_df.Port.values == 3)[0][-10]]\n",
    "port1_inds = [np.where(new_PortIn_df.Port.values == 1)[0][10], np.where(new_PortIn_df.Port.values == 1)[0][int(new_PortIn_df.Trial_id.values[-1]/2)], np.where(new_PortIn_df.Port.values == 1)[0][-10]]"
   ]
  },
  {
   "cell_type": "code",
   "execution_count": 37,
   "id": "720d5309",
   "metadata": {},
   "outputs": [],
   "source": [
    "from moviepy.video.io.ffmpeg_tools import ffmpeg_extract_subclip\n",
    "from moviepy.editor import *"
   ]
  },
  {
   "cell_type": "code",
   "execution_count": 38,
   "id": "7dc523ca",
   "metadata": {},
   "outputs": [
    {
     "name": "stdout",
     "output_type": "stream",
     "text": [
      "Moviepy - Running:\n",
      ">>> \"+ \" \".join(cmd)\n",
      "Moviepy - Command successful\n",
      "Moviepy - Running:\n",
      ">>> \"+ \" \".join(cmd)\n",
      "Moviepy - Command successful\n",
      "Moviepy - Running:\n",
      ">>> \"+ \" \".join(cmd)\n",
      "Moviepy - Command successful\n",
      "Moviepy - Running:\n",
      ">>> \"+ \" \".join(cmd)\n",
      "Moviepy - Command successful\n",
      "Moviepy - Running:\n",
      ">>> \"+ \" \".join(cmd)\n",
      "Moviepy - Command successful\n",
      "Moviepy - Running:\n",
      ">>> \"+ \" \".join(cmd)\n",
      "Moviepy - Command successful\n"
     ]
    }
   ],
   "source": [
    "## back\n",
    "\n",
    "cam_path = back_camera.DataPath.values[0][0:-3] + 'avi'\n",
    "\n",
    "for ind in port1_inds:\n",
    "    frame_time = back_pokein_times[ind]\n",
    "    ffmpeg_extract_subclip(cam_path,frame_time - 1,frame_time,targetname=('D:\\camera_test\\\\' +'port1_'+str(ind) + '_back_test.mp4'))\n",
    "    \n",
    "for ind in port3_inds:\n",
    "    frame_time = back_pokein_times[ind]\n",
    "    ffmpeg_extract_subclip(cam_path,frame_time-1,frame_time,targetname=('D:\\camera_test\\\\' +'port3_'+str(ind) + '_back_test.mp4'))\n",
    "\n",
    "    "
   ]
  },
  {
   "cell_type": "code",
   "execution_count": 39,
   "id": "3e1df081",
   "metadata": {},
   "outputs": [
    {
     "name": "stdout",
     "output_type": "stream",
     "text": [
      "Moviepy - Running:\n",
      ">>> \"+ \" \".join(cmd)\n",
      "Moviepy - Command successful\n",
      "Moviepy - Running:\n",
      ">>> \"+ \" \".join(cmd)\n",
      "Moviepy - Command successful\n",
      "Moviepy - Running:\n",
      ">>> \"+ \" \".join(cmd)\n",
      "Moviepy - Command successful\n",
      "Moviepy - Running:\n",
      ">>> \"+ \" \".join(cmd)\n",
      "Moviepy - Command successful\n",
      "Moviepy - Running:\n",
      ">>> \"+ \" \".join(cmd)\n",
      "Moviepy - Command successful\n",
      "Moviepy - Running:\n",
      ">>> \"+ \" \".join(cmd)\n",
      "Moviepy - Command successful\n"
     ]
    }
   ],
   "source": [
    "## side\n",
    "\n",
    "cam_path = side_camera.DataPath.values[0][0:-3] + 'avi'\n",
    "\n",
    "for ind in port1_inds:\n",
    "    frame_time = side_pokein_times[ind]\n",
    "    ffmpeg_extract_subclip(cam_path,frame_time - 1,frame_time,targetname=('D:\\camera_test\\\\' +'port1_'+str(ind) + '_side_test.mp4'))\n",
    "    \n",
    "for ind in port3_inds:\n",
    "    frame_time = side_pokein_times[ind]\n",
    "    ffmpeg_extract_subclip(cam_path,frame_time-1,frame_time,targetname=('D:\\camera_test\\\\' +'port3_'+str(ind) + '_side_test.mp4'))\n"
   ]
  },
  {
   "cell_type": "code",
   "execution_count": 40,
   "id": "6f287f43",
   "metadata": {},
   "outputs": [
    {
     "name": "stdout",
     "output_type": "stream",
     "text": [
      "Moviepy - Running:\n",
      ">>> \"+ \" \".join(cmd)\n",
      "Moviepy - Command successful\n",
      "Moviepy - Running:\n",
      ">>> \"+ \" \".join(cmd)\n",
      "Moviepy - Command successful\n",
      "Moviepy - Running:\n",
      ">>> \"+ \" \".join(cmd)\n",
      "Moviepy - Command successful\n",
      "Moviepy - Running:\n",
      ">>> \"+ \" \".join(cmd)\n",
      "Moviepy - Command successful\n",
      "Moviepy - Running:\n",
      ">>> \"+ \" \".join(cmd)\n",
      "Moviepy - Command successful\n",
      "Moviepy - Running:\n",
      ">>> \"+ \" \".join(cmd)\n",
      "Moviepy - Command successful\n"
     ]
    }
   ],
   "source": [
    "# side\n",
    "\n",
    "cam_path = bottom_camera.DataPath.values[0][0:-3] + 'avi'\n",
    "\n",
    "for ind in port1_inds:\n",
    "    frame_time = bottom_pokein_times[ind]\n",
    "    ffmpeg_extract_subclip(cam_path,frame_time - 1,frame_time,targetname=('D:\\camera_test\\\\' +'port1_'+str(ind) + '_bottom_test.mp4'))\n",
    "    \n",
    "for ind in port3_inds:\n",
    "    frame_time = bottom_pokein_times[ind]\n",
    "    ffmpeg_extract_subclip(cam_path,frame_time-1,frame_time,targetname=('D:\\camera_test\\\\' +'port3_'+str(ind) + '_bottom_test.mp4'))"
   ]
  },
  {
   "cell_type": "code",
   "execution_count": 41,
   "id": "7a0cd2da",
   "metadata": {},
   "outputs": [],
   "source": [
    "### Manipulate this into a transition dataframe and save this out also. "
   ]
  },
  {
   "cell_type": "code",
   "execution_count": 42,
   "id": "e4f789a0",
   "metadata": {},
   "outputs": [],
   "source": [
    "def Determine_Transition_Times_and_Types(All_PortIn_Times_sorted ,All_PortOut_Times_sorted, All_Port_references_sorted):\n",
    "    out_in= []\n",
    "    in_in = []\n",
    "    transition_type = []\n",
    "    out_in_transition_reference = []\n",
    "    in_in_transition_reference = []\n",
    "    for index,port in enumerate(All_Port_references_sorted):\n",
    "        if index > 0:\n",
    "            out_in = out_in + [All_PortIn_Times_sorted[index] - All_PortOut_Times_sorted[index-1] ]\n",
    "            out_in_transition_reference = out_in_transition_reference + [All_PortOut_Times_sorted[index-1]]\n",
    "\n",
    "            in_in = in_in + [All_PortIn_Times_sorted[index] - All_PortIn_Times_sorted[index-1] ]\n",
    "            in_in_transition_reference = in_in_transition_reference + [All_PortIn_Times_sorted[index-1]]\n",
    "\n",
    "            transition_type = transition_type + [int(str(All_Port_references_sorted[index-1]) + str(port))]\n",
    "\n",
    "    return (np.array(out_in),np.array(in_in) ,np.array(transition_type),out_in_transition_reference,in_in_transition_reference)\n",
    "\n",
    "\n",
    "def Start_End_port_id(Transition_types,start_end_arg):\n",
    "    output = []\n",
    "    for item in Transition_types:\n",
    "        String = str(item)\n",
    "        output = output + [int(String[start_end_arg])]\n",
    "    return output\n",
    "\n",
    "def determine_RepeatPort_events(start_port_ids,end_port_ids):\n",
    "    Port_repeat = []\n",
    "    for index, item in enumerate(start_port_ids):\n",
    "        if item == end_port_ids[index]:\n",
    "            Port_repeat = Port_repeat + [0]\n",
    "        else: \n",
    "            Port_repeat = Port_repeat + [1]\n",
    "    return Port_repeat    \n",
    "\n",
    "def filter_transitons_by_latency(Transition_times, Upper_Filter):\n",
    "    Filtered_transitions = []\n",
    "    for item in Transition_times:\n",
    "        if item < Upper_Filter:\n",
    "            Filtered_transitions = Filtered_transitions + [1]\n",
    "        else:\n",
    "            Filtered_transitions = Filtered_transitions + [0]\n",
    "    return Filtered_transitions"
   ]
  },
  {
   "cell_type": "code",
   "execution_count": 43,
   "id": "46ec5dfe",
   "metadata": {},
   "outputs": [],
   "source": [
    "Port_intimes = Poke_data_EPhys.PokeIn_Time.values\n",
    "Port_outtimes = Poke_data_EPhys.PokeOut_Time.values\n",
    "Ports = Poke_data_EPhys.Port.values\n",
    "\n",
    "#Determine Transition times and types for all events \n",
    "out_in_Transition_times, in_in_Transition_times, Transition_types, out_in_transition_reference,in_in_transition_reference = Determine_Transition_Times_and_Types(Port_intimes,Port_outtimes,Ports)\n",
    "\n",
    "#Split transtion types into first and last ports: \n",
    "start_port_ids = Start_End_port_id(Transition_types,0)\n",
    "end_port_ids = Start_End_port_id(Transition_types,1)\n",
    "\n",
    "#Align start and end port time\n",
    "End_Port_in_time = Port_intimes[1::]\n",
    "Start_Port_in_time = Port_intimes[0:-1]\n",
    "End_Port_out_time = Port_outtimes[1::]\n",
    "Start_Port_out_time = Port_outtimes[0:-1]\n",
    "\n",
    "#Find Port repeat events (double pokes)\n",
    "Non_Port_repeat = determine_RepeatPort_events(start_port_ids,end_port_ids)\n",
    "\n",
    "#Determine which transitions are good: less than 1.5s\n",
    "out_in_Filtered_transitions = filter_transitons_by_latency(out_in_Transition_times, 2)\n",
    "in_in_Filtered_transitions = filter_transitons_by_latency(in_in_Transition_times, 2)"
   ]
  },
  {
   "cell_type": "code",
   "execution_count": 44,
   "id": "c493367e",
   "metadata": {},
   "outputs": [],
   "source": [
    "# make dataframe:\n",
    "new_Transition_df = pd.DataFrame(\n",
    "    {'Trial_id' : Poke_data_EPhys['Trial_id'][0:-1],\n",
    "    'Transition_type' : Transition_types,\n",
    "     'Start_Port':start_port_ids, \n",
    "     'End_Port':end_port_ids,\n",
    "     'Start_Poke_in_time': Start_Port_in_time,\n",
    "     'Start_Poke_out_time': Start_Port_out_time,\n",
    "     'End_Poke_in_time': End_Port_in_time,\n",
    "     'End_Poke_out_time': End_Port_out_time,\n",
    "     'out_in_Latency' : out_in_Transition_times,\n",
    "     'in_in_Latency': in_in_Transition_times,\n",
    "     '2s_Time_Filter_out_in': out_in_Filtered_transitions,\n",
    "     '2s_Time_Filter_in_in': in_in_Filtered_transitions,\n",
    "     'Port_2-3-4-5_LED_intensities': Poke_data_EPhys['Port 2,3,4,5 LED intensities'].values[0:-1],\n",
    "     'Port_1-2-3-4_RewardAmount': Poke_data_EPhys['Port 1,2,3,4 RewardAmount'].values[0:-1],\n",
    "     'Repeat_Filter':Non_Port_repeat,\n",
    "     \n",
    "     'TrialStart_EphysTime': Poke_data_EPhys.TrialStart_EphysTime.values[0:-1],\n",
    "     'FirstPoke_EphysTime': Poke_data_EPhys.FirstPoke_EphysTime.values[0:-1],\n",
    "     'P1_IN_Ephys_TS': Poke_data_EPhys.PokeIN_EphysTime.values[0:-1],\n",
    "     'P1_OUT_Ephys_TS': Poke_data_EPhys.PokeOUT_EphysTime.values[0:-1],\n",
    "     'P2_IN_Ephys_TS': Poke_data_EPhys.PokeIN_EphysTime.values[1::],\n",
    "     'P2_OUT_Ephys_TS': Poke_data_EPhys.PokeOUT_EphysTime.values[1::],\n",
    "     \n",
    "     'backcam_trialstart_seconds':back_aligned_time[0:-1],\n",
    "     'backcam_trialstart_timestamps':back_aligned_ts[0:-1],  \n",
    "     'backcam_aligned_P1In_times':back_pokein_times[0:-1],\n",
    "     'backcam_aligned_P1Out_times':back_pokeout_times[0:-1],\n",
    "     'backcam_aligned_P2In_times':back_pokein_times[1::],\n",
    "     'backcam_aligned_P2Out_times':back_pokeout_times[1::],\n",
    "     \n",
    "     'sidecam_trialstart_seconds':side_aligned_time[0:-1],\n",
    "     'sidecam_trialstart_timestamps':side_aligned_ts[0:-1],  \n",
    "     'sidecam_aligned_P1In_times':side_pokein_times[0:-1],\n",
    "     'sidecam_aligned_P1Out_times':side_pokeout_times[0:-1],\n",
    "     'sidecam_aligned_P2In_times':side_pokein_times[1::],\n",
    "     'sidecam_aligned_P2Out_times':side_pokeout_times[1::],\n",
    "     \n",
    "     'bottomcam_trialstart_seconds':bottom_aligned_time[0:-1],\n",
    "     'bottomcam_trialstart_timestamps':bottom_aligned_ts[0:-1],  \n",
    "     'bottomcam_aligned_P1In_times':bottom_pokein_times[0:-1],\n",
    "     'bottomcam_aligned_P1Out_times':bottom_pokeout_times[0:-1],\n",
    "     'bottomcam_aligned_P2In_times':bottom_pokein_times[1::],\n",
    "     'bottomcam_aligned_P2Out_times':bottom_pokeout_times[1::]\n",
    "    \n",
    "    })\n",
    "     \n"
   ]
  },
  {
   "cell_type": "code",
   "execution_count": 45,
   "id": "87b215f5",
   "metadata": {},
   "outputs": [
    {
     "name": "stdout",
     "output_type": "stream",
     "text": [
      "data checked?\n",
      "data Saved\n"
     ]
    }
   ],
   "source": [
    "new_Transition_df.to_csv(spikes_input_path +'/Transition_data_sync.csv')\n",
    "\n",
    "print('data checked?')\n",
    "print('data Saved')"
   ]
  },
  {
   "cell_type": "code",
   "execution_count": 46,
   "id": "aa4cac79",
   "metadata": {},
   "outputs": [
    {
     "data": {
      "text/html": [
       "<div>\n",
       "<style scoped>\n",
       "    .dataframe tbody tr th:only-of-type {\n",
       "        vertical-align: middle;\n",
       "    }\n",
       "\n",
       "    .dataframe tbody tr th {\n",
       "        vertical-align: top;\n",
       "    }\n",
       "\n",
       "    .dataframe thead th {\n",
       "        text-align: right;\n",
       "    }\n",
       "</style>\n",
       "<table border=\"1\" class=\"dataframe\">\n",
       "  <thead>\n",
       "    <tr style=\"text-align: right;\">\n",
       "      <th></th>\n",
       "      <th>Trial_id</th>\n",
       "      <th>Transition_type</th>\n",
       "      <th>Start_Port</th>\n",
       "      <th>End_Port</th>\n",
       "      <th>Start_Poke_in_time</th>\n",
       "      <th>Start_Poke_out_time</th>\n",
       "      <th>End_Poke_in_time</th>\n",
       "      <th>End_Poke_out_time</th>\n",
       "      <th>out_in_Latency</th>\n",
       "      <th>in_in_Latency</th>\n",
       "      <th>...</th>\n",
       "      <th>sidecam_aligned_P1In_times</th>\n",
       "      <th>sidecam_aligned_P1Out_times</th>\n",
       "      <th>sidecam_aligned_P2In_times</th>\n",
       "      <th>sidecam_aligned_P2Out_times</th>\n",
       "      <th>bottomcam_trialstart_seconds</th>\n",
       "      <th>bottomcam_trialstart_timestamps</th>\n",
       "      <th>bottomcam_aligned_P1In_times</th>\n",
       "      <th>bottomcam_aligned_P1Out_times</th>\n",
       "      <th>bottomcam_aligned_P2In_times</th>\n",
       "      <th>bottomcam_aligned_P2Out_times</th>\n",
       "    </tr>\n",
       "  </thead>\n",
       "  <tbody>\n",
       "    <tr>\n",
       "      <th>0</th>\n",
       "      <td>1</td>\n",
       "      <td>32</td>\n",
       "      <td>3</td>\n",
       "      <td>2</td>\n",
       "      <td>27.4729</td>\n",
       "      <td>27.9710</td>\n",
       "      <td>28.2454</td>\n",
       "      <td>28.3518</td>\n",
       "      <td>0.2744</td>\n",
       "      <td>0.7725</td>\n",
       "      <td>...</td>\n",
       "      <td>103.421667</td>\n",
       "      <td>103.919767</td>\n",
       "      <td>104.194167</td>\n",
       "      <td>104.300567</td>\n",
       "      <td>96.233333</td>\n",
       "      <td>5774.0</td>\n",
       "      <td>103.388333</td>\n",
       "      <td>103.886433</td>\n",
       "      <td>104.160833</td>\n",
       "      <td>104.267233</td>\n",
       "    </tr>\n",
       "    <tr>\n",
       "      <th>1</th>\n",
       "      <td>1</td>\n",
       "      <td>21</td>\n",
       "      <td>2</td>\n",
       "      <td>1</td>\n",
       "      <td>28.2454</td>\n",
       "      <td>28.3518</td>\n",
       "      <td>28.6818</td>\n",
       "      <td>28.7594</td>\n",
       "      <td>0.3300</td>\n",
       "      <td>0.4364</td>\n",
       "      <td>...</td>\n",
       "      <td>104.194167</td>\n",
       "      <td>104.300567</td>\n",
       "      <td>104.630567</td>\n",
       "      <td>104.708167</td>\n",
       "      <td>96.233333</td>\n",
       "      <td>5774.0</td>\n",
       "      <td>104.160833</td>\n",
       "      <td>104.267233</td>\n",
       "      <td>104.597233</td>\n",
       "      <td>104.674833</td>\n",
       "    </tr>\n",
       "    <tr>\n",
       "      <th>2</th>\n",
       "      <td>1</td>\n",
       "      <td>11</td>\n",
       "      <td>1</td>\n",
       "      <td>1</td>\n",
       "      <td>28.6818</td>\n",
       "      <td>28.7594</td>\n",
       "      <td>29.3050</td>\n",
       "      <td>29.4053</td>\n",
       "      <td>0.5456</td>\n",
       "      <td>0.6232</td>\n",
       "      <td>...</td>\n",
       "      <td>104.630567</td>\n",
       "      <td>104.708167</td>\n",
       "      <td>105.253767</td>\n",
       "      <td>105.354067</td>\n",
       "      <td>96.233333</td>\n",
       "      <td>5774.0</td>\n",
       "      <td>104.597233</td>\n",
       "      <td>104.674833</td>\n",
       "      <td>105.220433</td>\n",
       "      <td>105.320733</td>\n",
       "    </tr>\n",
       "    <tr>\n",
       "      <th>3</th>\n",
       "      <td>1</td>\n",
       "      <td>16</td>\n",
       "      <td>1</td>\n",
       "      <td>6</td>\n",
       "      <td>29.3050</td>\n",
       "      <td>29.4053</td>\n",
       "      <td>29.9297</td>\n",
       "      <td>29.9353</td>\n",
       "      <td>0.5244</td>\n",
       "      <td>0.6247</td>\n",
       "      <td>...</td>\n",
       "      <td>105.253767</td>\n",
       "      <td>105.354067</td>\n",
       "      <td>105.878467</td>\n",
       "      <td>105.884067</td>\n",
       "      <td>96.233333</td>\n",
       "      <td>5774.0</td>\n",
       "      <td>105.220433</td>\n",
       "      <td>105.320733</td>\n",
       "      <td>105.845133</td>\n",
       "      <td>105.850733</td>\n",
       "    </tr>\n",
       "    <tr>\n",
       "      <th>4</th>\n",
       "      <td>1</td>\n",
       "      <td>66</td>\n",
       "      <td>6</td>\n",
       "      <td>6</td>\n",
       "      <td>29.9297</td>\n",
       "      <td>29.9353</td>\n",
       "      <td>29.9792</td>\n",
       "      <td>30.1063</td>\n",
       "      <td>0.0439</td>\n",
       "      <td>0.0495</td>\n",
       "      <td>...</td>\n",
       "      <td>105.878467</td>\n",
       "      <td>105.884067</td>\n",
       "      <td>105.927967</td>\n",
       "      <td>106.055067</td>\n",
       "      <td>96.233333</td>\n",
       "      <td>5774.0</td>\n",
       "      <td>105.845133</td>\n",
       "      <td>105.850733</td>\n",
       "      <td>105.894633</td>\n",
       "      <td>106.021733</td>\n",
       "    </tr>\n",
       "    <tr>\n",
       "      <th>...</th>\n",
       "      <td>...</td>\n",
       "      <td>...</td>\n",
       "      <td>...</td>\n",
       "      <td>...</td>\n",
       "      <td>...</td>\n",
       "      <td>...</td>\n",
       "      <td>...</td>\n",
       "      <td>...</td>\n",
       "      <td>...</td>\n",
       "      <td>...</td>\n",
       "      <td>...</td>\n",
       "      <td>...</td>\n",
       "      <td>...</td>\n",
       "      <td>...</td>\n",
       "      <td>...</td>\n",
       "      <td>...</td>\n",
       "      <td>...</td>\n",
       "      <td>...</td>\n",
       "      <td>...</td>\n",
       "      <td>...</td>\n",
       "      <td>...</td>\n",
       "    </tr>\n",
       "    <tr>\n",
       "      <th>3526</th>\n",
       "      <td>494</td>\n",
       "      <td>21</td>\n",
       "      <td>2</td>\n",
       "      <td>1</td>\n",
       "      <td>2916.5762</td>\n",
       "      <td>2916.6212</td>\n",
       "      <td>2916.8700</td>\n",
       "      <td>2917.0300</td>\n",
       "      <td>0.2488</td>\n",
       "      <td>0.2938</td>\n",
       "      <td>...</td>\n",
       "      <td>2994.128633</td>\n",
       "      <td>2994.173633</td>\n",
       "      <td>2994.422433</td>\n",
       "      <td>2994.582433</td>\n",
       "      <td>2992.150000</td>\n",
       "      <td>179529.0</td>\n",
       "      <td>2994.045300</td>\n",
       "      <td>2994.090300</td>\n",
       "      <td>2994.339100</td>\n",
       "      <td>2994.499100</td>\n",
       "    </tr>\n",
       "    <tr>\n",
       "      <th>3527</th>\n",
       "      <td>494</td>\n",
       "      <td>16</td>\n",
       "      <td>1</td>\n",
       "      <td>6</td>\n",
       "      <td>2916.8700</td>\n",
       "      <td>2917.0300</td>\n",
       "      <td>2917.2703</td>\n",
       "      <td>2917.3034</td>\n",
       "      <td>0.2403</td>\n",
       "      <td>0.4003</td>\n",
       "      <td>...</td>\n",
       "      <td>2994.422433</td>\n",
       "      <td>2994.582433</td>\n",
       "      <td>2994.822733</td>\n",
       "      <td>2994.855833</td>\n",
       "      <td>2992.150000</td>\n",
       "      <td>179529.0</td>\n",
       "      <td>2994.339100</td>\n",
       "      <td>2994.499100</td>\n",
       "      <td>2994.739400</td>\n",
       "      <td>2994.772500</td>\n",
       "    </tr>\n",
       "    <tr>\n",
       "      <th>3528</th>\n",
       "      <td>494</td>\n",
       "      <td>67</td>\n",
       "      <td>6</td>\n",
       "      <td>7</td>\n",
       "      <td>2917.2703</td>\n",
       "      <td>2917.3034</td>\n",
       "      <td>2918.0691</td>\n",
       "      <td>2918.0709</td>\n",
       "      <td>0.7657</td>\n",
       "      <td>0.7988</td>\n",
       "      <td>...</td>\n",
       "      <td>2994.822733</td>\n",
       "      <td>2994.855833</td>\n",
       "      <td>2995.621533</td>\n",
       "      <td>2995.623333</td>\n",
       "      <td>2992.150000</td>\n",
       "      <td>179529.0</td>\n",
       "      <td>2994.739400</td>\n",
       "      <td>2994.772500</td>\n",
       "      <td>2995.538200</td>\n",
       "      <td>2995.540000</td>\n",
       "    </tr>\n",
       "    <tr>\n",
       "      <th>3529</th>\n",
       "      <td>494</td>\n",
       "      <td>73</td>\n",
       "      <td>7</td>\n",
       "      <td>3</td>\n",
       "      <td>2918.0691</td>\n",
       "      <td>2918.0709</td>\n",
       "      <td>2920.6819</td>\n",
       "      <td>2920.7195</td>\n",
       "      <td>2.6110</td>\n",
       "      <td>2.6128</td>\n",
       "      <td>...</td>\n",
       "      <td>2995.621533</td>\n",
       "      <td>2995.623333</td>\n",
       "      <td>2998.234333</td>\n",
       "      <td>2998.271933</td>\n",
       "      <td>2992.150000</td>\n",
       "      <td>179529.0</td>\n",
       "      <td>2995.538200</td>\n",
       "      <td>2995.540000</td>\n",
       "      <td>2998.151000</td>\n",
       "      <td>2998.188600</td>\n",
       "    </tr>\n",
       "    <tr>\n",
       "      <th>3530</th>\n",
       "      <td>494</td>\n",
       "      <td>37</td>\n",
       "      <td>3</td>\n",
       "      <td>7</td>\n",
       "      <td>2920.6819</td>\n",
       "      <td>2920.7195</td>\n",
       "      <td>2920.8909</td>\n",
       "      <td>NaN</td>\n",
       "      <td>0.1714</td>\n",
       "      <td>0.2090</td>\n",
       "      <td>...</td>\n",
       "      <td>2998.234333</td>\n",
       "      <td>2998.271933</td>\n",
       "      <td>2998.443333</td>\n",
       "      <td>NaN</td>\n",
       "      <td>2992.150000</td>\n",
       "      <td>179529.0</td>\n",
       "      <td>2998.151000</td>\n",
       "      <td>2998.188600</td>\n",
       "      <td>2998.360000</td>\n",
       "      <td>NaN</td>\n",
       "    </tr>\n",
       "  </tbody>\n",
       "</table>\n",
       "<p>3531 rows × 39 columns</p>\n",
       "</div>"
      ],
      "text/plain": [
       "      Trial_id  Transition_type  Start_Port  End_Port  Start_Poke_in_time  \\\n",
       "0            1               32           3         2             27.4729   \n",
       "1            1               21           2         1             28.2454   \n",
       "2            1               11           1         1             28.6818   \n",
       "3            1               16           1         6             29.3050   \n",
       "4            1               66           6         6             29.9297   \n",
       "...        ...              ...         ...       ...                 ...   \n",
       "3526       494               21           2         1           2916.5762   \n",
       "3527       494               16           1         6           2916.8700   \n",
       "3528       494               67           6         7           2917.2703   \n",
       "3529       494               73           7         3           2918.0691   \n",
       "3530       494               37           3         7           2920.6819   \n",
       "\n",
       "      Start_Poke_out_time  End_Poke_in_time  End_Poke_out_time  \\\n",
       "0                 27.9710           28.2454            28.3518   \n",
       "1                 28.3518           28.6818            28.7594   \n",
       "2                 28.7594           29.3050            29.4053   \n",
       "3                 29.4053           29.9297            29.9353   \n",
       "4                 29.9353           29.9792            30.1063   \n",
       "...                   ...               ...                ...   \n",
       "3526            2916.6212         2916.8700          2917.0300   \n",
       "3527            2917.0300         2917.2703          2917.3034   \n",
       "3528            2917.3034         2918.0691          2918.0709   \n",
       "3529            2918.0709         2920.6819          2920.7195   \n",
       "3530            2920.7195         2920.8909                NaN   \n",
       "\n",
       "      out_in_Latency  in_in_Latency  ...  sidecam_aligned_P1In_times  \\\n",
       "0             0.2744         0.7725  ...                  103.421667   \n",
       "1             0.3300         0.4364  ...                  104.194167   \n",
       "2             0.5456         0.6232  ...                  104.630567   \n",
       "3             0.5244         0.6247  ...                  105.253767   \n",
       "4             0.0439         0.0495  ...                  105.878467   \n",
       "...              ...            ...  ...                         ...   \n",
       "3526          0.2488         0.2938  ...                 2994.128633   \n",
       "3527          0.2403         0.4003  ...                 2994.422433   \n",
       "3528          0.7657         0.7988  ...                 2994.822733   \n",
       "3529          2.6110         2.6128  ...                 2995.621533   \n",
       "3530          0.1714         0.2090  ...                 2998.234333   \n",
       "\n",
       "      sidecam_aligned_P1Out_times sidecam_aligned_P2In_times  \\\n",
       "0                      103.919767                 104.194167   \n",
       "1                      104.300567                 104.630567   \n",
       "2                      104.708167                 105.253767   \n",
       "3                      105.354067                 105.878467   \n",
       "4                      105.884067                 105.927967   \n",
       "...                           ...                        ...   \n",
       "3526                  2994.173633                2994.422433   \n",
       "3527                  2994.582433                2994.822733   \n",
       "3528                  2994.855833                2995.621533   \n",
       "3529                  2995.623333                2998.234333   \n",
       "3530                  2998.271933                2998.443333   \n",
       "\n",
       "     sidecam_aligned_P2Out_times  bottomcam_trialstart_seconds  \\\n",
       "0                     104.300567                     96.233333   \n",
       "1                     104.708167                     96.233333   \n",
       "2                     105.354067                     96.233333   \n",
       "3                     105.884067                     96.233333   \n",
       "4                     106.055067                     96.233333   \n",
       "...                          ...                           ...   \n",
       "3526                 2994.582433                   2992.150000   \n",
       "3527                 2994.855833                   2992.150000   \n",
       "3528                 2995.623333                   2992.150000   \n",
       "3529                 2998.271933                   2992.150000   \n",
       "3530                         NaN                   2992.150000   \n",
       "\n",
       "      bottomcam_trialstart_timestamps  bottomcam_aligned_P1In_times  \\\n",
       "0                              5774.0                    103.388333   \n",
       "1                              5774.0                    104.160833   \n",
       "2                              5774.0                    104.597233   \n",
       "3                              5774.0                    105.220433   \n",
       "4                              5774.0                    105.845133   \n",
       "...                               ...                           ...   \n",
       "3526                         179529.0                   2994.045300   \n",
       "3527                         179529.0                   2994.339100   \n",
       "3528                         179529.0                   2994.739400   \n",
       "3529                         179529.0                   2995.538200   \n",
       "3530                         179529.0                   2998.151000   \n",
       "\n",
       "      bottomcam_aligned_P1Out_times  bottomcam_aligned_P2In_times  \\\n",
       "0                        103.886433                    104.160833   \n",
       "1                        104.267233                    104.597233   \n",
       "2                        104.674833                    105.220433   \n",
       "3                        105.320733                    105.845133   \n",
       "4                        105.850733                    105.894633   \n",
       "...                             ...                           ...   \n",
       "3526                    2994.090300                   2994.339100   \n",
       "3527                    2994.499100                   2994.739400   \n",
       "3528                    2994.772500                   2995.538200   \n",
       "3529                    2995.540000                   2998.151000   \n",
       "3530                    2998.188600                   2998.360000   \n",
       "\n",
       "      bottomcam_aligned_P2Out_times  \n",
       "0                        104.267233  \n",
       "1                        104.674833  \n",
       "2                        105.320733  \n",
       "3                        105.850733  \n",
       "4                        106.021733  \n",
       "...                             ...  \n",
       "3526                    2994.499100  \n",
       "3527                    2994.772500  \n",
       "3528                    2995.540000  \n",
       "3529                    2998.188600  \n",
       "3530                            NaN  \n",
       "\n",
       "[3531 rows x 39 columns]"
      ]
     },
     "execution_count": 46,
     "metadata": {},
     "output_type": "execute_result"
    }
   ],
   "source": [
    "new_Transition_df"
   ]
  },
  {
   "cell_type": "code",
   "execution_count": null,
   "id": "09b4d3c0",
   "metadata": {},
   "outputs": [],
   "source": []
  },
  {
   "cell_type": "code",
   "execution_count": null,
   "id": "367e00fe",
   "metadata": {},
   "outputs": [],
   "source": []
  },
  {
   "cell_type": "code",
   "execution_count": null,
   "id": "9bf895c8",
   "metadata": {},
   "outputs": [],
   "source": []
  },
  {
   "cell_type": "code",
   "execution_count": null,
   "id": "82397728",
   "metadata": {},
   "outputs": [],
   "source": []
  },
  {
   "cell_type": "code",
   "execution_count": null,
   "id": "c403bae6",
   "metadata": {},
   "outputs": [],
   "source": []
  },
  {
   "cell_type": "code",
   "execution_count": null,
   "id": "a77f4128",
   "metadata": {},
   "outputs": [],
   "source": []
  },
  {
   "cell_type": "code",
   "execution_count": null,
   "id": "c60fdc92",
   "metadata": {},
   "outputs": [],
   "source": []
  },
  {
   "cell_type": "code",
   "execution_count": null,
   "id": "b4b1e5b7",
   "metadata": {},
   "outputs": [],
   "source": []
  },
  {
   "cell_type": "code",
   "execution_count": null,
   "id": "1cd0a0bd",
   "metadata": {},
   "outputs": [],
   "source": []
  },
  {
   "cell_type": "code",
   "execution_count": 629,
   "id": "6ae46f41",
   "metadata": {},
   "outputs": [
    {
     "data": {
      "text/html": [
       "<div>\n",
       "<style scoped>\n",
       "    .dataframe tbody tr th:only-of-type {\n",
       "        vertical-align: middle;\n",
       "    }\n",
       "\n",
       "    .dataframe tbody tr th {\n",
       "        vertical-align: top;\n",
       "    }\n",
       "\n",
       "    .dataframe thead th {\n",
       "        text-align: right;\n",
       "    }\n",
       "</style>\n",
       "<table border=\"1\" class=\"dataframe\">\n",
       "  <thead>\n",
       "    <tr style=\"text-align: right;\">\n",
       "      <th></th>\n",
       "      <th>Trial_id</th>\n",
       "      <th>Transition_type</th>\n",
       "      <th>Start_Port</th>\n",
       "      <th>End_Port</th>\n",
       "      <th>Start_Poke_in_time</th>\n",
       "      <th>Start_Poke_out_time</th>\n",
       "      <th>End_Poke_in_time</th>\n",
       "      <th>End_Poke_out_time</th>\n",
       "      <th>out_in_Latency</th>\n",
       "      <th>in_in_Latency</th>\n",
       "      <th>2s_Time_Filter_out_in</th>\n",
       "      <th>2s_Time_Filter_in_in</th>\n",
       "      <th>Port_2-3-4-5_LED_intensities</th>\n",
       "      <th>Port_1-2-3-4_RewardAmount</th>\n",
       "      <th>Repeat_Filter</th>\n",
       "      <th>TrialStart_EphysTime</th>\n",
       "      <th>FirstPoke_EphysTime</th>\n",
       "      <th>PokeIN_EphysTime</th>\n",
       "      <th>PokeOUT_EphysTime</th>\n",
       "    </tr>\n",
       "  </thead>\n",
       "  <tbody>\n",
       "    <tr>\n",
       "      <th>0</th>\n",
       "      <td>1</td>\n",
       "      <td>22</td>\n",
       "      <td>2</td>\n",
       "      <td>2</td>\n",
       "      <td>63.3010</td>\n",
       "      <td>63.5779</td>\n",
       "      <td>83.4867</td>\n",
       "      <td>83.4940</td>\n",
       "      <td>19.9088</td>\n",
       "      <td>20.1857</td>\n",
       "      <td>0</td>\n",
       "      <td>0</td>\n",
       "      <td>[0.0, 0.0, 0.0, 0.0]</td>\n",
       "      <td>[0.0, 0.0, 0.0, 0.0]</td>\n",
       "      <td>0</td>\n",
       "      <td>5109.194649</td>\n",
       "      <td>5154.552326</td>\n",
       "      <td>5154.550849</td>\n",
       "      <td>5154.827749</td>\n",
       "    </tr>\n",
       "    <tr>\n",
       "      <th>1</th>\n",
       "      <td>1</td>\n",
       "      <td>22</td>\n",
       "      <td>2</td>\n",
       "      <td>2</td>\n",
       "      <td>83.4867</td>\n",
       "      <td>83.4940</td>\n",
       "      <td>114.7192</td>\n",
       "      <td>114.7245</td>\n",
       "      <td>31.2252</td>\n",
       "      <td>31.2325</td>\n",
       "      <td>0</td>\n",
       "      <td>0</td>\n",
       "      <td>[0.0, 0.0, 0.0, 0.0]</td>\n",
       "      <td>[0.0, 0.0, 0.0, 0.0]</td>\n",
       "      <td>0</td>\n",
       "      <td>5109.194649</td>\n",
       "      <td>NaN</td>\n",
       "      <td>5174.736549</td>\n",
       "      <td>5174.743849</td>\n",
       "    </tr>\n",
       "    <tr>\n",
       "      <th>2</th>\n",
       "      <td>2</td>\n",
       "      <td>22</td>\n",
       "      <td>2</td>\n",
       "      <td>2</td>\n",
       "      <td>114.7192</td>\n",
       "      <td>114.7245</td>\n",
       "      <td>115.8931</td>\n",
       "      <td>115.9250</td>\n",
       "      <td>1.1686</td>\n",
       "      <td>1.1739</td>\n",
       "      <td>1</td>\n",
       "      <td>1</td>\n",
       "      <td>[0.0, 0.0, 0.0, 0.0]</td>\n",
       "      <td>[0.0, 0.0, 0.0, 0.0]</td>\n",
       "      <td>0</td>\n",
       "      <td>5186.554024</td>\n",
       "      <td>5205.972136</td>\n",
       "      <td>5205.971524</td>\n",
       "      <td>5205.976824</td>\n",
       "    </tr>\n",
       "    <tr>\n",
       "      <th>3</th>\n",
       "      <td>2</td>\n",
       "      <td>27</td>\n",
       "      <td>2</td>\n",
       "      <td>7</td>\n",
       "      <td>115.8931</td>\n",
       "      <td>115.9250</td>\n",
       "      <td>115.9852</td>\n",
       "      <td>119.0984</td>\n",
       "      <td>0.0602</td>\n",
       "      <td>0.0921</td>\n",
       "      <td>1</td>\n",
       "      <td>1</td>\n",
       "      <td>[0.0, 0.0, 0.0, 0.0]</td>\n",
       "      <td>[0.0, 0.0, 0.0, 0.0]</td>\n",
       "      <td>1</td>\n",
       "      <td>5186.554024</td>\n",
       "      <td>NaN</td>\n",
       "      <td>5207.145424</td>\n",
       "      <td>5207.177324</td>\n",
       "    </tr>\n",
       "    <tr>\n",
       "      <th>4</th>\n",
       "      <td>2</td>\n",
       "      <td>71</td>\n",
       "      <td>7</td>\n",
       "      <td>1</td>\n",
       "      <td>115.9852</td>\n",
       "      <td>119.0984</td>\n",
       "      <td>152.9287</td>\n",
       "      <td>153.0252</td>\n",
       "      <td>33.8303</td>\n",
       "      <td>36.9435</td>\n",
       "      <td>0</td>\n",
       "      <td>0</td>\n",
       "      <td>[0.0, 0.0, 0.0, 0.0]</td>\n",
       "      <td>[0.0, 0.0, 0.0, 0.0]</td>\n",
       "      <td>1</td>\n",
       "      <td>5186.554024</td>\n",
       "      <td>NaN</td>\n",
       "      <td>5207.237524</td>\n",
       "      <td>5210.350724</td>\n",
       "    </tr>\n",
       "    <tr>\n",
       "      <th>...</th>\n",
       "      <td>...</td>\n",
       "      <td>...</td>\n",
       "      <td>...</td>\n",
       "      <td>...</td>\n",
       "      <td>...</td>\n",
       "      <td>...</td>\n",
       "      <td>...</td>\n",
       "      <td>...</td>\n",
       "      <td>...</td>\n",
       "      <td>...</td>\n",
       "      <td>...</td>\n",
       "      <td>...</td>\n",
       "      <td>...</td>\n",
       "      <td>...</td>\n",
       "      <td>...</td>\n",
       "      <td>...</td>\n",
       "      <td>...</td>\n",
       "      <td>...</td>\n",
       "      <td>...</td>\n",
       "    </tr>\n",
       "    <tr>\n",
       "      <th>2624</th>\n",
       "      <td>321</td>\n",
       "      <td>22</td>\n",
       "      <td>2</td>\n",
       "      <td>2</td>\n",
       "      <td>2607.0611</td>\n",
       "      <td>2607.0666</td>\n",
       "      <td>2607.0689</td>\n",
       "      <td>2607.3738</td>\n",
       "      <td>0.0023</td>\n",
       "      <td>0.0078</td>\n",
       "      <td>1</td>\n",
       "      <td>1</td>\n",
       "      <td>[0.0, 0.0, 0.0, 0.0]</td>\n",
       "      <td>[0.0, 0.0, 0.0, 0.0]</td>\n",
       "      <td>0</td>\n",
       "      <td>7696.425015</td>\n",
       "      <td>NaN</td>\n",
       "      <td>7698.396315</td>\n",
       "      <td>7698.401815</td>\n",
       "    </tr>\n",
       "    <tr>\n",
       "      <th>2625</th>\n",
       "      <td>321</td>\n",
       "      <td>21</td>\n",
       "      <td>2</td>\n",
       "      <td>1</td>\n",
       "      <td>2607.0689</td>\n",
       "      <td>2607.3738</td>\n",
       "      <td>2607.2129</td>\n",
       "      <td>2607.3479</td>\n",
       "      <td>-0.1609</td>\n",
       "      <td>0.1440</td>\n",
       "      <td>1</td>\n",
       "      <td>1</td>\n",
       "      <td>[0.0, 0.0, 0.0, 0.0]</td>\n",
       "      <td>[0.0, 0.0, 0.0, 0.0]</td>\n",
       "      <td>1</td>\n",
       "      <td>7696.425015</td>\n",
       "      <td>NaN</td>\n",
       "      <td>7698.404115</td>\n",
       "      <td>7698.709015</td>\n",
       "    </tr>\n",
       "    <tr>\n",
       "      <th>2626</th>\n",
       "      <td>321</td>\n",
       "      <td>16</td>\n",
       "      <td>1</td>\n",
       "      <td>6</td>\n",
       "      <td>2607.2129</td>\n",
       "      <td>2607.3479</td>\n",
       "      <td>2607.9030</td>\n",
       "      <td>2608.0022</td>\n",
       "      <td>0.5551</td>\n",
       "      <td>0.6901</td>\n",
       "      <td>1</td>\n",
       "      <td>1</td>\n",
       "      <td>[0.0, 0.0, 0.0, 0.0]</td>\n",
       "      <td>[0.0, 0.0, 0.0, 0.0]</td>\n",
       "      <td>1</td>\n",
       "      <td>7696.425015</td>\n",
       "      <td>NaN</td>\n",
       "      <td>7698.548115</td>\n",
       "      <td>7698.683115</td>\n",
       "    </tr>\n",
       "    <tr>\n",
       "      <th>2627</th>\n",
       "      <td>321</td>\n",
       "      <td>63</td>\n",
       "      <td>6</td>\n",
       "      <td>3</td>\n",
       "      <td>2607.9030</td>\n",
       "      <td>2608.0022</td>\n",
       "      <td>2608.4547</td>\n",
       "      <td>2608.7321</td>\n",
       "      <td>0.4525</td>\n",
       "      <td>0.5517</td>\n",
       "      <td>1</td>\n",
       "      <td>1</td>\n",
       "      <td>[0.0, 0.0, 0.0, 0.0]</td>\n",
       "      <td>[0.0, 0.0, 0.0, 0.0]</td>\n",
       "      <td>1</td>\n",
       "      <td>7696.425015</td>\n",
       "      <td>NaN</td>\n",
       "      <td>7699.238215</td>\n",
       "      <td>7699.337415</td>\n",
       "    </tr>\n",
       "    <tr>\n",
       "      <th>2628</th>\n",
       "      <td>321</td>\n",
       "      <td>37</td>\n",
       "      <td>3</td>\n",
       "      <td>7</td>\n",
       "      <td>2608.4547</td>\n",
       "      <td>2608.7321</td>\n",
       "      <td>2609.0702</td>\n",
       "      <td>NaN</td>\n",
       "      <td>0.3381</td>\n",
       "      <td>0.6155</td>\n",
       "      <td>1</td>\n",
       "      <td>1</td>\n",
       "      <td>[0.0, 0.0, 0.0, 0.0]</td>\n",
       "      <td>[0.0, 0.0, 0.0, 0.0]</td>\n",
       "      <td>1</td>\n",
       "      <td>7696.425015</td>\n",
       "      <td>NaN</td>\n",
       "      <td>7699.789915</td>\n",
       "      <td>7700.067315</td>\n",
       "    </tr>\n",
       "  </tbody>\n",
       "</table>\n",
       "<p>2629 rows × 19 columns</p>\n",
       "</div>"
      ],
      "text/plain": [
       "      Trial_id  Transition_type  Start_Port  End_Port  Start_Poke_in_time  \\\n",
       "0            1               22           2         2             63.3010   \n",
       "1            1               22           2         2             83.4867   \n",
       "2            2               22           2         2            114.7192   \n",
       "3            2               27           2         7            115.8931   \n",
       "4            2               71           7         1            115.9852   \n",
       "...        ...              ...         ...       ...                 ...   \n",
       "2624       321               22           2         2           2607.0611   \n",
       "2625       321               21           2         1           2607.0689   \n",
       "2626       321               16           1         6           2607.2129   \n",
       "2627       321               63           6         3           2607.9030   \n",
       "2628       321               37           3         7           2608.4547   \n",
       "\n",
       "      Start_Poke_out_time  End_Poke_in_time  End_Poke_out_time  \\\n",
       "0                 63.5779           83.4867            83.4940   \n",
       "1                 83.4940          114.7192           114.7245   \n",
       "2                114.7245          115.8931           115.9250   \n",
       "3                115.9250          115.9852           119.0984   \n",
       "4                119.0984          152.9287           153.0252   \n",
       "...                   ...               ...                ...   \n",
       "2624            2607.0666         2607.0689          2607.3738   \n",
       "2625            2607.3738         2607.2129          2607.3479   \n",
       "2626            2607.3479         2607.9030          2608.0022   \n",
       "2627            2608.0022         2608.4547          2608.7321   \n",
       "2628            2608.7321         2609.0702                NaN   \n",
       "\n",
       "      out_in_Latency  in_in_Latency  2s_Time_Filter_out_in  \\\n",
       "0            19.9088        20.1857                      0   \n",
       "1            31.2252        31.2325                      0   \n",
       "2             1.1686         1.1739                      1   \n",
       "3             0.0602         0.0921                      1   \n",
       "4            33.8303        36.9435                      0   \n",
       "...              ...            ...                    ...   \n",
       "2624          0.0023         0.0078                      1   \n",
       "2625         -0.1609         0.1440                      1   \n",
       "2626          0.5551         0.6901                      1   \n",
       "2627          0.4525         0.5517                      1   \n",
       "2628          0.3381         0.6155                      1   \n",
       "\n",
       "      2s_Time_Filter_in_in Port_2-3-4-5_LED_intensities  \\\n",
       "0                        0         [0.0, 0.0, 0.0, 0.0]   \n",
       "1                        0         [0.0, 0.0, 0.0, 0.0]   \n",
       "2                        1         [0.0, 0.0, 0.0, 0.0]   \n",
       "3                        1         [0.0, 0.0, 0.0, 0.0]   \n",
       "4                        0         [0.0, 0.0, 0.0, 0.0]   \n",
       "...                    ...                          ...   \n",
       "2624                     1         [0.0, 0.0, 0.0, 0.0]   \n",
       "2625                     1         [0.0, 0.0, 0.0, 0.0]   \n",
       "2626                     1         [0.0, 0.0, 0.0, 0.0]   \n",
       "2627                     1         [0.0, 0.0, 0.0, 0.0]   \n",
       "2628                     1         [0.0, 0.0, 0.0, 0.0]   \n",
       "\n",
       "     Port_1-2-3-4_RewardAmount  Repeat_Filter  TrialStart_EphysTime  \\\n",
       "0         [0.0, 0.0, 0.0, 0.0]              0           5109.194649   \n",
       "1         [0.0, 0.0, 0.0, 0.0]              0           5109.194649   \n",
       "2         [0.0, 0.0, 0.0, 0.0]              0           5186.554024   \n",
       "3         [0.0, 0.0, 0.0, 0.0]              1           5186.554024   \n",
       "4         [0.0, 0.0, 0.0, 0.0]              1           5186.554024   \n",
       "...                        ...            ...                   ...   \n",
       "2624      [0.0, 0.0, 0.0, 0.0]              0           7696.425015   \n",
       "2625      [0.0, 0.0, 0.0, 0.0]              1           7696.425015   \n",
       "2626      [0.0, 0.0, 0.0, 0.0]              1           7696.425015   \n",
       "2627      [0.0, 0.0, 0.0, 0.0]              1           7696.425015   \n",
       "2628      [0.0, 0.0, 0.0, 0.0]              1           7696.425015   \n",
       "\n",
       "      FirstPoke_EphysTime  PokeIN_EphysTime  PokeOUT_EphysTime  \n",
       "0             5154.552326       5154.550849        5154.827749  \n",
       "1                     NaN       5174.736549        5174.743849  \n",
       "2             5205.972136       5205.971524        5205.976824  \n",
       "3                     NaN       5207.145424        5207.177324  \n",
       "4                     NaN       5207.237524        5210.350724  \n",
       "...                   ...               ...                ...  \n",
       "2624                  NaN       7698.396315        7698.401815  \n",
       "2625                  NaN       7698.404115        7698.709015  \n",
       "2626                  NaN       7698.548115        7698.683115  \n",
       "2627                  NaN       7699.238215        7699.337415  \n",
       "2628                  NaN       7699.789915        7700.067315  \n",
       "\n",
       "[2629 rows x 19 columns]"
      ]
     },
     "execution_count": 629,
     "metadata": {},
     "output_type": "execute_result"
    }
   ],
   "source": [
    "new_Transition_df"
   ]
  },
  {
   "cell_type": "markdown",
   "id": "0c873d80",
   "metadata": {},
   "source": [
    "# CLOCK TASK"
   ]
  },
  {
   "cell_type": "code",
   "execution_count": 1804,
   "id": "22eca426",
   "metadata": {},
   "outputs": [],
   "source": [
    "spikes_input_path = r\"Z:\\projects\\sequence_squad\\data\\kilosort_output\\EJT149\\Recording4\\2021-11-19_13-05-19\\Processed_data\" + \"\\\\\"\n",
    "camera_ts_path = r\"Z:\\projects\\sequence_squad\\data\\processed_bpod_data\\EJT149\\Preprocessed\\03_20211119_130408_Fri\\CLOCK\" + \"\\\\\" \n",
    "\n",
    "### import camera data \n",
    "\n",
    "filename = 'ClockPokeData_camera_ephys_aligned.csv'\n",
    "Poke_data_EPhys = pd.read_csv(spikes_input_path + filename)\n",
    "\n",
    "for file in os.listdir(camera_ts_path):\n",
    "    if 'back' in file:\n",
    "        print(file)\n",
    "        back_camera = pd.read_csv(camera_ts_path + file)\n",
    "    if 'bottom' in file:\n",
    "        print(file)\n",
    "        bottom_camera = pd.read_csv(camera_ts_path + file)        \n",
    "    if 'side' in file: \n",
    "        print(file)\n",
    "        side_camera = pd.read_csv(camera_ts_path + file)        \n",
    "    if 'above' in file:\n",
    "        print('ABOVE file!!!')\n"
   ]
  },
  {
   "cell_type": "code",
   "execution_count": 1805,
   "id": "dbbd6ae3",
   "metadata": {},
   "outputs": [
    {
     "data": {
      "text/html": [
       "<div>\n",
       "<style scoped>\n",
       "    .dataframe tbody tr th:only-of-type {\n",
       "        vertical-align: middle;\n",
       "    }\n",
       "\n",
       "    .dataframe tbody tr th {\n",
       "        vertical-align: top;\n",
       "    }\n",
       "\n",
       "    .dataframe thead th {\n",
       "        text-align: right;\n",
       "    }\n",
       "</style>\n",
       "<table border=\"1\" class=\"dataframe\">\n",
       "  <thead>\n",
       "    <tr style=\"text-align: right;\">\n",
       "      <th></th>\n",
       "      <th>Unnamed: 0</th>\n",
       "      <th>Unnamed: 0.1</th>\n",
       "      <th>Trial_id</th>\n",
       "      <th>Trial_sequence</th>\n",
       "      <th>Trial_Start</th>\n",
       "      <th>Port</th>\n",
       "      <th>PokeIn_Time</th>\n",
       "      <th>PokeOut_Time</th>\n",
       "      <th>Reward_Times</th>\n",
       "      <th>Trial_End</th>\n",
       "      <th>...</th>\n",
       "      <th>BOTTOM_Trial_Start_Camera_Time</th>\n",
       "      <th>BOTTOM_Trial_End_Camera_Time</th>\n",
       "      <th>BOTTOM_First_poke_Camera_Time</th>\n",
       "      <th>SIDE_Trial_Start_Camera_Time</th>\n",
       "      <th>SIDE_Trial_End_Camera_Time</th>\n",
       "      <th>SIDE_First_poke_Camera_Time</th>\n",
       "      <th>TrialStart_EphysTime</th>\n",
       "      <th>FirstPoke_EphysTime</th>\n",
       "      <th>PokeIN_EphysTime</th>\n",
       "      <th>PokeOUT_EphysTime</th>\n",
       "    </tr>\n",
       "  </thead>\n",
       "  <tbody>\n",
       "    <tr>\n",
       "      <th>0</th>\n",
       "      <td>0</td>\n",
       "      <td>0</td>\n",
       "      <td>1</td>\n",
       "      <td>[1, 5]</td>\n",
       "      <td>21.7872</td>\n",
       "      <td>3</td>\n",
       "      <td>21.8150</td>\n",
       "      <td>21.8239</td>\n",
       "      <td>NaN</td>\n",
       "      <td>38.4082</td>\n",
       "      <td>...</td>\n",
       "      <td>Cameras Corrupted  no video data</td>\n",
       "      <td>Cameras Corrupted  no video data</td>\n",
       "      <td>Cameras Corrupted  no video data</td>\n",
       "      <td>Cameras Corrupted  no video data</td>\n",
       "      <td>Cameras Corrupted  no video data</td>\n",
       "      <td>Cameras Corrupted  no video data</td>\n",
       "      <td>2396.439356</td>\n",
       "      <td>NaN</td>\n",
       "      <td>2396.467156</td>\n",
       "      <td>2396.476056</td>\n",
       "    </tr>\n",
       "    <tr>\n",
       "      <th>1</th>\n",
       "      <td>1</td>\n",
       "      <td>1</td>\n",
       "      <td>1</td>\n",
       "      <td>[1, 5]</td>\n",
       "      <td>21.7872</td>\n",
       "      <td>1</td>\n",
       "      <td>30.4902</td>\n",
       "      <td>30.5190</td>\n",
       "      <td>NaN</td>\n",
       "      <td>38.4082</td>\n",
       "      <td>...</td>\n",
       "      <td>Cameras Corrupted  no video data</td>\n",
       "      <td>Cameras Corrupted  no video data</td>\n",
       "      <td>Cameras Corrupted  no video data</td>\n",
       "      <td>Cameras Corrupted  no video data</td>\n",
       "      <td>Cameras Corrupted  no video data</td>\n",
       "      <td>Cameras Corrupted  no video data</td>\n",
       "      <td>2396.439356</td>\n",
       "      <td>2405.142658</td>\n",
       "      <td>2405.142356</td>\n",
       "      <td>2405.171156</td>\n",
       "    </tr>\n",
       "    <tr>\n",
       "      <th>2</th>\n",
       "      <td>2</td>\n",
       "      <td>2</td>\n",
       "      <td>1</td>\n",
       "      <td>[1, 5]</td>\n",
       "      <td>21.7872</td>\n",
       "      <td>1</td>\n",
       "      <td>30.5280</td>\n",
       "      <td>30.5974</td>\n",
       "      <td>NaN</td>\n",
       "      <td>38.4082</td>\n",
       "      <td>...</td>\n",
       "      <td>Cameras Corrupted  no video data</td>\n",
       "      <td>Cameras Corrupted  no video data</td>\n",
       "      <td>Cameras Corrupted  no video data</td>\n",
       "      <td>Cameras Corrupted  no video data</td>\n",
       "      <td>Cameras Corrupted  no video data</td>\n",
       "      <td>Cameras Corrupted  no video data</td>\n",
       "      <td>2396.439356</td>\n",
       "      <td>NaN</td>\n",
       "      <td>2405.180156</td>\n",
       "      <td>2405.249556</td>\n",
       "    </tr>\n",
       "    <tr>\n",
       "      <th>3</th>\n",
       "      <td>3</td>\n",
       "      <td>3</td>\n",
       "      <td>1</td>\n",
       "      <td>[1, 5]</td>\n",
       "      <td>21.7872</td>\n",
       "      <td>1</td>\n",
       "      <td>30.6383</td>\n",
       "      <td>33.4565</td>\n",
       "      <td>NaN</td>\n",
       "      <td>38.4082</td>\n",
       "      <td>...</td>\n",
       "      <td>Cameras Corrupted  no video data</td>\n",
       "      <td>Cameras Corrupted  no video data</td>\n",
       "      <td>Cameras Corrupted  no video data</td>\n",
       "      <td>Cameras Corrupted  no video data</td>\n",
       "      <td>Cameras Corrupted  no video data</td>\n",
       "      <td>Cameras Corrupted  no video data</td>\n",
       "      <td>2396.439356</td>\n",
       "      <td>NaN</td>\n",
       "      <td>2405.290456</td>\n",
       "      <td>2408.108656</td>\n",
       "    </tr>\n",
       "    <tr>\n",
       "      <th>4</th>\n",
       "      <td>4</td>\n",
       "      <td>4</td>\n",
       "      <td>1</td>\n",
       "      <td>[1, 5]</td>\n",
       "      <td>21.7872</td>\n",
       "      <td>1</td>\n",
       "      <td>33.8447</td>\n",
       "      <td>34.4138</td>\n",
       "      <td>NaN</td>\n",
       "      <td>38.4082</td>\n",
       "      <td>...</td>\n",
       "      <td>Cameras Corrupted  no video data</td>\n",
       "      <td>Cameras Corrupted  no video data</td>\n",
       "      <td>Cameras Corrupted  no video data</td>\n",
       "      <td>Cameras Corrupted  no video data</td>\n",
       "      <td>Cameras Corrupted  no video data</td>\n",
       "      <td>Cameras Corrupted  no video data</td>\n",
       "      <td>2396.439356</td>\n",
       "      <td>NaN</td>\n",
       "      <td>2408.496856</td>\n",
       "      <td>2409.065956</td>\n",
       "    </tr>\n",
       "    <tr>\n",
       "      <th>...</th>\n",
       "      <td>...</td>\n",
       "      <td>...</td>\n",
       "      <td>...</td>\n",
       "      <td>...</td>\n",
       "      <td>...</td>\n",
       "      <td>...</td>\n",
       "      <td>...</td>\n",
       "      <td>...</td>\n",
       "      <td>...</td>\n",
       "      <td>...</td>\n",
       "      <td>...</td>\n",
       "      <td>...</td>\n",
       "      <td>...</td>\n",
       "      <td>...</td>\n",
       "      <td>...</td>\n",
       "      <td>...</td>\n",
       "      <td>...</td>\n",
       "      <td>...</td>\n",
       "      <td>...</td>\n",
       "      <td>...</td>\n",
       "      <td>...</td>\n",
       "    </tr>\n",
       "    <tr>\n",
       "      <th>2838</th>\n",
       "      <td>2838</td>\n",
       "      <td>2838</td>\n",
       "      <td>556</td>\n",
       "      <td>[1, 6]</td>\n",
       "      <td>5295.3943</td>\n",
       "      <td>7</td>\n",
       "      <td>5329.8696</td>\n",
       "      <td>5329.8997</td>\n",
       "      <td>NaN</td>\n",
       "      <td>5343.3727</td>\n",
       "      <td>...</td>\n",
       "      <td>Cameras Corrupted  no video data</td>\n",
       "      <td>Cameras Corrupted  no video data</td>\n",
       "      <td>Cameras Corrupted  no video data</td>\n",
       "      <td>Cameras Corrupted  no video data</td>\n",
       "      <td>Cameras Corrupted  no video data</td>\n",
       "      <td>Cameras Corrupted  no video data</td>\n",
       "      <td>7670.228152</td>\n",
       "      <td>NaN</td>\n",
       "      <td>7704.703452</td>\n",
       "      <td>7704.733552</td>\n",
       "    </tr>\n",
       "    <tr>\n",
       "      <th>2839</th>\n",
       "      <td>2839</td>\n",
       "      <td>2839</td>\n",
       "      <td>556</td>\n",
       "      <td>[1, 6]</td>\n",
       "      <td>5295.3943</td>\n",
       "      <td>2</td>\n",
       "      <td>5331.6445</td>\n",
       "      <td>5331.6535</td>\n",
       "      <td>NaN</td>\n",
       "      <td>5343.3727</td>\n",
       "      <td>...</td>\n",
       "      <td>Cameras Corrupted  no video data</td>\n",
       "      <td>Cameras Corrupted  no video data</td>\n",
       "      <td>Cameras Corrupted  no video data</td>\n",
       "      <td>Cameras Corrupted  no video data</td>\n",
       "      <td>Cameras Corrupted  no video data</td>\n",
       "      <td>Cameras Corrupted  no video data</td>\n",
       "      <td>7670.228152</td>\n",
       "      <td>NaN</td>\n",
       "      <td>7706.478352</td>\n",
       "      <td>7706.487352</td>\n",
       "    </tr>\n",
       "    <tr>\n",
       "      <th>2840</th>\n",
       "      <td>2840</td>\n",
       "      <td>2840</td>\n",
       "      <td>556</td>\n",
       "      <td>[1, 6]</td>\n",
       "      <td>5295.3943</td>\n",
       "      <td>2</td>\n",
       "      <td>5331.7204</td>\n",
       "      <td>5331.8607</td>\n",
       "      <td>NaN</td>\n",
       "      <td>5343.3727</td>\n",
       "      <td>...</td>\n",
       "      <td>Cameras Corrupted  no video data</td>\n",
       "      <td>Cameras Corrupted  no video data</td>\n",
       "      <td>Cameras Corrupted  no video data</td>\n",
       "      <td>Cameras Corrupted  no video data</td>\n",
       "      <td>Cameras Corrupted  no video data</td>\n",
       "      <td>Cameras Corrupted  no video data</td>\n",
       "      <td>7670.228152</td>\n",
       "      <td>NaN</td>\n",
       "      <td>7706.554252</td>\n",
       "      <td>7706.694552</td>\n",
       "    </tr>\n",
       "    <tr>\n",
       "      <th>2841</th>\n",
       "      <td>2841</td>\n",
       "      <td>2841</td>\n",
       "      <td>556</td>\n",
       "      <td>[1, 6]</td>\n",
       "      <td>5295.3943</td>\n",
       "      <td>3</td>\n",
       "      <td>5341.8168</td>\n",
       "      <td>5341.9463</td>\n",
       "      <td>NaN</td>\n",
       "      <td>5343.3727</td>\n",
       "      <td>...</td>\n",
       "      <td>Cameras Corrupted  no video data</td>\n",
       "      <td>Cameras Corrupted  no video data</td>\n",
       "      <td>Cameras Corrupted  no video data</td>\n",
       "      <td>Cameras Corrupted  no video data</td>\n",
       "      <td>Cameras Corrupted  no video data</td>\n",
       "      <td>Cameras Corrupted  no video data</td>\n",
       "      <td>7670.228152</td>\n",
       "      <td>NaN</td>\n",
       "      <td>7716.650652</td>\n",
       "      <td>7716.780152</td>\n",
       "    </tr>\n",
       "    <tr>\n",
       "      <th>2842</th>\n",
       "      <td>2842</td>\n",
       "      <td>2842</td>\n",
       "      <td>556</td>\n",
       "      <td>[1, 6]</td>\n",
       "      <td>5295.3943</td>\n",
       "      <td>6</td>\n",
       "      <td>5342.9484</td>\n",
       "      <td>NaN</td>\n",
       "      <td>5342.9484</td>\n",
       "      <td>5343.3727</td>\n",
       "      <td>...</td>\n",
       "      <td>Cameras Corrupted  no video data</td>\n",
       "      <td>Cameras Corrupted  no video data</td>\n",
       "      <td>Cameras Corrupted  no video data</td>\n",
       "      <td>Cameras Corrupted  no video data</td>\n",
       "      <td>Cameras Corrupted  no video data</td>\n",
       "      <td>Cameras Corrupted  no video data</td>\n",
       "      <td>7670.228152</td>\n",
       "      <td>NaN</td>\n",
       "      <td>7717.782252</td>\n",
       "      <td>NaN</td>\n",
       "    </tr>\n",
       "  </tbody>\n",
       "</table>\n",
       "<p>2843 rows × 23 columns</p>\n",
       "</div>"
      ],
      "text/plain": [
       "      Unnamed: 0  Unnamed: 0.1  Trial_id Trial_sequence  Trial_Start  Port  \\\n",
       "0              0             0         1         [1, 5]      21.7872     3   \n",
       "1              1             1         1         [1, 5]      21.7872     1   \n",
       "2              2             2         1         [1, 5]      21.7872     1   \n",
       "3              3             3         1         [1, 5]      21.7872     1   \n",
       "4              4             4         1         [1, 5]      21.7872     1   \n",
       "...          ...           ...       ...            ...          ...   ...   \n",
       "2838        2838          2838       556         [1, 6]    5295.3943     7   \n",
       "2839        2839          2839       556         [1, 6]    5295.3943     2   \n",
       "2840        2840          2840       556         [1, 6]    5295.3943     2   \n",
       "2841        2841          2841       556         [1, 6]    5295.3943     3   \n",
       "2842        2842          2842       556         [1, 6]    5295.3943     6   \n",
       "\n",
       "      PokeIn_Time  PokeOut_Time  Reward_Times  Trial_End  ...  \\\n",
       "0         21.8150       21.8239           NaN    38.4082  ...   \n",
       "1         30.4902       30.5190           NaN    38.4082  ...   \n",
       "2         30.5280       30.5974           NaN    38.4082  ...   \n",
       "3         30.6383       33.4565           NaN    38.4082  ...   \n",
       "4         33.8447       34.4138           NaN    38.4082  ...   \n",
       "...           ...           ...           ...        ...  ...   \n",
       "2838    5329.8696     5329.8997           NaN  5343.3727  ...   \n",
       "2839    5331.6445     5331.6535           NaN  5343.3727  ...   \n",
       "2840    5331.7204     5331.8607           NaN  5343.3727  ...   \n",
       "2841    5341.8168     5341.9463           NaN  5343.3727  ...   \n",
       "2842    5342.9484           NaN     5342.9484  5343.3727  ...   \n",
       "\n",
       "        BOTTOM_Trial_Start_Camera_Time      BOTTOM_Trial_End_Camera_Time  \\\n",
       "0     Cameras Corrupted  no video data  Cameras Corrupted  no video data   \n",
       "1     Cameras Corrupted  no video data  Cameras Corrupted  no video data   \n",
       "2     Cameras Corrupted  no video data  Cameras Corrupted  no video data   \n",
       "3     Cameras Corrupted  no video data  Cameras Corrupted  no video data   \n",
       "4     Cameras Corrupted  no video data  Cameras Corrupted  no video data   \n",
       "...                                ...                               ...   \n",
       "2838  Cameras Corrupted  no video data  Cameras Corrupted  no video data   \n",
       "2839  Cameras Corrupted  no video data  Cameras Corrupted  no video data   \n",
       "2840  Cameras Corrupted  no video data  Cameras Corrupted  no video data   \n",
       "2841  Cameras Corrupted  no video data  Cameras Corrupted  no video data   \n",
       "2842  Cameras Corrupted  no video data  Cameras Corrupted  no video data   \n",
       "\n",
       "         BOTTOM_First_poke_Camera_Time      SIDE_Trial_Start_Camera_Time  \\\n",
       "0     Cameras Corrupted  no video data  Cameras Corrupted  no video data   \n",
       "1     Cameras Corrupted  no video data  Cameras Corrupted  no video data   \n",
       "2     Cameras Corrupted  no video data  Cameras Corrupted  no video data   \n",
       "3     Cameras Corrupted  no video data  Cameras Corrupted  no video data   \n",
       "4     Cameras Corrupted  no video data  Cameras Corrupted  no video data   \n",
       "...                                ...                               ...   \n",
       "2838  Cameras Corrupted  no video data  Cameras Corrupted  no video data   \n",
       "2839  Cameras Corrupted  no video data  Cameras Corrupted  no video data   \n",
       "2840  Cameras Corrupted  no video data  Cameras Corrupted  no video data   \n",
       "2841  Cameras Corrupted  no video data  Cameras Corrupted  no video data   \n",
       "2842  Cameras Corrupted  no video data  Cameras Corrupted  no video data   \n",
       "\n",
       "            SIDE_Trial_End_Camera_Time       SIDE_First_poke_Camera_Time  \\\n",
       "0     Cameras Corrupted  no video data  Cameras Corrupted  no video data   \n",
       "1     Cameras Corrupted  no video data  Cameras Corrupted  no video data   \n",
       "2     Cameras Corrupted  no video data  Cameras Corrupted  no video data   \n",
       "3     Cameras Corrupted  no video data  Cameras Corrupted  no video data   \n",
       "4     Cameras Corrupted  no video data  Cameras Corrupted  no video data   \n",
       "...                                ...                               ...   \n",
       "2838  Cameras Corrupted  no video data  Cameras Corrupted  no video data   \n",
       "2839  Cameras Corrupted  no video data  Cameras Corrupted  no video data   \n",
       "2840  Cameras Corrupted  no video data  Cameras Corrupted  no video data   \n",
       "2841  Cameras Corrupted  no video data  Cameras Corrupted  no video data   \n",
       "2842  Cameras Corrupted  no video data  Cameras Corrupted  no video data   \n",
       "\n",
       "     TrialStart_EphysTime FirstPoke_EphysTime PokeIN_EphysTime  \\\n",
       "0             2396.439356                 NaN      2396.467156   \n",
       "1             2396.439356         2405.142658      2405.142356   \n",
       "2             2396.439356                 NaN      2405.180156   \n",
       "3             2396.439356                 NaN      2405.290456   \n",
       "4             2396.439356                 NaN      2408.496856   \n",
       "...                   ...                 ...              ...   \n",
       "2838          7670.228152                 NaN      7704.703452   \n",
       "2839          7670.228152                 NaN      7706.478352   \n",
       "2840          7670.228152                 NaN      7706.554252   \n",
       "2841          7670.228152                 NaN      7716.650652   \n",
       "2842          7670.228152                 NaN      7717.782252   \n",
       "\n",
       "      PokeOUT_EphysTime  \n",
       "0           2396.476056  \n",
       "1           2405.171156  \n",
       "2           2405.249556  \n",
       "3           2408.108656  \n",
       "4           2409.065956  \n",
       "...                 ...  \n",
       "2838        7704.733552  \n",
       "2839        7706.487352  \n",
       "2840        7706.694552  \n",
       "2841        7716.780152  \n",
       "2842                NaN  \n",
       "\n",
       "[2843 rows x 23 columns]"
      ]
     },
     "execution_count": 1805,
     "metadata": {},
     "output_type": "execute_result"
    }
   ],
   "source": [
    "Poke_data_EPhys"
   ]
  },
  {
   "cell_type": "code",
   "execution_count": 1806,
   "id": "929ea959",
   "metadata": {},
   "outputs": [
    {
     "data": {
      "text/plain": [
       "318"
      ]
     },
     "execution_count": 1806,
     "metadata": {},
     "output_type": "execute_result"
    }
   ],
   "source": [
    "318"
   ]
  },
  {
   "cell_type": "code",
   "execution_count": 1807,
   "id": "ff573f2e",
   "metadata": {},
   "outputs": [
    {
     "data": {
      "text/plain": [
       "626"
      ]
     },
     "execution_count": 1807,
     "metadata": {},
     "output_type": "execute_result"
    }
   ],
   "source": [
    "len(Poke1_camera_inds)"
   ]
  },
  {
   "cell_type": "code",
   "execution_count": 1808,
   "id": "d61b43ab",
   "metadata": {},
   "outputs": [],
   "source": [
    "# how do the cams work for the clock task "
   ]
  },
  {
   "cell_type": "markdown",
   "id": "a79aa2d7",
   "metadata": {},
   "source": [
    "# Back camera"
   ]
  },
  {
   "cell_type": "code",
   "execution_count": 1809,
   "id": "32857c08",
   "metadata": {},
   "outputs": [
    {
     "name": "stdout",
     "output_type": "stream",
     "text": [
      "blue x should be at uptick\n",
      "red should be a downtick\n"
     ]
    },
    {
     "data": {
      "image/png": "[encoded data removed]",
      "text/plain": [
       "<Figure size 432x288 with 1 Axes>"
      ]
     },
     "metadata": {
      "needs_background": "light"
     },
     "output_type": "display_data"
    }
   ],
   "source": [
    "### BACK find camera triggers: \n",
    "\n",
    "Camera_trig_states = back_camera['Trigger State'].values\n",
    "\n",
    "where_ttl_changes = list(np.where(np.roll(Camera_trig_states,1)!=Camera_trig_states)[0])\n",
    "if where_ttl_changes[0] == 0:\n",
    "    where_ttl_changes = where_ttl_changes[1::]\n",
    "Poke1_camera_inds = np.array(where_ttl_changes[1::2])\n",
    "Trial_start_camera_inds= np.array(where_ttl_changes[0::2])\n",
    "\n",
    "## check this is correct:\n",
    "plt.plot(Poke1_camera_inds,np.ones(len(Poke1_camera_inds)),'x', color = 'red')\n",
    "plt.plot(Trial_start_camera_inds,np.zeros(len(Trial_start_camera_inds)),'x',color = 'blue')\n",
    "plt.plot(back_camera['Trigger State'].values, color = 'grey')\n",
    "\n",
    "plt.xlim([max(where_ttl_changes)-3000, max(where_ttl_changes)])\n",
    "\n",
    "\n",
    "print('blue x should be at uptick')\n",
    "print('red should be a downtick') \n",
    "\n"
   ]
  },
  {
   "cell_type": "code",
   "execution_count": 1810,
   "id": "e2dec253",
   "metadata": {
    "scrolled": true
   },
   "outputs": [
    {
     "data": {
      "text/plain": [
       "[<matplotlib.lines.Line2D at 0x269177b8eb0>]"
      ]
     },
     "execution_count": 1810,
     "metadata": {},
     "output_type": "execute_result"
    },
    {
     "data": {
      "image/png": "[encoded data removed]",
      "text/plain": [
       "<Figure size 432x288 with 1 Axes>"
      ]
     },
     "metadata": {
      "needs_background": "light"
     },
     "output_type": "display_data"
    }
   ],
   "source": [
    "plt.plot(np.diff(Trial_start_camera_inds/60))\n",
    "plt.plot(np.diff(Poke_data_EPhys.Trial_Start.unique()))\n",
    "# plt.xlim([242, 260])"
   ]
  },
  {
   "cell_type": "code",
   "execution_count": 1811,
   "id": "0ebffa5a",
   "metadata": {
    "scrolled": false
   },
   "outputs": [
    {
     "ename": "ValueError",
     "evalue": "operands could not be broadcast together with shapes (624,) (555,) ",
     "output_type": "error",
     "traceback": [
      "\u001b[1;31m---------------------------------------------------------------------------\u001b[0m",
      "\u001b[1;31mValueError\u001b[0m                                Traceback (most recent call last)",
      "\u001b[1;32m<ipython-input-1811-090425c019b9>\u001b[0m in \u001b[0;36m<module>\u001b[1;34m\u001b[0m\n\u001b[0;32m      1\u001b[0m \u001b[1;31m# plt.plot(np.diff(Trial_start_camera_inds/60) - np.diff(Poke_data_EPhys.Trial_Start.unique()))\u001b[0m\u001b[1;33m\u001b[0m\u001b[1;33m\u001b[0m\u001b[1;33m\u001b[0m\u001b[0m\n\u001b[1;32m----> 2\u001b[1;33m \u001b[0mplt\u001b[0m\u001b[1;33m.\u001b[0m\u001b[0mplot\u001b[0m\u001b[1;33m(\u001b[0m\u001b[0mnp\u001b[0m\u001b[1;33m.\u001b[0m\u001b[0mdiff\u001b[0m\u001b[1;33m(\u001b[0m\u001b[0mTrial_start_camera_inds\u001b[0m\u001b[1;33m/\u001b[0m\u001b[1;36m60\u001b[0m\u001b[1;33m)\u001b[0m\u001b[1;33m[\u001b[0m\u001b[1;36m0\u001b[0m\u001b[1;33m:\u001b[0m\u001b[1;33m-\u001b[0m\u001b[1;36m1\u001b[0m\u001b[1;33m]\u001b[0m \u001b[1;33m-\u001b[0m \u001b[0mnp\u001b[0m\u001b[1;33m.\u001b[0m\u001b[0mdiff\u001b[0m\u001b[1;33m(\u001b[0m\u001b[0mPoke_data_EPhys\u001b[0m\u001b[1;33m.\u001b[0m\u001b[0mTrial_Start\u001b[0m\u001b[1;33m.\u001b[0m\u001b[0munique\u001b[0m\u001b[1;33m(\u001b[0m\u001b[1;33m)\u001b[0m\u001b[1;33m)\u001b[0m\u001b[1;33m)\u001b[0m\u001b[1;33m\u001b[0m\u001b[1;33m\u001b[0m\u001b[0m\n\u001b[0m\u001b[0;32m      3\u001b[0m \u001b[0mplt\u001b[0m\u001b[1;33m.\u001b[0m\u001b[0mylim\u001b[0m\u001b[1;33m(\u001b[0m\u001b[1;33m[\u001b[0m\u001b[1;33m-\u001b[0m\u001b[1;36m.5\u001b[0m\u001b[1;33m,\u001b[0m \u001b[1;36m0.5\u001b[0m\u001b[1;33m]\u001b[0m\u001b[1;33m)\u001b[0m\u001b[1;33m\u001b[0m\u001b[1;33m\u001b[0m\u001b[0m\n\u001b[0;32m      4\u001b[0m \u001b[1;33m\u001b[0m\u001b[0m\n",
      "\u001b[1;31mValueError\u001b[0m: operands could not be broadcast together with shapes (624,) (555,) "
     ]
    }
   ],
   "source": [
    "# plt.plot(np.diff(Trial_start_camera_inds/60) - np.diff(Poke_data_EPhys.Trial_Start.unique()))\n",
    "plt.plot(np.diff(Trial_start_camera_inds/60)[0:-1] - np.diff(Poke_data_EPhys.Trial_Start.unique()))\n",
    "plt.ylim([-.5, 0.5])\n",
    "\n"
   ]
  },
  {
   "cell_type": "code",
   "execution_count": 1812,
   "id": "1fafa512",
   "metadata": {},
   "outputs": [
    {
     "name": "stdout",
     "output_type": "stream",
     "text": [
      "broken - being fixed\n",
      "0\n",
      "fixed\n",
      "2\n",
      "fixed\n",
      "4\n",
      "fixed\n",
      "6\n",
      "fixed\n",
      "8\n",
      "fixed\n",
      "10\n",
      "fixed\n",
      "13\n",
      "fixed\n",
      "15\n",
      "fixed\n",
      "17\n",
      "fixed\n",
      "19\n",
      "fixed\n",
      "21\n",
      "fixed\n",
      "26\n",
      "fixed\n",
      "28\n",
      "fixed\n",
      "30\n",
      "fixed\n",
      "32\n",
      "fixed\n",
      "34\n",
      "fixed\n",
      "36\n",
      "fixed\n",
      "39\n",
      "fixed\n",
      "41\n",
      "fixed\n",
      "43\n",
      "fixed\n",
      "45\n",
      "fixed\n",
      "47\n",
      "fixed\n",
      "49\n",
      "fixed\n",
      "51\n",
      "fixed\n",
      "53\n",
      "fixed\n",
      "55\n",
      "fixed\n",
      "57\n",
      "fixed\n",
      "61\n",
      "fixed\n",
      "63\n",
      "fixed\n",
      "67\n",
      "fixed\n",
      "71\n",
      "fixed\n",
      "73\n",
      "fixed\n",
      "75\n",
      "fixed\n",
      "77\n",
      "fixed\n",
      "80\n",
      "fixed\n",
      "82\n",
      "fixed\n",
      "84\n",
      "fixed\n",
      "86\n",
      "fixed\n",
      "88\n",
      "fixed\n",
      "91\n",
      "fixed\n",
      "93\n",
      "fixed\n",
      "95\n",
      "fixed\n",
      "97\n",
      "fixed\n",
      "99\n",
      "fixed\n",
      "101\n",
      "fixed\n",
      "103\n",
      "fixed\n",
      "106\n",
      "fixed\n",
      "109\n",
      "fixed\n",
      "113\n",
      "fixed\n",
      "115\n",
      "fixed\n",
      "118\n",
      "fixed\n",
      "121\n",
      "fixed\n",
      "123\n",
      "fixed\n",
      "125\n",
      "fixed\n",
      "127\n",
      "fixed\n",
      "129\n",
      "fixed\n",
      "134\n",
      "fixed\n",
      "136\n",
      "fixed\n",
      "139\n",
      "fixed\n",
      "141\n",
      "fixed\n",
      "143\n",
      "fixed\n",
      "145\n",
      "fixed\n",
      "151\n",
      "fixed\n",
      "153\n",
      "fixed\n",
      "155\n",
      "fixed\n",
      "157\n",
      "fixed\n",
      "160\n",
      "fixed\n",
      "163\n",
      "fixed\n",
      "165\n",
      "fixed\n",
      "167\n",
      "fixed\n",
      "169\n",
      "fixed\n",
      "171\n",
      "fixed\n",
      "173\n",
      "fixed\n",
      "175\n",
      "fixed\n",
      "177\n",
      "fixed\n",
      "179\n",
      "fixed\n",
      "182\n",
      "fixed\n",
      "184\n",
      "fixed\n",
      "186\n",
      "fixed\n",
      "188\n",
      "fixed\n",
      "190\n",
      "fixed\n",
      "192\n",
      "fixed\n",
      "196\n",
      "fixed\n",
      "205\n",
      "fixed\n",
      "207\n",
      "fixed\n",
      "209\n",
      "fixed\n",
      "211\n",
      "fixed\n",
      "213\n",
      "fixed\n",
      "216\n",
      "fixed\n",
      "218\n",
      "fixed\n",
      "220\n",
      "fixed\n",
      "222\n",
      "fixed\n",
      "226\n",
      "fixed\n",
      "229\n",
      "fixed\n",
      "231\n",
      "fixed\n",
      "233\n",
      "fixed\n",
      "235\n",
      "fixed\n",
      "237\n",
      "fixed\n",
      "239\n",
      "fixed\n",
      "242\n",
      "fixed\n",
      "244\n",
      "fixed\n",
      "247\n",
      "fixed\n",
      "249\n",
      "fixed\n",
      "251\n",
      "fixed\n",
      "254\n",
      "fixed\n",
      "256\n",
      "fixed\n",
      "258\n",
      "fixed\n",
      "262\n",
      "fixed\n",
      "264\n",
      "fixed\n",
      "266\n",
      "fixed\n",
      "269\n",
      "fixed\n",
      "272\n",
      "fixed\n",
      "274\n",
      "fixed\n",
      "277\n",
      "fixed\n",
      "280\n",
      "fixed\n",
      "282\n",
      "fixed\n",
      "284\n",
      "fixed\n",
      "286\n",
      "fixed\n",
      "288\n",
      "fixed\n",
      "290\n",
      "fixed\n",
      "292\n",
      "fixed\n",
      "294\n",
      "fixed\n",
      "297\n",
      "fixed\n",
      "300\n",
      "fixed\n",
      "302\n",
      "fixed\n",
      "304\n",
      "fixed\n",
      "306\n",
      "fixed\n",
      "309\n",
      "fixed\n",
      "311\n",
      "fixed\n",
      "313\n",
      "fixed\n",
      "315\n",
      "fixed\n",
      "317\n",
      "fixed\n",
      "319\n",
      "fixed\n",
      "321\n",
      "fixed\n",
      "324\n",
      "fixed\n",
      "327\n",
      "fixed\n",
      "329\n",
      "fixed\n",
      "331\n",
      "fixed\n",
      "336\n",
      "fixed\n",
      "338\n",
      "fixed\n",
      "340\n",
      "fixed\n",
      "342\n",
      "fixed\n",
      "344\n",
      "fixed\n",
      "346\n",
      "fixed\n",
      "348\n",
      "fixed\n",
      "350\n",
      "fixed\n",
      "352\n",
      "fixed\n",
      "354\n",
      "fixed\n",
      "356\n",
      "fixed\n",
      "358\n",
      "fixed\n",
      "360\n",
      "fixed\n",
      "362\n",
      "fixed\n",
      "364\n",
      "fixed\n",
      "366\n",
      "fixed\n",
      "368\n",
      "fixed\n",
      "370\n",
      "fixed\n",
      "373\n",
      "fixed\n",
      "375\n",
      "fixed\n",
      "377\n",
      "fixed\n",
      "379\n",
      "fixed\n",
      "382\n",
      "fixed\n",
      "385\n",
      "fixed\n",
      "389\n",
      "fixed\n",
      "392\n",
      "fixed\n",
      "395\n",
      "fixed\n",
      "397\n",
      "fixed\n",
      "399\n",
      "fixed\n",
      "401\n",
      "fixed\n",
      "403\n",
      "fixed\n",
      "405\n",
      "fixed\n",
      "407\n",
      "fixed\n",
      "409\n",
      "fixed\n",
      "411\n",
      "fixed\n",
      "413\n",
      "fixed\n",
      "415\n",
      "fixed\n",
      "417\n",
      "fixed\n",
      "419\n",
      "fixed\n",
      "422\n",
      "fixed\n",
      "424\n",
      "fixed\n",
      "426\n",
      "fixed\n",
      "428\n",
      "fixed\n",
      "430\n",
      "fixed\n",
      "432\n",
      "fixed\n",
      "434\n",
      "fixed\n",
      "436\n",
      "fixed\n",
      "438\n",
      "fixed\n",
      "440\n",
      "fixed\n",
      "442\n",
      "fixed\n",
      "445\n",
      "fixed\n",
      "447\n",
      "fixed\n",
      "449\n",
      "fixed\n",
      "451\n",
      "fixed\n",
      "453\n",
      "fixed\n",
      "455\n",
      "fixed\n",
      "457\n",
      "fixed\n",
      "459\n",
      "fixed\n",
      "461\n",
      "fixed\n",
      "463\n",
      "fixed\n",
      "469\n",
      "fixed\n",
      "471\n",
      "fixed\n",
      "473\n",
      "fixed\n",
      "475\n",
      "fixed\n",
      "478\n",
      "fixed\n",
      "480\n",
      "fixed\n",
      "482\n",
      "fixed\n",
      "484\n",
      "fixed\n",
      "486\n",
      "fixed\n",
      "488\n",
      "fixed\n",
      "490\n",
      "fixed\n",
      "492\n",
      "fixed\n",
      "494\n",
      "fixed\n",
      "496\n",
      "fixed\n",
      "498\n",
      "fixed\n",
      "501\n",
      "fixed\n",
      "503\n",
      "fixed\n",
      "507\n",
      "fixed\n",
      "509\n",
      "fixed\n",
      "511\n",
      "fixed\n",
      "513\n",
      "fixed\n",
      "515\n",
      "fixed\n",
      "519\n",
      "fixed\n",
      "522\n",
      "fixed\n",
      "524\n",
      "fixed\n",
      "527\n",
      "fixed\n",
      "529\n",
      "fixed\n",
      "531\n",
      "fixed\n",
      "534\n",
      "fixed\n",
      "536\n",
      "fixed\n",
      "538\n",
      "fixed\n",
      "540\n",
      "fixed\n",
      "542\n",
      "fixed\n",
      "544\n",
      "fixed\n",
      "546\n",
      "fixed\n",
      "548\n",
      "fixed\n",
      "550\n",
      "fixed\n",
      "552\n",
      "fixed\n",
      "554\n",
      "fixed\n",
      "fixed\n"
     ]
    },
    {
     "ename": "IndexError",
     "evalue": "index 0 is out of bounds for axis 0 with size 0",
     "output_type": "error",
     "traceback": [
      "\u001b[1;31m---------------------------------------------------------------------------\u001b[0m",
      "\u001b[1;31mValueError\u001b[0m                                Traceback (most recent call last)",
      "\u001b[1;32m<ipython-input-1519-d4f872590548>\u001b[0m in \u001b[0;36mtest_timestamps_\u001b[1;34m(Trial_start_ts, Trial_start_Camera_Ts)\u001b[0m\n\u001b[0;32m      3\u001b[0m     \u001b[1;32mtry\u001b[0m\u001b[1;33m:\u001b[0m\u001b[1;33m\u001b[0m\u001b[1;33m\u001b[0m\u001b[0m\n\u001b[1;32m----> 4\u001b[1;33m         \u001b[0mtrial_start_difference\u001b[0m \u001b[1;33m=\u001b[0m \u001b[1;33m(\u001b[0m\u001b[0mnp\u001b[0m\u001b[1;33m.\u001b[0m\u001b[0mdiff\u001b[0m\u001b[1;33m(\u001b[0m\u001b[0mTrial_start_ts\u001b[0m\u001b[1;33m)\u001b[0m \u001b[1;33m-\u001b[0m \u001b[0mnp\u001b[0m\u001b[1;33m.\u001b[0m\u001b[0mdiff\u001b[0m\u001b[1;33m(\u001b[0m\u001b[0mTrial_start_Camera_Ts\u001b[0m\u001b[1;33m)\u001b[0m\u001b[1;33m[\u001b[0m\u001b[1;36m0\u001b[0m\u001b[1;33m:\u001b[0m\u001b[1;33m-\u001b[0m\u001b[1;36m1\u001b[0m\u001b[1;33m]\u001b[0m\u001b[1;33m)\u001b[0m\u001b[1;33m\u001b[0m\u001b[1;33m\u001b[0m\u001b[0m\n\u001b[0m\u001b[0;32m      5\u001b[0m         \u001b[0mworking\u001b[0m \u001b[1;33m=\u001b[0m \u001b[1;32mTrue\u001b[0m\u001b[1;33m\u001b[0m\u001b[1;33m\u001b[0m\u001b[0m\n",
      "\u001b[1;31mValueError\u001b[0m: operands could not be broadcast together with shapes (555,) (624,) ",
      "\nDuring handling of the above exception, another exception occurred:\n",
      "\u001b[1;31mIndexError\u001b[0m                                Traceback (most recent call last)",
      "\u001b[1;32m<ipython-input-1812-1bf39d5e9dee>\u001b[0m in \u001b[0;36m<module>\u001b[1;34m\u001b[0m\n\u001b[0;32m      1\u001b[0m \u001b[1;31m# perform fix: # puts a nan value where it detects ther is a missing trigger\u001b[0m\u001b[1;33m\u001b[0m\u001b[1;33m\u001b[0m\u001b[1;33m\u001b[0m\u001b[0m\n\u001b[0;32m      2\u001b[0m \u001b[0mtrial_start_bpod_ts\u001b[0m \u001b[1;33m=\u001b[0m \u001b[0mPoke_data_EPhys\u001b[0m\u001b[1;33m.\u001b[0m\u001b[0mTrial_Start\u001b[0m\u001b[1;33m.\u001b[0m\u001b[0munique\u001b[0m\u001b[1;33m(\u001b[0m\u001b[1;33m)\u001b[0m\u001b[1;33m\u001b[0m\u001b[1;33m\u001b[0m\u001b[0m\n\u001b[1;32m----> 3\u001b[1;33m \u001b[0mfixed\u001b[0m \u001b[1;33m=\u001b[0m \u001b[0mtest_timestamps_\u001b[0m\u001b[1;33m(\u001b[0m\u001b[0mtrial_start_bpod_ts\u001b[0m\u001b[1;33m,\u001b[0m\u001b[0mTrial_start_camera_inds\u001b[0m\u001b[1;33m/\u001b[0m\u001b[1;36m60\u001b[0m\u001b[1;33m)\u001b[0m\u001b[1;33m\u001b[0m\u001b[1;33m\u001b[0m\u001b[0m\n\u001b[0m\u001b[0;32m      4\u001b[0m \u001b[1;33m\u001b[0m\u001b[0m\n\u001b[0;32m      5\u001b[0m \u001b[0mfixed_Trial_start_camera_inds\u001b[0m \u001b[1;33m=\u001b[0m \u001b[1;33m(\u001b[0m\u001b[0mfixed\u001b[0m\u001b[1;33m*\u001b[0m\u001b[1;36m60\u001b[0m\u001b[1;33m)\u001b[0m\u001b[1;33m[\u001b[0m\u001b[1;36m0\u001b[0m\u001b[1;33m:\u001b[0m\u001b[0mlen\u001b[0m\u001b[1;33m(\u001b[0m\u001b[0mtrial_start_bpod_ts\u001b[0m\u001b[1;33m)\u001b[0m\u001b[1;33m]\u001b[0m\u001b[1;33m\u001b[0m\u001b[1;33m\u001b[0m\u001b[0m\n",
      "\u001b[1;32m<ipython-input-1519-d4f872590548>\u001b[0m in \u001b[0;36mtest_timestamps_\u001b[1;34m(Trial_start_ts, Trial_start_Camera_Ts)\u001b[0m\n\u001b[0;32m      9\u001b[0m         \u001b[0mtester\u001b[0m \u001b[1;33m=\u001b[0m \u001b[1;32mFalse\u001b[0m\u001b[1;33m\u001b[0m\u001b[1;33m\u001b[0m\u001b[0m\n\u001b[0;32m     10\u001b[0m         \u001b[1;32mwhile\u001b[0m \u001b[0mtester\u001b[0m \u001b[1;33m==\u001b[0m \u001b[1;32mFalse\u001b[0m\u001b[1;33m:\u001b[0m\u001b[1;33m\u001b[0m\u001b[1;33m\u001b[0m\u001b[0m\n\u001b[1;32m---> 11\u001b[1;33m             \u001b[0mTrial_start_Camera_Ts\u001b[0m\u001b[1;33m,\u001b[0m\u001b[0mtester\u001b[0m \u001b[1;33m=\u001b[0m \u001b[0mfix_missing_triggers\u001b[0m\u001b[1;33m(\u001b[0m\u001b[0mTrial_start_ts\u001b[0m\u001b[1;33m,\u001b[0m\u001b[0mTrial_start_Camera_Ts\u001b[0m\u001b[1;33m)\u001b[0m\u001b[1;33m\u001b[0m\u001b[1;33m\u001b[0m\u001b[0m\n\u001b[0m\u001b[0;32m     12\u001b[0m             \u001b[0mprint\u001b[0m\u001b[1;33m(\u001b[0m\u001b[1;34m'fixed'\u001b[0m\u001b[1;33m)\u001b[0m\u001b[1;33m\u001b[0m\u001b[1;33m\u001b[0m\u001b[0m\n\u001b[0;32m     13\u001b[0m         \u001b[0mprint\u001b[0m\u001b[1;33m(\u001b[0m\u001b[1;34m'all fixed'\u001b[0m\u001b[1;33m)\u001b[0m\u001b[1;33m\u001b[0m\u001b[1;33m\u001b[0m\u001b[0m\n",
      "\u001b[1;32m<ipython-input-1519-d4f872590548>\u001b[0m in \u001b[0;36mfix_missing_triggers\u001b[1;34m(Trial_start_ts, Trial_start_Camera_Ts)\u001b[0m\n\u001b[0;32m     34\u001b[0m     \u001b[0mfixed_trial_strart_ts\u001b[0m\u001b[1;33m=\u001b[0m \u001b[1;33m[\u001b[0m\u001b[1;33m]\u001b[0m\u001b[1;33m\u001b[0m\u001b[1;33m\u001b[0m\u001b[0m\n\u001b[0;32m     35\u001b[0m     \u001b[1;32mfor\u001b[0m \u001b[0mindex\u001b[0m\u001b[1;33m,\u001b[0m\u001b[0mitem\u001b[0m \u001b[1;32min\u001b[0m \u001b[0menumerate\u001b[0m\u001b[1;33m(\u001b[0m\u001b[0mnp\u001b[0m\u001b[1;33m.\u001b[0m\u001b[0mdiff\u001b[0m\u001b[1;33m(\u001b[0m\u001b[0mTrial_start_ts\u001b[0m\u001b[1;33m)\u001b[0m\u001b[1;33m)\u001b[0m\u001b[1;33m:\u001b[0m\u001b[1;33m\u001b[0m\u001b[1;33m\u001b[0m\u001b[0m\n\u001b[1;32m---> 36\u001b[1;33m         \u001b[1;32mif\u001b[0m \u001b[0mabs\u001b[0m\u001b[1;33m(\u001b[0m\u001b[0mitem\u001b[0m \u001b[1;33m-\u001b[0m \u001b[0mnp\u001b[0m\u001b[1;33m.\u001b[0m\u001b[0mdiff\u001b[0m\u001b[1;33m(\u001b[0m\u001b[0mTrial_start_Camera_Ts\u001b[0m\u001b[1;33m)\u001b[0m\u001b[1;33m[\u001b[0m\u001b[0mindex\u001b[0m\u001b[1;33m]\u001b[0m\u001b[1;33m)\u001b[0m \u001b[1;33m>\u001b[0m \u001b[1;36m1\u001b[0m\u001b[1;33m:\u001b[0m\u001b[1;33m\u001b[0m\u001b[1;33m\u001b[0m\u001b[0m\n\u001b[0m\u001b[0;32m     37\u001b[0m \u001b[1;31m#             missing_trigger = Trial_start_Camera_Ts[index]+np.diff(Trial_start_ts)[index]\u001b[0m\u001b[1;33m\u001b[0m\u001b[1;33m\u001b[0m\u001b[1;33m\u001b[0m\u001b[0m\n\u001b[0;32m     38\u001b[0m             \u001b[0mmissing_trigger\u001b[0m \u001b[1;33m=\u001b[0m \u001b[0mnp\u001b[0m\u001b[1;33m.\u001b[0m\u001b[0mnan\u001b[0m\u001b[1;33m\u001b[0m\u001b[1;33m\u001b[0m\u001b[0m\n",
      "\u001b[1;31mIndexError\u001b[0m: index 0 is out of bounds for axis 0 with size 0"
     ]
    }
   ],
   "source": [
    "# perform fix: # puts a nan value where it detects ther is a missing trigger\n",
    "trial_start_bpod_ts = Poke_data_EPhys.Trial_Start.unique()\n",
    "fixed = test_timestamps_(trial_start_bpod_ts,Trial_start_camera_inds/60)\n",
    "\n",
    "fixed_Trial_start_camera_inds = (fixed*60)[0:len(trial_start_bpod_ts)]"
   ]
  },
  {
   "cell_type": "code",
   "execution_count": 1484,
   "id": "d74e5181",
   "metadata": {},
   "outputs": [
    {
     "data": {
      "text/plain": [
       "[<matplotlib.lines.Line2D at 0x26911c0adf0>]"
      ]
     },
     "execution_count": 1484,
     "metadata": {},
     "output_type": "execute_result"
    },
    {
     "data": {
      "image/png": "[encoded data removed]",
      "text/plain": [
       "<Figure size 432x288 with 1 Axes>"
      ]
     },
     "metadata": {
      "needs_background": "light"
     },
     "output_type": "display_data"
    }
   ],
   "source": [
    "### run tests on fixed data \n",
    "\n",
    "plt.plot(np.diff(fixed_Trial_start_camera_inds/60), color = 'red')\n",
    "plt.plot(np.diff(Poke_data_EPhys.Trial_Start.unique()), color = 'green')"
   ]
  },
  {
   "cell_type": "code",
   "execution_count": 1485,
   "id": "bee2868c",
   "metadata": {},
   "outputs": [
    {
     "data": {
      "text/plain": [
       "(-0.5, 0.5)"
      ]
     },
     "execution_count": 1485,
     "metadata": {},
     "output_type": "execute_result"
    },
    {
     "data": {
      "image/png": "[encoded data removed]",
      "text/plain": [
       "<Figure size 432x288 with 1 Axes>"
      ]
     },
     "metadata": {
      "needs_background": "light"
     },
     "output_type": "display_data"
    }
   ],
   "source": [
    "plt.plot(np.diff(fixed_Trial_start_camera_inds/60) - np.diff(Poke_data_EPhys.Trial_Start.unique()), color = 'red')\n",
    "plt.ylim([-.5, 0.5])"
   ]
  },
  {
   "cell_type": "code",
   "execution_count": 1486,
   "id": "100d3798",
   "metadata": {},
   "outputs": [
    {
     "name": "stdout",
     "output_type": "stream",
     "text": [
      "start end diffs\n",
      "for ephys ts:      3960.7\n",
      "for behav ts:      3958.5329\n",
      "ofset tot is:   2.167099999999806\n"
     ]
    }
   ],
   "source": [
    "\n",
    "print('start end diffs')\n",
    "print('for ephys ts:      '+ str((fixed_Trial_start_camera_inds/60)[-1] - (fixed_Trial_start_camera_inds/60)[0]))\n",
    "print('for behav ts:      ' + str(trial_start_bpod_ts[-1] -  trial_start_bpod_ts[0])) \n",
    "\n",
    "count = 0\n",
    "for item in (np.diff(fixed_Trial_start_camera_inds/60) - np.diff(Poke_data_EPhys.Trial_Start.unique())):\n",
    "    if not np.isnan(item):\n",
    "        count = count + item \n",
    "print('ofset tot is:   ' + str(count))\n",
    "\n",
    "Fixed_back_cam_tstart_ts = fixed_Trial_start_camera_inds"
   ]
  },
  {
   "cell_type": "code",
   "execution_count": null,
   "id": "0a302526",
   "metadata": {},
   "outputs": [],
   "source": []
  },
  {
   "cell_type": "markdown",
   "id": "962b5953",
   "metadata": {},
   "source": [
    "# bottom"
   ]
  },
  {
   "cell_type": "code",
   "execution_count": 1487,
   "id": "9ea40015",
   "metadata": {},
   "outputs": [
    {
     "name": "stdout",
     "output_type": "stream",
     "text": [
      "blue x should be at uptick\n",
      "red should be a downtick\n"
     ]
    },
    {
     "data": {
      "image/png": "[encoded data removed]",
      "text/plain": [
       "<Figure size 432x288 with 1 Axes>"
      ]
     },
     "metadata": {
      "needs_background": "light"
     },
     "output_type": "display_data"
    }
   ],
   "source": [
    "### bottom find camera triggers: \n",
    "\n",
    "Camera_trig_states = bottom_camera['Trigger State'].values\n",
    "\n",
    "where_ttl_changes = list(np.where(np.roll(Camera_trig_states,1)!=Camera_trig_states)[0])\n",
    "if where_ttl_changes[0] == 0:\n",
    "    where_ttl_changes = where_ttl_changes[1::]\n",
    "Poke1_camera_inds = np.array(where_ttl_changes[1::2])\n",
    "Trial_start_camera_inds= np.array(where_ttl_changes[0::2])\n",
    "\n",
    "## check this is correct:\n",
    "plt.plot(Poke1_camera_inds,np.ones(len(Poke1_camera_inds)),'x', color = 'red')\n",
    "plt.plot(Trial_start_camera_inds,np.zeros(len(Trial_start_camera_inds)),'x',color = 'blue')\n",
    "plt.plot(back_camera['Trigger State'].values, color = 'grey')\n",
    "\n",
    "plt.xlim([max(where_ttl_changes)-50000, max(where_ttl_changes)])\n",
    "print('blue x should be at uptick')\n",
    "print('red should be a downtick') \n",
    "\n"
   ]
  },
  {
   "cell_type": "code",
   "execution_count": 1488,
   "id": "0e34c75d",
   "metadata": {},
   "outputs": [
    {
     "data": {
      "text/plain": [
       "[<matplotlib.lines.Line2D at 0x26907c3b0a0>]"
      ]
     },
     "execution_count": 1488,
     "metadata": {},
     "output_type": "execute_result"
    },
    {
     "data": {
      "image/png": "[encoded data removed]",
      "text/plain": [
       "<Figure size 432x288 with 1 Axes>"
      ]
     },
     "metadata": {
      "needs_background": "light"
     },
     "output_type": "display_data"
    }
   ],
   "source": [
    "plt.plot(np.diff(Trial_start_camera_inds/60))\n",
    "plt.plot(np.diff(Poke_data_EPhys.Trial_Start.unique()))\n",
    "# plt.xlim([242, 260])"
   ]
  },
  {
   "cell_type": "code",
   "execution_count": 1489,
   "id": "3192a9bd",
   "metadata": {},
   "outputs": [
    {
     "data": {
      "text/plain": [
       "(-0.5, 0.5)"
      ]
     },
     "execution_count": 1489,
     "metadata": {},
     "output_type": "execute_result"
    },
    {
     "data": {
      "image/png": "[encoded data removed]",
      "text/plain": [
       "<Figure size 432x288 with 1 Axes>"
      ]
     },
     "metadata": {
      "needs_background": "light"
     },
     "output_type": "display_data"
    }
   ],
   "source": [
    "# plt.plot(np.diff(Trial_start_camera_inds/60) - np.diff(Poke_data_EPhys.Trial_Start.unique()))\n",
    "plt.plot(np.diff(Trial_start_camera_inds/60)[0:-1] - np.diff(Poke_data_EPhys.Trial_Start.unique()))\n",
    "plt.ylim([-.5, 0.5])\n"
   ]
  },
  {
   "cell_type": "code",
   "execution_count": 1490,
   "id": "69d10e54",
   "metadata": {
    "scrolled": true
   },
   "outputs": [
    {
     "name": "stdout",
     "output_type": "stream",
     "text": [
      "working\n",
      "test passed!\n"
     ]
    }
   ],
   "source": [
    "# perform fix: # puts a nan value where it detects ther is a missing trigger\n",
    "trial_start_bpod_ts = Poke_data_EPhys.Trial_Start.unique()\n",
    "fixed = test_timestamps_(trial_start_bpod_ts,Trial_start_camera_inds/60)\n",
    "\n",
    "fixed_Trial_start_camera_inds = (fixed*60)[0:len(trial_start_bpod_ts)]"
   ]
  },
  {
   "cell_type": "code",
   "execution_count": 1491,
   "id": "ebe1dc69",
   "metadata": {
    "scrolled": true
   },
   "outputs": [
    {
     "data": {
      "text/plain": [
       "[<matplotlib.lines.Line2D at 0x2690b473f40>]"
      ]
     },
     "execution_count": 1491,
     "metadata": {},
     "output_type": "execute_result"
    },
    {
     "data": {
      "image/png": "[encoded data removed]",
      "text/plain": [
       "<Figure size 432x288 with 1 Axes>"
      ]
     },
     "metadata": {
      "needs_background": "light"
     },
     "output_type": "display_data"
    }
   ],
   "source": [
    "### run tests on fixed data \n",
    "\n",
    "plt.plot(np.diff(fixed_Trial_start_camera_inds/60), color = 'red')\n",
    "plt.plot(np.diff(Poke_data_EPhys.Trial_Start.unique()), color = 'green')"
   ]
  },
  {
   "cell_type": "code",
   "execution_count": 1492,
   "id": "d67566ea",
   "metadata": {
    "scrolled": true
   },
   "outputs": [
    {
     "data": {
      "text/plain": [
       "(-0.5, 0.5)"
      ]
     },
     "execution_count": 1492,
     "metadata": {},
     "output_type": "execute_result"
    },
    {
     "data": {
      "image/png": "[encoded data removed]",
      "text/plain": [
       "<Figure size 432x288 with 1 Axes>"
      ]
     },
     "metadata": {
      "needs_background": "light"
     },
     "output_type": "display_data"
    }
   ],
   "source": [
    "plt.plot(np.diff(fixed_Trial_start_camera_inds/60) - np.diff(Poke_data_EPhys.Trial_Start.unique()), color = 'red')\n",
    "plt.ylim([-.5, 0.5])"
   ]
  },
  {
   "cell_type": "code",
   "execution_count": 1493,
   "id": "e926673b",
   "metadata": {},
   "outputs": [
    {
     "name": "stdout",
     "output_type": "stream",
     "text": [
      "start end diffs\n",
      "for ephys ts:      3960.6833333333334\n",
      "for behav ts:      3958.5329\n",
      "ofset tot is:   2.150433333333382\n"
     ]
    }
   ],
   "source": [
    "\n",
    "print('start end diffs')\n",
    "print('for ephys ts:      '+ str((fixed_Trial_start_camera_inds/60)[-1] - (fixed_Trial_start_camera_inds/60)[0]))\n",
    "print('for behav ts:      ' + str(trial_start_bpod_ts[-1] -  trial_start_bpod_ts[0])) \n",
    "\n",
    "count = 0\n",
    "for item in (np.diff(fixed_Trial_start_camera_inds/60) - np.diff(Poke_data_EPhys.Trial_Start.unique())):\n",
    "    if not np.isnan(item):\n",
    "        count = count + item \n",
    "print('ofset tot is:   ' + str(count))\n",
    "\n",
    "Fixed_bottom_cam_tstart_ts = fixed_Trial_start_camera_inds\n"
   ]
  },
  {
   "cell_type": "code",
   "execution_count": null,
   "id": "49273b93",
   "metadata": {},
   "outputs": [],
   "source": []
  },
  {
   "cell_type": "markdown",
   "id": "b1f48645",
   "metadata": {},
   "source": [
    "# Side"
   ]
  },
  {
   "cell_type": "code",
   "execution_count": 1494,
   "id": "b189f954",
   "metadata": {},
   "outputs": [
    {
     "name": "stdout",
     "output_type": "stream",
     "text": [
      "blue x should be at uptick\n",
      "red should be a downtick\n"
     ]
    },
    {
     "data": {
      "image/png": "[encoded data removed]",
      "text/plain": [
       "<Figure size 432x288 with 1 Axes>"
      ]
     },
     "metadata": {
      "needs_background": "light"
     },
     "output_type": "display_data"
    }
   ],
   "source": [
    "## side find camera triggers: \n",
    "\n",
    "Camera_trig_states = side_camera['Trigger State'].values\n",
    "\n",
    "where_ttl_changes = list(np.where(np.roll(Camera_trig_states,1)!=Camera_trig_states)[0])\n",
    "if where_ttl_changes[0] == 0:\n",
    "    where_ttl_changes = where_ttl_changes[1::]\n",
    "Poke1_camera_inds = np.array(where_ttl_changes[1::2])\n",
    "Trial_start_camera_inds= np.array(where_ttl_changes[0::2])\n",
    "\n",
    "## check this is correct:\n",
    "plt.plot(Poke1_camera_inds,np.ones(len(Poke1_camera_inds)),'x', color = 'red')\n",
    "plt.plot(Trial_start_camera_inds,np.zeros(len(Trial_start_camera_inds)),'x',color = 'blue')\n",
    "plt.plot(back_camera['Trigger State'].values, color = 'grey')\n",
    "\n",
    "plt.xlim([max(where_ttl_changes)-50000, max(where_ttl_changes)])\n",
    "\n",
    "print('blue x should be at uptick')\n",
    "print('red should be a downtick') \n",
    "\n"
   ]
  },
  {
   "cell_type": "code",
   "execution_count": 1495,
   "id": "509978e0",
   "metadata": {},
   "outputs": [
    {
     "data": {
      "text/plain": [
       "[<matplotlib.lines.Line2D at 0x2690ce59be0>]"
      ]
     },
     "execution_count": 1495,
     "metadata": {},
     "output_type": "execute_result"
    },
    {
     "data": {
      "image/png": "[encoded data removed]",
      "text/plain": [
       "<Figure size 432x288 with 1 Axes>"
      ]
     },
     "metadata": {
      "needs_background": "light"
     },
     "output_type": "display_data"
    }
   ],
   "source": [
    "plt.plot(np.diff(Trial_start_camera_inds/60))\n",
    "plt.plot(np.diff(Poke_data_EPhys.Trial_Start.unique()))\n",
    "# plt.xlim([242, 260])"
   ]
  },
  {
   "cell_type": "code",
   "execution_count": 1496,
   "id": "494ee1a5",
   "metadata": {},
   "outputs": [
    {
     "data": {
      "text/plain": [
       "(-0.5, 0.5)"
      ]
     },
     "execution_count": 1496,
     "metadata": {},
     "output_type": "execute_result"
    },
    {
     "data": {
      "image/png": "[encoded data removed]",
      "text/plain": [
       "<Figure size 432x288 with 1 Axes>"
      ]
     },
     "metadata": {
      "needs_background": "light"
     },
     "output_type": "display_data"
    }
   ],
   "source": [
    "# plt.plot(np.diff(Trial_start_camera_inds/60) - np.diff(Poke_data_EPhys.Trial_Start.unique()))\n",
    "plt.plot(np.diff(Trial_start_camera_inds/60)[0:-1] - np.diff(Poke_data_EPhys.Trial_Start.unique()))\n",
    "plt.ylim([-.5, 0.5])\n"
   ]
  },
  {
   "cell_type": "code",
   "execution_count": 1497,
   "id": "72e1e884",
   "metadata": {
    "scrolled": true
   },
   "outputs": [
    {
     "name": "stdout",
     "output_type": "stream",
     "text": [
      "working\n",
      "test passed!\n"
     ]
    }
   ],
   "source": [
    "# perform fix: # puts a nan value where it detects ther is a missing trigger\n",
    "trial_start_bpod_ts = Poke_data_EPhys.Trial_Start.unique()\n",
    "fixed = test_timestamps_(trial_start_bpod_ts,Trial_start_camera_inds/60)\n",
    "\n",
    "fixed_Trial_start_camera_inds = (fixed*60)[0:len(trial_start_bpod_ts)]"
   ]
  },
  {
   "cell_type": "code",
   "execution_count": 1498,
   "id": "29b3a018",
   "metadata": {
    "scrolled": true
   },
   "outputs": [
    {
     "data": {
      "text/plain": [
       "[<matplotlib.lines.Line2D at 0x2690e26ef40>]"
      ]
     },
     "execution_count": 1498,
     "metadata": {},
     "output_type": "execute_result"
    },
    {
     "data": {
      "image/png": "[encoded data removed]",
      "text/plain": [
       "<Figure size 432x288 with 1 Axes>"
      ]
     },
     "metadata": {
      "needs_background": "light"
     },
     "output_type": "display_data"
    }
   ],
   "source": [
    "### run tests on fixed data \n",
    "\n",
    "plt.plot(np.diff(fixed_Trial_start_camera_inds/60), color = 'red')\n",
    "plt.plot(np.diff(Poke_data_EPhys.Trial_Start.unique()), color = 'green')"
   ]
  },
  {
   "cell_type": "code",
   "execution_count": 1499,
   "id": "34ee53f9",
   "metadata": {
    "scrolled": true
   },
   "outputs": [
    {
     "data": {
      "text/plain": [
       "(-0.5, 0.5)"
      ]
     },
     "execution_count": 1499,
     "metadata": {},
     "output_type": "execute_result"
    },
    {
     "data": {
      "image/png": "[encoded data removed]",
      "text/plain": [
       "<Figure size 432x288 with 1 Axes>"
      ]
     },
     "metadata": {
      "needs_background": "light"
     },
     "output_type": "display_data"
    }
   ],
   "source": [
    "plt.plot(np.diff(fixed_Trial_start_camera_inds/60) - np.diff(Poke_data_EPhys.Trial_Start.unique()), color = 'red')\n",
    "plt.ylim([-.5, 0.5])"
   ]
  },
  {
   "cell_type": "code",
   "execution_count": 1500,
   "id": "46b6a41f",
   "metadata": {},
   "outputs": [
    {
     "name": "stdout",
     "output_type": "stream",
     "text": [
      "start end diffs\n",
      "for ephys ts:      3960.7833333333333\n",
      "for behav ts:      3958.5329\n",
      "ofset tot is:   2.250433333333504\n"
     ]
    }
   ],
   "source": [
    "\n",
    "print('start end diffs')\n",
    "print('for ephys ts:      '+ str((fixed_Trial_start_camera_inds/60)[-1] - (fixed_Trial_start_camera_inds/60)[0]))\n",
    "print('for behav ts:      ' + str(trial_start_bpod_ts[-1] -  trial_start_bpod_ts[0])) \n",
    "\n",
    "count = 0\n",
    "for item in (np.diff(fixed_Trial_start_camera_inds/60) - np.diff(Poke_data_EPhys.Trial_Start.unique())):\n",
    "    if not np.isnan(item):\n",
    "        count = count + item \n",
    "print('ofset tot is:   ' + str(count))\n",
    "\n",
    "Fixed_side_cam_tstart_ts = fixed_Trial_start_camera_inds\n"
   ]
  },
  {
   "cell_type": "code",
   "execution_count": null,
   "id": "7cc887ba",
   "metadata": {},
   "outputs": [],
   "source": []
  },
  {
   "cell_type": "code",
   "execution_count": 1501,
   "id": "29f70d55",
   "metadata": {},
   "outputs": [],
   "source": [
    "def align_to_start_ts(trials,fixed_cam_ts):\n",
    "    Camera_timestamps = []\n",
    "    Camera_time = []\n",
    "    for trial in trials :\n",
    "        Camera_timestamps.append(fixed_cam_ts[trial-1])\n",
    "        Camera_time.append(fixed_cam_ts[trial-1]/60)\n",
    "    return Camera_timestamps,Camera_time\n",
    "\n",
    "## alignment: \n",
    "def align_allpokes_to_cam_trialstart(Trials,trial_start_bpod_ts,PokeIn_Time,Fixed_back_cam_tstart_ts):\n",
    "\n",
    "    cam_poke_times = []\n",
    "    for index,trial in enumerate(Trials):\n",
    "        bpod_trial_start = trial_start_bpod_ts[trial-1]\n",
    "        poke_time = PokeIn_Time[index]\n",
    "        diff = poke_time - bpod_trial_start\n",
    "        cam_poke_times = cam_poke_times + [(Fixed_back_cam_tstart_ts[trial-1]/60) + diff]\n",
    "\n",
    "    return cam_poke_times"
   ]
  },
  {
   "cell_type": "code",
   "execution_count": 1502,
   "id": "b5dd60ed",
   "metadata": {},
   "outputs": [],
   "source": [
    "### align fixed and checked timestamps:\n",
    "\n",
    "bottom_aligned_ts,bottom_aligned_time = align_to_start_ts(Poke_data_EPhys.Trial_id.values,Fixed_bottom_cam_tstart_ts)\n",
    "side_aligned_ts,side_aligned_time = align_to_start_ts(Poke_data_EPhys.Trial_id.values,Fixed_side_cam_tstart_ts)\n",
    "back_aligned_ts,back_aligned_time = align_to_start_ts(Poke_data_EPhys.Trial_id.values,Fixed_back_cam_tstart_ts)\n",
    "\n",
    "bottom_pokein_times = align_allpokes_to_cam_trialstart(Poke_data_EPhys.Trial_id.values, Poke_data_EPhys.Trial_Start.unique(), Poke_data_EPhys.PokeIn_Time.values,Fixed_bottom_cam_tstart_ts)\n",
    "side_pokein_times = align_allpokes_to_cam_trialstart(Poke_data_EPhys.Trial_id.values, Poke_data_EPhys.Trial_Start.unique(), Poke_data_EPhys.PokeIn_Time.values,Fixed_side_cam_tstart_ts)\n",
    "back_pokein_times = align_allpokes_to_cam_trialstart(Poke_data_EPhys.Trial_id.values, Poke_data_EPhys.Trial_Start.unique(), Poke_data_EPhys.PokeIn_Time.values,Fixed_back_cam_tstart_ts)\n",
    "\n",
    "bottom_pokeout_times = align_allpokes_to_cam_trialstart(Poke_data_EPhys.Trial_id.values, Poke_data_EPhys.Trial_Start.unique(), Poke_data_EPhys.PokeOut_Time.values,Fixed_bottom_cam_tstart_ts)\n",
    "side_pokeout_times = align_allpokes_to_cam_trialstart(Poke_data_EPhys.Trial_id.values, Poke_data_EPhys.Trial_Start.unique(), Poke_data_EPhys.PokeOut_Time.values,Fixed_side_cam_tstart_ts)\n",
    "back_pokeout_times = align_allpokes_to_cam_trialstart(Poke_data_EPhys.Trial_id.values, Poke_data_EPhys.Trial_Start.unique(), Poke_data_EPhys.PokeOut_Time.values,Fixed_back_cam_tstart_ts)\n"
   ]
  },
  {
   "cell_type": "code",
   "execution_count": 1503,
   "id": "e9be16d5",
   "metadata": {},
   "outputs": [
    {
     "data": {
      "text/html": [
       "<div>\n",
       "<style scoped>\n",
       "    .dataframe tbody tr th:only-of-type {\n",
       "        vertical-align: middle;\n",
       "    }\n",
       "\n",
       "    .dataframe tbody tr th {\n",
       "        vertical-align: top;\n",
       "    }\n",
       "\n",
       "    .dataframe thead th {\n",
       "        text-align: right;\n",
       "    }\n",
       "</style>\n",
       "<table border=\"1\" class=\"dataframe\">\n",
       "  <thead>\n",
       "    <tr style=\"text-align: right;\">\n",
       "      <th></th>\n",
       "      <th>Unnamed: 0</th>\n",
       "      <th>Unnamed: 0.1</th>\n",
       "      <th>Trial_id</th>\n",
       "      <th>Trial_sequence</th>\n",
       "      <th>Trial_Start</th>\n",
       "      <th>Port</th>\n",
       "      <th>PokeIn_Time</th>\n",
       "      <th>PokeOut_Time</th>\n",
       "      <th>Reward_Times</th>\n",
       "      <th>Trial_End</th>\n",
       "      <th>...</th>\n",
       "      <th>BOTTOM_Trial_Start_Camera_Time</th>\n",
       "      <th>BOTTOM_Trial_End_Camera_Time</th>\n",
       "      <th>BOTTOM_First_poke_Camera_Time</th>\n",
       "      <th>SIDE_Trial_Start_Camera_Time</th>\n",
       "      <th>SIDE_Trial_End_Camera_Time</th>\n",
       "      <th>SIDE_First_poke_Camera_Time</th>\n",
       "      <th>TrialStart_EphysTime</th>\n",
       "      <th>FirstPoke_EphysTime</th>\n",
       "      <th>PokeIN_EphysTime</th>\n",
       "      <th>PokeOUT_EphysTime</th>\n",
       "    </tr>\n",
       "  </thead>\n",
       "  <tbody>\n",
       "    <tr>\n",
       "      <th>0</th>\n",
       "      <td>0</td>\n",
       "      <td>0</td>\n",
       "      <td>1</td>\n",
       "      <td>[1, 5]</td>\n",
       "      <td>43.0649</td>\n",
       "      <td>6</td>\n",
       "      <td>70.8615</td>\n",
       "      <td>70.8798</td>\n",
       "      <td>NaN</td>\n",
       "      <td>116.8894</td>\n",
       "      <td>...</td>\n",
       "      <td>51.992000</td>\n",
       "      <td>125.816500</td>\n",
       "      <td>NaN</td>\n",
       "      <td>51.99175</td>\n",
       "      <td>125.81625</td>\n",
       "      <td>NaN</td>\n",
       "      <td>12898.485168</td>\n",
       "      <td>NaN</td>\n",
       "      <td>12926.281768</td>\n",
       "      <td>12926.300068</td>\n",
       "    </tr>\n",
       "    <tr>\n",
       "      <th>1</th>\n",
       "      <td>1</td>\n",
       "      <td>1</td>\n",
       "      <td>1</td>\n",
       "      <td>[1, 5]</td>\n",
       "      <td>43.0649</td>\n",
       "      <td>6</td>\n",
       "      <td>75.6822</td>\n",
       "      <td>75.7364</td>\n",
       "      <td>NaN</td>\n",
       "      <td>116.8894</td>\n",
       "      <td>...</td>\n",
       "      <td>51.992000</td>\n",
       "      <td>125.816500</td>\n",
       "      <td>NaN</td>\n",
       "      <td>51.99175</td>\n",
       "      <td>125.81625</td>\n",
       "      <td>NaN</td>\n",
       "      <td>12898.485168</td>\n",
       "      <td>NaN</td>\n",
       "      <td>12931.102468</td>\n",
       "      <td>12931.156668</td>\n",
       "    </tr>\n",
       "    <tr>\n",
       "      <th>2</th>\n",
       "      <td>2</td>\n",
       "      <td>2</td>\n",
       "      <td>1</td>\n",
       "      <td>[1, 5]</td>\n",
       "      <td>43.0649</td>\n",
       "      <td>6</td>\n",
       "      <td>75.7367</td>\n",
       "      <td>75.7372</td>\n",
       "      <td>NaN</td>\n",
       "      <td>116.8894</td>\n",
       "      <td>...</td>\n",
       "      <td>51.992000</td>\n",
       "      <td>125.816500</td>\n",
       "      <td>NaN</td>\n",
       "      <td>51.99175</td>\n",
       "      <td>125.81625</td>\n",
       "      <td>NaN</td>\n",
       "      <td>12898.485168</td>\n",
       "      <td>NaN</td>\n",
       "      <td>12931.156968</td>\n",
       "      <td>12931.157468</td>\n",
       "    </tr>\n",
       "    <tr>\n",
       "      <th>3</th>\n",
       "      <td>3</td>\n",
       "      <td>3</td>\n",
       "      <td>1</td>\n",
       "      <td>[1, 5]</td>\n",
       "      <td>43.0649</td>\n",
       "      <td>5</td>\n",
       "      <td>77.1021</td>\n",
       "      <td>77.1290</td>\n",
       "      <td>NaN</td>\n",
       "      <td>116.8894</td>\n",
       "      <td>...</td>\n",
       "      <td>51.992000</td>\n",
       "      <td>125.816500</td>\n",
       "      <td>NaN</td>\n",
       "      <td>51.99175</td>\n",
       "      <td>125.81625</td>\n",
       "      <td>NaN</td>\n",
       "      <td>12898.485168</td>\n",
       "      <td>NaN</td>\n",
       "      <td>12932.522368</td>\n",
       "      <td>12932.549268</td>\n",
       "    </tr>\n",
       "    <tr>\n",
       "      <th>4</th>\n",
       "      <td>4</td>\n",
       "      <td>4</td>\n",
       "      <td>1</td>\n",
       "      <td>[1, 5]</td>\n",
       "      <td>43.0649</td>\n",
       "      <td>2</td>\n",
       "      <td>109.7976</td>\n",
       "      <td>109.9994</td>\n",
       "      <td>NaN</td>\n",
       "      <td>116.8894</td>\n",
       "      <td>...</td>\n",
       "      <td>51.992000</td>\n",
       "      <td>125.816500</td>\n",
       "      <td>NaN</td>\n",
       "      <td>51.99175</td>\n",
       "      <td>125.81625</td>\n",
       "      <td>NaN</td>\n",
       "      <td>12898.485168</td>\n",
       "      <td>NaN</td>\n",
       "      <td>12965.217868</td>\n",
       "      <td>12965.419668</td>\n",
       "    </tr>\n",
       "    <tr>\n",
       "      <th>...</th>\n",
       "      <td>...</td>\n",
       "      <td>...</td>\n",
       "      <td>...</td>\n",
       "      <td>...</td>\n",
       "      <td>...</td>\n",
       "      <td>...</td>\n",
       "      <td>...</td>\n",
       "      <td>...</td>\n",
       "      <td>...</td>\n",
       "      <td>...</td>\n",
       "      <td>...</td>\n",
       "      <td>...</td>\n",
       "      <td>...</td>\n",
       "      <td>...</td>\n",
       "      <td>...</td>\n",
       "      <td>...</td>\n",
       "      <td>...</td>\n",
       "      <td>...</td>\n",
       "      <td>...</td>\n",
       "      <td>...</td>\n",
       "      <td>...</td>\n",
       "    </tr>\n",
       "    <tr>\n",
       "      <th>3028</th>\n",
       "      <td>3028</td>\n",
       "      <td>3028</td>\n",
       "      <td>671</td>\n",
       "      <td>[2, 6]</td>\n",
       "      <td>3994.9779</td>\n",
       "      <td>6</td>\n",
       "      <td>4001.1863</td>\n",
       "      <td>4001.2116</td>\n",
       "      <td>4001.1863</td>\n",
       "      <td>4001.5976</td>\n",
       "      <td>...</td>\n",
       "      <td>4004.261375</td>\n",
       "      <td>4010.881075</td>\n",
       "      <td>NaN</td>\n",
       "      <td>4004.26800</td>\n",
       "      <td>4010.88770</td>\n",
       "      <td>NaN</td>\n",
       "      <td>16850.528794</td>\n",
       "      <td>NaN</td>\n",
       "      <td>16856.737194</td>\n",
       "      <td>16856.762494</td>\n",
       "    </tr>\n",
       "    <tr>\n",
       "      <th>3029</th>\n",
       "      <td>3029</td>\n",
       "      <td>3029</td>\n",
       "      <td>671</td>\n",
       "      <td>[2, 6]</td>\n",
       "      <td>3994.9779</td>\n",
       "      <td>6</td>\n",
       "      <td>4001.3113</td>\n",
       "      <td>4002.3679</td>\n",
       "      <td>NaN</td>\n",
       "      <td>4001.5976</td>\n",
       "      <td>...</td>\n",
       "      <td>4004.261375</td>\n",
       "      <td>4010.881075</td>\n",
       "      <td>NaN</td>\n",
       "      <td>4004.26800</td>\n",
       "      <td>4010.88770</td>\n",
       "      <td>NaN</td>\n",
       "      <td>16850.528794</td>\n",
       "      <td>NaN</td>\n",
       "      <td>16856.862194</td>\n",
       "      <td>16857.918794</td>\n",
       "    </tr>\n",
       "    <tr>\n",
       "      <th>3030</th>\n",
       "      <td>3030</td>\n",
       "      <td>3030</td>\n",
       "      <td>672</td>\n",
       "      <td>[2, 6]</td>\n",
       "      <td>4001.5978</td>\n",
       "      <td>2</td>\n",
       "      <td>4002.7446</td>\n",
       "      <td>4003.4878</td>\n",
       "      <td>NaN</td>\n",
       "      <td>4005.0680</td>\n",
       "      <td>...</td>\n",
       "      <td>4010.874875</td>\n",
       "      <td>4014.345075</td>\n",
       "      <td>4012.024375</td>\n",
       "      <td>4010.88150</td>\n",
       "      <td>4014.35170</td>\n",
       "      <td>4012.031</td>\n",
       "      <td>16857.148907</td>\n",
       "      <td>16858.29566</td>\n",
       "      <td>16858.295707</td>\n",
       "      <td>16859.038907</td>\n",
       "    </tr>\n",
       "    <tr>\n",
       "      <th>3031</th>\n",
       "      <td>3031</td>\n",
       "      <td>3031</td>\n",
       "      <td>672</td>\n",
       "      <td>[2, 6]</td>\n",
       "      <td>4001.5978</td>\n",
       "      <td>6</td>\n",
       "      <td>4004.6567</td>\n",
       "      <td>4004.6683</td>\n",
       "      <td>4004.6567</td>\n",
       "      <td>4005.0680</td>\n",
       "      <td>...</td>\n",
       "      <td>4010.874875</td>\n",
       "      <td>4014.345075</td>\n",
       "      <td>NaN</td>\n",
       "      <td>4010.88150</td>\n",
       "      <td>4014.35170</td>\n",
       "      <td>NaN</td>\n",
       "      <td>16857.148907</td>\n",
       "      <td>NaN</td>\n",
       "      <td>16860.207807</td>\n",
       "      <td>16860.219407</td>\n",
       "    </tr>\n",
       "    <tr>\n",
       "      <th>3032</th>\n",
       "      <td>3032</td>\n",
       "      <td>3032</td>\n",
       "      <td>672</td>\n",
       "      <td>[2, 6]</td>\n",
       "      <td>4001.5978</td>\n",
       "      <td>6</td>\n",
       "      <td>4004.7555</td>\n",
       "      <td>NaN</td>\n",
       "      <td>NaN</td>\n",
       "      <td>4005.0680</td>\n",
       "      <td>...</td>\n",
       "      <td>4010.874875</td>\n",
       "      <td>4014.345075</td>\n",
       "      <td>NaN</td>\n",
       "      <td>4010.88150</td>\n",
       "      <td>4014.35170</td>\n",
       "      <td>NaN</td>\n",
       "      <td>16857.148907</td>\n",
       "      <td>NaN</td>\n",
       "      <td>16860.306607</td>\n",
       "      <td>NaN</td>\n",
       "    </tr>\n",
       "  </tbody>\n",
       "</table>\n",
       "<p>3033 rows × 23 columns</p>\n",
       "</div>"
      ],
      "text/plain": [
       "      Unnamed: 0  Unnamed: 0.1  Trial_id Trial_sequence  Trial_Start  Port  \\\n",
       "0              0             0         1         [1, 5]      43.0649     6   \n",
       "1              1             1         1         [1, 5]      43.0649     6   \n",
       "2              2             2         1         [1, 5]      43.0649     6   \n",
       "3              3             3         1         [1, 5]      43.0649     5   \n",
       "4              4             4         1         [1, 5]      43.0649     2   \n",
       "...          ...           ...       ...            ...          ...   ...   \n",
       "3028        3028          3028       671         [2, 6]    3994.9779     6   \n",
       "3029        3029          3029       671         [2, 6]    3994.9779     6   \n",
       "3030        3030          3030       672         [2, 6]    4001.5978     2   \n",
       "3031        3031          3031       672         [2, 6]    4001.5978     6   \n",
       "3032        3032          3032       672         [2, 6]    4001.5978     6   \n",
       "\n",
       "      PokeIn_Time  PokeOut_Time  Reward_Times  Trial_End  ...  \\\n",
       "0         70.8615       70.8798           NaN   116.8894  ...   \n",
       "1         75.6822       75.7364           NaN   116.8894  ...   \n",
       "2         75.7367       75.7372           NaN   116.8894  ...   \n",
       "3         77.1021       77.1290           NaN   116.8894  ...   \n",
       "4        109.7976      109.9994           NaN   116.8894  ...   \n",
       "...           ...           ...           ...        ...  ...   \n",
       "3028    4001.1863     4001.2116     4001.1863  4001.5976  ...   \n",
       "3029    4001.3113     4002.3679           NaN  4001.5976  ...   \n",
       "3030    4002.7446     4003.4878           NaN  4005.0680  ...   \n",
       "3031    4004.6567     4004.6683     4004.6567  4005.0680  ...   \n",
       "3032    4004.7555           NaN           NaN  4005.0680  ...   \n",
       "\n",
       "      BOTTOM_Trial_Start_Camera_Time  BOTTOM_Trial_End_Camera_Time  \\\n",
       "0                          51.992000                    125.816500   \n",
       "1                          51.992000                    125.816500   \n",
       "2                          51.992000                    125.816500   \n",
       "3                          51.992000                    125.816500   \n",
       "4                          51.992000                    125.816500   \n",
       "...                              ...                           ...   \n",
       "3028                     4004.261375                   4010.881075   \n",
       "3029                     4004.261375                   4010.881075   \n",
       "3030                     4010.874875                   4014.345075   \n",
       "3031                     4010.874875                   4014.345075   \n",
       "3032                     4010.874875                   4014.345075   \n",
       "\n",
       "      BOTTOM_First_poke_Camera_Time  SIDE_Trial_Start_Camera_Time  \\\n",
       "0                               NaN                      51.99175   \n",
       "1                               NaN                      51.99175   \n",
       "2                               NaN                      51.99175   \n",
       "3                               NaN                      51.99175   \n",
       "4                               NaN                      51.99175   \n",
       "...                             ...                           ...   \n",
       "3028                            NaN                    4004.26800   \n",
       "3029                            NaN                    4004.26800   \n",
       "3030                    4012.024375                    4010.88150   \n",
       "3031                            NaN                    4010.88150   \n",
       "3032                            NaN                    4010.88150   \n",
       "\n",
       "      SIDE_Trial_End_Camera_Time  SIDE_First_poke_Camera_Time  \\\n",
       "0                      125.81625                          NaN   \n",
       "1                      125.81625                          NaN   \n",
       "2                      125.81625                          NaN   \n",
       "3                      125.81625                          NaN   \n",
       "4                      125.81625                          NaN   \n",
       "...                          ...                          ...   \n",
       "3028                  4010.88770                          NaN   \n",
       "3029                  4010.88770                          NaN   \n",
       "3030                  4014.35170                     4012.031   \n",
       "3031                  4014.35170                          NaN   \n",
       "3032                  4014.35170                          NaN   \n",
       "\n",
       "      TrialStart_EphysTime  FirstPoke_EphysTime  PokeIN_EphysTime  \\\n",
       "0             12898.485168                  NaN      12926.281768   \n",
       "1             12898.485168                  NaN      12931.102468   \n",
       "2             12898.485168                  NaN      12931.156968   \n",
       "3             12898.485168                  NaN      12932.522368   \n",
       "4             12898.485168                  NaN      12965.217868   \n",
       "...                    ...                  ...               ...   \n",
       "3028          16850.528794                  NaN      16856.737194   \n",
       "3029          16850.528794                  NaN      16856.862194   \n",
       "3030          16857.148907          16858.29566      16858.295707   \n",
       "3031          16857.148907                  NaN      16860.207807   \n",
       "3032          16857.148907                  NaN      16860.306607   \n",
       "\n",
       "      PokeOUT_EphysTime  \n",
       "0          12926.300068  \n",
       "1          12931.156668  \n",
       "2          12931.157468  \n",
       "3          12932.549268  \n",
       "4          12965.419668  \n",
       "...                 ...  \n",
       "3028       16856.762494  \n",
       "3029       16857.918794  \n",
       "3030       16859.038907  \n",
       "3031       16860.219407  \n",
       "3032                NaN  \n",
       "\n",
       "[3033 rows x 23 columns]"
      ]
     },
     "execution_count": 1503,
     "metadata": {},
     "output_type": "execute_result"
    }
   ],
   "source": [
    "Poke_data_EPhys"
   ]
  },
  {
   "cell_type": "code",
   "execution_count": 1813,
   "id": "79966b6a",
   "metadata": {},
   "outputs": [],
   "source": [
    "# ### if no camera data:\n",
    "\n",
    "# back_aligned_time =  ['Cameras Corrupted  no video data'] * len(Poke_data_EPhys.Trial_id.values)\n",
    "# back_pokein_times = ['Cameras Corrupted  no video data'] * len(Poke_data_EPhys.Trial_id.values)\n",
    "# back_pokeout_times = ['Cameras Corrupted  no video data'] * len(Poke_data_EPhys.Trial_id.values)\n",
    "# back_aligned_ts = ['Cameras Corrupted  no video data'] * len(Poke_data_EPhys.Trial_id.values)\n",
    "\n",
    "# side_aligned_time = ['Cameras Corrupted  no video data'] * len(Poke_data_EPhys.Trial_id.values)\n",
    "# side_pokein_times = ['Cameras Corrupted  no video data'] * len(Poke_data_EPhys.Trial_id.values)\n",
    "# side_pokeout_times = ['Cameras Corrupted  no video data'] * len(Poke_data_EPhys.Trial_id.values)\n",
    "# side_aligned_ts = ['Cameras Corrupted  no video data'] * len(Poke_data_EPhys.Trial_id.values)\n",
    "# bottom_aligned_time = ['Cameras Corrupted  no video data'] * len(Poke_data_EPhys.Trial_id.values)\n",
    "# bottom_pokein_times = ['Cameras Corrupted  no video data'] * len(Poke_data_EPhys.Trial_id.values)\n",
    "# bottom_pokeout_times = ['Cameras Corrupted  no video data'] * len(Poke_data_EPhys.Trial_id.values)\n",
    "# bottom_aligned_ts = ['Cameras Corrupted  no video data'] * len(Poke_data_EPhys.Trial_id.values)"
   ]
  },
  {
   "cell_type": "code",
   "execution_count": 1814,
   "id": "38a7b497",
   "metadata": {},
   "outputs": [],
   "source": [
    "### make a new dataframe:\n",
    "\n",
    "new_PortIn_df = pd.DataFrame(\n",
    "    {'Trial_id' : Poke_data_EPhys.Trial_id.values,\n",
    "     'Trial_sequence': Poke_data_EPhys.Trial_sequence.values,\n",
    "     'Trial_Start' : Poke_data_EPhys.Trial_Start.values,\n",
    "     'Port': Poke_data_EPhys.Port.values,\n",
    "     'PokeIn_Time': Poke_data_EPhys.PokeIn_Time.values,\n",
    "     'PokeOut_Time': Poke_data_EPhys.PokeOut_Time.values,\n",
    "     'Reward_Times': Poke_data_EPhys.Reward_Times.values,\n",
    "     'Trial_End' : Poke_data_EPhys.Trial_End.values,\n",
    "     \n",
    "     'TrialStart_EphysTime': Poke_data_EPhys.TrialStart_EphysTime.values,\n",
    "     'FirstPoke_EphysTime': Poke_data_EPhys.FirstPoke_EphysTime.values,\n",
    "     'PokeIN_EphysTime': Poke_data_EPhys.PokeIN_EphysTime.values,\n",
    "     'PokeOUT_EphysTime': Poke_data_EPhys.PokeOUT_EphysTime.values,\n",
    "     \n",
    "     \n",
    "     'backcam_trialstart_seconds':back_aligned_time,\n",
    "     'backcam_aligned_pokein_times':back_pokein_times,\n",
    "     'backcam_aligned_pokeout_times':back_pokeout_times,\n",
    "     'backcam_trialstart_timestamps':back_aligned_ts,\n",
    "     \n",
    "     'sidecam_trialstart_seconds':side_aligned_time,\n",
    "     'sidecam_aligned_pokein_times':side_pokein_times,\n",
    "     'sidecam_aligned_pokeout_times':side_pokeout_times,\n",
    "     'sidecam_trialstart_timestamps':side_aligned_ts,\n",
    "     \n",
    "     'bottomcam_trialstart_seconds':bottom_aligned_time,\n",
    "     'bottomcam_aligned_pokein_times':bottom_pokein_times,\n",
    "     'bottomcam_aligned_pokeout_times':bottom_pokeout_times,\n",
    "     'bottomcam_trialstart_timestamps':bottom_aligned_ts,\n",
    " \n",
    "    })"
   ]
  },
  {
   "cell_type": "code",
   "execution_count": 1815,
   "id": "efd7c30a",
   "metadata": {},
   "outputs": [
    {
     "data": {
      "text/html": [
       "<div>\n",
       "<style scoped>\n",
       "    .dataframe tbody tr th:only-of-type {\n",
       "        vertical-align: middle;\n",
       "    }\n",
       "\n",
       "    .dataframe tbody tr th {\n",
       "        vertical-align: top;\n",
       "    }\n",
       "\n",
       "    .dataframe thead th {\n",
       "        text-align: right;\n",
       "    }\n",
       "</style>\n",
       "<table border=\"1\" class=\"dataframe\">\n",
       "  <thead>\n",
       "    <tr style=\"text-align: right;\">\n",
       "      <th></th>\n",
       "      <th>Trial_id</th>\n",
       "      <th>Trial_sequence</th>\n",
       "      <th>Trial_Start</th>\n",
       "      <th>Port</th>\n",
       "      <th>PokeIn_Time</th>\n",
       "      <th>PokeOut_Time</th>\n",
       "      <th>Reward_Times</th>\n",
       "      <th>Trial_End</th>\n",
       "      <th>TrialStart_EphysTime</th>\n",
       "      <th>FirstPoke_EphysTime</th>\n",
       "      <th>...</th>\n",
       "      <th>backcam_aligned_pokeout_times</th>\n",
       "      <th>backcam_trialstart_timestamps</th>\n",
       "      <th>sidecam_trialstart_seconds</th>\n",
       "      <th>sidecam_aligned_pokein_times</th>\n",
       "      <th>sidecam_aligned_pokeout_times</th>\n",
       "      <th>sidecam_trialstart_timestamps</th>\n",
       "      <th>bottomcam_trialstart_seconds</th>\n",
       "      <th>bottomcam_aligned_pokein_times</th>\n",
       "      <th>bottomcam_aligned_pokeout_times</th>\n",
       "      <th>bottomcam_trialstart_timestamps</th>\n",
       "    </tr>\n",
       "  </thead>\n",
       "  <tbody>\n",
       "    <tr>\n",
       "      <th>0</th>\n",
       "      <td>1</td>\n",
       "      <td>[1, 5]</td>\n",
       "      <td>21.7872</td>\n",
       "      <td>3</td>\n",
       "      <td>21.8150</td>\n",
       "      <td>21.8239</td>\n",
       "      <td>NaN</td>\n",
       "      <td>38.4082</td>\n",
       "      <td>2396.439356</td>\n",
       "      <td>NaN</td>\n",
       "      <td>...</td>\n",
       "      <td>Cameras Corrupted  no video data</td>\n",
       "      <td>Cameras Corrupted  no video data</td>\n",
       "      <td>Cameras Corrupted  no video data</td>\n",
       "      <td>Cameras Corrupted  no video data</td>\n",
       "      <td>Cameras Corrupted  no video data</td>\n",
       "      <td>Cameras Corrupted  no video data</td>\n",
       "      <td>Cameras Corrupted  no video data</td>\n",
       "      <td>Cameras Corrupted  no video data</td>\n",
       "      <td>Cameras Corrupted  no video data</td>\n",
       "      <td>Cameras Corrupted  no video data</td>\n",
       "    </tr>\n",
       "    <tr>\n",
       "      <th>1</th>\n",
       "      <td>1</td>\n",
       "      <td>[1, 5]</td>\n",
       "      <td>21.7872</td>\n",
       "      <td>1</td>\n",
       "      <td>30.4902</td>\n",
       "      <td>30.5190</td>\n",
       "      <td>NaN</td>\n",
       "      <td>38.4082</td>\n",
       "      <td>2396.439356</td>\n",
       "      <td>2405.142658</td>\n",
       "      <td>...</td>\n",
       "      <td>Cameras Corrupted  no video data</td>\n",
       "      <td>Cameras Corrupted  no video data</td>\n",
       "      <td>Cameras Corrupted  no video data</td>\n",
       "      <td>Cameras Corrupted  no video data</td>\n",
       "      <td>Cameras Corrupted  no video data</td>\n",
       "      <td>Cameras Corrupted  no video data</td>\n",
       "      <td>Cameras Corrupted  no video data</td>\n",
       "      <td>Cameras Corrupted  no video data</td>\n",
       "      <td>Cameras Corrupted  no video data</td>\n",
       "      <td>Cameras Corrupted  no video data</td>\n",
       "    </tr>\n",
       "    <tr>\n",
       "      <th>2</th>\n",
       "      <td>1</td>\n",
       "      <td>[1, 5]</td>\n",
       "      <td>21.7872</td>\n",
       "      <td>1</td>\n",
       "      <td>30.5280</td>\n",
       "      <td>30.5974</td>\n",
       "      <td>NaN</td>\n",
       "      <td>38.4082</td>\n",
       "      <td>2396.439356</td>\n",
       "      <td>NaN</td>\n",
       "      <td>...</td>\n",
       "      <td>Cameras Corrupted  no video data</td>\n",
       "      <td>Cameras Corrupted  no video data</td>\n",
       "      <td>Cameras Corrupted  no video data</td>\n",
       "      <td>Cameras Corrupted  no video data</td>\n",
       "      <td>Cameras Corrupted  no video data</td>\n",
       "      <td>Cameras Corrupted  no video data</td>\n",
       "      <td>Cameras Corrupted  no video data</td>\n",
       "      <td>Cameras Corrupted  no video data</td>\n",
       "      <td>Cameras Corrupted  no video data</td>\n",
       "      <td>Cameras Corrupted  no video data</td>\n",
       "    </tr>\n",
       "    <tr>\n",
       "      <th>3</th>\n",
       "      <td>1</td>\n",
       "      <td>[1, 5]</td>\n",
       "      <td>21.7872</td>\n",
       "      <td>1</td>\n",
       "      <td>30.6383</td>\n",
       "      <td>33.4565</td>\n",
       "      <td>NaN</td>\n",
       "      <td>38.4082</td>\n",
       "      <td>2396.439356</td>\n",
       "      <td>NaN</td>\n",
       "      <td>...</td>\n",
       "      <td>Cameras Corrupted  no video data</td>\n",
       "      <td>Cameras Corrupted  no video data</td>\n",
       "      <td>Cameras Corrupted  no video data</td>\n",
       "      <td>Cameras Corrupted  no video data</td>\n",
       "      <td>Cameras Corrupted  no video data</td>\n",
       "      <td>Cameras Corrupted  no video data</td>\n",
       "      <td>Cameras Corrupted  no video data</td>\n",
       "      <td>Cameras Corrupted  no video data</td>\n",
       "      <td>Cameras Corrupted  no video data</td>\n",
       "      <td>Cameras Corrupted  no video data</td>\n",
       "    </tr>\n",
       "    <tr>\n",
       "      <th>4</th>\n",
       "      <td>1</td>\n",
       "      <td>[1, 5]</td>\n",
       "      <td>21.7872</td>\n",
       "      <td>1</td>\n",
       "      <td>33.8447</td>\n",
       "      <td>34.4138</td>\n",
       "      <td>NaN</td>\n",
       "      <td>38.4082</td>\n",
       "      <td>2396.439356</td>\n",
       "      <td>NaN</td>\n",
       "      <td>...</td>\n",
       "      <td>Cameras Corrupted  no video data</td>\n",
       "      <td>Cameras Corrupted  no video data</td>\n",
       "      <td>Cameras Corrupted  no video data</td>\n",
       "      <td>Cameras Corrupted  no video data</td>\n",
       "      <td>Cameras Corrupted  no video data</td>\n",
       "      <td>Cameras Corrupted  no video data</td>\n",
       "      <td>Cameras Corrupted  no video data</td>\n",
       "      <td>Cameras Corrupted  no video data</td>\n",
       "      <td>Cameras Corrupted  no video data</td>\n",
       "      <td>Cameras Corrupted  no video data</td>\n",
       "    </tr>\n",
       "    <tr>\n",
       "      <th>...</th>\n",
       "      <td>...</td>\n",
       "      <td>...</td>\n",
       "      <td>...</td>\n",
       "      <td>...</td>\n",
       "      <td>...</td>\n",
       "      <td>...</td>\n",
       "      <td>...</td>\n",
       "      <td>...</td>\n",
       "      <td>...</td>\n",
       "      <td>...</td>\n",
       "      <td>...</td>\n",
       "      <td>...</td>\n",
       "      <td>...</td>\n",
       "      <td>...</td>\n",
       "      <td>...</td>\n",
       "      <td>...</td>\n",
       "      <td>...</td>\n",
       "      <td>...</td>\n",
       "      <td>...</td>\n",
       "      <td>...</td>\n",
       "      <td>...</td>\n",
       "    </tr>\n",
       "    <tr>\n",
       "      <th>2838</th>\n",
       "      <td>556</td>\n",
       "      <td>[1, 6]</td>\n",
       "      <td>5295.3943</td>\n",
       "      <td>7</td>\n",
       "      <td>5329.8696</td>\n",
       "      <td>5329.8997</td>\n",
       "      <td>NaN</td>\n",
       "      <td>5343.3727</td>\n",
       "      <td>7670.228152</td>\n",
       "      <td>NaN</td>\n",
       "      <td>...</td>\n",
       "      <td>Cameras Corrupted  no video data</td>\n",
       "      <td>Cameras Corrupted  no video data</td>\n",
       "      <td>Cameras Corrupted  no video data</td>\n",
       "      <td>Cameras Corrupted  no video data</td>\n",
       "      <td>Cameras Corrupted  no video data</td>\n",
       "      <td>Cameras Corrupted  no video data</td>\n",
       "      <td>Cameras Corrupted  no video data</td>\n",
       "      <td>Cameras Corrupted  no video data</td>\n",
       "      <td>Cameras Corrupted  no video data</td>\n",
       "      <td>Cameras Corrupted  no video data</td>\n",
       "    </tr>\n",
       "    <tr>\n",
       "      <th>2839</th>\n",
       "      <td>556</td>\n",
       "      <td>[1, 6]</td>\n",
       "      <td>5295.3943</td>\n",
       "      <td>2</td>\n",
       "      <td>5331.6445</td>\n",
       "      <td>5331.6535</td>\n",
       "      <td>NaN</td>\n",
       "      <td>5343.3727</td>\n",
       "      <td>7670.228152</td>\n",
       "      <td>NaN</td>\n",
       "      <td>...</td>\n",
       "      <td>Cameras Corrupted  no video data</td>\n",
       "      <td>Cameras Corrupted  no video data</td>\n",
       "      <td>Cameras Corrupted  no video data</td>\n",
       "      <td>Cameras Corrupted  no video data</td>\n",
       "      <td>Cameras Corrupted  no video data</td>\n",
       "      <td>Cameras Corrupted  no video data</td>\n",
       "      <td>Cameras Corrupted  no video data</td>\n",
       "      <td>Cameras Corrupted  no video data</td>\n",
       "      <td>Cameras Corrupted  no video data</td>\n",
       "      <td>Cameras Corrupted  no video data</td>\n",
       "    </tr>\n",
       "    <tr>\n",
       "      <th>2840</th>\n",
       "      <td>556</td>\n",
       "      <td>[1, 6]</td>\n",
       "      <td>5295.3943</td>\n",
       "      <td>2</td>\n",
       "      <td>5331.7204</td>\n",
       "      <td>5331.8607</td>\n",
       "      <td>NaN</td>\n",
       "      <td>5343.3727</td>\n",
       "      <td>7670.228152</td>\n",
       "      <td>NaN</td>\n",
       "      <td>...</td>\n",
       "      <td>Cameras Corrupted  no video data</td>\n",
       "      <td>Cameras Corrupted  no video data</td>\n",
       "      <td>Cameras Corrupted  no video data</td>\n",
       "      <td>Cameras Corrupted  no video data</td>\n",
       "      <td>Cameras Corrupted  no video data</td>\n",
       "      <td>Cameras Corrupted  no video data</td>\n",
       "      <td>Cameras Corrupted  no video data</td>\n",
       "      <td>Cameras Corrupted  no video data</td>\n",
       "      <td>Cameras Corrupted  no video data</td>\n",
       "      <td>Cameras Corrupted  no video data</td>\n",
       "    </tr>\n",
       "    <tr>\n",
       "      <th>2841</th>\n",
       "      <td>556</td>\n",
       "      <td>[1, 6]</td>\n",
       "      <td>5295.3943</td>\n",
       "      <td>3</td>\n",
       "      <td>5341.8168</td>\n",
       "      <td>5341.9463</td>\n",
       "      <td>NaN</td>\n",
       "      <td>5343.3727</td>\n",
       "      <td>7670.228152</td>\n",
       "      <td>NaN</td>\n",
       "      <td>...</td>\n",
       "      <td>Cameras Corrupted  no video data</td>\n",
       "      <td>Cameras Corrupted  no video data</td>\n",
       "      <td>Cameras Corrupted  no video data</td>\n",
       "      <td>Cameras Corrupted  no video data</td>\n",
       "      <td>Cameras Corrupted  no video data</td>\n",
       "      <td>Cameras Corrupted  no video data</td>\n",
       "      <td>Cameras Corrupted  no video data</td>\n",
       "      <td>Cameras Corrupted  no video data</td>\n",
       "      <td>Cameras Corrupted  no video data</td>\n",
       "      <td>Cameras Corrupted  no video data</td>\n",
       "    </tr>\n",
       "    <tr>\n",
       "      <th>2842</th>\n",
       "      <td>556</td>\n",
       "      <td>[1, 6]</td>\n",
       "      <td>5295.3943</td>\n",
       "      <td>6</td>\n",
       "      <td>5342.9484</td>\n",
       "      <td>NaN</td>\n",
       "      <td>5342.9484</td>\n",
       "      <td>5343.3727</td>\n",
       "      <td>7670.228152</td>\n",
       "      <td>NaN</td>\n",
       "      <td>...</td>\n",
       "      <td>Cameras Corrupted  no video data</td>\n",
       "      <td>Cameras Corrupted  no video data</td>\n",
       "      <td>Cameras Corrupted  no video data</td>\n",
       "      <td>Cameras Corrupted  no video data</td>\n",
       "      <td>Cameras Corrupted  no video data</td>\n",
       "      <td>Cameras Corrupted  no video data</td>\n",
       "      <td>Cameras Corrupted  no video data</td>\n",
       "      <td>Cameras Corrupted  no video data</td>\n",
       "      <td>Cameras Corrupted  no video data</td>\n",
       "      <td>Cameras Corrupted  no video data</td>\n",
       "    </tr>\n",
       "  </tbody>\n",
       "</table>\n",
       "<p>2843 rows × 24 columns</p>\n",
       "</div>"
      ],
      "text/plain": [
       "      Trial_id Trial_sequence  Trial_Start  Port  PokeIn_Time  PokeOut_Time  \\\n",
       "0            1         [1, 5]      21.7872     3      21.8150       21.8239   \n",
       "1            1         [1, 5]      21.7872     1      30.4902       30.5190   \n",
       "2            1         [1, 5]      21.7872     1      30.5280       30.5974   \n",
       "3            1         [1, 5]      21.7872     1      30.6383       33.4565   \n",
       "4            1         [1, 5]      21.7872     1      33.8447       34.4138   \n",
       "...        ...            ...          ...   ...          ...           ...   \n",
       "2838       556         [1, 6]    5295.3943     7    5329.8696     5329.8997   \n",
       "2839       556         [1, 6]    5295.3943     2    5331.6445     5331.6535   \n",
       "2840       556         [1, 6]    5295.3943     2    5331.7204     5331.8607   \n",
       "2841       556         [1, 6]    5295.3943     3    5341.8168     5341.9463   \n",
       "2842       556         [1, 6]    5295.3943     6    5342.9484           NaN   \n",
       "\n",
       "      Reward_Times  Trial_End  TrialStart_EphysTime  FirstPoke_EphysTime  ...  \\\n",
       "0              NaN    38.4082           2396.439356                  NaN  ...   \n",
       "1              NaN    38.4082           2396.439356          2405.142658  ...   \n",
       "2              NaN    38.4082           2396.439356                  NaN  ...   \n",
       "3              NaN    38.4082           2396.439356                  NaN  ...   \n",
       "4              NaN    38.4082           2396.439356                  NaN  ...   \n",
       "...            ...        ...                   ...                  ...  ...   \n",
       "2838           NaN  5343.3727           7670.228152                  NaN  ...   \n",
       "2839           NaN  5343.3727           7670.228152                  NaN  ...   \n",
       "2840           NaN  5343.3727           7670.228152                  NaN  ...   \n",
       "2841           NaN  5343.3727           7670.228152                  NaN  ...   \n",
       "2842     5342.9484  5343.3727           7670.228152                  NaN  ...   \n",
       "\n",
       "         backcam_aligned_pokeout_times     backcam_trialstart_timestamps  \\\n",
       "0     Cameras Corrupted  no video data  Cameras Corrupted  no video data   \n",
       "1     Cameras Corrupted  no video data  Cameras Corrupted  no video data   \n",
       "2     Cameras Corrupted  no video data  Cameras Corrupted  no video data   \n",
       "3     Cameras Corrupted  no video data  Cameras Corrupted  no video data   \n",
       "4     Cameras Corrupted  no video data  Cameras Corrupted  no video data   \n",
       "...                                ...                               ...   \n",
       "2838  Cameras Corrupted  no video data  Cameras Corrupted  no video data   \n",
       "2839  Cameras Corrupted  no video data  Cameras Corrupted  no video data   \n",
       "2840  Cameras Corrupted  no video data  Cameras Corrupted  no video data   \n",
       "2841  Cameras Corrupted  no video data  Cameras Corrupted  no video data   \n",
       "2842  Cameras Corrupted  no video data  Cameras Corrupted  no video data   \n",
       "\n",
       "            sidecam_trialstart_seconds      sidecam_aligned_pokein_times  \\\n",
       "0     Cameras Corrupted  no video data  Cameras Corrupted  no video data   \n",
       "1     Cameras Corrupted  no video data  Cameras Corrupted  no video data   \n",
       "2     Cameras Corrupted  no video data  Cameras Corrupted  no video data   \n",
       "3     Cameras Corrupted  no video data  Cameras Corrupted  no video data   \n",
       "4     Cameras Corrupted  no video data  Cameras Corrupted  no video data   \n",
       "...                                ...                               ...   \n",
       "2838  Cameras Corrupted  no video data  Cameras Corrupted  no video data   \n",
       "2839  Cameras Corrupted  no video data  Cameras Corrupted  no video data   \n",
       "2840  Cameras Corrupted  no video data  Cameras Corrupted  no video data   \n",
       "2841  Cameras Corrupted  no video data  Cameras Corrupted  no video data   \n",
       "2842  Cameras Corrupted  no video data  Cameras Corrupted  no video data   \n",
       "\n",
       "         sidecam_aligned_pokeout_times     sidecam_trialstart_timestamps  \\\n",
       "0     Cameras Corrupted  no video data  Cameras Corrupted  no video data   \n",
       "1     Cameras Corrupted  no video data  Cameras Corrupted  no video data   \n",
       "2     Cameras Corrupted  no video data  Cameras Corrupted  no video data   \n",
       "3     Cameras Corrupted  no video data  Cameras Corrupted  no video data   \n",
       "4     Cameras Corrupted  no video data  Cameras Corrupted  no video data   \n",
       "...                                ...                               ...   \n",
       "2838  Cameras Corrupted  no video data  Cameras Corrupted  no video data   \n",
       "2839  Cameras Corrupted  no video data  Cameras Corrupted  no video data   \n",
       "2840  Cameras Corrupted  no video data  Cameras Corrupted  no video data   \n",
       "2841  Cameras Corrupted  no video data  Cameras Corrupted  no video data   \n",
       "2842  Cameras Corrupted  no video data  Cameras Corrupted  no video data   \n",
       "\n",
       "          bottomcam_trialstart_seconds    bottomcam_aligned_pokein_times  \\\n",
       "0     Cameras Corrupted  no video data  Cameras Corrupted  no video data   \n",
       "1     Cameras Corrupted  no video data  Cameras Corrupted  no video data   \n",
       "2     Cameras Corrupted  no video data  Cameras Corrupted  no video data   \n",
       "3     Cameras Corrupted  no video data  Cameras Corrupted  no video data   \n",
       "4     Cameras Corrupted  no video data  Cameras Corrupted  no video data   \n",
       "...                                ...                               ...   \n",
       "2838  Cameras Corrupted  no video data  Cameras Corrupted  no video data   \n",
       "2839  Cameras Corrupted  no video data  Cameras Corrupted  no video data   \n",
       "2840  Cameras Corrupted  no video data  Cameras Corrupted  no video data   \n",
       "2841  Cameras Corrupted  no video data  Cameras Corrupted  no video data   \n",
       "2842  Cameras Corrupted  no video data  Cameras Corrupted  no video data   \n",
       "\n",
       "       bottomcam_aligned_pokeout_times   bottomcam_trialstart_timestamps  \n",
       "0     Cameras Corrupted  no video data  Cameras Corrupted  no video data  \n",
       "1     Cameras Corrupted  no video data  Cameras Corrupted  no video data  \n",
       "2     Cameras Corrupted  no video data  Cameras Corrupted  no video data  \n",
       "3     Cameras Corrupted  no video data  Cameras Corrupted  no video data  \n",
       "4     Cameras Corrupted  no video data  Cameras Corrupted  no video data  \n",
       "...                                ...                               ...  \n",
       "2838  Cameras Corrupted  no video data  Cameras Corrupted  no video data  \n",
       "2839  Cameras Corrupted  no video data  Cameras Corrupted  no video data  \n",
       "2840  Cameras Corrupted  no video data  Cameras Corrupted  no video data  \n",
       "2841  Cameras Corrupted  no video data  Cameras Corrupted  no video data  \n",
       "2842  Cameras Corrupted  no video data  Cameras Corrupted  no video data  \n",
       "\n",
       "[2843 rows x 24 columns]"
      ]
     },
     "execution_count": 1815,
     "metadata": {},
     "output_type": "execute_result"
    }
   ],
   "source": [
    "new_PortIn_df"
   ]
  },
  {
   "cell_type": "code",
   "execution_count": 1816,
   "id": "1430cfde",
   "metadata": {},
   "outputs": [],
   "source": [
    "##### Testing:"
   ]
  },
  {
   "cell_type": "markdown",
   "id": "2da138a4",
   "metadata": {},
   "source": [
    "# save out new df?"
   ]
  },
  {
   "cell_type": "code",
   "execution_count": 1817,
   "id": "2b8529e5",
   "metadata": {},
   "outputs": [
    {
     "name": "stdout",
     "output_type": "stream",
     "text": [
      "data checked?\n",
      "data Saved\n"
     ]
    }
   ],
   "source": [
    "new_PortIn_df.to_csv(spikes_input_path +'/Clock_Ephys_Camera_Sync.csv')\n",
    "\n",
    "print('data checked?')\n",
    "print('data Saved')"
   ]
  },
  {
   "cell_type": "markdown",
   "id": "a7da8a2d",
   "metadata": {},
   "source": [
    "# Run video clip tests: "
   ]
  },
  {
   "cell_type": "code",
   "execution_count": 1508,
   "id": "e136ad25",
   "metadata": {},
   "outputs": [],
   "source": [
    "port3_inds = [np.where(new_PortIn_df.Port.values == 3)[0][10], np.where(new_PortIn_df.Port.values == 3)[0][int(new_PortIn_df.Trial_id.values[-1]/2)], np.where(new_PortIn_df.Port.values == 3)[0][-10]]\n",
    "port1_inds = [np.where(new_PortIn_df.Port.values == 1)[0][10], np.where(new_PortIn_df.Port.values == 1)[0][int(new_PortIn_df.Trial_id.values[-1]/2)], np.where(new_PortIn_df.Port.values == 1)[0][-10]]"
   ]
  },
  {
   "cell_type": "code",
   "execution_count": 1509,
   "id": "4305b5e6",
   "metadata": {},
   "outputs": [
    {
     "name": "stdout",
     "output_type": "stream",
     "text": [
      "Moviepy - Running:\n",
      ">>> \"+ \" \".join(cmd)\n",
      "Moviepy - Command successful\n",
      "Moviepy - Running:\n",
      ">>> \"+ \" \".join(cmd)\n",
      "Moviepy - Command successful\n",
      "Moviepy - Running:\n",
      ">>> \"+ \" \".join(cmd)\n",
      "Moviepy - Command successful\n",
      "Moviepy - Running:\n",
      ">>> \"+ \" \".join(cmd)\n",
      "Moviepy - Command successful\n",
      "Moviepy - Running:\n",
      ">>> \"+ \" \".join(cmd)\n",
      "Moviepy - Command successful\n",
      "Moviepy - Running:\n",
      ">>> \"+ \" \".join(cmd)\n",
      "Moviepy - Command successful\n"
     ]
    }
   ],
   "source": [
    "## back\n",
    "\n",
    "cam_path = back_camera.DataPath.values[0][0:-3] + 'avi'\n",
    "\n",
    "for ind in port1_inds:\n",
    "    frame_time = back_pokein_times[ind]\n",
    "    ffmpeg_extract_subclip(cam_path,frame_time - 1,frame_time,targetname=('D:\\camera_test\\\\' +'port1_'+str(ind) + '_back_test.mp4'))\n",
    "    \n",
    "for ind in port3_inds:\n",
    "    frame_time = back_pokein_times[ind]\n",
    "    ffmpeg_extract_subclip(cam_path,frame_time-1,frame_time,targetname=('D:\\camera_test\\\\' +'port3_'+str(ind) + '_back_test.mp4'))\n",
    "\n",
    "    "
   ]
  },
  {
   "cell_type": "code",
   "execution_count": 1510,
   "id": "0e83566d",
   "metadata": {},
   "outputs": [
    {
     "name": "stdout",
     "output_type": "stream",
     "text": [
      "Moviepy - Running:\n",
      ">>> \"+ \" \".join(cmd)\n",
      "Moviepy - Command successful\n",
      "Moviepy - Running:\n",
      ">>> \"+ \" \".join(cmd)\n",
      "Moviepy - Command successful\n",
      "Moviepy - Running:\n",
      ">>> \"+ \" \".join(cmd)\n",
      "Moviepy - Command successful\n",
      "Moviepy - Running:\n",
      ">>> \"+ \" \".join(cmd)\n",
      "Moviepy - Command successful\n",
      "Moviepy - Running:\n",
      ">>> \"+ \" \".join(cmd)\n",
      "Moviepy - Command successful\n",
      "Moviepy - Running:\n",
      ">>> \"+ \" \".join(cmd)\n",
      "Moviepy - Command successful\n"
     ]
    }
   ],
   "source": [
    "## side\n",
    "\n",
    "cam_path = side_camera.DataPath.values[0][0:-3] + 'avi'\n",
    "\n",
    "for ind in port1_inds:\n",
    "    frame_time = side_pokein_times[ind]\n",
    "    ffmpeg_extract_subclip(cam_path,frame_time - 1,frame_time,targetname=('D:\\camera_test\\\\' +'port1_'+str(ind) + '_side_test.mp4'))\n",
    "    \n",
    "for ind in port3_inds:\n",
    "    frame_time = side_pokein_times[ind]\n",
    "    ffmpeg_extract_subclip(cam_path,frame_time-1,frame_time,targetname=('D:\\camera_test\\\\' +'port3_'+str(ind) + '_side_test.mp4'))\n"
   ]
  },
  {
   "cell_type": "code",
   "execution_count": 1511,
   "id": "5006b823",
   "metadata": {},
   "outputs": [
    {
     "name": "stdout",
     "output_type": "stream",
     "text": [
      "Moviepy - Running:\n",
      ">>> \"+ \" \".join(cmd)\n",
      "Moviepy - Command successful\n",
      "Moviepy - Running:\n",
      ">>> \"+ \" \".join(cmd)\n",
      "Moviepy - Command successful\n",
      "Moviepy - Running:\n",
      ">>> \"+ \" \".join(cmd)\n",
      "Moviepy - Command successful\n",
      "Moviepy - Running:\n",
      ">>> \"+ \" \".join(cmd)\n",
      "Moviepy - Command successful\n",
      "Moviepy - Running:\n",
      ">>> \"+ \" \".join(cmd)\n",
      "Moviepy - Command successful\n",
      "Moviepy - Running:\n",
      ">>> \"+ \" \".join(cmd)\n",
      "Moviepy - Command successful\n"
     ]
    }
   ],
   "source": [
    "# side\n",
    "\n",
    "cam_path = bottom_camera.DataPath.values[0][0:-3] + 'avi'\n",
    "\n",
    "for ind in port1_inds:\n",
    "    frame_time = bottom_pokein_times[ind]\n",
    "    ffmpeg_extract_subclip(cam_path,frame_time - 1,frame_time,targetname=('D:\\camera_test\\\\' +'port1_'+str(ind) + '_bottom_test.mp4'))\n",
    "    \n",
    "for ind in port3_inds:\n",
    "    frame_time = bottom_pokein_times[ind]\n",
    "    ffmpeg_extract_subclip(cam_path,frame_time-1,frame_time,targetname=('D:\\camera_test\\\\' +'port3_'+str(ind) + '_bottom_test.mp4'))"
   ]
  },
  {
   "cell_type": "code",
   "execution_count": 1512,
   "id": "ab21660b",
   "metadata": {},
   "outputs": [],
   "source": [
    "### Manipulate this into a transition dataframe and save this out also. "
   ]
  },
  {
   "cell_type": "code",
   "execution_count": null,
   "id": "ae707fea",
   "metadata": {},
   "outputs": [],
   "source": []
  },
  {
   "cell_type": "code",
   "execution_count": 1513,
   "id": "d3ff69c1",
   "metadata": {},
   "outputs": [
    {
     "data": {
      "text/html": [
       "<div>\n",
       "<style scoped>\n",
       "    .dataframe tbody tr th:only-of-type {\n",
       "        vertical-align: middle;\n",
       "    }\n",
       "\n",
       "    .dataframe tbody tr th {\n",
       "        vertical-align: top;\n",
       "    }\n",
       "\n",
       "    .dataframe thead th {\n",
       "        text-align: right;\n",
       "    }\n",
       "</style>\n",
       "<table border=\"1\" class=\"dataframe\">\n",
       "  <thead>\n",
       "    <tr style=\"text-align: right;\">\n",
       "      <th></th>\n",
       "      <th>Unnamed: 0</th>\n",
       "      <th>Unnamed: 0.1</th>\n",
       "      <th>Trial_id</th>\n",
       "      <th>Trial_sequence</th>\n",
       "      <th>Trial_Start</th>\n",
       "      <th>Port</th>\n",
       "      <th>PokeIn_Time</th>\n",
       "      <th>PokeOut_Time</th>\n",
       "      <th>Reward_Times</th>\n",
       "      <th>Trial_End</th>\n",
       "      <th>...</th>\n",
       "      <th>BOTTOM_Trial_Start_Camera_Time</th>\n",
       "      <th>BOTTOM_Trial_End_Camera_Time</th>\n",
       "      <th>BOTTOM_First_poke_Camera_Time</th>\n",
       "      <th>SIDE_Trial_Start_Camera_Time</th>\n",
       "      <th>SIDE_Trial_End_Camera_Time</th>\n",
       "      <th>SIDE_First_poke_Camera_Time</th>\n",
       "      <th>TrialStart_EphysTime</th>\n",
       "      <th>FirstPoke_EphysTime</th>\n",
       "      <th>PokeIN_EphysTime</th>\n",
       "      <th>PokeOUT_EphysTime</th>\n",
       "    </tr>\n",
       "  </thead>\n",
       "  <tbody>\n",
       "    <tr>\n",
       "      <th>0</th>\n",
       "      <td>0</td>\n",
       "      <td>0</td>\n",
       "      <td>1</td>\n",
       "      <td>[1, 5]</td>\n",
       "      <td>43.0649</td>\n",
       "      <td>6</td>\n",
       "      <td>70.8615</td>\n",
       "      <td>70.8798</td>\n",
       "      <td>NaN</td>\n",
       "      <td>116.8894</td>\n",
       "      <td>...</td>\n",
       "      <td>51.992000</td>\n",
       "      <td>125.816500</td>\n",
       "      <td>NaN</td>\n",
       "      <td>51.99175</td>\n",
       "      <td>125.81625</td>\n",
       "      <td>NaN</td>\n",
       "      <td>12898.485168</td>\n",
       "      <td>NaN</td>\n",
       "      <td>12926.281768</td>\n",
       "      <td>12926.300068</td>\n",
       "    </tr>\n",
       "    <tr>\n",
       "      <th>1</th>\n",
       "      <td>1</td>\n",
       "      <td>1</td>\n",
       "      <td>1</td>\n",
       "      <td>[1, 5]</td>\n",
       "      <td>43.0649</td>\n",
       "      <td>6</td>\n",
       "      <td>75.6822</td>\n",
       "      <td>75.7364</td>\n",
       "      <td>NaN</td>\n",
       "      <td>116.8894</td>\n",
       "      <td>...</td>\n",
       "      <td>51.992000</td>\n",
       "      <td>125.816500</td>\n",
       "      <td>NaN</td>\n",
       "      <td>51.99175</td>\n",
       "      <td>125.81625</td>\n",
       "      <td>NaN</td>\n",
       "      <td>12898.485168</td>\n",
       "      <td>NaN</td>\n",
       "      <td>12931.102468</td>\n",
       "      <td>12931.156668</td>\n",
       "    </tr>\n",
       "    <tr>\n",
       "      <th>2</th>\n",
       "      <td>2</td>\n",
       "      <td>2</td>\n",
       "      <td>1</td>\n",
       "      <td>[1, 5]</td>\n",
       "      <td>43.0649</td>\n",
       "      <td>6</td>\n",
       "      <td>75.7367</td>\n",
       "      <td>75.7372</td>\n",
       "      <td>NaN</td>\n",
       "      <td>116.8894</td>\n",
       "      <td>...</td>\n",
       "      <td>51.992000</td>\n",
       "      <td>125.816500</td>\n",
       "      <td>NaN</td>\n",
       "      <td>51.99175</td>\n",
       "      <td>125.81625</td>\n",
       "      <td>NaN</td>\n",
       "      <td>12898.485168</td>\n",
       "      <td>NaN</td>\n",
       "      <td>12931.156968</td>\n",
       "      <td>12931.157468</td>\n",
       "    </tr>\n",
       "    <tr>\n",
       "      <th>3</th>\n",
       "      <td>3</td>\n",
       "      <td>3</td>\n",
       "      <td>1</td>\n",
       "      <td>[1, 5]</td>\n",
       "      <td>43.0649</td>\n",
       "      <td>5</td>\n",
       "      <td>77.1021</td>\n",
       "      <td>77.1290</td>\n",
       "      <td>NaN</td>\n",
       "      <td>116.8894</td>\n",
       "      <td>...</td>\n",
       "      <td>51.992000</td>\n",
       "      <td>125.816500</td>\n",
       "      <td>NaN</td>\n",
       "      <td>51.99175</td>\n",
       "      <td>125.81625</td>\n",
       "      <td>NaN</td>\n",
       "      <td>12898.485168</td>\n",
       "      <td>NaN</td>\n",
       "      <td>12932.522368</td>\n",
       "      <td>12932.549268</td>\n",
       "    </tr>\n",
       "    <tr>\n",
       "      <th>4</th>\n",
       "      <td>4</td>\n",
       "      <td>4</td>\n",
       "      <td>1</td>\n",
       "      <td>[1, 5]</td>\n",
       "      <td>43.0649</td>\n",
       "      <td>2</td>\n",
       "      <td>109.7976</td>\n",
       "      <td>109.9994</td>\n",
       "      <td>NaN</td>\n",
       "      <td>116.8894</td>\n",
       "      <td>...</td>\n",
       "      <td>51.992000</td>\n",
       "      <td>125.816500</td>\n",
       "      <td>NaN</td>\n",
       "      <td>51.99175</td>\n",
       "      <td>125.81625</td>\n",
       "      <td>NaN</td>\n",
       "      <td>12898.485168</td>\n",
       "      <td>NaN</td>\n",
       "      <td>12965.217868</td>\n",
       "      <td>12965.419668</td>\n",
       "    </tr>\n",
       "    <tr>\n",
       "      <th>...</th>\n",
       "      <td>...</td>\n",
       "      <td>...</td>\n",
       "      <td>...</td>\n",
       "      <td>...</td>\n",
       "      <td>...</td>\n",
       "      <td>...</td>\n",
       "      <td>...</td>\n",
       "      <td>...</td>\n",
       "      <td>...</td>\n",
       "      <td>...</td>\n",
       "      <td>...</td>\n",
       "      <td>...</td>\n",
       "      <td>...</td>\n",
       "      <td>...</td>\n",
       "      <td>...</td>\n",
       "      <td>...</td>\n",
       "      <td>...</td>\n",
       "      <td>...</td>\n",
       "      <td>...</td>\n",
       "      <td>...</td>\n",
       "      <td>...</td>\n",
       "    </tr>\n",
       "    <tr>\n",
       "      <th>3028</th>\n",
       "      <td>3028</td>\n",
       "      <td>3028</td>\n",
       "      <td>671</td>\n",
       "      <td>[2, 6]</td>\n",
       "      <td>3994.9779</td>\n",
       "      <td>6</td>\n",
       "      <td>4001.1863</td>\n",
       "      <td>4001.2116</td>\n",
       "      <td>4001.1863</td>\n",
       "      <td>4001.5976</td>\n",
       "      <td>...</td>\n",
       "      <td>4004.261375</td>\n",
       "      <td>4010.881075</td>\n",
       "      <td>NaN</td>\n",
       "      <td>4004.26800</td>\n",
       "      <td>4010.88770</td>\n",
       "      <td>NaN</td>\n",
       "      <td>16850.528794</td>\n",
       "      <td>NaN</td>\n",
       "      <td>16856.737194</td>\n",
       "      <td>16856.762494</td>\n",
       "    </tr>\n",
       "    <tr>\n",
       "      <th>3029</th>\n",
       "      <td>3029</td>\n",
       "      <td>3029</td>\n",
       "      <td>671</td>\n",
       "      <td>[2, 6]</td>\n",
       "      <td>3994.9779</td>\n",
       "      <td>6</td>\n",
       "      <td>4001.3113</td>\n",
       "      <td>4002.3679</td>\n",
       "      <td>NaN</td>\n",
       "      <td>4001.5976</td>\n",
       "      <td>...</td>\n",
       "      <td>4004.261375</td>\n",
       "      <td>4010.881075</td>\n",
       "      <td>NaN</td>\n",
       "      <td>4004.26800</td>\n",
       "      <td>4010.88770</td>\n",
       "      <td>NaN</td>\n",
       "      <td>16850.528794</td>\n",
       "      <td>NaN</td>\n",
       "      <td>16856.862194</td>\n",
       "      <td>16857.918794</td>\n",
       "    </tr>\n",
       "    <tr>\n",
       "      <th>3030</th>\n",
       "      <td>3030</td>\n",
       "      <td>3030</td>\n",
       "      <td>672</td>\n",
       "      <td>[2, 6]</td>\n",
       "      <td>4001.5978</td>\n",
       "      <td>2</td>\n",
       "      <td>4002.7446</td>\n",
       "      <td>4003.4878</td>\n",
       "      <td>NaN</td>\n",
       "      <td>4005.0680</td>\n",
       "      <td>...</td>\n",
       "      <td>4010.874875</td>\n",
       "      <td>4014.345075</td>\n",
       "      <td>4012.024375</td>\n",
       "      <td>4010.88150</td>\n",
       "      <td>4014.35170</td>\n",
       "      <td>4012.031</td>\n",
       "      <td>16857.148907</td>\n",
       "      <td>16858.29566</td>\n",
       "      <td>16858.295707</td>\n",
       "      <td>16859.038907</td>\n",
       "    </tr>\n",
       "    <tr>\n",
       "      <th>3031</th>\n",
       "      <td>3031</td>\n",
       "      <td>3031</td>\n",
       "      <td>672</td>\n",
       "      <td>[2, 6]</td>\n",
       "      <td>4001.5978</td>\n",
       "      <td>6</td>\n",
       "      <td>4004.6567</td>\n",
       "      <td>4004.6683</td>\n",
       "      <td>4004.6567</td>\n",
       "      <td>4005.0680</td>\n",
       "      <td>...</td>\n",
       "      <td>4010.874875</td>\n",
       "      <td>4014.345075</td>\n",
       "      <td>NaN</td>\n",
       "      <td>4010.88150</td>\n",
       "      <td>4014.35170</td>\n",
       "      <td>NaN</td>\n",
       "      <td>16857.148907</td>\n",
       "      <td>NaN</td>\n",
       "      <td>16860.207807</td>\n",
       "      <td>16860.219407</td>\n",
       "    </tr>\n",
       "    <tr>\n",
       "      <th>3032</th>\n",
       "      <td>3032</td>\n",
       "      <td>3032</td>\n",
       "      <td>672</td>\n",
       "      <td>[2, 6]</td>\n",
       "      <td>4001.5978</td>\n",
       "      <td>6</td>\n",
       "      <td>4004.7555</td>\n",
       "      <td>NaN</td>\n",
       "      <td>NaN</td>\n",
       "      <td>4005.0680</td>\n",
       "      <td>...</td>\n",
       "      <td>4010.874875</td>\n",
       "      <td>4014.345075</td>\n",
       "      <td>NaN</td>\n",
       "      <td>4010.88150</td>\n",
       "      <td>4014.35170</td>\n",
       "      <td>NaN</td>\n",
       "      <td>16857.148907</td>\n",
       "      <td>NaN</td>\n",
       "      <td>16860.306607</td>\n",
       "      <td>NaN</td>\n",
       "    </tr>\n",
       "  </tbody>\n",
       "</table>\n",
       "<p>3033 rows × 23 columns</p>\n",
       "</div>"
      ],
      "text/plain": [
       "      Unnamed: 0  Unnamed: 0.1  Trial_id Trial_sequence  Trial_Start  Port  \\\n",
       "0              0             0         1         [1, 5]      43.0649     6   \n",
       "1              1             1         1         [1, 5]      43.0649     6   \n",
       "2              2             2         1         [1, 5]      43.0649     6   \n",
       "3              3             3         1         [1, 5]      43.0649     5   \n",
       "4              4             4         1         [1, 5]      43.0649     2   \n",
       "...          ...           ...       ...            ...          ...   ...   \n",
       "3028        3028          3028       671         [2, 6]    3994.9779     6   \n",
       "3029        3029          3029       671         [2, 6]    3994.9779     6   \n",
       "3030        3030          3030       672         [2, 6]    4001.5978     2   \n",
       "3031        3031          3031       672         [2, 6]    4001.5978     6   \n",
       "3032        3032          3032       672         [2, 6]    4001.5978     6   \n",
       "\n",
       "      PokeIn_Time  PokeOut_Time  Reward_Times  Trial_End  ...  \\\n",
       "0         70.8615       70.8798           NaN   116.8894  ...   \n",
       "1         75.6822       75.7364           NaN   116.8894  ...   \n",
       "2         75.7367       75.7372           NaN   116.8894  ...   \n",
       "3         77.1021       77.1290           NaN   116.8894  ...   \n",
       "4        109.7976      109.9994           NaN   116.8894  ...   \n",
       "...           ...           ...           ...        ...  ...   \n",
       "3028    4001.1863     4001.2116     4001.1863  4001.5976  ...   \n",
       "3029    4001.3113     4002.3679           NaN  4001.5976  ...   \n",
       "3030    4002.7446     4003.4878           NaN  4005.0680  ...   \n",
       "3031    4004.6567     4004.6683     4004.6567  4005.0680  ...   \n",
       "3032    4004.7555           NaN           NaN  4005.0680  ...   \n",
       "\n",
       "      BOTTOM_Trial_Start_Camera_Time  BOTTOM_Trial_End_Camera_Time  \\\n",
       "0                          51.992000                    125.816500   \n",
       "1                          51.992000                    125.816500   \n",
       "2                          51.992000                    125.816500   \n",
       "3                          51.992000                    125.816500   \n",
       "4                          51.992000                    125.816500   \n",
       "...                              ...                           ...   \n",
       "3028                     4004.261375                   4010.881075   \n",
       "3029                     4004.261375                   4010.881075   \n",
       "3030                     4010.874875                   4014.345075   \n",
       "3031                     4010.874875                   4014.345075   \n",
       "3032                     4010.874875                   4014.345075   \n",
       "\n",
       "      BOTTOM_First_poke_Camera_Time  SIDE_Trial_Start_Camera_Time  \\\n",
       "0                               NaN                      51.99175   \n",
       "1                               NaN                      51.99175   \n",
       "2                               NaN                      51.99175   \n",
       "3                               NaN                      51.99175   \n",
       "4                               NaN                      51.99175   \n",
       "...                             ...                           ...   \n",
       "3028                            NaN                    4004.26800   \n",
       "3029                            NaN                    4004.26800   \n",
       "3030                    4012.024375                    4010.88150   \n",
       "3031                            NaN                    4010.88150   \n",
       "3032                            NaN                    4010.88150   \n",
       "\n",
       "      SIDE_Trial_End_Camera_Time  SIDE_First_poke_Camera_Time  \\\n",
       "0                      125.81625                          NaN   \n",
       "1                      125.81625                          NaN   \n",
       "2                      125.81625                          NaN   \n",
       "3                      125.81625                          NaN   \n",
       "4                      125.81625                          NaN   \n",
       "...                          ...                          ...   \n",
       "3028                  4010.88770                          NaN   \n",
       "3029                  4010.88770                          NaN   \n",
       "3030                  4014.35170                     4012.031   \n",
       "3031                  4014.35170                          NaN   \n",
       "3032                  4014.35170                          NaN   \n",
       "\n",
       "      TrialStart_EphysTime  FirstPoke_EphysTime  PokeIN_EphysTime  \\\n",
       "0             12898.485168                  NaN      12926.281768   \n",
       "1             12898.485168                  NaN      12931.102468   \n",
       "2             12898.485168                  NaN      12931.156968   \n",
       "3             12898.485168                  NaN      12932.522368   \n",
       "4             12898.485168                  NaN      12965.217868   \n",
       "...                    ...                  ...               ...   \n",
       "3028          16850.528794                  NaN      16856.737194   \n",
       "3029          16850.528794                  NaN      16856.862194   \n",
       "3030          16857.148907          16858.29566      16858.295707   \n",
       "3031          16857.148907                  NaN      16860.207807   \n",
       "3032          16857.148907                  NaN      16860.306607   \n",
       "\n",
       "      PokeOUT_EphysTime  \n",
       "0          12926.300068  \n",
       "1          12931.156668  \n",
       "2          12931.157468  \n",
       "3          12932.549268  \n",
       "4          12965.419668  \n",
       "...                 ...  \n",
       "3028       16856.762494  \n",
       "3029       16857.918794  \n",
       "3030       16859.038907  \n",
       "3031       16860.219407  \n",
       "3032                NaN  \n",
       "\n",
       "[3033 rows x 23 columns]"
      ]
     },
     "execution_count": 1513,
     "metadata": {},
     "output_type": "execute_result"
    }
   ],
   "source": [
    "Poke_data_EPhys"
   ]
  },
  {
   "cell_type": "code",
   "execution_count": null,
   "id": "c6184a6b",
   "metadata": {},
   "outputs": [],
   "source": []
  },
  {
   "cell_type": "code",
   "execution_count": null,
   "id": "0fc8fc0c",
   "metadata": {},
   "outputs": [],
   "source": []
  },
  {
   "cell_type": "code",
   "execution_count": 1818,
   "id": "eaaf240f",
   "metadata": {},
   "outputs": [],
   "source": [
    "Port_intimes = Poke_data_EPhys.PokeIn_Time.values\n",
    "Port_outtimes = Poke_data_EPhys.PokeOut_Time.values\n",
    "Ports = Poke_data_EPhys.Port.values\n",
    "\n",
    "#Determine Transition times and types for all events \n",
    "out_in_Transition_times, in_in_Transition_times, Transition_types, out_in_transition_reference,in_in_transition_reference = Determine_Transition_Times_and_Types(Port_intimes,Port_outtimes,Ports)\n",
    "\n",
    "#Split transtion types into first and last ports: \n",
    "start_port_ids = Start_End_port_id(Transition_types,0)\n",
    "end_port_ids = Start_End_port_id(Transition_types,1)\n",
    "\n",
    "#Align start and end port time\n",
    "End_Port_in_time = Port_intimes[1::]\n",
    "Start_Port_in_time = Port_intimes[0:-1]\n",
    "End_Port_out_time = Port_outtimes[1::]\n",
    "Start_Port_out_time = Port_outtimes[0:-1]\n",
    "\n",
    "#Find Port repeat events (double pokes)\n",
    "Non_Port_repeat = determine_RepeatPort_events(start_port_ids,end_port_ids)\n",
    "\n",
    "#Determine which transitions are good: less than 1.5s\n",
    "out_in_Filtered_transitions = filter_transitons_by_latency(out_in_Transition_times, 2)\n",
    "in_in_Filtered_transitions = filter_transitons_by_latency(in_in_Transition_times, 2)"
   ]
  },
  {
   "cell_type": "code",
   "execution_count": 1819,
   "id": "9df54363",
   "metadata": {},
   "outputs": [],
   "source": [
    "# make dataframe:\n",
    "new_Transition_df = pd.DataFrame(\n",
    "    {'Trial_id' : Poke_data_EPhys['Trial_id'][0:-1],\n",
    "    'Transition_type' : Transition_types,\n",
    "     'Start_Port':start_port_ids, \n",
    "     'End_Port':end_port_ids,\n",
    "     'Start_Poke_in_time': Start_Port_in_time,\n",
    "     'Start_Poke_out_time': Start_Port_out_time,\n",
    "     'End_Poke_in_time': End_Port_in_time,\n",
    "     'End_Poke_out_time': End_Port_out_time,\n",
    "     'out_in_Latency' : out_in_Transition_times,\n",
    "     'in_in_Latency': in_in_Transition_times,\n",
    "     '2s_Time_Filter_out_in': out_in_Filtered_transitions,\n",
    "     '2s_Time_Filter_in_in': in_in_Filtered_transitions,\n",
    "     'Repeat_Filter':Non_Port_repeat,\n",
    "     \n",
    "     'TrialStart_EphysTime': Poke_data_EPhys.TrialStart_EphysTime.values[0:-1],\n",
    "     'FirstPoke_EphysTime': Poke_data_EPhys.FirstPoke_EphysTime.values[0:-1],\n",
    "     'P1_IN_Ephys_TS': Poke_data_EPhys.PokeIN_EphysTime.values[0:-1],\n",
    "     'P1_OUT_Ephys_TS': Poke_data_EPhys.PokeOUT_EphysTime.values[0:-1],\n",
    "     'P2_IN_Ephys_TS': Poke_data_EPhys.PokeIN_EphysTime.values[1::],\n",
    "     'P2_OUT_Ephys_TS': Poke_data_EPhys.PokeOUT_EphysTime.values[1::],\n",
    "     \n",
    "     'backcam_trialstart_seconds':back_aligned_time[0:-1],\n",
    "     'backcam_trialstart_timestamps':back_aligned_ts[0:-1],  \n",
    "     'backcam_aligned_P1In_times':back_pokein_times[0:-1],\n",
    "     'backcam_aligned_P1Out_times':back_pokeout_times[0:-1],\n",
    "     'backcam_aligned_P2In_times':back_pokein_times[1::],\n",
    "     'backcam_aligned_P2Out_times':back_pokeout_times[1::],\n",
    "     \n",
    "     'sidecam_trialstart_seconds':side_aligned_time[0:-1],\n",
    "     'sidecam_trialstart_timestamps':side_aligned_ts[0:-1],  \n",
    "     'sidecam_aligned_P1In_times':side_pokein_times[0:-1],\n",
    "     'sidecam_aligned_P1Out_times':side_pokeout_times[0:-1],\n",
    "     'sidecam_aligned_P2In_times':side_pokein_times[1::],\n",
    "     'sidecam_aligned_P2Out_times':side_pokeout_times[1::],\n",
    "     \n",
    "     'bottomcam_trialstart_seconds':bottom_aligned_time[0:-1],\n",
    "     'bottomcam_trialstart_timestamps':bottom_aligned_ts[0:-1],  \n",
    "     'bottomcam_aligned_P1In_times':bottom_pokein_times[0:-1],\n",
    "     'bottomcam_aligned_P1Out_times':bottom_pokeout_times[0:-1],\n",
    "     'bottomcam_aligned_P2In_times':bottom_pokein_times[1::],\n",
    "     'bottomcam_aligned_P2Out_times':bottom_pokeout_times[1::]\n",
    "    \n",
    "    })"
   ]
  },
  {
   "cell_type": "code",
   "execution_count": 1820,
   "id": "eade773a",
   "metadata": {},
   "outputs": [
    {
     "name": "stdout",
     "output_type": "stream",
     "text": [
      "data checked?\n",
      "data Saved\n"
     ]
    }
   ],
   "source": [
    "new_Transition_df.to_csv(spikes_input_path +'/Clock_Transition_data_sync.csv')\n",
    "\n",
    "print('data checked?')\n",
    "print('data Saved')"
   ]
  },
  {
   "cell_type": "code",
   "execution_count": null,
   "id": "ea62c64d",
   "metadata": {},
   "outputs": [],
   "source": []
  },
  {
   "cell_type": "code",
   "execution_count": 1737,
   "id": "f6f19aca",
   "metadata": {},
   "outputs": [
    {
     "data": {
      "text/plain": [
       "'Z:\\\\projects\\\\sequence_squad\\\\data\\\\processed_bpod_data\\\\EJT149\\\\Preprocessed\\\\03_20211119_130408_Fri\\\\'"
      ]
     },
     "execution_count": 1737,
     "metadata": {},
     "output_type": "execute_result"
    }
   ],
   "source": [
    "spikes_input_path"
   ]
  },
  {
   "cell_type": "code",
   "execution_count": null,
   "id": "d94fed0e",
   "metadata": {},
   "outputs": [],
   "source": []
  },
  {
   "cell_type": "code",
   "execution_count": null,
   "id": "864990dd",
   "metadata": {},
   "outputs": [],
   "source": []
  },
  {
   "cell_type": "code",
   "execution_count": null,
   "id": "15e87899",
   "metadata": {},
   "outputs": [],
   "source": []
  },
  {
   "cell_type": "code",
   "execution_count": 461,
   "id": "1a0b8f43",
   "metadata": {},
   "outputs": [
    {
     "data": {
      "text/plain": [
       "'Z:\\\\projects\\\\sequence_squad\\\\data\\\\processed_bpod_data\\\\EJT178_implant2\\\\Preprocessed\\\\03_20220407_140416_Thu\\\\CLOCK\\\\'"
      ]
     },
     "execution_count": 461,
     "metadata": {},
     "output_type": "execute_result"
    }
   ],
   "source": [
    "camera_ts_path"
   ]
  },
  {
   "cell_type": "code",
   "execution_count": null,
   "id": "bc2b5d34",
   "metadata": {},
   "outputs": [],
   "source": []
  },
  {
   "cell_type": "code",
   "execution_count": null,
   "id": "ade50217",
   "metadata": {},
   "outputs": [],
   "source": []
  },
  {
   "cell_type": "code",
   "execution_count": null,
   "id": "26a48b46",
   "metadata": {},
   "outputs": [],
   "source": []
  },
  {
   "cell_type": "code",
   "execution_count": null,
   "id": "04359e8c",
   "metadata": {},
   "outputs": [],
   "source": []
  },
  {
   "cell_type": "code",
   "execution_count": null,
   "id": "afab08d9",
   "metadata": {},
   "outputs": [],
   "source": []
  },
  {
   "cell_type": "code",
   "execution_count": 223,
   "id": "08afc341",
   "metadata": {},
   "outputs": [
    {
     "data": {
      "text/plain": [
       "'Z:\\\\projects\\\\sequence_squad\\\\data\\\\kilosort_output\\\\EJT178_implant2\\\\Recording4\\\\2022-04-07_12-39-27\\\\Processed_data\\\\\\\\'"
      ]
     },
     "execution_count": 223,
     "metadata": {},
     "output_type": "execute_result"
    }
   ],
   "source": [
    "spikes_input_path"
   ]
  },
  {
   "cell_type": "code",
   "execution_count": null,
   "id": "aea85326",
   "metadata": {},
   "outputs": [],
   "source": []
  },
  {
   "cell_type": "code",
   "execution_count": null,
   "id": "475a6385",
   "metadata": {},
   "outputs": [],
   "source": []
  },
  {
   "cell_type": "code",
   "execution_count": null,
   "id": "7788cad3",
   "metadata": {},
   "outputs": [],
   "source": []
  },
  {
   "cell_type": "code",
   "execution_count": null,
   "id": "9a28b330",
   "metadata": {},
   "outputs": [],
   "source": []
  },
  {
   "cell_type": "code",
   "execution_count": null,
   "id": "de02ad3c",
   "metadata": {},
   "outputs": [],
   "source": []
  },
  {
   "cell_type": "code",
   "execution_count": null,
   "id": "9f129dce",
   "metadata": {},
   "outputs": [],
   "source": []
  },
  {
   "cell_type": "code",
   "execution_count": null,
   "id": "83188de3",
   "metadata": {},
   "outputs": [],
   "source": []
  },
  {
   "cell_type": "code",
   "execution_count": null,
   "id": "23d81abc",
   "metadata": {},
   "outputs": [],
   "source": []
  },
  {
   "cell_type": "code",
   "execution_count": null,
   "id": "56064c55",
   "metadata": {},
   "outputs": [],
   "source": []
  },
  {
   "cell_type": "code",
   "execution_count": null,
   "id": "e6ba887e",
   "metadata": {},
   "outputs": [],
   "source": []
  },
  {
   "cell_type": "code",
   "execution_count": null,
   "id": "1adc06ae",
   "metadata": {},
   "outputs": [],
   "source": [
    "back_pokeout_times"
   ]
  },
  {
   "cell_type": "code",
   "execution_count": 165,
   "id": "4d42ea52",
   "metadata": {},
   "outputs": [
    {
     "data": {
      "text/plain": [
       "[544.6414000000001,\n",
       " 732.5657,\n",
       " 1553.8938666666666,\n",
       " 2282.2307666666666,\n",
       " 2509.5084666666667]"
      ]
     },
     "execution_count": 165,
     "metadata": {},
     "output_type": "execute_result"
    }
   ],
   "source": [
    "frames"
   ]
  },
  {
   "cell_type": "code",
   "execution_count": null,
   "id": "69a9f12c",
   "metadata": {},
   "outputs": [],
   "source": [
    "back_pokeout_times"
   ]
  },
  {
   "cell_type": "code",
   "execution_count": 140,
   "id": "48ededdb",
   "metadata": {},
   "outputs": [],
   "source": [
    "\n",
    "frames = []\n",
    "\n",
    "count = 0\n",
    "for index,frame in enumerate(frames):\n",
    "\n",
    "    "
   ]
  },
  {
   "cell_type": "code",
   "execution_count": 139,
   "id": "647383f1",
   "metadata": {},
   "outputs": [],
   "source": []
  },
  {
   "cell_type": "code",
   "execution_count": null,
   "id": "850c3329",
   "metadata": {},
   "outputs": [],
   "source": []
  },
  {
   "cell_type": "code",
   "execution_count": null,
   "id": "09942e13",
   "metadata": {},
   "outputs": [],
   "source": []
  },
  {
   "cell_type": "code",
   "execution_count": null,
   "id": "24db6a00",
   "metadata": {},
   "outputs": [],
   "source": []
  },
  {
   "cell_type": "code",
   "execution_count": 472,
   "id": "f1e3550f",
   "metadata": {},
   "outputs": [],
   "source": [
    "def list_files(directory, extension):\n",
    "    return (f for f in os.listdir(directory) if f.endswith('.' + extension))"
   ]
  },
  {
   "cell_type": "code",
   "execution_count": 478,
   "id": "c55d2b37",
   "metadata": {},
   "outputs": [],
   "source": [
    "frames = [2245, 2246, 2252, 2258, 2263, 2265, 2270,2278, 2284, 2285, 2292, 2299, 2300, 2305, 2311, 2317, 2323, 2330,2629]"
   ]
  },
  {
   "cell_type": "code",
   "execution_count": 480,
   "id": "3075d99b",
   "metadata": {},
   "outputs": [
    {
     "name": "stdout",
     "output_type": "stream",
     "text": [
      "Moviepy - Running:\n",
      ">>> \"+ \" \".join(cmd)\n",
      "Moviepy - Command successful\n",
      "Moviepy - Running:\n",
      ">>> \"+ \" \".join(cmd)\n",
      "Moviepy - Command successful\n",
      "Moviepy - Running:\n",
      ">>> \"+ \" \".join(cmd)\n",
      "Moviepy - Command successful\n",
      "Moviepy - Running:\n",
      ">>> \"+ \" \".join(cmd)\n",
      "Moviepy - Command successful\n",
      "Moviepy - Running:\n",
      ">>> \"+ \" \".join(cmd)\n",
      "Moviepy - Command successful\n",
      "Moviepy - Running:\n",
      ">>> \"+ \" \".join(cmd)\n",
      "Moviepy - Command successful\n",
      "Moviepy - Running:\n",
      ">>> \"+ \" \".join(cmd)\n",
      "Moviepy - Command successful\n",
      "Moviepy - Running:\n",
      ">>> \"+ \" \".join(cmd)\n",
      "Moviepy - Command successful\n",
      "Moviepy - Running:\n",
      ">>> \"+ \" \".join(cmd)\n",
      "Moviepy - Command successful\n",
      "Moviepy - Running:\n",
      ">>> \"+ \" \".join(cmd)\n",
      "Moviepy - Command successful\n",
      "Moviepy - Running:\n",
      ">>> \"+ \" \".join(cmd)\n",
      "Moviepy - Command successful\n",
      "Moviepy - Running:\n",
      ">>> \"+ \" \".join(cmd)\n",
      "Moviepy - Command successful\n",
      "Moviepy - Running:\n",
      ">>> \"+ \" \".join(cmd)\n",
      "Moviepy - Command successful\n",
      "Moviepy - Running:\n",
      ">>> \"+ \" \".join(cmd)\n",
      "Moviepy - Command successful\n",
      "Moviepy - Running:\n",
      ">>> \"+ \" \".join(cmd)\n",
      "Moviepy - Command successful\n",
      "Moviepy - Running:\n",
      ">>> \"+ \" \".join(cmd)\n",
      "Moviepy - Command successful\n",
      "Moviepy - Running:\n",
      ">>> \"+ \" \".join(cmd)\n",
      "Moviepy - Command successful\n",
      "Moviepy - Running:\n",
      ">>> \"+ \" \".join(cmd)\n",
      "Moviepy - Command successful\n",
      "Moviepy - Running:\n",
      ">>> \"+ \" \".join(cmd)\n",
      "Moviepy - Command successful\n"
     ]
    }
   ],
   "source": [
    "## test by splitting up video:\n",
    "from moviepy.video.io.ffmpeg_tools import ffmpeg_extract_subclip\n",
    "from moviepy.editor import *\n",
    "\n",
    "a = list_files(r'Z:\\projects\\sequence_squad\\data\\video_data\\raw_flycap\\EJT178_implant2\\070422\\2_task', 'avi')\n",
    "for file in a:\n",
    "    if 'back' in file:\n",
    "        cam_path = r'Z:\\projects\\sequence_squad\\data\\video_data\\raw_flycap\\EJT178_implant2\\070422\\2_task\\\\' + file\n",
    "\n",
    "# firstpoke_ = list(Poke_data_EPhys['BACK_First_poke_Camera_Time'].unique())\n",
    "# del firstpoke_[1]\n",
    "\n",
    "# len(firstpoke_)\n",
    "\n",
    "# Poke_data_EPhys['BACK_Trial_Start_Camera_Time'].unique()\n",
    "\n",
    "\n",
    "\n",
    "# for index, item in enumerate(transition_camera_frames[200::]):\n",
    "#     frames = np.array(item)/60\n",
    "    \n",
    "#     ffmpeg_extract_subclip(cam_path,frames[0],frames[-1]+0.2,targetname=('D:\\\\' +str(index) + '_test.mp4'))\n",
    "#     if index == 20:\n",
    "#         break\n",
    "\n",
    "\n",
    "count = 0\n",
    "for index,frame in enumerate(frames):\n",
    "\n",
    "    ffmpeg_extract_subclip(cam_path,cam_poke_times[frame],cam_poke_times[frame] + 0.2,targetname=('D:\\\\' +str(index) + '_test.mp4'))\n",
    "    count = count + 1\n",
    "    \n"
   ]
  },
  {
   "cell_type": "code",
   "execution_count": 40,
   "id": "92784136",
   "metadata": {},
   "outputs": [
    {
     "name": "stdout",
     "output_type": "stream",
     "text": [
      "Moviepy - Running:\n",
      ">>> \"+ \" \".join(cmd)\n",
      "Moviepy - Command successful\n"
     ]
    }
   ],
   "source": [
    "from moviepy.video.io.ffmpeg_tools import ffmpeg_extract_subclip\n",
    "from moviepy.editor import *\n",
    "\n",
    "\n",
    "\n",
    "\n",
    "cam_path = r'Z:\\projects\\sequence_squad\\data\\video_data\\raw_flycap\\EJT48_implant2\\191022\\Bottom_2020-10-19T14_14_30.avi'\n",
    "\n",
    "\n",
    "\n",
    "ffmpeg_extract_subclip(cam_path,(47*60),(60*60 + 44*60 + 15),targetname=('D:\\\\' + 'part2.avi'))\n",
    "    \n",
    "\n",
    "\n"
   ]
  },
  {
   "cell_type": "code",
   "execution_count": 34,
   "id": "97aa4418",
   "metadata": {},
   "outputs": [
    {
     "data": {
      "text/plain": [
       "6255"
      ]
     },
     "execution_count": 34,
     "metadata": {},
     "output_type": "execute_result"
    }
   ],
   "source": []
  },
  {
   "cell_type": "code",
   "execution_count": 35,
   "id": "352ff466",
   "metadata": {},
   "outputs": [
    {
     "data": {
      "text/plain": [
       "104.25"
      ]
     },
     "execution_count": 35,
     "metadata": {},
     "output_type": "execute_result"
    }
   ],
   "source": [
    "6255/60"
   ]
  },
  {
   "cell_type": "code",
   "execution_count": 435,
   "id": "5e759085",
   "metadata": {},
   "outputs": [
    {
     "data": {
      "text/plain": [
       "array([  1488.,   6132.,   9123.,  15450.,  17379.,  17632.,  18209.,\n",
       "        20110.,  21383.,  22453.,  22846.,  23058.,  23347.,  23589.,\n",
       "        24104.,  26091.,  28355.,  28849.,  29324.,  29634.,  29838.,\n",
       "        30514.,  30772.,  31085.,  31340.,  31701.,  31903.,  32207.,\n",
       "        32486.,  32865.,  33563.,  34283.,  34571.,  35227.,  37116.,\n",
       "        37506.,  37796.,  37966.,  38207.,  38396.,  38611.,  38851.,\n",
       "        39146.,  39430.,  39702.,  39921.,  40163.,  40423.,  40663.,\n",
       "        40884.,  41191.,  41423.,  41646.,  41868.,  42264.,  42481.,\n",
       "        42967.,  43431.,  43656.,  43857.,  44137.,  44373.,  44704.,\n",
       "        44992.,  45259.,  45504.,  45895.,  46098.,  46317.,  46726.,\n",
       "        46954.,  47263.,  47476.,  47865.,  48084.,  48381.,  48665.,\n",
       "        49081.,  49568.,  49908.,  50120.,  50503.,  51135.,  51296.,\n",
       "        51542.,  51761.,  52051.,  52410.,  52822.,  53160.,  53393.,\n",
       "        53599.,  53785.,  54151.,  54355.,  54594.,  55785.,  56262.,\n",
       "        57136.,  57491.,     nan,  62022.,  62333.,  64180.,  66977.,\n",
       "        67649.,  67827.,  68123.,  68349.,  68564.,  68846.,  69378.,\n",
       "        69975.,  70198.,  70903.,  71399.,  71861.,  72275.,  72454.,\n",
       "        74678.,  75177.,  75400.,  75647.,  78255.,  81128.,  81331.,\n",
       "        81766.,  82036.,  82354.,  82551.,  85137.,  85543.,  87469.,\n",
       "        88358.,  88566.,  88875.,  89283.,  89479.,  89739.,  91098.,\n",
       "        91269.,  91451.,  91729.,  91927.,  92159.,  92410.,  92668.,\n",
       "        92991.,  93294.,  93570.,  94890.,  95162.,  95550.,  95728.,\n",
       "        95924.,  96385.,  96675.,  96846.,  97104.,  97340.,  97514.,\n",
       "        98012.,  98182.,  98746.,  98905.,  99666., 100021., 100199.,\n",
       "       100385., 100999., 101505., 103292., 103490., 103736., 103906.,\n",
       "       104281., 104588., 104838., 105905., 106069., 106365., 106542.,\n",
       "       106778., 106980., 107211., 107387., 108024., 108271., 108456.,\n",
       "       109136., 109321., 109705., 110200., 110888., 111050., 111524.,\n",
       "       111682., 112038., 112324., 112522., 112706., 112977., 113981.,\n",
       "       114236., 114867., 115016., 115386., 115554., 115801., 116112.,\n",
       "       116625., 116872., 117217., 117455., 117949., 118118., 118294.,\n",
       "       118660., 118851., 119036., 119479., 119686., 120098., 120300.,\n",
       "       120803., 121043., 121536., 121900., 122848., 123022., 123178.,\n",
       "       123925., 124287., 124467., 124860., 125213., 125813., 125997.,\n",
       "       126170., 127231., 127398., 127798., 128060., 128677., 128858.,\n",
       "       129031.,     nan, 131460., 132654., 132890., 133072., 133243.,\n",
       "       133982., 134341., 134544., 134936., 135225., 135433., 135926.,\n",
       "       136082., 136264., 136541., 136738., 136958., 137317., 137692.,\n",
       "       137857., 138034., 138430., 138700., 139011., 139179., 139504.,\n",
       "       139673., 140583., 140749., 141099., 141468., 142359., 142529.,\n",
       "       142803., 143162., 143516., 144109., 144292., 145191., 145372.,\n",
       "       145768., 145938., 146117., 146474., 146641., 146820., 147073.,\n",
       "       147247., 147528., 147713., 148620., 148823., 149019., 149325.,\n",
       "       149577., 149745., 150227., 150502., 150845., 151249., 151791.,\n",
       "       152009., 152167., 152353., 152725., 154356., 154870., 155198.,\n",
       "       155381., 155557., 155749., 155920., 156214., 156805.])"
      ]
     },
     "execution_count": 435,
     "metadata": {},
     "output_type": "execute_result"
    }
   ],
   "source": [
    "Fixed_side_cam_tstart_ts"
   ]
  },
  {
   "cell_type": "code",
   "execution_count": 434,
   "id": "4e1c6849",
   "metadata": {},
   "outputs": [
    {
     "data": {
      "text/plain": [
       "array([  1488.,   6132.,   9123.,  15450.,  17379.,  17632.,  18210.,\n",
       "        20110.,  21383.,  22453.,  22847.,  23058.,  23348.,  23589.,\n",
       "        24104.,  26091.,  28355.,  28850.,  29324.,  29634.,  29838.,\n",
       "        30514.,  30772.,  31085.,  31341.,  31701.,  31903.,  32207.,\n",
       "        32486.,  32865.,  33563.,  34284.,  34571.,  35227.,  37116.,\n",
       "        37506.,  37796.,  37967.,  38207.,  38396.,  38611.,  38851.,\n",
       "        39146.,  39430.,  39703.,  39921.,  40163.,  40423.,  40663.,\n",
       "        40884.,  41191.,  41423.,  41646.,  41868.,  42264.,  42481.,\n",
       "        42967.,  43431.,  43656.,  43857.,  44137.,  44374.,  44704.,\n",
       "        44992.,  45259.,  45504.,  45895.,  46098.,  46317.,  46727.,\n",
       "        46954.,  47263.,  47476.,  47865.,  48084.,  48381.,  48665.,\n",
       "        49081.,  49568.,  49908.,  50120.,  50503.,  51135.,  51296.,\n",
       "        51542.,  51761.,  52051.,  52411.,  52822.,  53160.,  53393.,\n",
       "        53599.,  53785.,  54151.,  54355.,  54594.,  55785.,  56262.,\n",
       "        57136.,  57490.,     nan,  62021.,  62333.,  64180.,  66977.,\n",
       "        67649.,  67827.,  68123.,  68349.,  68564.,  68846.,  69378.,\n",
       "        69975.,  70198.,  70903.,  71399.,  71860.,  72275.,  72454.,\n",
       "        74678.,  75177.,  75400.,  75647.,  78255.,  81128.,  81331.,\n",
       "        81766.,  82036.,  82354.,  82550.,  85136.,  85543.,  87469.,\n",
       "        88358.,  88566.,  88875.,  89282.,  89479.,  89739.,  91098.,\n",
       "        91269.,  91451.,  91728.,  91927.,  92159.,  92410.,  92668.,\n",
       "        92991.,  93294.,  93569.,  94890.,  95161.,  95550.,  95728.,\n",
       "        95924.,  96385.,  96674.,  96846.,  97104.,  97340.,  97513.,\n",
       "        98011.,  98182.,  98746.,  98904.,  99666., 100020., 100198.,\n",
       "       100385., 100999., 101505., 103291., 103489., 103736., 103906.,\n",
       "       104280., 104588., 104838., 105905., 106068., 106365., 106542.,\n",
       "       106778., 106980., 107211., 107387., 108023., 108271., 108455.,\n",
       "       109135., 109321., 109704., 110199., 110888., 111050., 111523.,\n",
       "       111682., 112038., 112323., 112521., 112705., 112977., 113980.,\n",
       "       114235., 114867., 115016., 115386., 115554., 115800., 116111.,\n",
       "       116625., 116872., 117217., 117455., 117948., 118117., 118294.,\n",
       "       118659., 118850., 119035., 119479., 119686., 120097., 120300.,\n",
       "       120803., 121042., 121536., 121900., 122847., 123021., 123178.,\n",
       "       123924., 124286., 124467., 124860., 125213., 125812., 125997.,\n",
       "       126169., 127231., 127397., 127797., 128060., 128676., 128857.,\n",
       "       129030., 129539., 131460., 132653., 132889., 133071., 133243.,\n",
       "       133981., 134340., 134543., 134935., 135224., 135433., 135926.,\n",
       "       136081., 136263., 136541., 136737., 136958., 137317., 137692.,\n",
       "       137857., 138034., 138430., 138699., 139011., 139179., 139504.,\n",
       "       139672., 140583., 140748., 141099., 141468., 142359., 142529.,\n",
       "       142802., 143162., 143516., 144108., 144291., 145190., 145371.,\n",
       "       145768., 145937., 146116., 146473., 146641., 146819., 147072.,\n",
       "       147246., 147528., 147713., 148619., 148822., 149018., 149324.,\n",
       "       149576., 149745., 150226., 150502., 150845., 151249., 151791.,\n",
       "       152009., 152166., 152352., 152724., 154355., 154869., 155197.,\n",
       "       155380., 155556., 155748., 155920., 156213., 156804.])"
      ]
     },
     "execution_count": 434,
     "metadata": {},
     "output_type": "execute_result"
    }
   ],
   "source": [
    "Fixed_bottom_cam_tstart_ts"
   ]
  },
  {
   "cell_type": "code",
   "execution_count": 433,
   "id": "2028dd03",
   "metadata": {},
   "outputs": [
    {
     "data": {
      "text/plain": [
       "array([  1489.,   6133.,   9123.,  15451.,  17380.,  17633.,  18210.,\n",
       "        20111.,  21384.,  22453.,  22847.,  23058.,  23348.,  23590.,\n",
       "        24104.,  26092.,  28355.,  28850.,  29325.,  29634.,  29838.,\n",
       "        30514.,  30773.,  31086.,  31341.,  31702.,  31903.,  32208.,\n",
       "        32487.,  32866.,  33564.,  34284.,  34571.,  35228.,  37116.,\n",
       "        37506.,  37796.,  37967.,  38207.,  38396.,  38611.,  38852.,\n",
       "        39146.,  39431.,  39703.,  39922.,  40164.,  40424.,  40663.,\n",
       "        40885.,  41191.,  41423.,  41646.,  41868.,  42264.,  42481.,\n",
       "        42967.,  43431.,  43656.,  43857.,  44137.,  44374.,  44704.,\n",
       "        44992.,  45259.,  45505.,  45896.,  46099.,  46318.,  46727.,\n",
       "        46955.,  47264.,  47476.,  47866.,  48085.,  48382.,  48666.,\n",
       "        49082.,  49568.,  49909.,  50121.,  50504.,  51136.,  51296.,\n",
       "        51542.,  51762.,  52052.,  52411.,  52823.,  53161.,  53393.,\n",
       "        53600.,  53785.,  54151.,  54355.,  54594.,  55786.,  56263.,\n",
       "        57136.,  57491.,  59329.,  62022.,  62333.,  64180.,  66978.,\n",
       "        67650.,  67827.,  68123.,  68350.,  68564.,  68846.,  69378.,\n",
       "        69975.,  70198.,  70904.,  71400.,  71861.,  72276.,  72454.,\n",
       "        74679.,  75178.,  75400.,  75648.,  78255.,  81128.,  81331.,\n",
       "        81766.,  82036.,  82355.,  82551.,  85137.,  85543.,  87469.,\n",
       "        88358.,  88566.,  88875.,  89283.,  89480.,  89739.,  91098.,\n",
       "        91269.,  91452.,  91729.,  91928.,  92160.,  92410.,  92668.,\n",
       "        92992.,  93294.,  93570.,  94890.,  95162.,  95550.,  95728.,\n",
       "        95924.,  96385.,  96675.,  96846.,  97104.,  97340.,  97514.,\n",
       "        98012.,  98182.,  98747.,  98905.,  99667., 100021., 100199.,\n",
       "       100386., 100999., 101506., 103292., 103490., 103737., 103906.,\n",
       "       104281., 104588., 104838., 105905., 106069., 106365., 106543.,\n",
       "       106778., 106981., 107211., 107387., 108024., 108271., 108456.,\n",
       "       109136., 109321., 109705., 110200., 110888., 111050., 111524.,\n",
       "       111682., 112038., 112324., 112522., 112706., 112977., 113981.,\n",
       "       114236., 114868., 115016., 115386., 115555., 115801., 116112.,\n",
       "       116625., 116872., 117217., 117455., 117949., 118118., 118294.,\n",
       "       118660., 118851., 119036., 119479., 119686., 120098., 120300.,\n",
       "       120803., 121043., 121536., 121901., 122848., 123022., 123178.,\n",
       "       123925., 124287., 124467., 124861., 125213., 125813., 125998.,\n",
       "       126170., 127231., 127398., 127798., 128061., 128677., 128858.,\n",
       "       129031.,     nan, 131460., 132654., 132890., 133072., 133243.,\n",
       "       133982., 134341., 134544., 134936., 135225., 135433., 135926.,\n",
       "       136082., 136264., 136541., 136738., 136958., 137317., 137692.,\n",
       "       137857., 138034., 138430., 138700., 139011., 139179., 139504.,\n",
       "       139673., 140583., 140749., 141099., 141468., 142359., 142529.,\n",
       "       142803., 143162., 143516., 144109., 144291., 145191., 145372.,\n",
       "       145768., 145938., 146117., 146474., 146641., 146819., 147072.,\n",
       "       147246., 147528., 147713., 148620., 148823., 149019., 149325.,\n",
       "       149577., 149745., 150227., 150502., 150845., 151249., 151791.,\n",
       "       152009., 152167., 152352., 152724., 154356., 154867., 155195.,\n",
       "       155378., 155554., 155747., 155918., 156212., 156803.])"
      ]
     },
     "execution_count": 433,
     "metadata": {},
     "output_type": "execute_result"
    }
   ],
   "source": [
    "Fixed_back_cam_tstart_ts"
   ]
  },
  {
   "cell_type": "code",
   "execution_count": null,
   "id": "9bfdff2a",
   "metadata": {},
   "outputs": [],
   "source": []
  },
  {
   "cell_type": "code",
   "execution_count": null,
   "id": "c486d2a7",
   "metadata": {},
   "outputs": [],
   "source": []
  },
  {
   "cell_type": "code",
   "execution_count": null,
   "id": "7765b5b4",
   "metadata": {},
   "outputs": [],
   "source": []
  },
  {
   "cell_type": "code",
   "execution_count": null,
   "id": "3bf3a429",
   "metadata": {},
   "outputs": [],
   "source": []
  },
  {
   "cell_type": "code",
   "execution_count": null,
   "id": "32b99b28",
   "metadata": {},
   "outputs": [],
   "source": []
  },
  {
   "cell_type": "code",
   "execution_count": null,
   "id": "787b0e90",
   "metadata": {},
   "outputs": [],
   "source": [
    "### check alignment\n",
    "## make fixes \n",
    "## do this for each camera\n",
    "### save out new files \n",
    "## repeat for if clock. "
   ]
  },
  {
   "cell_type": "code",
   "execution_count": 226,
   "id": "9e900e26",
   "metadata": {},
   "outputs": [
    {
     "data": {
      "text/plain": [
       "'side_2022-04-07T14_04_11-camera-timestamp-data.csv'"
      ]
     },
     "execution_count": 226,
     "metadata": {},
     "output_type": "execute_result"
    }
   ],
   "source": [
    "file"
   ]
  },
  {
   "cell_type": "code",
   "execution_count": 20,
   "id": "59feb6ee",
   "metadata": {},
   "outputs": [
    {
     "data": {
      "text/html": [
       "<div>\n",
       "<style scoped>\n",
       "    .dataframe tbody tr th:only-of-type {\n",
       "        vertical-align: middle;\n",
       "    }\n",
       "\n",
       "    .dataframe tbody tr th {\n",
       "        vertical-align: top;\n",
       "    }\n",
       "\n",
       "    .dataframe thead th {\n",
       "        text-align: right;\n",
       "    }\n",
       "</style>\n",
       "<table border=\"1\" class=\"dataframe\">\n",
       "  <thead>\n",
       "    <tr style=\"text-align: right;\">\n",
       "      <th></th>\n",
       "      <th>Unnamed: 0</th>\n",
       "      <th>Unnamed: 0.1</th>\n",
       "      <th>Trial_id</th>\n",
       "      <th>Trial_Start</th>\n",
       "      <th>Port</th>\n",
       "      <th>PokeIn_Time</th>\n",
       "      <th>PokeOut_Time</th>\n",
       "      <th>Reward_Times</th>\n",
       "      <th>Trial_End</th>\n",
       "      <th>Port 2,3,4,5 LED intensities</th>\n",
       "      <th>...</th>\n",
       "      <th>BOTTOM_Trial_Start_Camera_Time</th>\n",
       "      <th>BOTTOM_Trial_End_Camera_Time</th>\n",
       "      <th>BOTTOM_First_poke_Camera_Time</th>\n",
       "      <th>SIDE_Trial_Start_Camera_Time</th>\n",
       "      <th>SIDE_Trial_End_Camera_Time</th>\n",
       "      <th>SIDE_First_poke_Camera_Time</th>\n",
       "      <th>TrialStart_EphysTime</th>\n",
       "      <th>FirstPoke_EphysTime</th>\n",
       "      <th>PokeIN_EphysTime</th>\n",
       "      <th>PokeOUT_EphysTime</th>\n",
       "    </tr>\n",
       "  </thead>\n",
       "  <tbody>\n",
       "    <tr>\n",
       "      <th>0</th>\n",
       "      <td>0</td>\n",
       "      <td>0</td>\n",
       "      <td>1</td>\n",
       "      <td>17.9448</td>\n",
       "      <td>2</td>\n",
       "      <td>63.3010</td>\n",
       "      <td>63.5779</td>\n",
       "      <td>NaN</td>\n",
       "      <td>95.3012</td>\n",
       "      <td>[0.0, 0.0, 0.0, 0.0]</td>\n",
       "      <td>...</td>\n",
       "      <td>24.788125</td>\n",
       "      <td>102.144525</td>\n",
       "      <td>70.149875</td>\n",
       "      <td>24.788125</td>\n",
       "      <td>102.144525</td>\n",
       "      <td>70.149750</td>\n",
       "      <td>5109.194649</td>\n",
       "      <td>5154.552326</td>\n",
       "      <td>5154.550849</td>\n",
       "      <td>5154.827749</td>\n",
       "    </tr>\n",
       "    <tr>\n",
       "      <th>1</th>\n",
       "      <td>1</td>\n",
       "      <td>1</td>\n",
       "      <td>1</td>\n",
       "      <td>17.9448</td>\n",
       "      <td>2</td>\n",
       "      <td>83.4867</td>\n",
       "      <td>83.4940</td>\n",
       "      <td>NaN</td>\n",
       "      <td>95.3012</td>\n",
       "      <td>[0.0, 0.0, 0.0, 0.0]</td>\n",
       "      <td>...</td>\n",
       "      <td>24.788125</td>\n",
       "      <td>102.144525</td>\n",
       "      <td>NaN</td>\n",
       "      <td>24.788125</td>\n",
       "      <td>102.144525</td>\n",
       "      <td>NaN</td>\n",
       "      <td>5109.194649</td>\n",
       "      <td>NaN</td>\n",
       "      <td>5174.736549</td>\n",
       "      <td>5174.743849</td>\n",
       "    </tr>\n",
       "    <tr>\n",
       "      <th>2</th>\n",
       "      <td>2</td>\n",
       "      <td>2</td>\n",
       "      <td>2</td>\n",
       "      <td>95.3017</td>\n",
       "      <td>2</td>\n",
       "      <td>114.7192</td>\n",
       "      <td>114.7245</td>\n",
       "      <td>NaN</td>\n",
       "      <td>145.1194</td>\n",
       "      <td>[0.0, 0.0, 0.0, 0.0]</td>\n",
       "      <td>...</td>\n",
       "      <td>102.151375</td>\n",
       "      <td>151.969075</td>\n",
       "      <td>121.575500</td>\n",
       "      <td>102.151125</td>\n",
       "      <td>151.968825</td>\n",
       "      <td>121.575125</td>\n",
       "      <td>5186.554024</td>\n",
       "      <td>5205.972136</td>\n",
       "      <td>5205.971524</td>\n",
       "      <td>5205.976824</td>\n",
       "    </tr>\n",
       "    <tr>\n",
       "      <th>3</th>\n",
       "      <td>3</td>\n",
       "      <td>3</td>\n",
       "      <td>2</td>\n",
       "      <td>95.3017</td>\n",
       "      <td>2</td>\n",
       "      <td>115.8931</td>\n",
       "      <td>115.9250</td>\n",
       "      <td>NaN</td>\n",
       "      <td>145.1194</td>\n",
       "      <td>[0.0, 0.0, 0.0, 0.0]</td>\n",
       "      <td>...</td>\n",
       "      <td>102.151375</td>\n",
       "      <td>151.969075</td>\n",
       "      <td>NaN</td>\n",
       "      <td>102.151125</td>\n",
       "      <td>151.968825</td>\n",
       "      <td>NaN</td>\n",
       "      <td>5186.554024</td>\n",
       "      <td>NaN</td>\n",
       "      <td>5207.145424</td>\n",
       "      <td>5207.177324</td>\n",
       "    </tr>\n",
       "    <tr>\n",
       "      <th>4</th>\n",
       "      <td>4</td>\n",
       "      <td>4</td>\n",
       "      <td>2</td>\n",
       "      <td>95.3017</td>\n",
       "      <td>7</td>\n",
       "      <td>115.9852</td>\n",
       "      <td>119.0984</td>\n",
       "      <td>NaN</td>\n",
       "      <td>145.1194</td>\n",
       "      <td>[0.0, 0.0, 0.0, 0.0]</td>\n",
       "      <td>...</td>\n",
       "      <td>102.151375</td>\n",
       "      <td>151.969075</td>\n",
       "      <td>NaN</td>\n",
       "      <td>102.151125</td>\n",
       "      <td>151.968825</td>\n",
       "      <td>NaN</td>\n",
       "      <td>5186.554024</td>\n",
       "      <td>NaN</td>\n",
       "      <td>5207.237524</td>\n",
       "      <td>5210.350724</td>\n",
       "    </tr>\n",
       "    <tr>\n",
       "      <th>...</th>\n",
       "      <td>...</td>\n",
       "      <td>...</td>\n",
       "      <td>...</td>\n",
       "      <td>...</td>\n",
       "      <td>...</td>\n",
       "      <td>...</td>\n",
       "      <td>...</td>\n",
       "      <td>...</td>\n",
       "      <td>...</td>\n",
       "      <td>...</td>\n",
       "      <td>...</td>\n",
       "      <td>...</td>\n",
       "      <td>...</td>\n",
       "      <td>...</td>\n",
       "      <td>...</td>\n",
       "      <td>...</td>\n",
       "      <td>...</td>\n",
       "      <td>...</td>\n",
       "      <td>...</td>\n",
       "      <td>...</td>\n",
       "      <td>...</td>\n",
       "    </tr>\n",
       "    <tr>\n",
       "      <th>2625</th>\n",
       "      <td>2625</td>\n",
       "      <td>2625</td>\n",
       "      <td>321</td>\n",
       "      <td>2605.0898</td>\n",
       "      <td>2</td>\n",
       "      <td>2607.0689</td>\n",
       "      <td>2607.3738</td>\n",
       "      <td>NaN</td>\n",
       "      <td>2609.4824</td>\n",
       "      <td>[0.0, 0.0, 0.0, 0.0]</td>\n",
       "      <td>...</td>\n",
       "      <td>2612.166750</td>\n",
       "      <td>2616.559350</td>\n",
       "      <td>NaN</td>\n",
       "      <td>2612.167125</td>\n",
       "      <td>2616.559725</td>\n",
       "      <td>NaN</td>\n",
       "      <td>7696.425015</td>\n",
       "      <td>NaN</td>\n",
       "      <td>7698.404115</td>\n",
       "      <td>7698.709015</td>\n",
       "    </tr>\n",
       "    <tr>\n",
       "      <th>2626</th>\n",
       "      <td>2626</td>\n",
       "      <td>2626</td>\n",
       "      <td>321</td>\n",
       "      <td>2605.0898</td>\n",
       "      <td>1</td>\n",
       "      <td>2607.2129</td>\n",
       "      <td>2607.3479</td>\n",
       "      <td>NaN</td>\n",
       "      <td>2609.4824</td>\n",
       "      <td>[0.0, 0.0, 0.0, 0.0]</td>\n",
       "      <td>...</td>\n",
       "      <td>2612.166750</td>\n",
       "      <td>2616.559350</td>\n",
       "      <td>NaN</td>\n",
       "      <td>2612.167125</td>\n",
       "      <td>2616.559725</td>\n",
       "      <td>NaN</td>\n",
       "      <td>7696.425015</td>\n",
       "      <td>NaN</td>\n",
       "      <td>7698.548115</td>\n",
       "      <td>7698.683115</td>\n",
       "    </tr>\n",
       "    <tr>\n",
       "      <th>2627</th>\n",
       "      <td>2627</td>\n",
       "      <td>2627</td>\n",
       "      <td>321</td>\n",
       "      <td>2605.0898</td>\n",
       "      <td>6</td>\n",
       "      <td>2607.9030</td>\n",
       "      <td>2608.0022</td>\n",
       "      <td>NaN</td>\n",
       "      <td>2609.4824</td>\n",
       "      <td>[0.0, 0.0, 0.0, 0.0]</td>\n",
       "      <td>...</td>\n",
       "      <td>2612.166750</td>\n",
       "      <td>2616.559350</td>\n",
       "      <td>NaN</td>\n",
       "      <td>2612.167125</td>\n",
       "      <td>2616.559725</td>\n",
       "      <td>NaN</td>\n",
       "      <td>7696.425015</td>\n",
       "      <td>NaN</td>\n",
       "      <td>7699.238215</td>\n",
       "      <td>7699.337415</td>\n",
       "    </tr>\n",
       "    <tr>\n",
       "      <th>2628</th>\n",
       "      <td>2628</td>\n",
       "      <td>2628</td>\n",
       "      <td>321</td>\n",
       "      <td>2605.0898</td>\n",
       "      <td>3</td>\n",
       "      <td>2608.4547</td>\n",
       "      <td>2608.7321</td>\n",
       "      <td>NaN</td>\n",
       "      <td>2609.4824</td>\n",
       "      <td>[0.0, 0.0, 0.0, 0.0]</td>\n",
       "      <td>...</td>\n",
       "      <td>2612.166750</td>\n",
       "      <td>2616.559350</td>\n",
       "      <td>NaN</td>\n",
       "      <td>2612.167125</td>\n",
       "      <td>2616.559725</td>\n",
       "      <td>NaN</td>\n",
       "      <td>7696.425015</td>\n",
       "      <td>NaN</td>\n",
       "      <td>7699.789915</td>\n",
       "      <td>7700.067315</td>\n",
       "    </tr>\n",
       "    <tr>\n",
       "      <th>2629</th>\n",
       "      <td>2629</td>\n",
       "      <td>2629</td>\n",
       "      <td>321</td>\n",
       "      <td>2605.0898</td>\n",
       "      <td>7</td>\n",
       "      <td>2609.0702</td>\n",
       "      <td>NaN</td>\n",
       "      <td>2609.0702</td>\n",
       "      <td>2609.4824</td>\n",
       "      <td>[0.0, 0.0, 0.0, 0.0]</td>\n",
       "      <td>...</td>\n",
       "      <td>2612.166750</td>\n",
       "      <td>2616.559350</td>\n",
       "      <td>NaN</td>\n",
       "      <td>2612.167125</td>\n",
       "      <td>2616.559725</td>\n",
       "      <td>NaN</td>\n",
       "      <td>7696.425015</td>\n",
       "      <td>NaN</td>\n",
       "      <td>7700.405415</td>\n",
       "      <td>NaN</td>\n",
       "    </tr>\n",
       "  </tbody>\n",
       "</table>\n",
       "<p>2630 rows × 25 columns</p>\n",
       "</div>"
      ],
      "text/plain": [
       "      Unnamed: 0  Unnamed: 0.1  Trial_id  Trial_Start  Port  PokeIn_Time  \\\n",
       "0              0             0         1      17.9448     2      63.3010   \n",
       "1              1             1         1      17.9448     2      83.4867   \n",
       "2              2             2         2      95.3017     2     114.7192   \n",
       "3              3             3         2      95.3017     2     115.8931   \n",
       "4              4             4         2      95.3017     7     115.9852   \n",
       "...          ...           ...       ...          ...   ...          ...   \n",
       "2625        2625          2625       321    2605.0898     2    2607.0689   \n",
       "2626        2626          2626       321    2605.0898     1    2607.2129   \n",
       "2627        2627          2627       321    2605.0898     6    2607.9030   \n",
       "2628        2628          2628       321    2605.0898     3    2608.4547   \n",
       "2629        2629          2629       321    2605.0898     7    2609.0702   \n",
       "\n",
       "      PokeOut_Time  Reward_Times  Trial_End Port 2,3,4,5 LED intensities  ...  \\\n",
       "0          63.5779           NaN    95.3012         [0.0, 0.0, 0.0, 0.0]  ...   \n",
       "1          83.4940           NaN    95.3012         [0.0, 0.0, 0.0, 0.0]  ...   \n",
       "2         114.7245           NaN   145.1194         [0.0, 0.0, 0.0, 0.0]  ...   \n",
       "3         115.9250           NaN   145.1194         [0.0, 0.0, 0.0, 0.0]  ...   \n",
       "4         119.0984           NaN   145.1194         [0.0, 0.0, 0.0, 0.0]  ...   \n",
       "...            ...           ...        ...                          ...  ...   \n",
       "2625     2607.3738           NaN  2609.4824         [0.0, 0.0, 0.0, 0.0]  ...   \n",
       "2626     2607.3479           NaN  2609.4824         [0.0, 0.0, 0.0, 0.0]  ...   \n",
       "2627     2608.0022           NaN  2609.4824         [0.0, 0.0, 0.0, 0.0]  ...   \n",
       "2628     2608.7321           NaN  2609.4824         [0.0, 0.0, 0.0, 0.0]  ...   \n",
       "2629           NaN     2609.0702  2609.4824         [0.0, 0.0, 0.0, 0.0]  ...   \n",
       "\n",
       "     BOTTOM_Trial_Start_Camera_Time  BOTTOM_Trial_End_Camera_Time  \\\n",
       "0                         24.788125                    102.144525   \n",
       "1                         24.788125                    102.144525   \n",
       "2                        102.151375                    151.969075   \n",
       "3                        102.151375                    151.969075   \n",
       "4                        102.151375                    151.969075   \n",
       "...                             ...                           ...   \n",
       "2625                    2612.166750                   2616.559350   \n",
       "2626                    2612.166750                   2616.559350   \n",
       "2627                    2612.166750                   2616.559350   \n",
       "2628                    2612.166750                   2616.559350   \n",
       "2629                    2612.166750                   2616.559350   \n",
       "\n",
       "      BOTTOM_First_poke_Camera_Time  SIDE_Trial_Start_Camera_Time  \\\n",
       "0                         70.149875                     24.788125   \n",
       "1                               NaN                     24.788125   \n",
       "2                        121.575500                    102.151125   \n",
       "3                               NaN                    102.151125   \n",
       "4                               NaN                    102.151125   \n",
       "...                             ...                           ...   \n",
       "2625                            NaN                   2612.167125   \n",
       "2626                            NaN                   2612.167125   \n",
       "2627                            NaN                   2612.167125   \n",
       "2628                            NaN                   2612.167125   \n",
       "2629                            NaN                   2612.167125   \n",
       "\n",
       "      SIDE_Trial_End_Camera_Time  SIDE_First_poke_Camera_Time  \\\n",
       "0                     102.144525                    70.149750   \n",
       "1                     102.144525                          NaN   \n",
       "2                     151.968825                   121.575125   \n",
       "3                     151.968825                          NaN   \n",
       "4                     151.968825                          NaN   \n",
       "...                          ...                          ...   \n",
       "2625                 2616.559725                          NaN   \n",
       "2626                 2616.559725                          NaN   \n",
       "2627                 2616.559725                          NaN   \n",
       "2628                 2616.559725                          NaN   \n",
       "2629                 2616.559725                          NaN   \n",
       "\n",
       "      TrialStart_EphysTime  FirstPoke_EphysTime  PokeIN_EphysTime  \\\n",
       "0              5109.194649          5154.552326       5154.550849   \n",
       "1              5109.194649                  NaN       5174.736549   \n",
       "2              5186.554024          5205.972136       5205.971524   \n",
       "3              5186.554024                  NaN       5207.145424   \n",
       "4              5186.554024                  NaN       5207.237524   \n",
       "...                    ...                  ...               ...   \n",
       "2625           7696.425015                  NaN       7698.404115   \n",
       "2626           7696.425015                  NaN       7698.548115   \n",
       "2627           7696.425015                  NaN       7699.238215   \n",
       "2628           7696.425015                  NaN       7699.789915   \n",
       "2629           7696.425015                  NaN       7700.405415   \n",
       "\n",
       "      PokeOUT_EphysTime  \n",
       "0           5154.827749  \n",
       "1           5174.743849  \n",
       "2           5205.976824  \n",
       "3           5207.177324  \n",
       "4           5210.350724  \n",
       "...                 ...  \n",
       "2625        7698.709015  \n",
       "2626        7698.683115  \n",
       "2627        7699.337415  \n",
       "2628        7700.067315  \n",
       "2629                NaN  \n",
       "\n",
       "[2630 rows x 25 columns]"
      ]
     },
     "execution_count": 20,
     "metadata": {},
     "output_type": "execute_result"
    }
   ],
   "source": [
    "Poke_data_EPhys"
   ]
  },
  {
   "cell_type": "code",
   "execution_count": 21,
   "id": "d6a09dca",
   "metadata": {},
   "outputs": [
    {
     "data": {
      "text/plain": [
       "[<matplotlib.lines.Line2D at 0x1e250122700>]"
      ]
     },
     "execution_count": 21,
     "metadata": {},
     "output_type": "execute_result"
    },
    {
     "data": {
      "image/png": "[encoded data removed]",
      "text/plain": [
       "<Figure size 432x288 with 1 Axes>"
      ]
     },
     "metadata": {
      "needs_background": "light"
     },
     "output_type": "display_data"
    }
   ],
   "source": [
    "plt.plot(back_camera['Trigger State'].values)"
   ]
  },
  {
   "cell_type": "code",
   "execution_count": 148,
   "id": "f4b38a76",
   "metadata": {},
   "outputs": [
    {
     "data": {
      "text/plain": [
       "(152080.0, 157080.0)"
      ]
     },
     "execution_count": 148,
     "metadata": {},
     "output_type": "execute_result"
    },
    {
     "data": {
      "image/png": "[encoded data removed]",
      "text/plain": [
       "<Figure size 432x288 with 1 Axes>"
      ]
     },
     "metadata": {
      "needs_background": "light"
     },
     "output_type": "display_data"
    }
   ],
   "source": []
  },
  {
   "cell_type": "code",
   "execution_count": 189,
   "id": "b057407b",
   "metadata": {},
   "outputs": [
    {
     "data": {
      "text/plain": [
       "[<matplotlib.lines.Line2D at 0x1e2557c5670>]"
      ]
     },
     "execution_count": 189,
     "metadata": {},
     "output_type": "execute_result"
    },
    {
     "data": {
      "image/png": "[encoded data removed]",
      "text/plain": [
       "<Figure size 432x288 with 1 Axes>"
      ]
     },
     "metadata": {
      "needs_background": "light"
     },
     "output_type": "display_data"
    }
   ],
   "source": [
    "plt.plot(np.diff(Trial_start_camera_inds/60))\n",
    "plt.plot(np.diff(Poke_data_EPhys.Trial_Start.unique()))\n",
    "# plt.xlim([242, 260])"
   ]
  },
  {
   "cell_type": "code",
   "execution_count": 213,
   "id": "3fe09970",
   "metadata": {},
   "outputs": [
    {
     "data": {
      "text/plain": [
       "[<matplotlib.lines.Line2D at 0x1e258385d60>]"
      ]
     },
     "execution_count": 213,
     "metadata": {},
     "output_type": "execute_result"
    },
    {
     "data": {
      "image/png": "[encoded data removed]",
      "text/plain": [
       "<Figure size 432x288 with 1 Axes>"
      ]
     },
     "metadata": {
      "needs_background": "light"
     },
     "output_type": "display_data"
    }
   ],
   "source": [
    "plt.plot(np.diff(Trial_start_camera_inds/60) - np.diff(Poke_data_EPhys.Trial_Start.unique()))\n",
    "# plt.xlim([230, 330])"
   ]
  },
  {
   "cell_type": "code",
   "execution_count": 172,
   "id": "0d5db2fb",
   "metadata": {},
   "outputs": [
    {
     "data": {
      "text/plain": [
       "(242.0, 260.0)"
      ]
     },
     "execution_count": 172,
     "metadata": {},
     "output_type": "execute_result"
    },
    {
     "data": {
      "image/png": "[encoded data removed]",
      "text/plain": [
       "<Figure size 432x288 with 1 Axes>"
      ]
     },
     "metadata": {
      "needs_background": "light"
     },
     "output_type": "display_data"
    }
   ],
   "source": [
    "first_p_inds = np.where(~np.isnan(Poke_data_EPhys.BOTTOM_First_poke_Camera_Time.values))\n",
    "first_p_times = Poke_data_EPhys.PokeIn_Time.values[first_p_inds]\n",
    "\n",
    "plt.plot(np.diff(Poke1_camera_inds/60), color = 'red')\n",
    "plt.plot(np.diff(first_p_times))\n",
    "plt.xlim([242, 260])"
   ]
  },
  {
   "cell_type": "code",
   "execution_count": 165,
   "id": "15f1bdb6",
   "metadata": {},
   "outputs": [
    {
     "data": {
      "text/plain": [
       "(230.0, 330.0)"
      ]
     },
     "execution_count": 165,
     "metadata": {},
     "output_type": "execute_result"
    },
    {
     "data": {
      "image/png": "[encoded data removed]",
      "text/plain": [
       "<Figure size 432x288 with 1 Axes>"
      ]
     },
     "metadata": {
      "needs_background": "light"
     },
     "output_type": "display_data"
    }
   ],
   "source": [
    "plt.plot(np.diff(Poke1_camera_inds/60) - np.diff(first_p_times))\n",
    "plt.xlim([230, 330])"
   ]
  },
  {
   "cell_type": "code",
   "execution_count": 118,
   "id": "3b4d16a4",
   "metadata": {},
   "outputs": [
    {
     "data": {
      "text/plain": [
       "True"
      ]
     },
     "execution_count": 118,
     "metadata": {},
     "output_type": "execute_result"
    }
   ],
   "source": [
    "### a pair is missing for some reason! I need to find a way to mark these with Nans or something? and ignore them? "
   ]
  },
  {
   "cell_type": "code",
   "execution_count": 184,
   "id": "c59d9e80",
   "metadata": {},
   "outputs": [
    {
     "data": {
      "text/plain": [
       "2508.733333333333"
      ]
     },
     "execution_count": 184,
     "metadata": {},
     "output_type": "execute_result"
    }
   ],
   "source": [
    "(Poke1_camera_inds/60)[-10] - (Poke1_camera_inds/60)[0]\n"
   ]
  },
  {
   "cell_type": "code",
   "execution_count": 183,
   "id": "55d93f80",
   "metadata": {},
   "outputs": [
    {
     "data": {
      "text/plain": [
       "2475.9016"
      ]
     },
     "execution_count": 183,
     "metadata": {},
     "output_type": "execute_result"
    }
   ],
   "source": [
    "first_p_times[-10] - first_p_times[0]"
   ]
  },
  {
   "cell_type": "code",
   "execution_count": null,
   "id": "e0bb6125",
   "metadata": {},
   "outputs": [],
   "source": []
  },
  {
   "cell_type": "code",
   "execution_count": 190,
   "id": "ea0cbaf9",
   "metadata": {},
   "outputs": [
    {
     "data": {
      "text/plain": [
       "[<matplotlib.lines.Line2D at 0x1e253c434f0>]"
      ]
     },
     "execution_count": 190,
     "metadata": {},
     "output_type": "execute_result"
    },
    {
     "data": {
      "image/png": "[encoded data removed]",
      "text/plain": [
       "<Figure size 432x288 with 1 Axes>"
      ]
     },
     "metadata": {
      "needs_background": "light"
     },
     "output_type": "display_data"
    }
   ],
   "source": [
    "plt.plot(np.diff(Poke_data_EPhys.BACK_Trial_Start_Camera_Time.unique()))\n",
    "plt.plot(np.diff(Poke_data_EPhys.Trial_Start.unique()))"
   ]
  },
  {
   "cell_type": "code",
   "execution_count": 195,
   "id": "44ed2f4a",
   "metadata": {},
   "outputs": [
    {
     "data": {
      "text/plain": [
       "(-1.0, 1.0)"
      ]
     },
     "execution_count": 195,
     "metadata": {},
     "output_type": "execute_result"
    },
    {
     "data": {
      "image/png": "[encoded data removed]",
      "text/plain": [
       "<Figure size 432x288 with 1 Axes>"
      ]
     },
     "metadata": {
      "needs_background": "light"
     },
     "output_type": "display_data"
    }
   ],
   "source": [
    "plt.plot(np.diff(Poke_data_EPhys.BACK_Trial_Start_Camera_Time.unique()) - np.diff(Poke_data_EPhys.Trial_Start.unique()))\n",
    "plt.ylim([-1, 1])"
   ]
  },
  {
   "cell_type": "code",
   "execution_count": 203,
   "id": "3d2272b3",
   "metadata": {},
   "outputs": [
    {
     "data": {
      "text/plain": [
       "321"
      ]
     },
     "execution_count": 203,
     "metadata": {},
     "output_type": "execute_result"
    }
   ],
   "source": [
    "len(Trial_start_camera_inds)"
   ]
  },
  {
   "cell_type": "code",
   "execution_count": 202,
   "id": "a359e653",
   "metadata": {},
   "outputs": [
    {
     "data": {
      "text/plain": [
       "(0.0, 1.0)"
      ]
     },
     "execution_count": 202,
     "metadata": {},
     "output_type": "execute_result"
    },
    {
     "data": {
      "image/png": "[encoded data removed]",
      "text/plain": [
       "<Figure size 432x288 with 1 Axes>"
      ]
     },
     "metadata": {
      "needs_background": "light"
     },
     "output_type": "display_data"
    }
   ],
   "source": [
    "plt.plot(Trial_start_camera_inds/60 -   Poke_data_EPhys.BACK_Trial_Start_Camera_Time.unique())\n",
    "\n",
    "plt.xlim([0, 100])\n",
    "plt.ylim([0, 1])"
   ]
  },
  {
   "cell_type": "code",
   "execution_count": null,
   "id": "11edc252",
   "metadata": {},
   "outputs": [],
   "source": [
    "#### Why is there drift??? \n",
    "### why does it get fcuked up by my origional fix?? "
   ]
  },
  {
   "cell_type": "code",
   "execution_count": null,
   "id": "e2efb517",
   "metadata": {},
   "outputs": [],
   "source": []
  },
  {
   "cell_type": "code",
   "execution_count": null,
   "id": "0e12d9eb",
   "metadata": {},
   "outputs": [],
   "source": [
    "## I think im missing a trigger somehwere, and an extra one is one the end. \n",
    "# so take trigger off the end and add in a Nan where the one is missing? \n",
    "# maybe just do it for trial start to make my life easier? \n",
    "\n",
    "## align camera dat like this, trial t=start (trig times) and then fitted port times from this. "
   ]
  },
  {
   "cell_type": "code",
   "execution_count": null,
   "id": "09c140bc",
   "metadata": {},
   "outputs": [],
   "source": []
  },
  {
   "cell_type": "code",
   "execution_count": 218,
   "id": "7da85eec",
   "metadata": {},
   "outputs": [
    {
     "data": {
      "text/plain": [
       "array([   0.    ,   77.3569,  127.1749,  232.5701,  264.7068,  268.9213,\n",
       "        278.5343,  310.1953,  331.3978,  349.2196,  355.7755,  359.2946,\n",
       "        364.1218,  368.1478,  376.7184,  409.8229,  447.5262,  455.7677,\n",
       "        463.6737,  468.8356,  472.2287,  483.493 ,  487.7966,  493.008 ,\n",
       "        497.2616,  503.2675,  506.6248,  511.6987,  516.3495,  522.6561,\n",
       "        534.2867,  546.2851,  551.0726,  562.0073,  593.4588,  599.9613,\n",
       "        604.7917,  607.6336,  611.6364,  614.7858,  618.368 ,  622.3705,\n",
       "        627.2772,  632.0115,  636.5498,  640.1908,  644.2213,  648.553 ,\n",
       "        652.5448,  656.2318,  661.3433,  665.2027,  668.921 ,  672.6145,\n",
       "        679.2134,  682.8282,  690.9204,  698.6534,  702.401 ,  705.7513,\n",
       "        710.4092,  714.3554,  719.8567,  724.6508,  729.1053,  733.1908,\n",
       "        739.7064,  743.0834,  746.7319,  753.5504,  757.3456,  762.4895,\n",
       "        766.0348,  772.5173,  776.1635,  781.1146,  785.8473,  792.7764,\n",
       "        800.8741,  806.5492,  810.084 ,  816.4621,  826.9874,  829.6652,\n",
       "        833.7622,  837.4132,  842.2427,  848.2301,  855.0886,  860.718 ,\n",
       "        864.5951,  868.0336,  871.1208,  877.2165,  880.6119,  884.5987,\n",
       "        904.4434,  912.3881,  926.9368,  932.8489,  963.4738, 1008.3228,\n",
       "       1013.5113, 1044.2783, 1090.8711, 1102.0658, 1105.0272, 1109.9496,\n",
       "       1113.7259, 1117.3022, 1122.0004, 1130.8592, 1140.8018, 1144.5194,\n",
       "       1156.2705, 1164.5313, 1172.2141, 1179.1236, 1182.0925, 1219.1468,\n",
       "       1227.4611, 1231.1712, 1235.2902, 1278.7268, 1326.5822, 1329.9647,\n",
       "       1337.2124, 1341.7068, 1347.0108, 1350.2801, 1393.3545, 1400.126 ,\n",
       "       1432.2024, 1447.0169, 1450.4817, 1455.6235, 1462.4148, 1465.6928,\n",
       "       1470.0189, 1492.6513, 1495.5056, 1498.5425, 1503.1604, 1506.4704,\n",
       "       1510.3368, 1514.5101, 1518.8088, 1524.1929, 1529.2384, 1533.8242,\n",
       "       1555.8232, 1560.3463, 1566.8132, 1569.7807, 1573.0462, 1580.7193,\n",
       "       1585.5452, 1588.3983, 1592.6998, 1596.6274, 1599.5228, 1607.8161,\n",
       "       1610.6561, 1620.0577, 1622.6933, 1635.382 , 1641.2826, 1644.2465,\n",
       "       1647.3566, 1657.5791, 1666.0141, 1695.7687, 1699.0676, 1703.1764,\n",
       "       1706.0055, 1712.2418, 1717.3642, 1721.5235, 1739.296 , 1742.0223,\n",
       "       1746.9624, 1749.9147, 1753.8377, 1757.2127, 1761.0509, 1763.9852,\n",
       "       1774.5915, 1778.7094, 1781.7856, 1793.1148, 1796.1987, 1802.5908,\n",
       "       1810.8333, 1822.3012, 1825.0027, 1832.8907, 1835.5285, 1841.4602,\n",
       "       1846.2152, 1849.5136, 1852.5814, 1857.0982, 1873.8157, 1878.0666,\n",
       "       1888.5868, 1891.0669, 1897.2288, 1900.0302, 1904.1363, 1909.3101,\n",
       "       1917.8646, 1921.9841, 1927.7235, 1931.6902, 1939.9101, 1942.7248,\n",
       "       1945.6634, 1951.7594, 1954.936 , 1958.0225, 1965.4042, 1968.8553,\n",
       "       1975.7096, 1979.0796, 1987.4602, 1991.4537, 1999.6718, 2005.7372,\n",
       "       2021.5171, 2024.4138, 2027.0215, 2039.459 , 2045.4875, 2048.4889,\n",
       "       2055.0428, 2060.9184, 2070.9089, 2073.9825, 2076.8498, 2094.5344,\n",
       "       2097.3069, 2103.9735, 2108.3467, 2118.6076, 2121.6301, 2124.5064,\n",
       "       2132.9891, 2164.9783, 2184.8562, 2188.7897, 2191.8204, 2194.6801,\n",
       "       2206.9786, 2212.9567, 2216.3365, 2222.8723, 2227.6878, 2231.1527,\n",
       "       2239.3669, 2241.9586, 2244.99  , 2249.6107, 2252.8831, 2256.5597,\n",
       "       2262.5404, 2268.7852, 2271.5316, 2274.4811, 2281.077 , 2285.5699,\n",
       "       2290.7549, 2293.5556, 2298.9714, 2301.7735, 2316.9423, 2319.6967,\n",
       "       2325.539 , 2331.6853, 2346.5253, 2349.3576, 2353.9109, 2359.9034,\n",
       "       2365.799 , 2375.6701, 2378.7102, 2393.6891, 2396.7043, 2403.311 ,\n",
       "       2406.136 , 2409.1109, 2415.0612, 2417.85  , 2420.82  , 2425.0341,\n",
       "       2427.9322, 2432.6243, 2435.7049, 2450.8105, 2454.1912, 2457.4577,\n",
       "       2462.5519, 2466.7467, 2469.5549, 2477.5722, 2482.1638, 2487.8754,\n",
       "       2494.6102, 2503.6361, 2507.2678, 2509.8885, 2512.9843, 2519.1809,\n",
       "       2546.3532, 2554.9104, 2560.374 , 2563.4213, 2566.3544, 2569.5586,\n",
       "       2572.415 , 2577.3051, 2587.145 ])"
      ]
     },
     "execution_count": 218,
     "metadata": {},
     "output_type": "execute_result"
    }
   ],
   "source": [
    "a = Poke_data_EPhys.Trial_Start.unique() - Poke_data_EPhys.Trial_Start.unique()[0]\n",
    "a"
   ]
  },
  {
   "cell_type": "code",
   "execution_count": 219,
   "id": "8d182085",
   "metadata": {},
   "outputs": [
    {
     "data": {
      "text/plain": [
       "array([   0.        ,   77.4       ,  127.23333333,  232.7       ,\n",
       "        264.85      ,  269.06666667,  278.68333333,  310.36666667,\n",
       "        331.58333333,  349.4       ,  355.96666667,  359.48333333,\n",
       "        364.31666667,  368.35      ,  376.91666667,  410.05      ,\n",
       "        447.76666667,  456.01666667,  463.93333333,  469.08333333,\n",
       "        472.48333333,  483.75      ,  488.06666667,  493.28333333,\n",
       "        497.53333333,  503.55      ,  506.9       ,  511.98333333,\n",
       "        516.63333333,  522.95      ,  534.58333333,  546.58333333,\n",
       "        551.36666667,  562.31666667,  593.78333333,  600.28333333,\n",
       "        605.11666667,  607.96666667,  611.96666667,  615.11666667,\n",
       "        618.7       ,  622.71666667,  627.61666667,  632.36666667,\n",
       "        636.9       ,  640.55      ,  644.58333333,  648.91666667,\n",
       "        652.9       ,  656.6       ,  661.7       ,  665.56666667,\n",
       "        669.28333333,  672.98333333,  679.58333333,  683.2       ,\n",
       "        691.3       ,  699.03333333,  702.78333333,  706.13333333,\n",
       "        710.8       ,  714.75      ,  720.25      ,  725.05      ,\n",
       "        729.5       ,  733.6       ,  740.11666667,  743.5       ,\n",
       "        747.15      ,  753.96666667,  757.76666667,  762.91666667,\n",
       "        766.45      ,  772.95      ,  776.6       ,  781.55      ,\n",
       "        786.28333333,  793.21666667,  801.31666667,  807.        ,\n",
       "        810.53333333,  816.91666667,  827.45      ,  830.11666667,\n",
       "        834.21666667,  837.88333333,  842.71666667,  848.7       ,\n",
       "        855.56666667,  861.2       ,  865.06666667,  868.51666667,\n",
       "        871.6       ,  877.7       ,  881.1       ,  885.08333333,\n",
       "        904.95      ,  912.9       ,  927.45      ,  933.36666667,\n",
       "        964.        , 1008.88333333, 1014.06666667, 1044.85      ,\n",
       "       1091.48333333, 1102.68333333, 1105.63333333, 1110.56666667,\n",
       "       1114.35      , 1117.91666667, 1122.61666667, 1131.48333333,\n",
       "       1141.43333333, 1145.15      , 1156.91666667, 1165.18333333,\n",
       "       1172.86666667, 1179.78333333, 1182.75      , 1219.83333333,\n",
       "       1228.15      , 1231.85      , 1235.98333333, 1279.43333333,\n",
       "       1327.31666667, 1330.7       , 1337.95      , 1342.45      ,\n",
       "       1347.76666667, 1351.03333333, 1394.13333333, 1400.9       ,\n",
       "       1433.        , 1447.81666667, 1451.28333333, 1456.43333333,\n",
       "       1463.23333333, 1466.51666667, 1470.83333333, 1493.48333333,\n",
       "       1496.33333333, 1499.38333333, 1504.        , 1507.31666667,\n",
       "       1511.18333333, 1515.35      , 1519.65      , 1525.05      ,\n",
       "       1530.08333333, 1534.68333333, 1556.68333333, 1561.21666667,\n",
       "       1567.68333333, 1570.65      , 1573.91666667, 1581.6       ,\n",
       "       1586.43333333, 1589.28333333, 1593.58333333, 1597.51666667,\n",
       "       1600.41666667, 1608.71666667, 1611.55      , 1620.96666667,\n",
       "       1623.6       , 1636.3       , 1642.2       , 1645.16666667,\n",
       "       1648.28333333, 1658.5       , 1666.95      , 1696.71666667,\n",
       "       1700.01666667, 1704.13333333, 1706.95      , 1713.2       ,\n",
       "       1718.31666667, 1722.48333333, 1740.26666667, 1743.        ,\n",
       "       1747.93333333, 1750.9       , 1754.81666667, 1758.2       ,\n",
       "       1762.03333333, 1764.96666667, 1775.58333333, 1779.7       ,\n",
       "       1782.78333333, 1794.11666667, 1797.2       , 1803.6       ,\n",
       "       1811.85      , 1823.31666667, 1826.01666667, 1833.91666667,\n",
       "       1836.55      , 1842.48333333, 1847.25      , 1850.55      ,\n",
       "       1853.61666667, 1858.13333333, 1874.86666667, 1879.11666667,\n",
       "       1889.65      , 1892.11666667, 1898.28333333, 1901.1       ,\n",
       "       1905.2       , 1910.38333333, 1918.93333333, 1923.05      ,\n",
       "       1928.8       , 1932.76666667, 1941.        , 1943.81666667,\n",
       "       1946.75      , 1952.85      , 1956.03333333, 1959.11666667,\n",
       "       1966.5       , 1969.95      , 1976.81666667, 1980.18333333,\n",
       "       1988.56666667, 1992.56666667, 2000.78333333, 2006.86666667,\n",
       "       2022.65      , 2025.55      , 2028.15      , 2040.6       ,\n",
       "       2046.63333333, 2049.63333333, 2056.2       , 2062.06666667,\n",
       "       2072.06666667, 2075.15      , 2078.01666667, 2095.7       ,\n",
       "       2098.48333333, 2105.15      , 2109.53333333, 2119.8       ,\n",
       "       2122.81666667, 2125.7       , 2166.18333333, 2186.08333333,\n",
       "       2190.01666667, 2193.05      , 2195.9       , 2208.21666667,\n",
       "       2214.2       , 2217.58333333, 2224.11666667, 2228.93333333,\n",
       "       2232.4       , 2240.61666667, 2243.21666667, 2246.25      ,\n",
       "       2250.86666667, 2254.15      , 2257.81666667, 2263.8       ,\n",
       "       2270.05      , 2272.8       , 2275.75      , 2282.35      ,\n",
       "       2286.85      , 2292.03333333, 2294.83333333, 2300.25      ,\n",
       "       2303.06666667, 2318.23333333, 2321.        , 2326.83333333,\n",
       "       2332.98333333, 2347.83333333, 2350.66666667, 2355.23333333,\n",
       "       2361.21666667, 2367.11666667, 2377.        , 2380.03333333,\n",
       "       2395.03333333, 2398.05      , 2404.65      , 2407.48333333,\n",
       "       2410.46666667, 2416.41666667, 2419.2       , 2422.16666667,\n",
       "       2426.38333333, 2429.28333333, 2433.98333333, 2437.06666667,\n",
       "       2452.18333333, 2455.56666667, 2458.83333333, 2463.93333333,\n",
       "       2468.13333333, 2470.93333333, 2478.96666667, 2483.55      ,\n",
       "       2489.26666667, 2496.        , 2505.03333333, 2508.66666667,\n",
       "       2511.3       , 2514.38333333, 2520.58333333, 2547.78333333,\n",
       "       2556.3       , 2561.76666667, 2564.81666667, 2567.75      ,\n",
       "       2570.96666667, 2573.81666667, 2578.71666667, 2588.56666667,\n",
       "       2592.95      ])"
      ]
     },
     "execution_count": 219,
     "metadata": {},
     "output_type": "execute_result"
    }
   ],
   "source": [
    "b = Trial_start_camera_inds/60 - (Trial_start_camera_inds/60)[0]\n",
    "b"
   ]
  },
  {
   "cell_type": "code",
   "execution_count": 217,
   "id": "5cbcea8c",
   "metadata": {},
   "outputs": [
    {
     "data": {
      "text/plain": [
       "array([  0.        ,  -0.0431    ,  -0.05843333,  -0.1299    ,\n",
       "        -0.1432    ,  -0.14536667,  -0.14903333,  -0.17136667,\n",
       "        -0.18553333,  -0.1804    ,  -0.19116667,  -0.18873333,\n",
       "        -0.19486667,  -0.2022    ,  -0.19826667,  -0.2271    ,\n",
       "        -0.24046667,  -0.24896667,  -0.25963333,  -0.24773333,\n",
       "        -0.25463333,  -0.257     ,  -0.27006667,  -0.27533333,\n",
       "        -0.27173333,  -0.2825    ,  -0.2752    ,  -0.28463333,\n",
       "        -0.28383333,  -0.2939    ,  -0.29663333,  -0.29823333,\n",
       "        -0.29406667,  -0.30936667,  -0.32453333,  -0.32203333,\n",
       "        -0.32496667,  -0.33306667,  -0.33026667,  -0.33086667,\n",
       "        -0.332     ,  -0.34616667,  -0.33946667,  -0.35516667,\n",
       "        -0.3502    ,  -0.3592    ,  -0.36203333,  -0.36366667,\n",
       "        -0.3552    ,  -0.3682    ,  -0.3567    ,  -0.36396667,\n",
       "        -0.36233333,  -0.36883333,  -0.36993333,  -0.3718    ,\n",
       "        -0.3796    ,  -0.37993333,  -0.38233333,  -0.38203333,\n",
       "        -0.3908    ,  -0.3946    ,  -0.3933    ,  -0.3992    ,\n",
       "        -0.3947    ,  -0.4092    ,  -0.41026667,  -0.4166    ,\n",
       "        -0.4181    ,  -0.41626667,  -0.42106667,  -0.42716667,\n",
       "        -0.4152    ,  -0.4327    ,  -0.4365    ,  -0.4354    ,\n",
       "        -0.43603333,  -0.44026667,  -0.44256667,  -0.4508    ,\n",
       "        -0.44933333,  -0.45456667,  -0.4626    ,  -0.45146667,\n",
       "        -0.45446667,  -0.47013333,  -0.47396667,  -0.4699    ,\n",
       "        -0.47806667,  -0.482     ,  -0.47156667,  -0.48306667,\n",
       "        -0.4792    ,  -0.4835    ,  -0.4881    ,  -0.48463333,\n",
       "        -0.5066    ,  -0.5119    ,  -0.5132    ,  -0.51776667,\n",
       "        -0.5262    ,  -0.56053333,  -0.55536667,  -0.5717    ,\n",
       "        -0.61223333,  -0.61753333,  -0.60613333,  -0.61706667,\n",
       "        -0.6241    ,  -0.61446667,  -0.61626667,  -0.62413333,\n",
       "        -0.63153333,  -0.6306    ,  -0.64616667,  -0.65203333,\n",
       "        -0.65256667,  -0.65973333,  -0.6575    ,  -0.68653333,\n",
       "        -0.6889    ,  -0.6788    ,  -0.69313333,  -0.70653333,\n",
       "        -0.73446667,  -0.7353    ,  -0.7376    ,  -0.7432    ,\n",
       "        -0.75586667,  -0.75323333,  -0.77883333,  -0.774     ,\n",
       "        -0.7976    ,  -0.79976667,  -0.80163333,  -0.80983333,\n",
       "        -0.81853333,  -0.82386667,  -0.81443333,  -0.83203333,\n",
       "        -0.82773333,  -0.84083333,  -0.8396    ,  -0.84626667,\n",
       "        -0.84653333,  -0.8399    ,  -0.8412    ,  -0.8571    ,\n",
       "        -0.84493333,  -0.85913333,  -0.86013333,  -0.87036667,\n",
       "        -0.87013333,  -0.8693    ,  -0.87046667,  -0.8807    ,\n",
       "        -0.88813333,  -0.88503333,  -0.88353333,  -0.88926667,\n",
       "        -0.89386667,  -0.90056667,  -0.8939    ,  -0.90896667,\n",
       "        -0.9067    ,  -0.918     ,  -0.9174    ,  -0.92016667,\n",
       "        -0.92673333,  -0.9209    ,  -0.9359    ,  -0.94796667,\n",
       "        -0.94906667,  -0.95693333,  -0.9445    ,  -0.9582    ,\n",
       "        -0.95246667,  -0.95983333,  -0.97066667,  -0.9777    ,\n",
       "        -0.97093333,  -0.9853    ,  -0.97896667,  -0.9873    ,\n",
       "        -0.98243333,  -0.98146667,  -0.99183333,  -0.9906    ,\n",
       "        -0.99773333,  -1.00186667,  -1.0013    ,  -1.0092    ,\n",
       "        -1.0167    ,  -1.01546667,  -1.01396667,  -1.02596667,\n",
       "        -1.0215    ,  -1.02313333,  -1.0348    ,  -1.0364    ,\n",
       "        -1.03526667,  -1.03513333,  -1.05096667,  -1.05006667,\n",
       "        -1.0632    ,  -1.04976667,  -1.05453333,  -1.0698    ,\n",
       "        -1.0637    ,  -1.07323333,  -1.06873333,  -1.0659    ,\n",
       "        -1.0765    ,  -1.07646667,  -1.0899    ,  -1.09186667,\n",
       "        -1.0866    ,  -1.0906    ,  -1.09733333,  -1.09416667,\n",
       "        -1.0958    ,  -1.0947    ,  -1.10706667,  -1.10373333,\n",
       "        -1.10646667,  -1.11296667,  -1.11153333,  -1.12946667,\n",
       "        -1.1329    ,  -1.1362    ,  -1.1285    ,  -1.141     ,\n",
       "        -1.14583333,  -1.14443333,  -1.1572    ,  -1.14826667,\n",
       "        -1.15776667,  -1.1675    ,  -1.16686667,  -1.1656    ,\n",
       "        -1.17643333,  -1.1765    ,  -1.18663333,  -1.1924    ,\n",
       "        -1.18656667,  -1.1936    , -33.19423333, -21.10503333,\n",
       "        -5.16046667,  -4.2603    ,  -4.0796    , -13.53656667,\n",
       "        -7.2214    ,  -4.62663333,  -7.78016667,  -6.06103333,\n",
       "        -4.7122    ,  -9.46396667,  -3.84976667,  -4.2914    ,\n",
       "        -5.87666667,  -4.5393    ,  -4.93356667,  -7.2403    ,\n",
       "        -7.5096    ,  -4.0148    ,  -4.2184    ,  -7.8689    ,\n",
       "        -5.773     ,  -6.46343333,  -4.07843333,  -6.6944    ,\n",
       "        -4.09526667, -16.45983333,  -4.0577    ,  -7.13663333,\n",
       "        -7.44433333, -16.14803333,  -4.14136667,  -5.87573333,\n",
       "        -7.30576667,  -7.21326667, -11.201     ,  -4.36323333,\n",
       "       -16.32313333,  -4.3609    ,  -7.9457    ,  -4.17233333,\n",
       "        -4.33066667,  -7.30576667,  -4.1388    ,  -4.31666667,\n",
       "        -5.56333333,  -4.24923333,  -6.05113333,  -4.44236667,\n",
       "       -16.47843333,  -4.75616667,  -4.64213333,  -6.47563333,\n",
       "        -5.58143333,  -4.18663333,  -9.41176667,  -5.9778    ,\n",
       "        -7.10286667,  -8.1246    , -10.42313333,  -5.03056667,\n",
       "        -4.0322    ,  -4.49483333,  -7.59903333, -28.60243333,\n",
       "        -9.9468    ,  -6.85626667,  -4.44266667,  -4.3287    ,\n",
       "        -4.61226667,  -4.25806667,  -6.30166667, -11.26156667,\n",
       "        -5.805     ])"
      ]
     },
     "execution_count": 217,
     "metadata": {},
     "output_type": "execute_result"
    }
   ],
   "source": [
    "a - b"
   ]
  },
  {
   "cell_type": "code",
   "execution_count": 207,
   "id": "abdd446c",
   "metadata": {},
   "outputs": [
    {
     "data": {
      "text/plain": [
       "array([  24.804875,  102.168375,  151.978125,  257.395   ,  289.52975 ,\n",
       "        293.7445  ,  303.356625,  335.025   ,  356.231625,  374.039875,\n",
       "        380.6035  ,  384.1185  ,  388.9495  ,  392.980875,  401.5435  ,\n",
       "        434.66125 ,  472.360125,  480.606125,  488.519125,  493.666625,\n",
       "        497.065125,  508.326375,  512.641   ,  517.85525 ,  522.10325 ,\n",
       "        528.117125,  531.4655  ,  536.546375,  541.19425 ,  547.507875,\n",
       "        559.13575 ,  571.130125,  575.911125,  586.856   ,  618.30775 ,\n",
       "        624.80475 ,  629.63575 ,  632.484375,  636.4825  ,  639.631   ,\n",
       "        643.212625,  647.2275  ,  652.125125,  656.872875,  661.404125,\n",
       "        665.052375,  669.08375 ,  673.415125,  677.3965  ,  681.09475 ,\n",
       "        686.192375,  690.05725 ,  693.772125,  697.470375,  704.06725 ,\n",
       "        707.68225 ,  715.778375,  723.508125,  727.25625 ,  730.60475 ,\n",
       "        735.269125,  739.21725 ,  744.71475 ,  749.5125  ,  753.960375,\n",
       "        758.058375,  764.572   ,  767.95375 ,  771.602   ,  778.4155  ,\n",
       "        782.213625,  787.36125 ,  790.892875,  797.389875,  801.038125,\n",
       "        805.98575 ,  810.716875,  817.646875,  825.743125,  831.42375 ,\n",
       "        834.955375,  841.33575 ,  851.864125,  854.5295  ,  858.6275  ,\n",
       "        862.2925  ,  867.1235  ,  873.104   ,  879.9675  ,  885.598125,\n",
       "        889.463   ,  892.911375,  895.99325 ,  902.090375,  905.48875 ,\n",
       "        909.47025 ,  929.3275  ,  937.27375 ,  951.816875,  957.73075 ,\n",
       "        988.349625, 1033.21175 , 1038.392625, 1069.161375, 1115.77275 ,\n",
       "       1126.967375, 1129.916   , 1134.847   , 1138.628625, 1142.1935  ,\n",
       "       1146.891375, 1155.753875, 1165.699125, 1169.414   , 1181.175125,\n",
       "       1189.437875, 1197.117625, 1204.031   , 1206.99625 , 1244.062125,\n",
       "       1252.374875, 1256.073125, 1260.2045  , 1303.634   , 1351.494625,\n",
       "       1354.876375, 1362.123   , 1366.620875, 1371.935   , 1375.200125,\n",
       "       1418.27975 , 1425.04325 , 1457.128125, 1471.93775 , 1475.40275 ,\n",
       "       1480.550375, 1487.347125, 1490.628875, 1494.9435  , 1517.582875,\n",
       "       1520.4315  , 1523.480125, 1528.0945  , 1531.409625, 1535.2745  ,\n",
       "       1539.43925 , 1543.737125, 1549.134625, 1554.165625, 1558.763375,\n",
       "       1580.753   , 1585.28425 , 1591.747875, 1594.713125, 1597.97825 ,\n",
       "       1605.657875, 1610.489   , 1613.337625, 1617.635625, 1621.567   ,\n",
       "       1624.465625, 1632.76175 , 1635.59375 , 1645.006   , 1647.638125,\n",
       "       1660.332125, 1666.22925 , 1669.1945  , 1672.30975 , 1682.521625,\n",
       "       1690.967625, 1720.72025 , 1724.018625, 1728.133375, 1730.94875 ,\n",
       "       1737.19575 , 1742.31    , 1746.47475 , 1764.249625, 1766.981625,\n",
       "       1771.912625, 1774.878   , 1778.79275 , 1782.1745  , 1786.006   ,\n",
       "       1788.938   , 1799.549625, 1803.664375, 1806.74625 , 1818.07425 ,\n",
       "       1821.156125, 1827.553125, 1835.799125, 1847.260375, 1849.959125,\n",
       "       1857.855375, 1860.4875  , 1866.418   , 1871.1825  , 1874.480875,\n",
       "       1877.546125, 1882.060625, 1898.786125, 1903.034125, 1913.562375,\n",
       "       1916.027875, 1922.191625, 1925.007   , 1929.105125, 1934.286   ,\n",
       "       1942.831875, 1946.946625, 1952.693875, 1956.65875 , 1964.888125,\n",
       "       1967.7035  , 1970.6355  , 1976.732625, 1979.914375, 1982.99625 ,\n",
       "       1990.376125, 1993.8245  , 2000.687875, 2004.053   , 2012.432375,\n",
       "       2016.4305  , 2024.64325 , 2030.72375 , 2046.499625, 2049.39825 ,\n",
       "       2051.997   , 2064.441125, 2070.471625, 2073.47025 , 2080.03375 ,\n",
       "       2085.897625, 2095.893   , 2098.974875, 2101.840125, 2119.515125,\n",
       "       2122.297125, 2128.960625, 2133.341875, 2143.60375 , 2146.619   ,\n",
       "       2149.501   , 2157.9837  , 2189.965125, 2209.85575 , 2213.78725 ,\n",
       "       2216.819125, 2219.66775 , 2231.978625, 2237.959125, 2241.340875,\n",
       "       2247.871125, 2252.6855  , 2256.1505  , 2264.363375, 2266.962125,\n",
       "       2269.994   , 2274.6085  , 2277.89025 , 2281.55525 , 2287.53575 ,\n",
       "       2293.78275 , 2296.5315  , 2299.480125, 2306.077   , 2310.574875,\n",
       "       2315.75575 , 2318.554375, 2323.9685  , 2326.783875, 2341.943375,\n",
       "       2344.70875 , 2350.53925 , 2356.686375, 2371.529375, 2374.361375,\n",
       "       2378.925875, 2384.906375, 2390.803625, 2400.68225 , 2403.714125,\n",
       "       2418.707125, 2421.722375, 2428.31925 , 2431.15125 , 2434.133125,\n",
       "       2440.080375, 2442.862375, 2445.827625, 2450.04225 , 2452.940875,\n",
       "       2457.63875 , 2460.720625, 2475.830125, 2479.211875, 2482.477   ,\n",
       "       2487.5745  , 2491.772625, 2494.57125 , 2502.60075 , 2507.182   ,\n",
       "       2512.895875, 2519.626125, 2528.655125, 2532.28675 , 2534.918875,\n",
       "       2538.00075 , 2544.19775 , 2571.385   , 2579.930875, 2585.395   ,\n",
       "       2588.443625, 2591.3755  , 2594.590625, 2597.439375, 2602.337   ,\n",
       "       2612.182375])"
      ]
     },
     "execution_count": 207,
     "metadata": {},
     "output_type": "execute_result"
    }
   ],
   "source": [
    "Poke_data_EPhys.BACK_Trial_Start_Camera_Time.unique()"
   ]
  },
  {
   "cell_type": "code",
   "execution_count": null,
   "id": "041f4582",
   "metadata": {},
   "outputs": [],
   "source": [
    "## test by splitting up video:\n",
    "from moviepy.video.io.ffmpeg_tools import ffmpeg_extract_subclip\n",
    "from moviepy.editor import *\n",
    "\n",
    "a = list_files(r'Z:\\projects\\sequence_squad\\data\\video_data\\raw_flycap\\EJT178_implant2\\070422\\2_task', 'avi')\n",
    "for file in a:\n",
    "    if 'back' in file:\n",
    "        cam_path = r'Z:\\projects\\sequence_squad\\data\\video_data\\raw_flycap\\EJT178_implant2\\070422\\2_task\\\\' + file"
   ]
  },
  {
   "cell_type": "code",
   "execution_count": null,
   "id": "cf0e7d78",
   "metadata": {},
   "outputs": [],
   "source": [
    "\n",
    "\n",
    "# for index, item in enumerate(transition_camera_frames[200::]):\n",
    "#     frames = np.array(item)/60\n",
    "    \n",
    "#     ffmpeg_extract_subclip(cam_path,frames[0],frames[-1]+0.2,targetname=('D:\\\\' +str(index) + '_test.mp4'))\n",
    "#     if index == 20:\n",
    "#         break\n",
    "\n",
    "\n",
    "for index,frame in enumerate(t_start):\n",
    "    \n",
    "    if index > 300:\n",
    "        ffmpeg_extract_subclip(cam_path,frame - 0.1,trial_end_[index],targetname=('D:\\\\' +str(index) + '_test.mp4'))\n",
    "        count = count + 1\n",
    "    \n",
    "    if count == 20:\n",
    "        break\n",
    "\n",
    "    "
   ]
  },
  {
   "cell_type": "code",
   "execution_count": null,
   "id": "0aabcf20",
   "metadata": {},
   "outputs": [],
   "source": []
  },
  {
   "cell_type": "code",
   "execution_count": null,
   "id": "be0b1519",
   "metadata": {},
   "outputs": [],
   "source": []
  },
  {
   "cell_type": "code",
   "execution_count": null,
   "id": "83a904be",
   "metadata": {},
   "outputs": [],
   "source": []
  },
  {
   "cell_type": "code",
   "execution_count": 168,
   "id": "675a1ed9",
   "metadata": {},
   "outputs": [],
   "source": [
    "Poke1_camera_inds[245]/60\n",
    "\n",
    "new = np.delete(Poke1_camera_inds, 240)"
   ]
  },
  {
   "cell_type": "code",
   "execution_count": 169,
   "id": "f4ef4ddd",
   "metadata": {},
   "outputs": [
    {
     "data": {
      "text/plain": [
       "(242.0, 260.0)"
      ]
     },
     "execution_count": 169,
     "metadata": {},
     "output_type": "execute_result"
    },
    {
     "data": {
      "image/png": "[encoded data removed]",
      "text/plain": [
       "<Figure size 432x288 with 1 Axes>"
      ]
     },
     "metadata": {
      "needs_background": "light"
     },
     "output_type": "display_data"
    }
   ],
   "source": [
    "\n",
    "\n",
    "plt.plot(np.diff(new/60))\n",
    "plt.plot(np.diff(first_p_times))\n",
    "plt.xlim([242, 260])"
   ]
  },
  {
   "cell_type": "code",
   "execution_count": 166,
   "id": "bea34025",
   "metadata": {},
   "outputs": [
    {
     "data": {
      "text/plain": [
       "(230.0, 330.0)"
      ]
     },
     "execution_count": 166,
     "metadata": {},
     "output_type": "execute_result"
    },
    {
     "data": {
      "image/png": "[encoded data removed]",
      "text/plain": [
       "<Figure size 432x288 with 1 Axes>"
      ]
     },
     "metadata": {
      "needs_background": "light"
     },
     "output_type": "display_data"
    }
   ],
   "source": [
    "plt.plot(np.diff(new/60) - np.diff(first_p_times[0:-1]))\n",
    "plt.xlim([230, 330])"
   ]
  },
  {
   "cell_type": "code",
   "execution_count": 95,
   "id": "b0e9b1ca",
   "metadata": {},
   "outputs": [
    {
     "data": {
      "text/plain": [
       "(230.0, 330.0)"
      ]
     },
     "execution_count": 95,
     "metadata": {},
     "output_type": "execute_result"
    },
    {
     "data": {
      "image/png": "[encoded data removed]",
      "text/plain": [
       "<Figure size 432x288 with 1 Axes>"
      ]
     },
     "metadata": {
      "needs_background": "light"
     },
     "output_type": "display_data"
    }
   ],
   "source": []
  },
  {
   "cell_type": "code",
   "execution_count": 81,
   "id": "dceafe8a",
   "metadata": {},
   "outputs": [
    {
     "data": {
      "text/plain": [
       "array([4644, 2990, 6328, 1929,  253,  577, 1901, 1273, 1069,  394,  211,\n",
       "        290,  242,  514, 1988, 2263,  495,  475,  309,  204,  676,  259,\n",
       "        313,  255,  361,  201,  305,  279,  379,  698,  720,  287,  657,\n",
       "       1888,  390,  290,  171,  240,  189,  215,  241,  294,  285,  272,\n",
       "        219,  242,  260,  239,  222,  306,  232,  223,  222,  396,  217,\n",
       "        486,  464,  225,  201,  280,  237,  330,  288,  267,  246,  391,\n",
       "        203,  219,  409,  228,  309,  212,  390,  219,  297,  284,  416,\n",
       "        486,  341,  212,  383,  632,  160,  246,  220,  290,  359,  412,\n",
       "        338,  232,  207,  185,  366,  204,  239, 1192,  477,  873,  355,\n",
       "       1838, 2693,  311, 1847, 2798,  672,  177,  296,  227,  214,  282,\n",
       "        532,  597,  223,  706,  496,  461,  415,  178, 2225,  499,  222,\n",
       "        248, 2607, 2873,  203,  435,  270,  319,  196, 2586,  406, 1926,\n",
       "        889,  208,  309,  408,  197,  259, 1359,  171,  183,  277,  199,\n",
       "        232,  250,  258,  324,  302,  276, 1320,  272,  388,  178,  196,\n",
       "        461,  290,  171,  258,  236,  174,  498,  170,  565,  158,  762,\n",
       "        354,  178,  187,  613,  507, 1786,  198,  247,  169,  375,  307,\n",
       "        250, 1067,  164,  296,  178,  235,  203,  230,  176,  637,  247,\n",
       "        185,  680,  185,  384,  495,  688,  162,  474,  158,  356,  286,\n",
       "        198,  184,  271, 1004,  255,  632,  148,  370,  169,  246,  311,\n",
       "        513,  247,  345,  238,  494,  169,  176,  366,  191,  185,  443,\n",
       "        207,  412,  202,  503,  240,  493,  365,  947,  174,  156,  747,\n",
       "        362,  180,  394,  352,  600,  185,  172, 1061,  167,  400,  263,\n",
       "        616,  181,  173, 2429, 1194,  236,  182,  171,  739,  359,  203,\n",
       "        392,  289,  208,  493,  156,  182,  277,  197,  220,  359,  375,\n",
       "        165,  177,  396,  270,  311,  168,  325,  169,  910,  166,  350,\n",
       "        369,  891,  170,  274,  359,  354,  593,  182,  900,  181,  396,\n",
       "        170,  179,  357,  167,  178,  253,  174,  282,  185,  907,  203,\n",
       "        196,  306,  252,  168,  482,  275,  343,  404,  542,  218,  158,\n",
       "        185,  372, 1632,  511,  328,  183,  176,  193,  171,  294,  591,\n",
       "        263], dtype=int64)"
      ]
     },
     "execution_count": 81,
     "metadata": {},
     "output_type": "execute_result"
    }
   ],
   "source": [
    "np.diff(Trial_start_camera_inds)"
   ]
  },
  {
   "cell_type": "code",
   "execution_count": 24,
   "id": "6b18b281",
   "metadata": {},
   "outputs": [
    {
     "data": {
      "text/plain": [
       "[<matplotlib.lines.Line2D at 0x1e250db2f10>]"
      ]
     },
     "execution_count": 24,
     "metadata": {},
     "output_type": "execute_result"
    },
    {
     "data": {
      "image/png": "[encoded data removed]",
      "text/plain": [
       "<Figure size 432x288 with 1 Axes>"
      ]
     },
     "metadata": {
      "needs_background": "light"
     },
     "output_type": "display_data"
    }
   ],
   "source": []
  },
  {
   "cell_type": "code",
   "execution_count": null,
   "id": "c325a37d",
   "metadata": {},
   "outputs": [],
   "source": [
    "## first i need to run the ephys alignment for each session \n",
    "\n",
    "### load in data in a smart way (deal with barcode?)\n",
    "# for each camera align timestamsp and check alignment is correct\n",
    "# \n",
    "# test alignment with video cutting method\n",
    "# do this for each session \n",
    "\n",
    "#dont replace timestamps - just ignore the ones that arent there \n",
    "# create new coumns: pokein + poke out EPhys times & the same for camera times \n",
    "# maybe save out a simplified df and an extended df? these will be the final sync file. \n",
    "\n",
    "\n",
    "### CLEAN UP PROCESSNG PIPELINE FOR FUTURE - even if iut is just writting out the fucking steps! (THIS WILL SAVE YOU AN ENORMOUS HEADACHE!)\n"
   ]
  },
  {
   "cell_type": "code",
   "execution_count": null,
   "id": "af5665a9",
   "metadata": {},
   "outputs": [],
   "source": []
  }
 ],
 "metadata": {
  "kernelspec": {
   "display_name": "Python 3",
   "language": "python",
   "name": "python3"
  },
  "language_info": {
   "codemirror_mode": {
    "name": "ipython",
    "version": 3
   },
   "file_extension": ".py",
   "mimetype": "text/x-python",
   "name": "python",
   "nbconvert_exporter": "python",
   "pygments_lexer": "ipython3",
   "version": "3.8.8"
  }
 },
 "nbformat": 4,
 "nbformat_minor": 5
}
