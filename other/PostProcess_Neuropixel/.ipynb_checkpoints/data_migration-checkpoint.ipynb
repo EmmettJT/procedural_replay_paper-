{
 "cells": [
  {
   "cell_type": "code",
   "execution_count": 65,
   "id": "23ad25a9",
   "metadata": {},
   "outputs": [
    {
     "data": {
      "text/plain": [
       "['amplitudes.npy',\n",
       " 'channel_map.npy',\n",
       " 'channel_positions.npy',\n",
       " 'cluster_Amplitude.tsv',\n",
       " 'cluster_ContamPct.tsv',\n",
       " 'cluster_group.tsv',\n",
       " 'cluster_KSLabel.tsv',\n",
       " 'params.py',\n",
       " 'similar_templates.npy',\n",
       " 'spike_clusters.npy',\n",
       " 'spike_templates.npy',\n",
       " 'spike_times.npy',\n",
       " 'templates.npy',\n",
       " 'templates_ind.npy',\n",
       " 'temp_wh.dat',\n",
       " 'whitening_mat.npy',\n",
       " 'whitening_mat_inv.npy']"
      ]
     },
     "execution_count": 65,
     "metadata": {},
     "output_type": "execute_result"
    }
   ],
   "source": [
    "os.listdir('Z://projects/sequence_squad/data\\\\kilosort_output//EJT255/Recording1\\\\kilosort3')"
   ]
  },
  {
   "cell_type": "code",
   "execution_count": 58,
   "id": "dcb2cffd",
   "metadata": {},
   "outputs": [
    {
     "data": {
      "text/plain": [
       "'Z:\\\\projects\\\\sequence_squad\\\\data\\\\kilosort_output\\\\\\\\EJT255/Recording1\\\\kilosort3'"
      ]
     },
     "execution_count": 58,
     "metadata": {},
     "output_type": "execute_result"
    }
   ],
   "source": [
    "os.path.join(ksort_path,animal.split('_')[0]) + '/R' + recording.split('_')[0][1::] + '\\kilosort3'"
   ]
  },
  {
   "cell_type": "code",
   "execution_count": 68,
   "id": "19a33190",
   "metadata": {},
   "outputs": [
    {
     "ename": "AttributeError",
     "evalue": "module 'os' has no attribute 'direxists'",
     "output_type": "error",
     "traceback": [
      "\u001b[1;31m---------------------------------------------------------------------------\u001b[0m",
      "\u001b[1;31mAttributeError\u001b[0m                            Traceback (most recent call last)",
      "Cell \u001b[1;32mIn[68], line 1\u001b[0m\n\u001b[1;32m----> 1\u001b[0m \u001b[43mos\u001b[49m\u001b[38;5;241;43m.\u001b[39;49m\u001b[43mdirexists\u001b[49m(os\u001b[38;5;241m.\u001b[39mpath\u001b[38;5;241m.\u001b[39mjoin(ksort_path,animal\u001b[38;5;241m.\u001b[39msplit(\u001b[38;5;124m'\u001b[39m\u001b[38;5;124m_\u001b[39m\u001b[38;5;124m'\u001b[39m)[\u001b[38;5;241m0\u001b[39m]) \u001b[38;5;241m+\u001b[39m \u001b[38;5;124m'\u001b[39m\u001b[38;5;124m/R\u001b[39m\u001b[38;5;124m'\u001b[39m \u001b[38;5;241m+\u001b[39m recording\u001b[38;5;241m.\u001b[39msplit(\u001b[38;5;124m'\u001b[39m\u001b[38;5;124m_\u001b[39m\u001b[38;5;124m'\u001b[39m)[\u001b[38;5;241m0\u001b[39m][\u001b[38;5;241m1\u001b[39m::] \u001b[38;5;241m+\u001b[39m \u001b[38;5;124m'\u001b[39m\u001b[38;5;124m\\\u001b[39m\u001b[38;5;124mkilosort3\u001b[39m\u001b[38;5;124m'\u001b[39m)\n",
      "\u001b[1;31mAttributeError\u001b[0m: module 'os' has no attribute 'direxists'"
     ]
    }
   ],
   "source": [
    "os.direxists(os.path.join(ksort_path,animal.split('_')[0]) + '/R' + recording.split('_')[0][1::] + '\\kilosort3')"
   ]
  },
  {
   "cell_type": "code",
   "execution_count": 50,
   "id": "7158ceef",
   "metadata": {},
   "outputs": [
    {
     "name": "stdout",
     "output_type": "stream",
     "text": [
      "EJT255_implant1\n",
      "recording1_04-14-2023\n"
     ]
    },
    {
     "ename": "PermissionError",
     "evalue": "[Errno 13] Permission denied: 'Z:\\\\projects\\\\sequence_squad\\\\data\\\\kilosort_output\\\\\\\\EJT255\\\\Recording1\\\\kilosort3'",
     "output_type": "error",
     "traceback": [
      "\u001b[1;31m---------------------------------------------------------------------------\u001b[0m",
      "\u001b[1;31mPermissionError\u001b[0m                           Traceback (most recent call last)",
      "Cell \u001b[1;32mIn[50], line 11\u001b[0m\n\u001b[0;32m      9\u001b[0m source_directory \u001b[38;5;241m=\u001b[39m ksort_path \u001b[38;5;241m+\u001b[39m animal\u001b[38;5;241m.\u001b[39msplit(\u001b[38;5;124m'\u001b[39m\u001b[38;5;124m_\u001b[39m\u001b[38;5;124m'\u001b[39m)[\u001b[38;5;241m0\u001b[39m] \u001b[38;5;241m+\u001b[39m \u001b[38;5;124m'\u001b[39m\u001b[38;5;130;01m\\\\\u001b[39;00m\u001b[38;5;124mR\u001b[39m\u001b[38;5;124m'\u001b[39m \u001b[38;5;241m+\u001b[39m recording\u001b[38;5;241m.\u001b[39msplit(\u001b[38;5;124m'\u001b[39m\u001b[38;5;124m_\u001b[39m\u001b[38;5;124m'\u001b[39m)[\u001b[38;5;241m0\u001b[39m][\u001b[38;5;241m1\u001b[39m::] \u001b[38;5;241m+\u001b[39m \u001b[38;5;124m'\u001b[39m\u001b[38;5;124m\\\u001b[39m\u001b[38;5;124mkilosort3\u001b[39m\u001b[38;5;124m'\u001b[39m\n\u001b[0;32m     10\u001b[0m \u001b[38;5;66;03m# Copy the file\u001b[39;00m\n\u001b[1;32m---> 11\u001b[0m \u001b[43mshutil\u001b[49m\u001b[38;5;241;43m.\u001b[39;49m\u001b[43mcopy\u001b[49m\u001b[43m(\u001b[49m\u001b[43msource_directory\u001b[49m\u001b[43m,\u001b[49m\u001b[43m \u001b[49m\u001b[43mdestination_directory\u001b[49m\u001b[43m)\u001b[49m\n",
      "File \u001b[1;32m~\\anaconda3\\lib\\shutil.py:418\u001b[0m, in \u001b[0;36mcopy\u001b[1;34m(src, dst, follow_symlinks)\u001b[0m\n\u001b[0;32m    416\u001b[0m \u001b[38;5;28;01mif\u001b[39;00m os\u001b[38;5;241m.\u001b[39mpath\u001b[38;5;241m.\u001b[39misdir(dst):\n\u001b[0;32m    417\u001b[0m     dst \u001b[38;5;241m=\u001b[39m os\u001b[38;5;241m.\u001b[39mpath\u001b[38;5;241m.\u001b[39mjoin(dst, os\u001b[38;5;241m.\u001b[39mpath\u001b[38;5;241m.\u001b[39mbasename(src))\n\u001b[1;32m--> 418\u001b[0m \u001b[43mcopyfile\u001b[49m\u001b[43m(\u001b[49m\u001b[43msrc\u001b[49m\u001b[43m,\u001b[49m\u001b[43m \u001b[49m\u001b[43mdst\u001b[49m\u001b[43m,\u001b[49m\u001b[43m \u001b[49m\u001b[43mfollow_symlinks\u001b[49m\u001b[38;5;241;43m=\u001b[39;49m\u001b[43mfollow_symlinks\u001b[49m\u001b[43m)\u001b[49m\n\u001b[0;32m    419\u001b[0m copymode(src, dst, follow_symlinks\u001b[38;5;241m=\u001b[39mfollow_symlinks)\n\u001b[0;32m    420\u001b[0m \u001b[38;5;28;01mreturn\u001b[39;00m dst\n",
      "File \u001b[1;32m~\\anaconda3\\lib\\shutil.py:264\u001b[0m, in \u001b[0;36mcopyfile\u001b[1;34m(src, dst, follow_symlinks)\u001b[0m\n\u001b[0;32m    262\u001b[0m     os\u001b[38;5;241m.\u001b[39msymlink(os\u001b[38;5;241m.\u001b[39mreadlink(src), dst)\n\u001b[0;32m    263\u001b[0m \u001b[38;5;28;01melse\u001b[39;00m:\n\u001b[1;32m--> 264\u001b[0m     \u001b[38;5;28;01mwith\u001b[39;00m \u001b[38;5;28;43mopen\u001b[39;49m\u001b[43m(\u001b[49m\u001b[43msrc\u001b[49m\u001b[43m,\u001b[49m\u001b[43m \u001b[49m\u001b[38;5;124;43m'\u001b[39;49m\u001b[38;5;124;43mrb\u001b[39;49m\u001b[38;5;124;43m'\u001b[39;49m\u001b[43m)\u001b[49m \u001b[38;5;28;01mas\u001b[39;00m fsrc, \u001b[38;5;28mopen\u001b[39m(dst, \u001b[38;5;124m'\u001b[39m\u001b[38;5;124mwb\u001b[39m\u001b[38;5;124m'\u001b[39m) \u001b[38;5;28;01mas\u001b[39;00m fdst:\n\u001b[0;32m    265\u001b[0m         \u001b[38;5;66;03m# macOS\u001b[39;00m\n\u001b[0;32m    266\u001b[0m         \u001b[38;5;28;01mif\u001b[39;00m _HAS_FCOPYFILE:\n\u001b[0;32m    267\u001b[0m             \u001b[38;5;28;01mtry\u001b[39;00m:\n",
      "\u001b[1;31mPermissionError\u001b[0m: [Errno 13] Permission denied: 'Z:\\\\projects\\\\sequence_squad\\\\data\\\\kilosort_output\\\\\\\\EJT255\\\\Recording1\\\\kilosort3'"
     ]
    }
   ],
   "source": [
    "## loop across animals \n",
    "import os\n",
    "import shutil\n",
    "\n",
    "dir_path = r\"\\ceph\\sjones\\projects\\sequence_squad\\organised_data\\animals\\\\\"\n",
    "ksort_path = r\"\\ceph\\sjones\\projects\\sequence_squad\\data\\kilosort_output\\\\\"\n",
    "\n",
    "animals = ['EJT255_implant1','EJT262_implant1','EJT268_implant1','EJT269_implant1','EJT270_implant1']\n",
    "\n",
    "for animal in animals:\n",
    "    print(animal)\n",
    "    mouse_path = dir_path + animal\n",
    "    for recording in os.listdir(mouse_path):\n",
    "        print(recording)\n",
    "        destination_directory = os.path.join(mouse_path,recording) + '\\\\' + 'ephys\\\\'\n",
    "        source_directory = ksort_path + animal.split('_')[0] + '\\\\R' + recording.split('_')[0][1::] + '\\kilosort3'\n",
    "        # Copy the file\n",
    "        shutil.copy(source_directory, destination_directory)\n"
   ]
  },
  {
   "cell_type": "code",
   "execution_count": 41,
   "id": "378ab2bf",
   "metadata": {},
   "outputs": [
    {
     "data": {
      "text/plain": [
       "'Z:\\\\projects\\\\sequence_squad\\\\data\\\\kilosort_output\\\\\\\\EJT255\\\\Recording1\\\\kilosort3\\\\'"
      ]
     },
     "execution_count": 41,
     "metadata": {},
     "output_type": "execute_result"
    }
   ],
   "source": [
    "source_directory"
   ]
  },
  {
   "cell_type": "code",
   "execution_count": 34,
   "id": "c6d82447",
   "metadata": {},
   "outputs": [
    {
     "data": {
      "text/plain": [
       "'Z:\\\\projects\\\\sequence_squad\\\\organised_data\\\\animals\\\\\\\\EJT255_implant1\\\\recording1_04-14-2023\\\\ephys'"
      ]
     },
     "execution_count": 34,
     "metadata": {},
     "output_type": "execute_result"
    }
   ],
   "source": [
    "destination_directory"
   ]
  },
  {
   "cell_type": "code",
   "execution_count": 36,
   "id": "8b02abbb",
   "metadata": {},
   "outputs": [
    {
     "data": {
      "text/plain": [
       "'Z:\\\\projects\\\\sequence_squad\\\\data\\\\kilosort_output\\\\\\\\EJT255\\\\recording1\\\\kilosort3'"
      ]
     },
     "execution_count": 36,
     "metadata": {},
     "output_type": "execute_result"
    }
   ],
   "source": [
    "source_directory"
   ]
  },
  {
   "cell_type": "code",
   "execution_count": 19,
   "id": "0e8554df",
   "metadata": {},
   "outputs": [
    {
     "data": {
      "text/plain": [
       "'Z:\\\\projects\\\\sequence_squad\\\\organised_data\\\\animals\\\\\\\\EJT270_implant1\\\\recording7_05-20-2023\\\\ephys'"
      ]
     },
     "execution_count": 19,
     "metadata": {},
     "output_type": "execute_result"
    }
   ],
   "source": [
    "destination_directory"
   ]
  },
  {
   "cell_type": "code",
   "execution_count": null,
   "id": "79202c46",
   "metadata": {},
   "outputs": [],
   "source": []
  },
  {
   "cell_type": "code",
   "execution_count": 77,
   "id": "9067c576",
   "metadata": {},
   "outputs": [
    {
     "data": {
      "text/plain": [
       "'Z:\\\\\\\\projects\\\\sequence_squad\\\\organised_data\\\\animals\\\\\\\\EJT255_implant1//recording1_04-14-2023//video/videos//'"
      ]
     },
     "execution_count": 77,
     "metadata": {},
     "output_type": "execute_result"
    }
   ],
   "source": [
    "destination_directory"
   ]
  },
  {
   "cell_type": "code",
   "execution_count": null,
   "id": "b802cbdd",
   "metadata": {},
   "outputs": [],
   "source": [
    "Z:\\projects\\sequence_squad\\data\\video_data\\raw_flycap"
   ]
  },
  {
   "cell_type": "code",
   "execution_count": null,
   "id": "74f475e4",
   "metadata": {},
   "outputs": [
    {
     "name": "stdout",
     "output_type": "stream",
     "text": [
      "EJT255_implant1\n",
      "recording1_04-14-2023\n"
     ]
    }
   ],
   "source": [
    "## loop across animals\n",
    "import os\n",
    "import shutil\n",
    "\n",
    "# dir_path = r\"/ceph/sjones/projects/sequence_squad/organised_data/animals//\"\n",
    "# ksort_path = r\"/ceph/sjones/projects/sequence_squad/data/kilosort_output//\"\n",
    "\n",
    "dir_path = r\"Z:\\\\projects\\sequence_squad\\organised_data\\animals\\\\\"\n",
    "video_path = r\"Z:\\\\projects\\sequence_squad\\data\\video_data\\raw_flycap\\\\\"\n",
    "\n",
    "animals = ['EJT255_implant1','EJT262_implant1','EJT268_implant1','EJT269_implant1','EJT270_implant1']\n",
    "\n",
    "for animal in animals:\n",
    "    print(animal)\n",
    "    mouse_path = dir_path + animal + '//'\n",
    "    for index,recording in enumerate(os.listdir(mouse_path)):\n",
    "        print(recording)\n",
    "        destination_directory = os.path.join(mouse_path,recording) + '//' + 'video/videos//'\n",
    "        source_directory = os.path.join(video_path,animal.split('_')[0])\n",
    "        file = os.listdir(source_directory)[index]\n",
    "        source_directory = os.path.join(source_directory, file)\n",
    "        \n",
    "        # Check if the destination folder already exists\n",
    "        if os.path.exists(destination_directory):\n",
    "            # Delete the existing destination folder\n",
    "            shutil.rmtree(destination_directory)\n",
    "        # Copy the file\n",
    "        shutil.copytree(source_directory, destination_directory)\n",
    "\n",
    "\n"
   ]
  },
  {
   "cell_type": "code",
   "execution_count": 99,
   "id": "9a241e96",
   "metadata": {},
   "outputs": [
    {
     "data": {
      "text/plain": [
       "'Z:\\\\\\\\projects\\\\sequence_squad\\\\data\\\\video_data\\\\raw_flycap\\\\\\\\EJT270\\\\100523'"
      ]
     },
     "execution_count": 99,
     "metadata": {},
     "output_type": "execute_result"
    }
   ],
   "source": [
    "## loop across animals\n",
    "import os\n",
    "import shutil\n",
    "\n",
    "# dir_path = r\"/ceph/sjones/projects/sequence_squad/organised_data/animals//\"\n",
    "# ksort_path = r\"/ceph/sjones/projects/sequence_squad/data/kilosort_output//\"\n",
    "\n",
    "dir_path = r\"/ceph/sjones/projects/sequence_squad/organised_data/animals//\"\n",
    "video_path = r\"/ceph/sjones/projects/sequence_squad/data\\video_data/raw_flycap//\"\n",
    "\n",
    "animals = ['EJT255_implant1','EJT262_implant1','EJT268_implant1','EJT269_implant1','EJT270_implant1']\n",
    "\n",
    "for animal in animals:\n",
    "    print(animal)\n",
    "    mouse_path = dir_path + animal + '//'\n",
    "    for index,recording in enumerate(os.listdir(mouse_path)):\n",
    "        print(recording)\n",
    "        destination_directory = os.path.join(mouse_path,recording) + '//' + 'video/videos//'\n",
    "        source_directory = os.path.join(video_path,animal.split('_')[0])\n",
    "        file = os.listdir(source_directory)[index]\n",
    "        source_directory = os.path.join(source_directory, file)\n",
    "        \n",
    "        # Check if the destination folder already exists\n",
    "        if os.path.exists(destination_directory):\n",
    "            # Delete the existing destination folder\n",
    "            shutil.rmtree(destination_directory)\n",
    "        # Copy the file\n",
    "        shutil.copytree(source_directory, destination_directory)\n",
    "\n"
   ]
  },
  {
   "cell_type": "code",
   "execution_count": 92,
   "id": "db1edc51",
   "metadata": {},
   "outputs": [],
   "source": [
    "#create data structure for animal: \n",
    "\n",
    "# top_file\n",
    "# ├── file1\n",
    "# │   ├── file1.1\n",
    "# │   └── file1.2\n",
    "# ├── file2\n",
    "# │   └── file2.1\n",
    "# └── file3\n",
    "#     ├── file3.1\n",
    "#     ├── file3.2\n",
    "#     └── file3.3\n",
    "\n",
    "    \n",
    "    "
   ]
  },
  {
   "cell_type": "code",
   "execution_count": null,
   "id": "253cc461",
   "metadata": {},
   "outputs": [],
   "source": [
    "# Animal_implant\n",
    "# ├── behav_sync\n",
    "# │   ├── 1_presleep\n",
    "# │   └── task..etc.\n",
    "# ├── ephys\n",
    "# │   └── file2.1\n",
    "# └── video\n",
    "#     ├── file3.1\n",
    "#     ├── file3.2\n",
    "#     └── file3.3\n"
   ]
  },
  {
   "cell_type": "code",
   "execution_count": null,
   "id": "904a5136",
   "metadata": {},
   "outputs": [],
   "source": [
    "import os\n",
    "\n",
    "def create_directory_structure():\n",
    "    base_dir = 'top_file'\n",
    "    os.makedirs(base_dir, exist_ok=True)\n",
    "\n",
    "    # Create file1\n",
    "    file1_dir = os.path.join(base_dir, 'file1')\n",
    "    os.makedirs(file1_dir, exist_ok=True)\n",
    "    create_file(os.path.join(file1_dir, 'file1.1'))\n",
    "    create_file(os.path.join(file1_dir, 'file1.2'))\n",
    "\n",
    "    # Create file2\n",
    "    file2_dir = os.path.join(base_dir, 'file2')\n",
    "    os.makedirs(file2_dir, exist_ok=True)\n",
    "    create_file(os.path.join(file2_dir, 'file2.1'))\n",
    "\n",
    "    # Create file3\n",
    "    file3_dir = os.path.join(base_dir, 'file3')\n",
    "    os.makedirs(file3_dir, exist_ok=True)\n",
    "    create_file(os.path.join(file3_dir, 'file3.1'))\n",
    "    create_file(os.path.join(file3_dir, 'file3.2'))\n",
    "    create_file(os.path.join(file3_dir, 'file3.3'))\n",
    "\n",
    "def create_file(file_path):\n",
    "    with open(file_path, 'w') as file:\n",
    "        file.write('This is a sample file.')\n",
    "\n",
    "# Call the function to create the directory structure\n",
    "create_directory_structure()\n"
   ]
  }
 ],
 "metadata": {
  "kernelspec": {
   "display_name": "Python 3 (ipykernel)",
   "language": "python",
   "name": "python3"
  },
  "language_info": {
   "codemirror_mode": {
    "name": "ipython",
    "version": 3
   },
   "file_extension": ".py",
   "mimetype": "text/x-python",
   "name": "python",
   "nbconvert_exporter": "python",
   "pygments_lexer": "ipython3",
   "version": "3.8.16"
  }
 },
 "nbformat": 4,
 "nbformat_minor": 5
}
