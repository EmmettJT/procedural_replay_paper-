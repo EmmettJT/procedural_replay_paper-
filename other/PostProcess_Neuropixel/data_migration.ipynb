{
 "cells": [
  {
   "cell_type": "code",
   "execution_count": 178,
   "id": "f3b04c14",
   "metadata": {},
   "outputs": [
    {
     "name": "stdout",
     "output_type": "stream",
     "text": [
      "EJT255_implant1\n",
      "recording1_04-14-2023\n",
      "Z:/projects/sequence_squad/data/video_data/dlc/tracking//EJT255//140423\n",
      "Z:/projects/sequence_squad/organised_data/animals//recording1_04-14-2023/video/tracking//\n",
      "recording2_04-15-2023\n",
      "Z:/projects/sequence_squad/data/video_data/dlc/tracking//EJT255//150423\n",
      "Z:/projects/sequence_squad/organised_data/animals//recording2_04-15-2023/video/tracking//\n",
      "recording3_04-17-2023\n",
      "Z:/projects/sequence_squad/data/video_data/dlc/tracking//EJT255//170423\n",
      "Z:/projects/sequence_squad/organised_data/animals//recording3_04-17-2023/video/tracking//\n",
      "recording4_04-20-2023\n",
      "Z:/projects/sequence_squad/data/video_data/dlc/tracking//EJT255//200423\n",
      "Z:/projects/sequence_squad/organised_data/animals//recording4_04-20-2023/video/tracking//\n",
      "EJT256_implant1\n",
      "recording1_04-02-23\n",
      "Z:/projects/sequence_squad/data/video_data/dlc/tracking//EJT256//020423\n",
      "Z:/projects/sequence_squad/organised_data/animals//recording1_04-02-23/video/tracking//\n",
      "recording2_04-03-23\n",
      "Z:/projects/sequence_squad/data/video_data/dlc/tracking//EJT256//030423\n",
      "Z:/projects/sequence_squad/organised_data/animals//recording2_04-03-23/video/tracking//\n",
      "EJT262_implant1\n",
      "recording1_05-17-2023\n",
      "Z:/projects/sequence_squad/data/video_data/dlc/tracking//EJT262//170523\n",
      "Z:/projects/sequence_squad/organised_data/animals//recording1_05-17-2023/video/tracking//\n",
      "recording2_05-18-2023\n",
      "Z:/projects/sequence_squad/data/video_data/dlc/tracking//EJT262//180523\n",
      "Z:/projects/sequence_squad/organised_data/animals//recording2_05-18-2023/video/tracking//\n",
      "recording3_05-20-2023\n",
      "Z:/projects/sequence_squad/data/video_data/dlc/tracking//EJT262//200523\n",
      "Z:/projects/sequence_squad/organised_data/animals//recording3_05-20-2023/video/tracking//\n",
      "recording4_05-21-2023\n",
      "Z:/projects/sequence_squad/data/video_data/dlc/tracking//EJT262//210523\n",
      "Z:/projects/sequence_squad/organised_data/animals//recording4_05-21-2023/video/tracking//\n",
      "recording5_05-22-2023\n",
      "Z:/projects/sequence_squad/data/video_data/dlc/tracking//EJT262//220523\n",
      "Z:/projects/sequence_squad/organised_data/animals//recording5_05-22-2023/video/tracking//\n",
      "recording6_05-24-2023\n",
      "Z:/projects/sequence_squad/data/video_data/dlc/tracking//EJT262//240523\n",
      "Z:/projects/sequence_squad/organised_data/animals//recording6_05-24-2023/video/tracking//\n",
      "recording7_05-17-2023\n",
      "Z:/projects/sequence_squad/data/video_data/dlc/tracking//EJT262//170523\n",
      "Z:/projects/sequence_squad/organised_data/animals//recording7_05-17-2023/video/tracking//\n",
      "EJT268_implant1\n",
      "recording10_05-15-2023\n",
      "Z:/projects/sequence_squad/data/video_data/dlc/tracking//EJT268//150523\n",
      "Z:/projects/sequence_squad/organised_data/animals//recording10_05-15-2023/video/tracking//\n",
      "recording1_05-01-2023\n",
      "Z:/projects/sequence_squad/data/video_data/dlc/tracking//EJT268//010523\n",
      "Z:/projects/sequence_squad/organised_data/animals//recording1_05-01-2023/video/tracking//\n",
      "recording2_05-02-2023\n",
      "Z:/projects/sequence_squad/data/video_data/dlc/tracking//EJT268//020523\n",
      "Z:/projects/sequence_squad/organised_data/animals//recording2_05-02-2023/video/tracking//\n",
      "recording3_05-03-2023\n",
      "Z:/projects/sequence_squad/data/video_data/dlc/tracking//EJT268//030523\n",
      "Z:/projects/sequence_squad/organised_data/animals//recording3_05-03-2023/video/tracking//\n",
      "recording4_05-05-2023\n",
      "Z:/projects/sequence_squad/data/video_data/dlc/tracking//EJT268//050523\n",
      "Z:/projects/sequence_squad/organised_data/animals//recording4_05-05-2023/video/tracking//\n",
      "recording5_05-08-2023\n",
      "Z:/projects/sequence_squad/data/video_data/dlc/tracking//EJT268//080523\n",
      "Z:/projects/sequence_squad/organised_data/animals//recording5_05-08-2023/video/tracking//\n",
      "recording6_05-09-2023\n",
      "Z:/projects/sequence_squad/data/video_data/dlc/tracking//EJT268//090523\n",
      "Z:/projects/sequence_squad/organised_data/animals//recording6_05-09-2023/video/tracking//\n",
      "recording7_05-10-2023\n",
      "Z:/projects/sequence_squad/data/video_data/dlc/tracking//EJT268//100523\n",
      "Z:/projects/sequence_squad/organised_data/animals//recording7_05-10-2023/video/tracking//\n",
      "recording8_05-11-2023\n",
      "Z:/projects/sequence_squad/data/video_data/dlc/tracking//EJT268//110523\n",
      "Z:/projects/sequence_squad/organised_data/animals//recording8_05-11-2023/video/tracking//\n",
      "recording9_05-12-2023\n",
      "Z:/projects/sequence_squad/data/video_data/dlc/tracking//EJT268//120523\n",
      "Z:/projects/sequence_squad/organised_data/animals//recording9_05-12-2023/video/tracking//\n",
      "EJT269_implant1\n",
      "recording1_05-13-2023\n",
      "Z:/projects/sequence_squad/data/video_data/dlc/tracking//EJT269//130523\n",
      "Z:/projects/sequence_squad/organised_data/animals//recording1_05-13-2023/video/tracking//\n",
      "recording2_05-15-2023\n",
      "Z:/projects/sequence_squad/data/video_data/dlc/tracking//EJT269//150523\n",
      "Z:/projects/sequence_squad/organised_data/animals//recording2_05-15-2023/video/tracking//\n",
      "recording3_05-16-2023\n",
      "Z:/projects/sequence_squad/data/video_data/dlc/tracking//EJT269//160523\n",
      "Z:/projects/sequence_squad/organised_data/animals//recording3_05-16-2023/video/tracking//\n",
      "recording4_05-18-2023\n",
      "Z:/projects/sequence_squad/data/video_data/dlc/tracking//EJT269//180523\n",
      "Z:/projects/sequence_squad/organised_data/animals//recording4_05-18-2023/video/tracking//\n",
      "recording5_05-19-2023\n",
      "Z:/projects/sequence_squad/data/video_data/dlc/tracking//EJT269//190523\n",
      "Z:/projects/sequence_squad/organised_data/animals//recording5_05-19-2023/video/tracking//\n",
      "recording6_05-21-2023\n",
      "Z:/projects/sequence_squad/data/video_data/dlc/tracking//EJT269//210523\n",
      "Z:/projects/sequence_squad/organised_data/animals//recording6_05-21-2023/video/tracking//\n",
      "recording7_05-23-2023\n",
      "Z:/projects/sequence_squad/data/video_data/dlc/tracking//EJT269//230523\n",
      "Z:/projects/sequence_squad/organised_data/animals//recording7_05-23-2023/video/tracking//\n",
      "EJT270_implant1\n",
      "recording1_05-10-2023\n",
      "Z:/projects/sequence_squad/data/video_data/dlc/tracking//EJT270//100523\n",
      "Z:/projects/sequence_squad/organised_data/animals//recording1_05-10-2023/video/tracking//\n",
      "recording2_05-12-2023\n",
      "Z:/projects/sequence_squad/data/video_data/dlc/tracking//EJT270//120523\n",
      "Z:/projects/sequence_squad/organised_data/animals//recording2_05-12-2023/video/tracking//\n",
      "recording3_05-14-2023\n",
      "Z:/projects/sequence_squad/data/video_data/dlc/tracking//EJT270//140523\n",
      "Z:/projects/sequence_squad/organised_data/animals//recording3_05-14-2023/video/tracking//\n",
      "recording4_05-16-2023\n",
      "Z:/projects/sequence_squad/data/video_data/dlc/tracking//EJT270//160523\n",
      "Z:/projects/sequence_squad/organised_data/animals//recording4_05-16-2023/video/tracking//\n",
      "recording5_05-17-2023\n",
      "Z:/projects/sequence_squad/data/video_data/dlc/tracking//EJT270//170523\n",
      "Z:/projects/sequence_squad/organised_data/animals//recording5_05-17-2023/video/tracking//\n",
      "recording6_05-19-2023\n",
      "Z:/projects/sequence_squad/data/video_data/dlc/tracking//EJT270//190523\n",
      "Z:/projects/sequence_squad/organised_data/animals//recording6_05-19-2023/video/tracking//\n",
      "recording7_05-20-2023\n",
      "Z:/projects/sequence_squad/data/video_data/dlc/tracking//EJT270//200523\n",
      "Z:/projects/sequence_squad/organised_data/animals//recording7_05-20-2023/video/tracking//\n",
      "all done\n"
     ]
    }
   ],
   "source": [
    "tracking_path = r\"/ceph/sjones/projects/sequence_squad/data/video_data/dlc/tracking//\"\n",
    "dir_path = r\"/ceph/sjones/projects/sequence_squad/organised_data/animals//\"\n",
    "\n",
    "animals = ['EJT255_implant1','EJT256_implant1','EJT262_implant1','EJT268_implant1','EJT269_implant1','EJT270_implant1']\n",
    "import os\n",
    "import shutil\n",
    "for animal in animals:\n",
    "    print(animal)\n",
    "    mouse_path = dir_path + animal\n",
    "    for recording in os.listdir(mouse_path):\n",
    "        if 'recording' in recording:\n",
    "            print(recording)\n",
    "            destination_directory = dir_path+ recording + r'/video/tracking//'\n",
    "            dates_break = recording.split('_')[1].split('-')\n",
    "            source_directory = tracking_path + animal.split('_')[0] + '//' + dates_break[1]+dates_break[0]+(dates_break[-1][-2::])\n",
    "            # Copy the file\n",
    "            print(source_directory)\n",
    "            print(destination_directory)\n",
    "            shutil.copytree(source_directory, destination_directory)\n",
    "\n",
    "print('all done')"
   ]
  },
  {
   "cell_type": "code",
   "execution_count": 180,
   "id": "bbe35160",
   "metadata": {},
   "outputs": [
    {
     "data": {
      "text/plain": [
       "'Z:/projects/sequence_squad/organised_data/animals//EJT270_implant1'"
      ]
     },
     "execution_count": 180,
     "metadata": {},
     "output_type": "execute_result"
    }
   ],
   "source": [
    "mouse_path"
   ]
  },
  {
   "cell_type": "code",
   "execution_count": null,
   "id": "08c2b90b",
   "metadata": {},
   "outputs": [],
   "source": []
  },
  {
   "cell_type": "code",
   "execution_count": null,
   "id": "e35b1ed9",
   "metadata": {},
   "outputs": [],
   "source": []
  },
  {
   "cell_type": "code",
   "execution_count": null,
   "id": "b35f25c3",
   "metadata": {},
   "outputs": [],
   "source": []
  },
  {
   "cell_type": "code",
   "execution_count": 65,
   "id": "db8994a9",
   "metadata": {},
   "outputs": [
    {
     "data": {
      "text/plain": [
       "['amplitudes.npy',\n",
       " 'channel_map.npy',\n",
       " 'channel_positions.npy',\n",
       " 'cluster_Amplitude.tsv',\n",
       " 'cluster_ContamPct.tsv',\n",
       " 'cluster_group.tsv',\n",
       " 'cluster_KSLabel.tsv',\n",
       " 'params.py',\n",
       " 'similar_templates.npy',\n",
       " 'spike_clusters.npy',\n",
       " 'spike_templates.npy',\n",
       " 'spike_times.npy',\n",
       " 'templates.npy',\n",
       " 'templates_ind.npy',\n",
       " 'temp_wh.dat',\n",
       " 'whitening_mat.npy',\n",
       " 'whitening_mat_inv.npy']"
      ]
     },
     "execution_count": 65,
     "metadata": {},
     "output_type": "execute_result"
    }
   ],
   "source": [
    "os.listdir('Z://projects/sequence_squad/data\\\\kilosort_output//EJT255/Recording1\\\\kilosort3')"
   ]
  },
  {
   "cell_type": "code",
   "execution_count": 58,
   "id": "26fc7688",
   "metadata": {},
   "outputs": [
    {
     "data": {
      "text/plain": [
       "'Z:\\\\projects\\\\sequence_squad\\\\data\\\\kilosort_output\\\\\\\\EJT255/Recording1\\\\kilosort3'"
      ]
     },
     "execution_count": 58,
     "metadata": {},
     "output_type": "execute_result"
    }
   ],
   "source": [
    "os.path.join(ksort_path,animal.split('_')[0]) + '/R' + recording.split('_')[0][1::] + '\\kilosort3'"
   ]
  },
  {
   "cell_type": "code",
   "execution_count": 68,
   "id": "3f0a0d9e",
   "metadata": {},
   "outputs": [
    {
     "ename": "AttributeError",
     "evalue": "module 'os' has no attribute 'direxists'",
     "output_type": "error",
     "traceback": [
      "\u001b[1;31m---------------------------------------------------------------------------\u001b[0m",
      "\u001b[1;31mAttributeError\u001b[0m                            Traceback (most recent call last)",
      "Cell \u001b[1;32mIn[68], line 1\u001b[0m\n\u001b[1;32m----> 1\u001b[0m \u001b[43mos\u001b[49m\u001b[38;5;241;43m.\u001b[39;49m\u001b[43mdirexists\u001b[49m(os\u001b[38;5;241m.\u001b[39mpath\u001b[38;5;241m.\u001b[39mjoin(ksort_path,animal\u001b[38;5;241m.\u001b[39msplit(\u001b[38;5;124m'\u001b[39m\u001b[38;5;124m_\u001b[39m\u001b[38;5;124m'\u001b[39m)[\u001b[38;5;241m0\u001b[39m]) \u001b[38;5;241m+\u001b[39m \u001b[38;5;124m'\u001b[39m\u001b[38;5;124m/R\u001b[39m\u001b[38;5;124m'\u001b[39m \u001b[38;5;241m+\u001b[39m recording\u001b[38;5;241m.\u001b[39msplit(\u001b[38;5;124m'\u001b[39m\u001b[38;5;124m_\u001b[39m\u001b[38;5;124m'\u001b[39m)[\u001b[38;5;241m0\u001b[39m][\u001b[38;5;241m1\u001b[39m::] \u001b[38;5;241m+\u001b[39m \u001b[38;5;124m'\u001b[39m\u001b[38;5;124m\\\u001b[39m\u001b[38;5;124mkilosort3\u001b[39m\u001b[38;5;124m'\u001b[39m)\n",
      "\u001b[1;31mAttributeError\u001b[0m: module 'os' has no attribute 'direxists'"
     ]
    }
   ],
   "source": [
    "os.direxists(os.path.join(ksort_path,animal.split('_')[0]) + '/R' + recording.split('_')[0][1::] + '\\kilosort3')"
   ]
  },
  {
   "cell_type": "code",
   "execution_count": 50,
   "id": "a3494e18",
   "metadata": {},
   "outputs": [
    {
     "name": "stdout",
     "output_type": "stream",
     "text": [
      "EJT255_implant1\n",
      "recording1_04-14-2023\n"
     ]
    },
    {
     "ename": "PermissionError",
     "evalue": "[Errno 13] Permission denied: 'Z:\\\\projects\\\\sequence_squad\\\\data\\\\kilosort_output\\\\\\\\EJT255\\\\Recording1\\\\kilosort3'",
     "output_type": "error",
     "traceback": [
      "\u001b[1;31m---------------------------------------------------------------------------\u001b[0m",
      "\u001b[1;31mPermissionError\u001b[0m                           Traceback (most recent call last)",
      "Cell \u001b[1;32mIn[50], line 11\u001b[0m\n\u001b[0;32m      9\u001b[0m source_directory \u001b[38;5;241m=\u001b[39m ksort_path \u001b[38;5;241m+\u001b[39m animal\u001b[38;5;241m.\u001b[39msplit(\u001b[38;5;124m'\u001b[39m\u001b[38;5;124m_\u001b[39m\u001b[38;5;124m'\u001b[39m)[\u001b[38;5;241m0\u001b[39m] \u001b[38;5;241m+\u001b[39m \u001b[38;5;124m'\u001b[39m\u001b[38;5;130;01m\\\\\u001b[39;00m\u001b[38;5;124mR\u001b[39m\u001b[38;5;124m'\u001b[39m \u001b[38;5;241m+\u001b[39m recording\u001b[38;5;241m.\u001b[39msplit(\u001b[38;5;124m'\u001b[39m\u001b[38;5;124m_\u001b[39m\u001b[38;5;124m'\u001b[39m)[\u001b[38;5;241m0\u001b[39m][\u001b[38;5;241m1\u001b[39m::] \u001b[38;5;241m+\u001b[39m \u001b[38;5;124m'\u001b[39m\u001b[38;5;124m\\\u001b[39m\u001b[38;5;124mkilosort3\u001b[39m\u001b[38;5;124m'\u001b[39m\n\u001b[0;32m     10\u001b[0m \u001b[38;5;66;03m# Copy the file\u001b[39;00m\n\u001b[1;32m---> 11\u001b[0m \u001b[43mshutil\u001b[49m\u001b[38;5;241;43m.\u001b[39;49m\u001b[43mcopy\u001b[49m\u001b[43m(\u001b[49m\u001b[43msource_directory\u001b[49m\u001b[43m,\u001b[49m\u001b[43m \u001b[49m\u001b[43mdestination_directory\u001b[49m\u001b[43m)\u001b[49m\n",
      "File \u001b[1;32m~\\anaconda3\\lib\\shutil.py:418\u001b[0m, in \u001b[0;36mcopy\u001b[1;34m(src, dst, follow_symlinks)\u001b[0m\n\u001b[0;32m    416\u001b[0m \u001b[38;5;28;01mif\u001b[39;00m os\u001b[38;5;241m.\u001b[39mpath\u001b[38;5;241m.\u001b[39misdir(dst):\n\u001b[0;32m    417\u001b[0m     dst \u001b[38;5;241m=\u001b[39m os\u001b[38;5;241m.\u001b[39mpath\u001b[38;5;241m.\u001b[39mjoin(dst, os\u001b[38;5;241m.\u001b[39mpath\u001b[38;5;241m.\u001b[39mbasename(src))\n\u001b[1;32m--> 418\u001b[0m \u001b[43mcopyfile\u001b[49m\u001b[43m(\u001b[49m\u001b[43msrc\u001b[49m\u001b[43m,\u001b[49m\u001b[43m \u001b[49m\u001b[43mdst\u001b[49m\u001b[43m,\u001b[49m\u001b[43m \u001b[49m\u001b[43mfollow_symlinks\u001b[49m\u001b[38;5;241;43m=\u001b[39;49m\u001b[43mfollow_symlinks\u001b[49m\u001b[43m)\u001b[49m\n\u001b[0;32m    419\u001b[0m copymode(src, dst, follow_symlinks\u001b[38;5;241m=\u001b[39mfollow_symlinks)\n\u001b[0;32m    420\u001b[0m \u001b[38;5;28;01mreturn\u001b[39;00m dst\n",
      "File \u001b[1;32m~\\anaconda3\\lib\\shutil.py:264\u001b[0m, in \u001b[0;36mcopyfile\u001b[1;34m(src, dst, follow_symlinks)\u001b[0m\n\u001b[0;32m    262\u001b[0m     os\u001b[38;5;241m.\u001b[39msymlink(os\u001b[38;5;241m.\u001b[39mreadlink(src), dst)\n\u001b[0;32m    263\u001b[0m \u001b[38;5;28;01melse\u001b[39;00m:\n\u001b[1;32m--> 264\u001b[0m     \u001b[38;5;28;01mwith\u001b[39;00m \u001b[38;5;28;43mopen\u001b[39;49m\u001b[43m(\u001b[49m\u001b[43msrc\u001b[49m\u001b[43m,\u001b[49m\u001b[43m \u001b[49m\u001b[38;5;124;43m'\u001b[39;49m\u001b[38;5;124;43mrb\u001b[39;49m\u001b[38;5;124;43m'\u001b[39;49m\u001b[43m)\u001b[49m \u001b[38;5;28;01mas\u001b[39;00m fsrc, \u001b[38;5;28mopen\u001b[39m(dst, \u001b[38;5;124m'\u001b[39m\u001b[38;5;124mwb\u001b[39m\u001b[38;5;124m'\u001b[39m) \u001b[38;5;28;01mas\u001b[39;00m fdst:\n\u001b[0;32m    265\u001b[0m         \u001b[38;5;66;03m# macOS\u001b[39;00m\n\u001b[0;32m    266\u001b[0m         \u001b[38;5;28;01mif\u001b[39;00m _HAS_FCOPYFILE:\n\u001b[0;32m    267\u001b[0m             \u001b[38;5;28;01mtry\u001b[39;00m:\n",
      "\u001b[1;31mPermissionError\u001b[0m: [Errno 13] Permission denied: 'Z:\\\\projects\\\\sequence_squad\\\\data\\\\kilosort_output\\\\\\\\EJT255\\\\Recording1\\\\kilosort3'"
     ]
    }
   ],
   "source": [
    "## loop across animals \n",
    "import os\n",
    "import shutil\n",
    "\n",
    "dir_path = r\"\\ceph\\sjones\\projects\\sequence_squad\\organised_data\\animals\\\\\"\n",
    "ksort_path = r\"\\ceph\\sjones\\projects\\sequence_squad\\data\\kilosort_output\\\\\"\n",
    "\n",
    "animals = ['EJT255_implant1','EJT262_implant1','EJT268_implant1','EJT269_implant1','EJT270_implant1']\n",
    "\n",
    "for animal in animals:\n",
    "    print(animal)\n",
    "    mouse_path = dir_path + animal\n",
    "    for recording in os.listdir(mouse_path):\n",
    "        print(recording)\n",
    "        destination_directory = os.path.join(mouse_path,recording) + '\\\\' + 'ephys\\\\'\n",
    "        source_directory = ksort_path + animal.split('_')[0] + '\\\\R' + recording.split('_')[0][1::] + '\\kilosort3'\n",
    "        # Copy the file\n",
    "        shutil.copy(source_directory, destination_directory)\n"
   ]
  },
  {
   "cell_type": "code",
   "execution_count": 41,
   "id": "99788add",
   "metadata": {},
   "outputs": [
    {
     "data": {
      "text/plain": [
       "'Z:\\\\projects\\\\sequence_squad\\\\data\\\\kilosort_output\\\\\\\\EJT255\\\\Recording1\\\\kilosort3\\\\'"
      ]
     },
     "execution_count": 41,
     "metadata": {},
     "output_type": "execute_result"
    }
   ],
   "source": [
    "source_directory"
   ]
  },
  {
   "cell_type": "code",
   "execution_count": 170,
   "id": "8f8fe391",
   "metadata": {},
   "outputs": [
    {
     "name": "stdout",
     "output_type": "stream",
     "text": [
      "EJT255_implant1\n",
      "recording1_04-14-2023\n"
     ]
    },
    {
     "ename": "PermissionError",
     "evalue": "[Errno 13] Permission denied: 'Z:\\\\projects\\\\sequence_squad\\\\data\\\\video_data\\\\dlc\\\\tracking\\\\\\\\EJT255\\\\140423'",
     "output_type": "error",
     "traceback": [
      "\u001b[1;31m---------------------------------------------------------------------------\u001b[0m",
      "\u001b[1;31mPermissionError\u001b[0m                           Traceback (most recent call last)",
      "Cell \u001b[1;32mIn[170], line 15\u001b[0m\n\u001b[0;32m     13\u001b[0m         source_directory \u001b[38;5;241m=\u001b[39m tracking_path \u001b[38;5;241m+\u001b[39m animal\u001b[38;5;241m.\u001b[39msplit(\u001b[38;5;124m'\u001b[39m\u001b[38;5;124m_\u001b[39m\u001b[38;5;124m'\u001b[39m)[\u001b[38;5;241m0\u001b[39m] \u001b[38;5;241m+\u001b[39m \u001b[38;5;124m'\u001b[39m\u001b[38;5;130;01m\\\\\u001b[39;00m\u001b[38;5;124m'\u001b[39m \u001b[38;5;241m+\u001b[39m dates_break[\u001b[38;5;241m1\u001b[39m]\u001b[38;5;241m+\u001b[39mdates_break[\u001b[38;5;241m0\u001b[39m]\u001b[38;5;241m+\u001b[39m(dates_break[\u001b[38;5;241m-\u001b[39m\u001b[38;5;241m1\u001b[39m][\u001b[38;5;241m-\u001b[39m\u001b[38;5;241m2\u001b[39m::])\n\u001b[0;32m     14\u001b[0m         \u001b[38;5;66;03m# Copy the file\u001b[39;00m\n\u001b[1;32m---> 15\u001b[0m         \u001b[43mshutil\u001b[49m\u001b[38;5;241;43m.\u001b[39;49m\u001b[43mcopy\u001b[49m\u001b[43m(\u001b[49m\u001b[43msource_directory\u001b[49m\u001b[43m,\u001b[49m\u001b[43m \u001b[49m\u001b[43mdestination_directory\u001b[49m\u001b[43m)\u001b[49m\n\u001b[0;32m     17\u001b[0m \u001b[38;5;28mprint\u001b[39m(\u001b[38;5;124m'\u001b[39m\u001b[38;5;124mall done\u001b[39m\u001b[38;5;124m'\u001b[39m)\n",
      "File \u001b[1;32m~\\anaconda3\\lib\\shutil.py:418\u001b[0m, in \u001b[0;36mcopy\u001b[1;34m(src, dst, follow_symlinks)\u001b[0m\n\u001b[0;32m    416\u001b[0m \u001b[38;5;28;01mif\u001b[39;00m os\u001b[38;5;241m.\u001b[39mpath\u001b[38;5;241m.\u001b[39misdir(dst):\n\u001b[0;32m    417\u001b[0m     dst \u001b[38;5;241m=\u001b[39m os\u001b[38;5;241m.\u001b[39mpath\u001b[38;5;241m.\u001b[39mjoin(dst, os\u001b[38;5;241m.\u001b[39mpath\u001b[38;5;241m.\u001b[39mbasename(src))\n\u001b[1;32m--> 418\u001b[0m \u001b[43mcopyfile\u001b[49m\u001b[43m(\u001b[49m\u001b[43msrc\u001b[49m\u001b[43m,\u001b[49m\u001b[43m \u001b[49m\u001b[43mdst\u001b[49m\u001b[43m,\u001b[49m\u001b[43m \u001b[49m\u001b[43mfollow_symlinks\u001b[49m\u001b[38;5;241;43m=\u001b[39;49m\u001b[43mfollow_symlinks\u001b[49m\u001b[43m)\u001b[49m\n\u001b[0;32m    419\u001b[0m copymode(src, dst, follow_symlinks\u001b[38;5;241m=\u001b[39mfollow_symlinks)\n\u001b[0;32m    420\u001b[0m \u001b[38;5;28;01mreturn\u001b[39;00m dst\n",
      "File \u001b[1;32m~\\anaconda3\\lib\\shutil.py:264\u001b[0m, in \u001b[0;36mcopyfile\u001b[1;34m(src, dst, follow_symlinks)\u001b[0m\n\u001b[0;32m    262\u001b[0m     os\u001b[38;5;241m.\u001b[39msymlink(os\u001b[38;5;241m.\u001b[39mreadlink(src), dst)\n\u001b[0;32m    263\u001b[0m \u001b[38;5;28;01melse\u001b[39;00m:\n\u001b[1;32m--> 264\u001b[0m     \u001b[38;5;28;01mwith\u001b[39;00m \u001b[38;5;28;43mopen\u001b[39;49m\u001b[43m(\u001b[49m\u001b[43msrc\u001b[49m\u001b[43m,\u001b[49m\u001b[43m \u001b[49m\u001b[38;5;124;43m'\u001b[39;49m\u001b[38;5;124;43mrb\u001b[39;49m\u001b[38;5;124;43m'\u001b[39;49m\u001b[43m)\u001b[49m \u001b[38;5;28;01mas\u001b[39;00m fsrc, \u001b[38;5;28mopen\u001b[39m(dst, \u001b[38;5;124m'\u001b[39m\u001b[38;5;124mwb\u001b[39m\u001b[38;5;124m'\u001b[39m) \u001b[38;5;28;01mas\u001b[39;00m fdst:\n\u001b[0;32m    265\u001b[0m         \u001b[38;5;66;03m# macOS\u001b[39;00m\n\u001b[0;32m    266\u001b[0m         \u001b[38;5;28;01mif\u001b[39;00m _HAS_FCOPYFILE:\n\u001b[0;32m    267\u001b[0m             \u001b[38;5;28;01mtry\u001b[39;00m:\n",
      "\u001b[1;31mPermissionError\u001b[0m: [Errno 13] Permission denied: 'Z:\\\\projects\\\\sequence_squad\\\\data\\\\video_data\\\\dlc\\\\tracking\\\\\\\\EJT255\\\\140423'"
     ]
    }
   ],
   "source": [
    "tracking_path = r\"Z:\\projects\\sequence_squad\\data\\video_data\\dlc\\tracking\\\\\"\n",
    "dir_path = r\"Z:\\projects\\sequence_squad\\organised_data\\animals\\\\\"\n",
    "\n",
    "animals = ['EJT255_implant1','EJT256_implant1','EJT262_implant1','EJT268_implant1','EJT269_implant1','EJT270_implant1']\n",
    "\n",
    "for animal in animals:\n",
    "    print(animal)\n",
    "    mouse_path = dir_path + animal\n",
    "    for recording in os.listdir(mouse_path):\n",
    "        print(recording)\n",
    "        destination_directory = dir_path + recording + r'\\video\\tracking\\\\'\n",
    "        dates_break = recording.split('_')[1].split('-')\n",
    "        source_directory = tracking_path + animal.split('_')[0] + '\\\\' + dates_break[1]+dates_break[0]+(dates_break[-1][-2::])\n",
    "        # Copy the file\n",
    "        shutil.copy(source_directory, destination_directory)\n",
    "        \n",
    "print('all done')\n",
    "        "
   ]
  },
  {
   "cell_type": "code",
   "execution_count": 171,
   "id": "32b4049a",
   "metadata": {},
   "outputs": [
    {
     "name": "stdout",
     "output_type": "stream",
     "text": [
      "EJT255_implant1\n"
     ]
    },
    {
     "ename": "FileNotFoundError",
     "evalue": "[WinError 3] The system cannot find the path specified: '/ceph/sjones/projects/sequence_squad/organised_data/animals//EJT255_implant1'",
     "output_type": "error",
     "traceback": [
      "\u001b[1;31m---------------------------------------------------------------------------\u001b[0m",
      "\u001b[1;31mFileNotFoundError\u001b[0m                         Traceback (most recent call last)",
      "Cell \u001b[1;32mIn[171], line 9\u001b[0m\n\u001b[0;32m      7\u001b[0m \u001b[38;5;28mprint\u001b[39m(animal)\n\u001b[0;32m      8\u001b[0m mouse_path \u001b[38;5;241m=\u001b[39m dir_path \u001b[38;5;241m+\u001b[39m animal\n\u001b[1;32m----> 9\u001b[0m \u001b[38;5;28;01mfor\u001b[39;00m recording \u001b[38;5;129;01min\u001b[39;00m \u001b[43mos\u001b[49m\u001b[38;5;241;43m.\u001b[39;49m\u001b[43mlistdir\u001b[49m\u001b[43m(\u001b[49m\u001b[43mmouse_path\u001b[49m\u001b[43m)\u001b[49m:\n\u001b[0;32m     10\u001b[0m     \u001b[38;5;28mprint\u001b[39m(recording)\n\u001b[0;32m     11\u001b[0m     destination_directory \u001b[38;5;241m=\u001b[39m dir_path \u001b[38;5;241m+\u001b[39m recording \u001b[38;5;241m+\u001b[39m \u001b[38;5;124mr\u001b[39m\u001b[38;5;124m'\u001b[39m\u001b[38;5;124m/video/tracking//\u001b[39m\u001b[38;5;124m'\u001b[39m\n",
      "\u001b[1;31mFileNotFoundError\u001b[0m: [WinError 3] The system cannot find the path specified: '/ceph/sjones/projects/sequence_squad/organised_data/animals//EJT255_implant1'"
     ]
    }
   ],
   "source": [
    "tracking_path = r\"/ceph/sjones/projects/sequence_squad/data/video_data/dlc/tracking//\"\n",
    "dir_path = r\"/ceph/sjones/projects/sequence_squad/organised_data/animals//\"\n",
    "\n",
    "animals = ['EJT255_implant1','EJT256_implant1','EJT262_implant1','EJT268_implant1','EJT269_implant1','EJT270_implant1']\n",
    "\n",
    "for animal in animals:\n",
    "    print(animal)\n",
    "    mouse_path = dir_path + animal\n",
    "    for recording in os.listdir(mouse_path):\n",
    "        print(recording)\n",
    "        destination_directory = dir_path + recording + r'/video/tracking//'\n",
    "        dates_break = recording.split('_')[1].split('-')\n",
    "        source_directory = tracking_path + animal.split('_')[0] + '//' + dates_break[1]+dates_break[0]+(dates_break[-1][-2::])\n",
    "        # Copy the file\n",
    "        shutil.copy(source_directory, destination_directory)\n",
    "        \n",
    "print('all done')\n",
    "        "
   ]
  },
  {
   "cell_type": "code",
   "execution_count": 168,
   "id": "10671be4",
   "metadata": {},
   "outputs": [
    {
     "data": {
      "text/plain": [
       "'recording1_04-14-2023'"
      ]
     },
     "execution_count": 168,
     "metadata": {},
     "output_type": "execute_result"
    }
   ],
   "source": [
    "recording"
   ]
  },
  {
   "cell_type": "code",
   "execution_count": 156,
   "id": "e2acff42",
   "metadata": {},
   "outputs": [],
   "source": []
  },
  {
   "cell_type": "code",
   "execution_count": 161,
   "id": "1f54a807",
   "metadata": {},
   "outputs": [
    {
     "data": {
      "text/plain": [
       "'200520'"
      ]
     },
     "execution_count": 161,
     "metadata": {},
     "output_type": "execute_result"
    }
   ],
   "source": [
    "dates_break[1]+dates_break[0]+(dates_break[-1][0:2])"
   ]
  },
  {
   "cell_type": "code",
   "execution_count": null,
   "id": "cfddb945",
   "metadata": {},
   "outputs": [],
   "source": [
    "## loop across animals \n",
    "import os\n",
    "import shutil\n",
    "\n",
    "\n",
    "ksort_path = r\"\\ceph\\sjones\\projects\\sequence_squad\\data\\kilosort_output\\\\\"\n",
    "\n",
    "\n",
    "\n",
    "for animal in animals:\n",
    "    print(animal)\n",
    "    mouse_path = dir_path + animal\n",
    "    for recording in os.listdir(mouse_path):\n",
    "        print(recording)\n",
    "        destination_directory = os.path.join(mouse_path,recording) + '\\\\' + 'ephys\\\\'\n",
    "        source_directory = ksort_path + animal.split('_')[0] + '\\\\R' + recording.split('_')[0][1::] + '\\kilosort3'\n",
    "        # Copy the file\n",
    "        shutil.copy(source_directory, destination_directory)"
   ]
  },
  {
   "cell_type": "code",
   "execution_count": null,
   "id": "497fd46c",
   "metadata": {},
   "outputs": [],
   "source": []
  },
  {
   "cell_type": "code",
   "execution_count": 34,
   "id": "92523470",
   "metadata": {},
   "outputs": [
    {
     "data": {
      "text/plain": [
       "'Z:\\\\projects\\\\sequence_squad\\\\organised_data\\\\animals\\\\\\\\EJT255_implant1\\\\recording1_04-14-2023\\\\ephys'"
      ]
     },
     "execution_count": 34,
     "metadata": {},
     "output_type": "execute_result"
    }
   ],
   "source": [
    "destination_directory"
   ]
  },
  {
   "cell_type": "code",
   "execution_count": 36,
   "id": "990f4908",
   "metadata": {},
   "outputs": [
    {
     "data": {
      "text/plain": [
       "'Z:\\\\projects\\\\sequence_squad\\\\data\\\\kilosort_output\\\\\\\\EJT255\\\\recording1\\\\kilosort3'"
      ]
     },
     "execution_count": 36,
     "metadata": {},
     "output_type": "execute_result"
    }
   ],
   "source": [
    "source_directory"
   ]
  },
  {
   "cell_type": "code",
   "execution_count": 19,
   "id": "886499fd",
   "metadata": {},
   "outputs": [
    {
     "data": {
      "text/plain": [
       "'Z:\\\\projects\\\\sequence_squad\\\\organised_data\\\\animals\\\\\\\\EJT270_implant1\\\\recording7_05-20-2023\\\\ephys'"
      ]
     },
     "execution_count": 19,
     "metadata": {},
     "output_type": "execute_result"
    }
   ],
   "source": [
    "destination_directory"
   ]
  },
  {
   "cell_type": "code",
   "execution_count": null,
   "id": "e7fe98c4",
   "metadata": {},
   "outputs": [],
   "source": []
  },
  {
   "cell_type": "code",
   "execution_count": 77,
   "id": "ac0e416f",
   "metadata": {},
   "outputs": [
    {
     "data": {
      "text/plain": [
       "'Z:\\\\\\\\projects\\\\sequence_squad\\\\organised_data\\\\animals\\\\\\\\EJT255_implant1//recording1_04-14-2023//video/videos//'"
      ]
     },
     "execution_count": 77,
     "metadata": {},
     "output_type": "execute_result"
    }
   ],
   "source": [
    "destination_directory"
   ]
  },
  {
   "cell_type": "code",
   "execution_count": null,
   "id": "88847221",
   "metadata": {},
   "outputs": [],
   "source": [
    "Z:\\projects\\sequence_squad\\data\\video_data\\raw_flycap"
   ]
  },
  {
   "cell_type": "code",
   "execution_count": 100,
   "id": "93f1dc8a",
   "metadata": {},
   "outputs": [
    {
     "name": "stdout",
     "output_type": "stream",
     "text": [
      "EJT255_implant1\n",
      "recording1_04-14-2023\n"
     ]
    },
    {
     "ename": "KeyboardInterrupt",
     "evalue": "",
     "output_type": "error",
     "traceback": [
      "\u001b[1;31m---------------------------------------------------------------------------\u001b[0m",
      "\u001b[1;31mKeyboardInterrupt\u001b[0m                         Traceback (most recent call last)",
      "Cell \u001b[1;32mIn[100], line 28\u001b[0m\n\u001b[0;32m     26\u001b[0m     shutil\u001b[38;5;241m.\u001b[39mrmtree(destination_directory)\n\u001b[0;32m     27\u001b[0m \u001b[38;5;66;03m# Copy the file\u001b[39;00m\n\u001b[1;32m---> 28\u001b[0m \u001b[43mshutil\u001b[49m\u001b[38;5;241;43m.\u001b[39;49m\u001b[43mcopytree\u001b[49m\u001b[43m(\u001b[49m\u001b[43msource_directory\u001b[49m\u001b[43m,\u001b[49m\u001b[43m \u001b[49m\u001b[43mdestination_directory\u001b[49m\u001b[43m)\u001b[49m\n",
      "File \u001b[1;32m~\\anaconda3\\lib\\shutil.py:557\u001b[0m, in \u001b[0;36mcopytree\u001b[1;34m(src, dst, symlinks, ignore, copy_function, ignore_dangling_symlinks, dirs_exist_ok)\u001b[0m\n\u001b[0;32m    555\u001b[0m \u001b[38;5;28;01mwith\u001b[39;00m os\u001b[38;5;241m.\u001b[39mscandir(src) \u001b[38;5;28;01mas\u001b[39;00m itr:\n\u001b[0;32m    556\u001b[0m     entries \u001b[38;5;241m=\u001b[39m \u001b[38;5;28mlist\u001b[39m(itr)\n\u001b[1;32m--> 557\u001b[0m \u001b[38;5;28;01mreturn\u001b[39;00m \u001b[43m_copytree\u001b[49m\u001b[43m(\u001b[49m\u001b[43mentries\u001b[49m\u001b[38;5;241;43m=\u001b[39;49m\u001b[43mentries\u001b[49m\u001b[43m,\u001b[49m\u001b[43m \u001b[49m\u001b[43msrc\u001b[49m\u001b[38;5;241;43m=\u001b[39;49m\u001b[43msrc\u001b[49m\u001b[43m,\u001b[49m\u001b[43m \u001b[49m\u001b[43mdst\u001b[49m\u001b[38;5;241;43m=\u001b[39;49m\u001b[43mdst\u001b[49m\u001b[43m,\u001b[49m\u001b[43m \u001b[49m\u001b[43msymlinks\u001b[49m\u001b[38;5;241;43m=\u001b[39;49m\u001b[43msymlinks\u001b[49m\u001b[43m,\u001b[49m\n\u001b[0;32m    558\u001b[0m \u001b[43m                 \u001b[49m\u001b[43mignore\u001b[49m\u001b[38;5;241;43m=\u001b[39;49m\u001b[43mignore\u001b[49m\u001b[43m,\u001b[49m\u001b[43m \u001b[49m\u001b[43mcopy_function\u001b[49m\u001b[38;5;241;43m=\u001b[39;49m\u001b[43mcopy_function\u001b[49m\u001b[43m,\u001b[49m\n\u001b[0;32m    559\u001b[0m \u001b[43m                 \u001b[49m\u001b[43mignore_dangling_symlinks\u001b[49m\u001b[38;5;241;43m=\u001b[39;49m\u001b[43mignore_dangling_symlinks\u001b[49m\u001b[43m,\u001b[49m\n\u001b[0;32m    560\u001b[0m \u001b[43m                 \u001b[49m\u001b[43mdirs_exist_ok\u001b[49m\u001b[38;5;241;43m=\u001b[39;49m\u001b[43mdirs_exist_ok\u001b[49m\u001b[43m)\u001b[49m\n",
      "File \u001b[1;32m~\\anaconda3\\lib\\shutil.py:495\u001b[0m, in \u001b[0;36m_copytree\u001b[1;34m(entries, src, dst, symlinks, ignore, copy_function, ignore_dangling_symlinks, dirs_exist_ok)\u001b[0m\n\u001b[0;32m    493\u001b[0m             copy_function(srcobj, dstname)\n\u001b[0;32m    494\u001b[0m \u001b[38;5;28;01melif\u001b[39;00m srcentry\u001b[38;5;241m.\u001b[39mis_dir():\n\u001b[1;32m--> 495\u001b[0m     \u001b[43mcopytree\u001b[49m\u001b[43m(\u001b[49m\u001b[43msrcobj\u001b[49m\u001b[43m,\u001b[49m\u001b[43m \u001b[49m\u001b[43mdstname\u001b[49m\u001b[43m,\u001b[49m\u001b[43m \u001b[49m\u001b[43msymlinks\u001b[49m\u001b[43m,\u001b[49m\u001b[43m \u001b[49m\u001b[43mignore\u001b[49m\u001b[43m,\u001b[49m\u001b[43m \u001b[49m\u001b[43mcopy_function\u001b[49m\u001b[43m,\u001b[49m\n\u001b[0;32m    496\u001b[0m \u001b[43m             \u001b[49m\u001b[43mdirs_exist_ok\u001b[49m\u001b[38;5;241;43m=\u001b[39;49m\u001b[43mdirs_exist_ok\u001b[49m\u001b[43m)\u001b[49m\n\u001b[0;32m    497\u001b[0m \u001b[38;5;28;01melse\u001b[39;00m:\n\u001b[0;32m    498\u001b[0m     \u001b[38;5;66;03m# Will raise a SpecialFileError for unsupported file types\u001b[39;00m\n\u001b[0;32m    499\u001b[0m     copy_function(srcobj, dstname)\n",
      "File \u001b[1;32m~\\anaconda3\\lib\\shutil.py:557\u001b[0m, in \u001b[0;36mcopytree\u001b[1;34m(src, dst, symlinks, ignore, copy_function, ignore_dangling_symlinks, dirs_exist_ok)\u001b[0m\n\u001b[0;32m    555\u001b[0m \u001b[38;5;28;01mwith\u001b[39;00m os\u001b[38;5;241m.\u001b[39mscandir(src) \u001b[38;5;28;01mas\u001b[39;00m itr:\n\u001b[0;32m    556\u001b[0m     entries \u001b[38;5;241m=\u001b[39m \u001b[38;5;28mlist\u001b[39m(itr)\n\u001b[1;32m--> 557\u001b[0m \u001b[38;5;28;01mreturn\u001b[39;00m \u001b[43m_copytree\u001b[49m\u001b[43m(\u001b[49m\u001b[43mentries\u001b[49m\u001b[38;5;241;43m=\u001b[39;49m\u001b[43mentries\u001b[49m\u001b[43m,\u001b[49m\u001b[43m \u001b[49m\u001b[43msrc\u001b[49m\u001b[38;5;241;43m=\u001b[39;49m\u001b[43msrc\u001b[49m\u001b[43m,\u001b[49m\u001b[43m \u001b[49m\u001b[43mdst\u001b[49m\u001b[38;5;241;43m=\u001b[39;49m\u001b[43mdst\u001b[49m\u001b[43m,\u001b[49m\u001b[43m \u001b[49m\u001b[43msymlinks\u001b[49m\u001b[38;5;241;43m=\u001b[39;49m\u001b[43msymlinks\u001b[49m\u001b[43m,\u001b[49m\n\u001b[0;32m    558\u001b[0m \u001b[43m                 \u001b[49m\u001b[43mignore\u001b[49m\u001b[38;5;241;43m=\u001b[39;49m\u001b[43mignore\u001b[49m\u001b[43m,\u001b[49m\u001b[43m \u001b[49m\u001b[43mcopy_function\u001b[49m\u001b[38;5;241;43m=\u001b[39;49m\u001b[43mcopy_function\u001b[49m\u001b[43m,\u001b[49m\n\u001b[0;32m    559\u001b[0m \u001b[43m                 \u001b[49m\u001b[43mignore_dangling_symlinks\u001b[49m\u001b[38;5;241;43m=\u001b[39;49m\u001b[43mignore_dangling_symlinks\u001b[49m\u001b[43m,\u001b[49m\n\u001b[0;32m    560\u001b[0m \u001b[43m                 \u001b[49m\u001b[43mdirs_exist_ok\u001b[49m\u001b[38;5;241;43m=\u001b[39;49m\u001b[43mdirs_exist_ok\u001b[49m\u001b[43m)\u001b[49m\n",
      "File \u001b[1;32m~\\anaconda3\\lib\\shutil.py:499\u001b[0m, in \u001b[0;36m_copytree\u001b[1;34m(entries, src, dst, symlinks, ignore, copy_function, ignore_dangling_symlinks, dirs_exist_ok)\u001b[0m\n\u001b[0;32m    495\u001b[0m         copytree(srcobj, dstname, symlinks, ignore, copy_function,\n\u001b[0;32m    496\u001b[0m                  dirs_exist_ok\u001b[38;5;241m=\u001b[39mdirs_exist_ok)\n\u001b[0;32m    497\u001b[0m     \u001b[38;5;28;01melse\u001b[39;00m:\n\u001b[0;32m    498\u001b[0m         \u001b[38;5;66;03m# Will raise a SpecialFileError for unsupported file types\u001b[39;00m\n\u001b[1;32m--> 499\u001b[0m         \u001b[43mcopy_function\u001b[49m\u001b[43m(\u001b[49m\u001b[43msrcobj\u001b[49m\u001b[43m,\u001b[49m\u001b[43m \u001b[49m\u001b[43mdstname\u001b[49m\u001b[43m)\u001b[49m\n\u001b[0;32m    500\u001b[0m \u001b[38;5;66;03m# catch the Error from the recursive copytree so that we can\u001b[39;00m\n\u001b[0;32m    501\u001b[0m \u001b[38;5;66;03m# continue with other files\u001b[39;00m\n\u001b[0;32m    502\u001b[0m \u001b[38;5;28;01mexcept\u001b[39;00m Error \u001b[38;5;28;01mas\u001b[39;00m err:\n",
      "File \u001b[1;32m~\\anaconda3\\lib\\shutil.py:435\u001b[0m, in \u001b[0;36mcopy2\u001b[1;34m(src, dst, follow_symlinks)\u001b[0m\n\u001b[0;32m    433\u001b[0m \u001b[38;5;28;01mif\u001b[39;00m os\u001b[38;5;241m.\u001b[39mpath\u001b[38;5;241m.\u001b[39misdir(dst):\n\u001b[0;32m    434\u001b[0m     dst \u001b[38;5;241m=\u001b[39m os\u001b[38;5;241m.\u001b[39mpath\u001b[38;5;241m.\u001b[39mjoin(dst, os\u001b[38;5;241m.\u001b[39mpath\u001b[38;5;241m.\u001b[39mbasename(src))\n\u001b[1;32m--> 435\u001b[0m \u001b[43mcopyfile\u001b[49m\u001b[43m(\u001b[49m\u001b[43msrc\u001b[49m\u001b[43m,\u001b[49m\u001b[43m \u001b[49m\u001b[43mdst\u001b[49m\u001b[43m,\u001b[49m\u001b[43m \u001b[49m\u001b[43mfollow_symlinks\u001b[49m\u001b[38;5;241;43m=\u001b[39;49m\u001b[43mfollow_symlinks\u001b[49m\u001b[43m)\u001b[49m\n\u001b[0;32m    436\u001b[0m copystat(src, dst, follow_symlinks\u001b[38;5;241m=\u001b[39mfollow_symlinks)\n\u001b[0;32m    437\u001b[0m \u001b[38;5;28;01mreturn\u001b[39;00m dst\n",
      "File \u001b[1;32m~\\anaconda3\\lib\\shutil.py:282\u001b[0m, in \u001b[0;36mcopyfile\u001b[1;34m(src, dst, follow_symlinks)\u001b[0m\n\u001b[0;32m    279\u001b[0m \u001b[38;5;66;03m# Windows, see:\u001b[39;00m\n\u001b[0;32m    280\u001b[0m \u001b[38;5;66;03m# https://github.com/python/cpython/pull/7160#discussion_r195405230\u001b[39;00m\n\u001b[0;32m    281\u001b[0m \u001b[38;5;28;01melif\u001b[39;00m _WINDOWS \u001b[38;5;129;01mand\u001b[39;00m file_size \u001b[38;5;241m>\u001b[39m \u001b[38;5;241m0\u001b[39m:\n\u001b[1;32m--> 282\u001b[0m     \u001b[43m_copyfileobj_readinto\u001b[49m\u001b[43m(\u001b[49m\u001b[43mfsrc\u001b[49m\u001b[43m,\u001b[49m\u001b[43m \u001b[49m\u001b[43mfdst\u001b[49m\u001b[43m,\u001b[49m\u001b[43m \u001b[49m\u001b[38;5;28;43mmin\u001b[39;49m\u001b[43m(\u001b[49m\u001b[43mfile_size\u001b[49m\u001b[43m,\u001b[49m\u001b[43m \u001b[49m\u001b[43mCOPY_BUFSIZE\u001b[49m\u001b[43m)\u001b[49m\u001b[43m)\u001b[49m\n\u001b[0;32m    283\u001b[0m     \u001b[38;5;28;01mreturn\u001b[39;00m dst\n\u001b[0;32m    285\u001b[0m copyfileobj(fsrc, fdst)\n",
      "File \u001b[1;32m~\\anaconda3\\lib\\shutil.py:188\u001b[0m, in \u001b[0;36m_copyfileobj_readinto\u001b[1;34m(fsrc, fdst, length)\u001b[0m\n\u001b[0;32m    186\u001b[0m \u001b[38;5;28;01mwith\u001b[39;00m \u001b[38;5;28mmemoryview\u001b[39m(\u001b[38;5;28mbytearray\u001b[39m(length)) \u001b[38;5;28;01mas\u001b[39;00m mv:\n\u001b[0;32m    187\u001b[0m     \u001b[38;5;28;01mwhile\u001b[39;00m \u001b[38;5;28;01mTrue\u001b[39;00m:\n\u001b[1;32m--> 188\u001b[0m         n \u001b[38;5;241m=\u001b[39m \u001b[43mfsrc_readinto\u001b[49m\u001b[43m(\u001b[49m\u001b[43mmv\u001b[49m\u001b[43m)\u001b[49m\n\u001b[0;32m    189\u001b[0m         \u001b[38;5;28;01mif\u001b[39;00m \u001b[38;5;129;01mnot\u001b[39;00m n:\n\u001b[0;32m    190\u001b[0m             \u001b[38;5;28;01mbreak\u001b[39;00m\n",
      "\u001b[1;31mKeyboardInterrupt\u001b[0m: "
     ]
    }
   ],
   "source": [
    "## loop across animals\n",
    "import os\n",
    "import shutil\n",
    "\n",
    "# dir_path = r\"/ceph/sjones/projects/sequence_squad/organised_data/animals//\"\n",
    "# ksort_path = r\"/ceph/sjones/projects/sequence_squad/data/kilosort_output//\"\n",
    "\n",
    "dir_path = r\"Z:\\\\projects\\sequence_squad\\organised_data\\animals\\\\\"\n",
    "video_path = r\"Z:\\\\projects\\sequence_squad\\data\\video_data\\raw_flycap\\\\\"\n",
    "\n",
    "animals = ['EJT255_implant1','EJT262_implant1','EJT268_implant1','EJT269_implant1','EJT270_implant1']\n",
    "\n",
    "for animal in animals:\n",
    "    print(animal)\n",
    "    mouse_path = dir_path + animal + '//'\n",
    "    for index,recording in enumerate(os.listdir(mouse_path)):\n",
    "        print(recording)\n",
    "        destination_directory = os.path.join(mouse_path,recording) + '//' + 'video/videos//'\n",
    "        source_directory = os.path.join(video_path,animal.split('_')[0])\n",
    "        file = os.listdir(source_directory)[index]\n",
    "        source_directory = os.path.join(source_directory, file)\n",
    "        \n",
    "        # Check if the destination folder already exists\n",
    "        if os.path.exists(destination_directory):\n",
    "            # Delete the existing destination folder\n",
    "            shutil.rmtree(destination_directory)\n",
    "        # Copy the file\n",
    "        shutil.copytree(source_directory, destination_directory)\n",
    "\n",
    "\n"
   ]
  },
  {
   "cell_type": "code",
   "execution_count": 140,
   "id": "300f3494",
   "metadata": {},
   "outputs": [
    {
     "name": "stdout",
     "output_type": "stream",
     "text": [
      "EJT255_implant1\n"
     ]
    },
    {
     "ename": "FileNotFoundError",
     "evalue": "[WinError 3] The system cannot find the path specified: '/ceph/sjones/projects/sequence_squad/organised_data/animals//EJT255_implant1//'",
     "output_type": "error",
     "traceback": [
      "\u001b[1;31m---------------------------------------------------------------------------\u001b[0m",
      "\u001b[1;31mFileNotFoundError\u001b[0m                         Traceback (most recent call last)",
      "Cell \u001b[1;32mIn[140], line 19\u001b[0m\n\u001b[0;32m     17\u001b[0m \u001b[38;5;28mprint\u001b[39m(animal)\n\u001b[0;32m     18\u001b[0m mouse_path \u001b[38;5;241m=\u001b[39m dir_path \u001b[38;5;241m+\u001b[39m animal \u001b[38;5;241m+\u001b[39m \u001b[38;5;124m'\u001b[39m\u001b[38;5;124m//\u001b[39m\u001b[38;5;124m'\u001b[39m\n\u001b[1;32m---> 19\u001b[0m \u001b[38;5;28;01mfor\u001b[39;00m index,recording \u001b[38;5;129;01min\u001b[39;00m \u001b[38;5;28menumerate\u001b[39m(\u001b[43mos\u001b[49m\u001b[38;5;241;43m.\u001b[39;49m\u001b[43mlistdir\u001b[49m\u001b[43m(\u001b[49m\u001b[43mmouse_path\u001b[49m\u001b[43m)\u001b[49m):\n\u001b[0;32m     20\u001b[0m     \u001b[38;5;28mprint\u001b[39m(recording)\n\u001b[0;32m     21\u001b[0m     destination_directory \u001b[38;5;241m=\u001b[39m os\u001b[38;5;241m.\u001b[39mpath\u001b[38;5;241m.\u001b[39mjoin(mouse_path,recording) \u001b[38;5;241m+\u001b[39m \u001b[38;5;124m'\u001b[39m\u001b[38;5;124m//\u001b[39m\u001b[38;5;124m'\u001b[39m \u001b[38;5;241m+\u001b[39m \u001b[38;5;124m'\u001b[39m\u001b[38;5;124mvideo/videos//\u001b[39m\u001b[38;5;124m'\u001b[39m\n",
      "\u001b[1;31mFileNotFoundError\u001b[0m: [WinError 3] The system cannot find the path specified: '/ceph/sjones/projects/sequence_squad/organised_data/animals//EJT255_implant1//'"
     ]
    }
   ],
   "source": [
    "## loop across animals\n",
    "import os\n",
    "import shutil\n",
    "\n",
    "# dir_path = r\"/ceph/sjones/projects/sequence_squad/organised_data/animals//\"\n",
    "# ksort_path = r\"/ceph/sjones/projects/sequence_squad/data/kilosort_output//\"\n",
    "\n",
    "# dir_path = r\"Z://projects/sequence_squad/organised_data/animals//\"\n",
    "# video_path = r\"Z://projects/sequence_squad/data\\video_data/raw_flycap//\"\n",
    "\n",
    "dir_path = r\"/ceph/sjones/projects/sequence_squad/organised_data/animals//\"\n",
    "video_path = r\"/ceph/sjones/projects/sequence_squad/data/video_data/raw_flycap//\"\n",
    "\n",
    "animals = ['EJT255_implant1','EJT262_implant1','EJT268_implant1','EJT269_implant1','EJT270_implant1']\n",
    "\n",
    "for animal in animals:\n",
    "    print(animal)\n",
    "    mouse_path = dir_path + animal + '//'\n",
    "    for index,recording in enumerate(os.listdir(mouse_path)):\n",
    "        print(recording)\n",
    "        destination_directory = os.path.join(mouse_path,recording) + '//' + 'video/videos//'\n",
    "        source_directory = os.path.join(video_path,animal.split('_')[0])\n",
    "        \n",
    "        date = recording.split('-')[1] + recording.split('-')[0][-2::] + recording.split('-')[-1][-2::]\n",
    "        \n",
    "        if date in os.listdir(source_directory):\n",
    "            print('working, date found')\n",
    "        else:\n",
    "            print('ERROR!!! for mouse' + animal + ' recording ' + str(recording))\n",
    "        \n",
    "        source_directory = os.path.join(source_directory, date)\n",
    "        \n",
    "        # Check if the destination folder already exists\n",
    "        if os.path.exists(destination_directory):\n",
    "            # Delete the existing destination folder\n",
    "            shutil.rmtree(destination_directory)\n",
    "        # Copy the file\n",
    "        shutil.copytree(source_directory, destination_directory)\n",
    "\n"
   ]
  },
  {
   "cell_type": "code",
   "execution_count": 137,
   "id": "37d87190",
   "metadata": {},
   "outputs": [
    {
     "data": {
      "text/plain": [
       "'recording7_05-20-2023'"
      ]
     },
     "execution_count": 137,
     "metadata": {},
     "output_type": "execute_result"
    }
   ],
   "source": [
    "recording"
   ]
  },
  {
   "cell_type": "code",
   "execution_count": 135,
   "id": "a907daa6",
   "metadata": {},
   "outputs": [
    {
     "data": {
      "text/plain": [
       "['1_presleep', '2_task', '3_clock']"
      ]
     },
     "execution_count": 135,
     "metadata": {},
     "output_type": "execute_result"
    }
   ],
   "source": [
    "os.listdir(source_directory)"
   ]
  },
  {
   "cell_type": "code",
   "execution_count": 122,
   "id": "f607a4c6",
   "metadata": {},
   "outputs": [
    {
     "data": {
      "text/plain": [
       "['100523', '120523', '140523', '160523', '170523', '190523', '200523']"
      ]
     },
     "execution_count": 122,
     "metadata": {},
     "output_type": "execute_result"
    }
   ],
   "source": [
    "os.listdir(source_directory)"
   ]
  },
  {
   "cell_type": "code",
   "execution_count": 117,
   "id": "a4ed32e3",
   "metadata": {},
   "outputs": [
    {
     "data": {
      "text/plain": [
       "'Z:\\\\\\\\projects\\\\sequence_squad\\\\data\\\\video_data\\\\raw_flycap\\\\\\\\EJT255\\\\140423'"
      ]
     },
     "execution_count": 117,
     "metadata": {},
     "output_type": "execute_result"
    }
   ],
   "source": [
    "source_directory"
   ]
  },
  {
   "cell_type": "code",
   "execution_count": 101,
   "id": "d134f2f5",
   "metadata": {},
   "outputs": [
    {
     "data": {
      "text/plain": [
       "'140423'"
      ]
     },
     "execution_count": 101,
     "metadata": {},
     "output_type": "execute_result"
    }
   ],
   "source": [
    "file"
   ]
  },
  {
   "cell_type": "code",
   "execution_count": 92,
   "id": "8294c7c9",
   "metadata": {},
   "outputs": [],
   "source": [
    "#create data structure for animal: \n",
    "\n",
    "# top_file\n",
    "# ├── file1\n",
    "# │   ├── file1.1\n",
    "# │   └── file1.2\n",
    "# ├── file2\n",
    "# │   └── file2.1\n",
    "# └── file3\n",
    "#     ├── file3.1\n",
    "#     ├── file3.2\n",
    "#     └── file3.3\n",
    "\n",
    "    \n",
    "    "
   ]
  },
  {
   "cell_type": "code",
   "execution_count": null,
   "id": "46f19cf0",
   "metadata": {},
   "outputs": [],
   "source": [
    "# Animal_implant\n",
    "# ├── behav_sync\n",
    "# │   ├── 1_presleep\n",
    "# │   └── task..etc.\n",
    "# ├── ephys\n",
    "# │   └── file2.1\n",
    "# └── video\n",
    "#     ├── file3.1\n",
    "#     ├── file3.2\n",
    "#     └── file3.3\n"
   ]
  },
  {
   "cell_type": "code",
   "execution_count": null,
   "id": "789f0b68",
   "metadata": {},
   "outputs": [],
   "source": [
    "import os\n",
    "\n",
    "def create_directory_structure():\n",
    "    base_dir = 'top_file'\n",
    "    os.makedirs(base_dir, exist_ok=True)\n",
    "\n",
    "    # Create file1\n",
    "    file1_dir = os.path.join(base_dir, 'file1')\n",
    "    os.makedirs(file1_dir, exist_ok=True)\n",
    "    create_file(os.path.join(file1_dir, 'file1.1'))\n",
    "    create_file(os.path.join(file1_dir, 'file1.2'))\n",
    "\n",
    "    # Create file2\n",
    "    file2_dir = os.path.join(base_dir, 'file2')\n",
    "    os.makedirs(file2_dir, exist_ok=True)\n",
    "    create_file(os.path.join(file2_dir, 'file2.1'))\n",
    "\n",
    "    # Create file3\n",
    "    file3_dir = os.path.join(base_dir, 'file3')\n",
    "    os.makedirs(file3_dir, exist_ok=True)\n",
    "    create_file(os.path.join(file3_dir, 'file3.1'))\n",
    "    create_file(os.path.join(file3_dir, 'file3.2'))\n",
    "    create_file(os.path.join(file3_dir, 'file3.3'))\n",
    "\n",
    "def create_file(file_path):\n",
    "    with open(file_path, 'w') as file:\n",
    "        file.write('This is a sample file.')\n",
    "\n",
    "# Call the function to create the directory structure\n",
    "create_directory_structure()\n"
   ]
  }
 ],
 "metadata": {
  "kernelspec": {
   "display_name": "Python 3 (ipykernel)",
   "language": "python",
   "name": "python3"
  },
  "language_info": {
   "codemirror_mode": {
    "name": "ipython",
    "version": 3
   },
   "file_extension": ".py",
   "mimetype": "text/x-python",
   "name": "python",
   "nbconvert_exporter": "python",
   "pygments_lexer": "ipython3",
   "version": "3.8.16"
  }
 },
 "nbformat": 4,
 "nbformat_minor": 5
}
