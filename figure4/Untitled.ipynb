{
 "cells": [
  {
   "cell_type": "code",
   "execution_count": null,
   "id": "badf130d",
   "metadata": {},
   "outputs": [],
   "source": []
  },
  {
   "cell_type": "markdown",
   "id": "3e5fae97",
   "metadata": {},
   "source": [
    "FIGURE 4C"
   ]
  },
  {
   "cell_type": "code",
   "execution_count": null,
   "id": "2327e75d",
   "metadata": {},
   "outputs": [],
   "source": []
  },
  {
   "cell_type": "markdown",
   "id": "19ae6c57",
   "metadata": {},
   "source": [
    "FIGURE 4D"
   ]
  },
  {
   "cell_type": "code",
   "execution_count": null,
   "id": "685f8137",
   "metadata": {},
   "outputs": [],
   "source": []
  },
  {
   "cell_type": "markdown",
   "id": "a56a1d24",
   "metadata": {},
   "source": [
    "FIGURE 4E"
   ]
  },
  {
   "cell_type": "code",
   "execution_count": null,
   "id": "b0b00f60",
   "metadata": {},
   "outputs": [],
   "source": []
  },
  {
   "cell_type": "markdown",
   "id": "1326f8e4",
   "metadata": {},
   "source": [
    "FIGURE 4F"
   ]
  },
  {
   "cell_type": "code",
   "execution_count": null,
   "id": "acfbb797",
   "metadata": {},
   "outputs": [],
   "source": []
  },
  {
   "cell_type": "markdown",
   "id": "661a67da",
   "metadata": {},
   "source": [
    "FIGURE 4G"
   ]
  },
  {
   "cell_type": "code",
   "execution_count": null,
   "id": "a215938b",
   "metadata": {},
   "outputs": [],
   "source": []
  },
  {
   "cell_type": "markdown",
   "id": "6adf1f6d",
   "metadata": {},
   "source": [
    "FIGURE 4H"
   ]
  },
  {
   "cell_type": "code",
   "execution_count": null,
   "id": "5ca76833",
   "metadata": {},
   "outputs": [],
   "source": []
  },
  {
   "cell_type": "markdown",
   "id": "95339adf",
   "metadata": {},
   "source": [
    "FIGURE 4I"
   ]
  },
  {
   "cell_type": "code",
   "execution_count": null,
   "id": "35109e5d",
   "metadata": {},
   "outputs": [],
   "source": []
  },
  {
   "cell_type": "markdown",
   "id": "d2ce7248",
   "metadata": {},
   "source": [
    "FIGURE 4J"
   ]
  },
  {
   "cell_type": "code",
   "execution_count": null,
   "id": "9f22952c",
   "metadata": {},
   "outputs": [],
   "source": []
  },
  {
   "cell_type": "markdown",
   "id": "c8b58db2",
   "metadata": {},
   "source": [
    "FIGURE 4K"
   ]
  },
  {
   "cell_type": "code",
   "execution_count": null,
   "id": "7b42b689",
   "metadata": {},
   "outputs": [],
   "source": []
  },
  {
   "cell_type": "markdown",
   "id": "578150e6",
   "metadata": {},
   "source": [
    "FIGURE 4L"
   ]
  },
  {
   "cell_type": "code",
   "execution_count": null,
   "id": "02ac004c",
   "metadata": {},
   "outputs": [],
   "source": []
  },
  {
   "cell_type": "markdown",
   "id": "79129c5c",
   "metadata": {},
   "source": [
    "FIGURE 4M"
   ]
  },
  {
   "cell_type": "code",
   "execution_count": null,
   "id": "f681bf30",
   "metadata": {},
   "outputs": [],
   "source": []
  },
  {
   "cell_type": "markdown",
   "id": "9fba1c3b",
   "metadata": {},
   "source": [
    "FIGURE 4N"
   ]
  },
  {
   "cell_type": "code",
   "execution_count": null,
   "id": "b6beb600",
   "metadata": {},
   "outputs": [],
   "source": []
  },
  {
   "cell_type": "markdown",
   "id": "ccbc044f",
   "metadata": {},
   "source": [
    "FIGURE 4O"
   ]
  },
  {
   "cell_type": "code",
   "execution_count": null,
   "id": "3dad3e68",
   "metadata": {},
   "outputs": [],
   "source": []
  }
 ],
 "metadata": {
  "kernelspec": {
   "display_name": "Python 3 (ipykernel)",
   "language": "python",
   "name": "python3"
  },
  "language_info": {
   "codemirror_mode": {
    "name": "ipython",
    "version": 3
   },
   "file_extension": ".py",
   "mimetype": "text/x-python",
   "name": "python",
   "nbconvert_exporter": "python",
   "pygments_lexer": "ipython3",
   "version": "3.8.16"
  }
 },
 "nbformat": 4,
 "nbformat_minor": 5
}
